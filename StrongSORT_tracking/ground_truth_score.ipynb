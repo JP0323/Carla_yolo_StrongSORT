{
 "cells": [
  {
   "cell_type": "code",
   "execution_count": 31,
   "id": "9ccb2b06-51b7-4336-ae97-8d24a97d1695",
   "metadata": {},
   "outputs": [
    {
     "name": "stdout",
     "output_type": "stream",
     "text": [
      "         mota      motp\n",
      "acc -0.617647  0.413905\n"
     ]
    }
   ],
   "source": [
    "import motmetrics as mm\n",
    "import json\n",
    "\n",
    "# Load ground truth and DeepSORT JSON files\n",
    "with open('carla_.json', 'r') as f:\n",
    "    gt_data = json.load(f)\n",
    "with open('yolo.json', 'r') as f:\n",
    "    ds_data = json.load(f)\n",
    "\n",
    "# Create an accumulator that will be updated during each frame\n",
    "acc = mm.MOTAccumulator(auto_id=True)\n",
    "\n",
    "# Iterate through each frame of data\n",
    "for frame in range(len(gt_data[0]['frames'])):\n",
    "    # Get ground truth and DeepSORT data for the current frame\n",
    "    gt_frame = gt_data[0]['frames'][frame]\n",
    "    ds_frame = ds_data[0]['frames'][frame]\n",
    "\n",
    "\n",
    "    gt_boxes = [[d['x'], d['y'], d['width'], d['height']] for d in gt_frame['annotations']]           \n",
    "    ds_boxes = [[d['x'], d['y'], d['width'], d['height']] for d in ds_frame['hypotheses']]\n",
    "\n",
    "    # Calculate the intersection over union (IOU) distance between ground truth and DeepSORT bounding boxes\n",
    "    distances = mm.distances.iou_matrix(gt_boxes, ds_boxes, max_iou=0.5)\n",
    "\n",
    "    # Update the accumulator with the calculated distances\n",
    "    acc.update(\n",
    "        [d['id'] for d in gt_frame['annotations']],\n",
    "        [d['id'] for d in ds_frame['hypotheses']],\n",
    "        distances\n",
    "    )\n",
    "\n",
    "# Calculate the MOTA and MOTP metrics from the accumulator data\n",
    "mh = mm.metrics.create()\n",
    "summary = mh.compute(acc, metrics=['mota', 'motp'], name='acc')\n",
    "print(summary)"
   ]
  },
  {
   "cell_type": "code",
   "execution_count": null,
   "id": "6ed6cfe2-7e9d-4fa0-a780-161dee0e8eed",
   "metadata": {},
   "outputs": [],
   "source": []
  }
 ],
 "metadata": {
  "kernelspec": {
   "display_name": "Python 3 (ipykernel)",
   "language": "python",
   "name": "python3"
  },
  "language_info": {
   "codemirror_mode": {
    "name": "ipython",
    "version": 3
   },
   "file_extension": ".py",
   "mimetype": "text/x-python",
   "name": "python",
   "nbconvert_exporter": "python",
   "pygments_lexer": "ipython3",
   "version": "3.8.17"
  }
 },
 "nbformat": 4,
 "nbformat_minor": 5
}

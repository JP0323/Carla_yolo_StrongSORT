{
 "cells": [
  {
   "cell_type": "code",
   "execution_count": 5,
   "id": "9ccb2b06-51b7-4336-ae97-8d24a97d1695",
   "metadata": {},
   "outputs": [
    {
     "name": "stdout",
     "output_type": "stream",
     "text": [
      "         mota     motp\n",
      "acc  0.623853  0.34884\n"
     ]
    }
   ],
   "source": [
    "#source : https://github.com/cheind/py-motmetrics\n",
    "\n",
    "import motmetrics as mm\n",
    "import json\n",
    "\n",
    "# carla, tracked JSON files\n",
    "with open('carla_gt.json', 'r') as f:\n",
    "    carla_value = json.load(f)\n",
    "with open('yolo_gt.json', 'r') as f:\n",
    "    track_value = json.load(f)\n",
    "\n",
    "acc = mm.MOTAccumulator(auto_id=True)\n",
    "\n",
    "# Iterate through each frame of data\n",
    "for frame in range(len(carla_value[0]['frames'])):\n",
    "    carla_frame = carla_value[0]['frames'][frame]\n",
    "    track_frame = track_value[0]['frames'][frame]\n",
    "\n",
    "    gt_boxes = [[d['x'], d['y'], d['width'], d['height']] for d in carla_frame['annotations']]           \n",
    "    ds_boxes = [[d['x'], d['y'], d['width'], d['height']] for d in track_frame['hypotheses']]\n",
    "\n",
    "    # IOU\n",
    "    distances = mm.distances.iou_matrix(gt_boxes, ds_boxes, max_iou=0.5)\n",
    "\n",
    "    # Update the accumulator with the calculated distances\n",
    "    acc.update([d['id'] for d in carla_frame['annotations']],\n",
    "                [d['id'] for d in track_frame['hypotheses']], distances)\n",
    "\n",
    "# Calculate the MOTA and MOTP metrics from the accumulator data\n",
    "mh = mm.metrics.create()\n",
    "results = mh.compute(acc, metrics=['mota', 'motp'], name='acc')\n",
    "print(results)"
   ]
  },
  {
   "cell_type": "code",
   "execution_count": null,
   "id": "6ed6cfe2-7e9d-4fa0-a780-161dee0e8eed",
   "metadata": {},
   "outputs": [],
   "source": []
  }
 ],
 "metadata": {
  "kernelspec": {
   "display_name": "Python 3 (ipykernel)",
   "language": "python",
   "name": "python3"
  },
  "language_info": {
   "codemirror_mode": {
    "name": "ipython",
    "version": 3
   },
   "file_extension": ".py",
   "mimetype": "text/x-python",
   "name": "python",
   "nbconvert_exporter": "python",
   "pygments_lexer": "ipython3",
   "version": "3.8.17"
  }
 },
 "nbformat": 4,
 "nbformat_minor": 5
}

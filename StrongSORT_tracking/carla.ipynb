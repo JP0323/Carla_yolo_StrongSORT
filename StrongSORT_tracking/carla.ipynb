{
 "cells": [
  {
   "cell_type": "code",
   "execution_count": 26,
   "id": "c20a32c1-92eb-48c6-be5d-a98b35ae181e",
   "metadata": {},
   "outputs": [],
   "source": [
    "# To adjust camer angles\n",
    "\n",
    "import carla\n",
    "import random\n",
    "import cv2\n",
    "import numpy as np\n",
    "\n",
    "client = carla.Client('localhost', 2000)\n",
    "client.set_timeout(20.0)\n",
    "world = client.get_world() \n",
    "\n",
    "# blueprint will access to all blueprints to create objects (vehicles, people, etc.)\n",
    "bp_lib = world.get_blueprint_library()\n",
    "spawn_points = world.get_map().get_spawn_points()\n",
    "\n",
    "vehicle_bp = bp_lib.find('vehicle.lincoln.mkz_2020')\n",
    "vehicle = world.try_spawn_actor(vehicle_bp, random.choice(spawn_points))\n",
    "\n",
    "spectator = world.get_spectator()\n",
    "transform = carla.Transform(vehicle.get_transform().transform(carla.Location(x=-4, z=2.5)), vehicle.get_transform().rotation)\n",
    "spectator.set_transform(transform)\n",
    "\n",
    "camera_bp = bp_lib.find('sensor.camera.rgb')\n",
    "\n",
    "IM_WIDTH = 256*4\n",
    "IM_HEIGHT = 256*3\n",
    "        \n",
    "camera_bp.set_attribute('image_size_x', f'{IM_WIDTH}')\n",
    "camera_bp.set_attribute('image_size_y', f'{IM_HEIGHT}')\n",
    "camera_bp.set_attribute('fov', '110')\n",
    "\n",
    "camera_init_trans = carla.Transform(carla.Location(x = 1.5, z = 1.6 ))\n",
    "camera = world.spawn_actor(camera_bp, camera_init_trans, attach_to=vehicle)\n",
    "\n",
    "def camera_callback(image, data_dict):\n",
    "    image_data = np.array(image.raw_data)\n",
    "    image_rgb = image_data.reshape((image.height, image.width, 4))[:, :, :3]\n",
    "    data_dict['image'] = image_rgb\n",
    "\n",
    "image_w = camera_bp.get_attribute('image_size_x').as_int()\n",
    "image_h = camera_bp.get_attribute('image_size_y').as_int()\n",
    "\n",
    "camera_data = {'image': np.zeros((image_h, image_w, 4))}\n",
    "camera.listen(lambda image: camera_callback(image, camera_data))\n",
    "\n",
    "while True:\n",
    "    frame = camera_data['image']\n",
    "    cv2.imshow('Carla', frame)\n",
    "\n",
    "    key = cv2.waitKey(1)\n",
    "    if key == ord('q'):\n",
    "        cv2.destroyAllWindows()  # Close all OpenCV windows\n",
    "        break"
   ]
  },
  {
   "cell_type": "code",
   "execution_count": null,
   "id": "9ac974c7-579e-456e-981a-44f77d44f7bd",
   "metadata": {},
   "outputs": [],
   "source": []
  }
 ],
 "metadata": {
  "kernelspec": {
   "display_name": "Python 3 (ipykernel)",
   "language": "python",
   "name": "python3"
  },
  "language_info": {
   "codemirror_mode": {
    "name": "ipython",
    "version": 3
   },
   "file_extension": ".py",
   "mimetype": "text/x-python",
   "name": "python",
   "nbconvert_exporter": "python",
   "pygments_lexer": "ipython3",
   "version": "3.8.17"
  }
 },
 "nbformat": 4,
 "nbformat_minor": 5
}

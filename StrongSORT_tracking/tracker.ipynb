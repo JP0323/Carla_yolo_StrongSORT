{
 "cells": [
  {
   "cell_type": "code",
   "execution_count": 4,
   "id": "64a614bd-504d-42ed-95d1-747b355a921f",
   "metadata": {},
   "outputs": [
    {
     "name": "stdout",
     "output_type": "stream",
     "text": [
      "Model: osnet_x0_25\n",
      "- params: 203,568\n",
      "- flops: 82,316,000\n",
      "Successfully loaded pretrained weights from \"strong_sort/deep/checkpoint/osnet_x0_25_market1501.pth\"\n",
      "** The following layers are discarded due to unmatched keys or layer size: ['classifier.weight', 'classifier.bias']\n"
     ]
    },
    {
     "name": "stderr",
     "output_type": "stream",
     "text": [
      "\n",
      "0: 480x640 2 cars, 303.1ms\n",
      "Speed: 17.6ms preprocess, 303.1ms inference, 6.0ms postprocess per image at shape (1, 3, 480, 640)\n"
     ]
    },
    {
     "name": "stdout",
     "output_type": "stream",
     "text": [
      "Results:  [[48, 384, 273, 474], [6, 522, 1010, 767]] [0.8717800974845886, 0.4495422840118408] [2, 2]\n"
     ]
    },
    {
     "name": "stderr",
     "output_type": "stream",
     "text": [
      "\n"
     ]
    },
    {
     "name": "stdout",
     "output_type": "stream",
     "text": [
      "Output values:  []\n"
     ]
    },
    {
     "name": "stderr",
     "output_type": "stream",
     "text": [
      "0: 480x640 (no detections), 167.0ms\n",
      "Speed: 10.0ms preprocess, 167.0ms inference, 2.0ms postprocess per image at shape (1, 3, 480, 640)\n",
      "\n"
     ]
    },
    {
     "name": "stdout",
     "output_type": "stream",
     "text": [
      "Results:  [] [] []\n",
      "Output values:  []\n"
     ]
    },
    {
     "name": "stderr",
     "output_type": "stream",
     "text": [
      "0: 480x640 (no detections), 170.2ms\n",
      "Speed: 10.5ms preprocess, 170.2ms inference, 3.0ms postprocess per image at shape (1, 3, 480, 640)\n",
      "\n"
     ]
    },
    {
     "name": "stdout",
     "output_type": "stream",
     "text": [
      "Results:  [] [] []\n",
      "Output values:  []\n"
     ]
    },
    {
     "name": "stderr",
     "output_type": "stream",
     "text": [
      "0: 480x640 1 car, 2 traffic lights, 180.0ms\n",
      "Speed: 12.0ms preprocess, 180.0ms inference, 2.0ms postprocess per image at shape (1, 3, 480, 640)\n",
      "\n"
     ]
    },
    {
     "name": "stdout",
     "output_type": "stream",
     "text": [
      "Results:  [[2, 389, 1021, 767]] [0.2531008720397949] [2]\n",
      "Output values:  []\n"
     ]
    },
    {
     "name": "stderr",
     "output_type": "stream",
     "text": [
      "0: 480x640 (no detections), 172.6ms\n",
      "Speed: 8.5ms preprocess, 172.6ms inference, 2.0ms postprocess per image at shape (1, 3, 480, 640)\n",
      "\n",
      "0: 480x640 (no detections), 156.2ms\n"
     ]
    },
    {
     "name": "stdout",
     "output_type": "stream",
     "text": [
      "Results:  [] [] []\n",
      "Output values:  []\n"
     ]
    },
    {
     "name": "stderr",
     "output_type": "stream",
     "text": [
      "Speed: 11.8ms preprocess, 156.2ms inference, 2.0ms postprocess per image at shape (1, 3, 480, 640)\n",
      "\n",
      "0: 480x640 3 traffic lights, 163.1ms\n"
     ]
    },
    {
     "name": "stdout",
     "output_type": "stream",
     "text": [
      "Results:  [] [] []\n",
      "Output values:  []\n"
     ]
    },
    {
     "name": "stderr",
     "output_type": "stream",
     "text": [
      "Speed: 9.5ms preprocess, 163.1ms inference, 4.0ms postprocess per image at shape (1, 3, 480, 640)\n",
      "\n",
      "0: 480x640 1 traffic light, 153.4ms\n"
     ]
    },
    {
     "name": "stdout",
     "output_type": "stream",
     "text": [
      "Results:  [] [] []\n",
      "Output values:  []\n"
     ]
    },
    {
     "name": "stderr",
     "output_type": "stream",
     "text": [
      "Speed: 10.5ms preprocess, 153.4ms inference, 2.0ms postprocess per image at shape (1, 3, 480, 640)\n",
      "\n",
      "0: 480x640 1 bus, 1 traffic light, 157.3ms\n"
     ]
    },
    {
     "name": "stdout",
     "output_type": "stream",
     "text": [
      "Results:  [] [] []\n",
      "Output values:  []\n"
     ]
    },
    {
     "name": "stderr",
     "output_type": "stream",
     "text": [
      "Speed: 11.0ms preprocess, 157.3ms inference, 3.8ms postprocess per image at shape (1, 3, 480, 640)\n",
      "\n"
     ]
    },
    {
     "name": "stdout",
     "output_type": "stream",
     "text": [
      "Results:  [[834, 265, 1023, 442]] [0.4937075674533844] [5]\n",
      "Output values:  []\n"
     ]
    },
    {
     "name": "stderr",
     "output_type": "stream",
     "text": [
      "0: 480x640 1 potted plant, 150.9ms\n",
      "Speed: 8.0ms preprocess, 150.9ms inference, 3.0ms postprocess per image at shape (1, 3, 480, 640)\n",
      "\n",
      "0: 480x640 1 potted plant, 143.1ms\n"
     ]
    },
    {
     "name": "stdout",
     "output_type": "stream",
     "text": [
      "Results:  [] [] []\n",
      "Output values:  []\n"
     ]
    },
    {
     "name": "stderr",
     "output_type": "stream",
     "text": [
      "Speed: 10.5ms preprocess, 143.1ms inference, 3.5ms postprocess per image at shape (1, 3, 480, 640)\n",
      "\n",
      "0: 480x640 1 car, 2 traffic lights, 1 bowl, 2 potted plants, 142.8ms\n",
      "Speed: 9.5ms preprocess, 142.8ms inference, 2.0ms postprocess per image at shape (1, 3, 480, 640)\n"
     ]
    },
    {
     "name": "stdout",
     "output_type": "stream",
     "text": [
      "Results:  [] [] []\n",
      "Output values:  []\n",
      "Results:  [[160, 394, 189, 406]] [0.2814316749572754] [2]\n"
     ]
    },
    {
     "name": "stderr",
     "output_type": "stream",
     "text": [
      "\n",
      "0: 480x640 1 car, 1 airplane, 1 traffic light, 149.1ms\n",
      "Speed: 13.0ms preprocess, 149.1ms inference, 2.0ms postprocess per image at shape (1, 3, 480, 640)\n"
     ]
    },
    {
     "name": "stdout",
     "output_type": "stream",
     "text": [
      "Output values:  []\n"
     ]
    },
    {
     "name": "stderr",
     "output_type": "stream",
     "text": [
      "\n"
     ]
    },
    {
     "name": "stdout",
     "output_type": "stream",
     "text": [
      "Results:  [[196, 395, 224, 406]] [0.38037049770355225] [2]\n",
      "Output values:  []\n"
     ]
    },
    {
     "name": "stderr",
     "output_type": "stream",
     "text": [
      "0: 480x640 1 car, 1 airplane, 1 bowl, 145.2ms\n",
      "Speed: 9.4ms preprocess, 145.2ms inference, 2.0ms postprocess per image at shape (1, 3, 480, 640)\n",
      "\n"
     ]
    },
    {
     "name": "stdout",
     "output_type": "stream",
     "text": [
      "Results:  [[228, 389, 254, 406]] [0.35221442580223083] [2]\n",
      "Output values:  []\n"
     ]
    },
    {
     "name": "stderr",
     "output_type": "stream",
     "text": [
      "0: 480x640 1 car, 240.7ms\n",
      "Speed: 14.7ms preprocess, 240.7ms inference, 6.0ms postprocess per image at shape (1, 3, 480, 640)\n",
      "\n"
     ]
    },
    {
     "name": "stdout",
     "output_type": "stream",
     "text": [
      "Results:  [[3, 384, 1008, 766]] [0.4870976209640503] [2]\n",
      "Output values:  []\n"
     ]
    },
    {
     "name": "stderr",
     "output_type": "stream",
     "text": [
      "0: 480x640 2 cars, 2 traffic lights, 1 bowl, 225.0ms\n",
      "Speed: 11.5ms preprocess, 225.0ms inference, 4.4ms postprocess per image at shape (1, 3, 480, 640)\n"
     ]
    },
    {
     "name": "stdout",
     "output_type": "stream",
     "text": [
      "Results:  [[4, 390, 1013, 766], [248, 399, 278, 413]] [0.42220741510391235, 0.3182026147842407] [2, 2]\n",
      "Output values:  []\n"
     ]
    },
    {
     "name": "stderr",
     "output_type": "stream",
     "text": [
      "\n",
      "0: 480x640 4 cars, 1 traffic light, 1 fire hydrant, 2 potted plants, 220.4ms\n",
      "Speed: 13.3ms preprocess, 220.4ms inference, 6.5ms postprocess per image at shape (1, 3, 480, 640)\n"
     ]
    },
    {
     "name": "stdout",
     "output_type": "stream",
     "text": [
      "Results:  [[115, 379, 146, 396], [267, 397, 305, 417], [115, 378, 168, 400], [2, 388, 1001, 766]] [0.3990011513233185, 0.3474831283092499, 0.2759951651096344, 0.2621006965637207] [2, 2, 2, 2]\n"
     ]
    },
    {
     "name": "stderr",
     "output_type": "stream",
     "text": [
      "\n"
     ]
    },
    {
     "name": "stdout",
     "output_type": "stream",
     "text": [
      "Output values:  [[          3         388        1001         765           8           2      0.2621]]\n"
     ]
    },
    {
     "name": "stderr",
     "output_type": "stream",
     "text": [
      "0: 480x640 3 cars, 1 potted plant, 287.6ms\n",
      "Speed: 16.0ms preprocess, 287.6ms inference, 5.0ms postprocess per image at shape (1, 3, 480, 640)\n"
     ]
    },
    {
     "name": "stdout",
     "output_type": "stream",
     "text": [
      "Results:  [[62, 412, 203, 464], [1, 524, 1019, 767], [163, 381, 188, 400]] [0.797976553440094, 0.4219030439853668, 0.33019185066223145] [2, 2, 2]\n"
     ]
    },
    {
     "name": "stderr",
     "output_type": "stream",
     "text": [
      "\n"
     ]
    },
    {
     "name": "stdout",
     "output_type": "stream",
     "text": [
      "Output values:  [[          0         511        1023         767           8           2      0.4219]]\n"
     ]
    },
    {
     "name": "stderr",
     "output_type": "stream",
     "text": [
      "0: 480x640 2 cars, 1 potted plant, 275.5ms\n",
      "Speed: 16.7ms preprocess, 275.5ms inference, 4.5ms postprocess per image at shape (1, 3, 480, 640)\n"
     ]
    },
    {
     "name": "stdout",
     "output_type": "stream",
     "text": [
      "Results:  [[0, 526, 1015, 767], [214, 375, 240, 395]] [0.5495119690895081, 0.4629206955432892] [2, 2]\n"
     ]
    },
    {
     "name": "stderr",
     "output_type": "stream",
     "text": [
      "\n"
     ]
    },
    {
     "name": "stdout",
     "output_type": "stream",
     "text": [
      "Output values:  [[          2         526        1012         766           8           2     0.54951]]\n"
     ]
    },
    {
     "name": "stderr",
     "output_type": "stream",
     "text": [
      "0: 480x640 5 cars, 284.7ms\n",
      "Speed: 20.8ms preprocess, 284.7ms inference, 3.4ms postprocess per image at shape (1, 3, 480, 640)\n"
     ]
    },
    {
     "name": "stdout",
     "output_type": "stream",
     "text": [
      "Results:  [[46, 407, 114, 450], [251, 381, 276, 400], [1, 508, 1019, 767], [1, 395, 1002, 766], [784, 391, 834, 429]] [0.6944198608398438, 0.6804911494255066, 0.5195897817611694, 0.5054629445075989, 0.27247318625450134] [2, 2, 2, 2, 2]\n"
     ]
    },
    {
     "name": "stderr",
     "output_type": "stream",
     "text": [
      "\n",
      "0: 480x640 (no detections), 161.7ms\n"
     ]
    },
    {
     "name": "stdout",
     "output_type": "stream",
     "text": [
      "Output values:  [[          9         510        1010         765           8           2     0.51959]]\n"
     ]
    },
    {
     "name": "stderr",
     "output_type": "stream",
     "text": [
      "Speed: 11.3ms preprocess, 161.7ms inference, 3.0ms postprocess per image at shape (1, 3, 480, 640)\n",
      "\n"
     ]
    },
    {
     "name": "stdout",
     "output_type": "stream",
     "text": [
      "Results:  [] [] []\n",
      "Output values:  [[         38         532         982         767           8           2     0.51959]]\n"
     ]
    },
    {
     "name": "stderr",
     "output_type": "stream",
     "text": [
      "0: 480x640 1 car, 156.6ms\n",
      "Speed: 9.5ms preprocess, 156.6ms inference, 4.0ms postprocess per image at shape (1, 3, 480, 640)\n",
      "\n"
     ]
    },
    {
     "name": "stdout",
     "output_type": "stream",
     "text": [
      "Results:  [[278, 370, 314, 399]] [0.40797290205955505] [2]\n",
      "Output values:  []\n"
     ]
    },
    {
     "name": "stderr",
     "output_type": "stream",
     "text": [
      "0: 480x640 2 cars, 154.2ms\n",
      "Speed: 10.5ms preprocess, 154.2ms inference, 2.0ms postprocess per image at shape (1, 3, 480, 640)\n",
      "\n"
     ]
    },
    {
     "name": "stdout",
     "output_type": "stream",
     "text": [
      "Results:  [[2, 524, 1012, 767], [280, 370, 316, 406]] [0.5753979682922363, 0.4909150302410126] [2, 2]\n",
      "Output values:  [[          3         524        1010         766           8           2      0.5754]]\n"
     ]
    },
    {
     "name": "stderr",
     "output_type": "stream",
     "text": [
      "0: 480x640 2 cars, 184.4ms\n",
      "Speed: 10.5ms preprocess, 184.4ms inference, 2.0ms postprocess per image at shape (1, 3, 480, 640)\n",
      "\n"
     ]
    },
    {
     "name": "stdout",
     "output_type": "stream",
     "text": [
      "Results:  [[2, 520, 1019, 767], [267, 374, 317, 417]] [0.7424309253692627, 0.6461727619171143] [2, 2]\n",
      "Output values:  [[          3         520        1017         766           8           2     0.74243]\n",
      " [        267         374         316         416          20           2     0.64617]]\n"
     ]
    },
    {
     "name": "stderr",
     "output_type": "stream",
     "text": [
      "0: 480x640 3 cars, 1 potted plant, 150.7ms\n",
      "Speed: 8.5ms preprocess, 150.7ms inference, 2.5ms postprocess per image at shape (1, 3, 480, 640)\n"
     ]
    },
    {
     "name": "stdout",
     "output_type": "stream",
     "text": [
      "Results:  [[224, 364, 314, 430], [0, 502, 1016, 767], [748, 389, 791, 425]] [0.6840659976005554, 0.5540672540664673, 0.29440468549728394] [2, 2, 2]\n",
      "Output values:  [[          6         504        1009         765           8           2     0.55407]\n",
      " [        225         364         313         429          20           2     0.68407]]\n"
     ]
    },
    {
     "name": "stderr",
     "output_type": "stream",
     "text": [
      "\n",
      "0: 480x640 2 cars, 1 potted plant, 152.5ms\n",
      "Speed: 8.3ms preprocess, 152.5ms inference, 2.0ms postprocess per image at shape (1, 3, 480, 640)\n",
      "\n"
     ]
    },
    {
     "name": "stdout",
     "output_type": "stream",
     "text": [
      "Results:  [[116, 351, 296, 451], [3, 523, 1015, 766]] [0.8600201606750488, 0.6323121190071106] [2, 2]\n",
      "Output values:  [[          0         522        1017         766           8           2     0.63231]\n",
      " [        116         351         295         450          20           2     0.86002]]\n"
     ]
    },
    {
     "name": "stderr",
     "output_type": "stream",
     "text": [
      "0: 480x640 1 car, 1 truck, 1 potted plant, 147.1ms\n",
      "Speed: 11.5ms preprocess, 147.1ms inference, 3.3ms postprocess per image at shape (1, 3, 480, 640)\n"
     ]
    },
    {
     "name": "stdout",
     "output_type": "stream",
     "text": [
      "Results:  [[0, 326, 232, 520], [0, 325, 232, 520]] [0.6916438937187195, 0.28732457756996155] [2, 7]\n"
     ]
    },
    {
     "name": "stderr",
     "output_type": "stream",
     "text": [
      "\n"
     ]
    },
    {
     "name": "stdout",
     "output_type": "stream",
     "text": [
      "Output values:  [[          7         530        1010         767           8           2     0.63231]\n",
      " [          6         330         228         515          20           2     0.69164]]\n"
     ]
    },
    {
     "name": "stderr",
     "output_type": "stream",
     "text": [
      "0: 480x640 1 car, 1 potted plant, 189.4ms\n",
      "Speed: 11.3ms preprocess, 189.4ms inference, 4.0ms postprocess per image at shape (1, 3, 480, 640)\n",
      "\n"
     ]
    },
    {
     "name": "stdout",
     "output_type": "stream",
     "text": [
      "Results:  [[504, 384, 531, 405]] [0.2714579403400421] [2]\n",
      "Output values:  [[          0         330         188         530          20           2     0.69164]]\n"
     ]
    },
    {
     "name": "stderr",
     "output_type": "stream",
     "text": [
      "0: 480x640 1 car, 1 potted plant, 190.8ms\n",
      "Speed: 11.0ms preprocess, 190.8ms inference, 3.0ms postprocess per image at shape (1, 3, 480, 640)\n",
      "\n"
     ]
    },
    {
     "name": "stdout",
     "output_type": "stream",
     "text": [
      "Results:  [[1, 524, 1012, 767]] [0.3749667704105377] [2]\n",
      "Output values:  [[          3         524        1009         766           8           2     0.37497]]\n"
     ]
    },
    {
     "name": "stderr",
     "output_type": "stream",
     "text": [
      "0: 480x640 1 car, 1 potted plant, 180.4ms\n",
      "Speed: 11.0ms preprocess, 180.4ms inference, 2.4ms postprocess per image at shape (1, 3, 480, 640)\n",
      "\n"
     ]
    },
    {
     "name": "stdout",
     "output_type": "stream",
     "text": [
      "Results:  [[530, 389, 560, 407]] [0.27583688497543335] [2]\n",
      "Output values:  [[          7         530        1005         767           8           2     0.37497]]\n"
     ]
    },
    {
     "name": "stderr",
     "output_type": "stream",
     "text": [
      "0: 480x640 2 cars, 193.7ms\n",
      "Speed: 14.1ms preprocess, 193.7ms inference, 4.5ms postprocess per image at shape (1, 3, 480, 640)\n"
     ]
    },
    {
     "name": "stdout",
     "output_type": "stream",
     "text": [
      "Results:  [[530, 391, 571, 416], [435, 384, 449, 396]] [0.36011865735054016, 0.2748243510723114] [2, 2]\n",
      "Output values:  []\n"
     ]
    },
    {
     "name": "stderr",
     "output_type": "stream",
     "text": [
      "\n",
      "0: 480x640 2 cars, 1 traffic light, 1 bench, 192.3ms\n",
      "Speed: 15.1ms preprocess, 192.3ms inference, 2.5ms postprocess per image at shape (1, 3, 480, 640)\n"
     ]
    },
    {
     "name": "stdout",
     "output_type": "stream",
     "text": [
      "Results:  [[2, 526, 1006, 767], [433, 380, 449, 393]] [0.5716877579689026, 0.2642393112182617] [2, 2]\n"
     ]
    },
    {
     "name": "stderr",
     "output_type": "stream",
     "text": [
      "\n"
     ]
    },
    {
     "name": "stdout",
     "output_type": "stream",
     "text": [
      "Output values:  [[          2         526        1005         766           8           2     0.57169]]\n"
     ]
    },
    {
     "name": "stderr",
     "output_type": "stream",
     "text": [
      "0: 480x640 3 cars, 192.6ms\n",
      "Speed: 10.0ms preprocess, 192.6ms inference, 3.0ms postprocess per image at shape (1, 3, 480, 640)\n"
     ]
    },
    {
     "name": "stdout",
     "output_type": "stream",
     "text": [
      "Results:  [[2, 516, 1016, 767], [427, 373, 448, 390], [559, 384, 619, 421]] [0.4146476984024048, 0.4028783440589905, 0.2629651725292206] [2, 2, 2]\n"
     ]
    },
    {
     "name": "stderr",
     "output_type": "stream",
     "text": [
      "\n"
     ]
    },
    {
     "name": "stdout",
     "output_type": "stream",
     "text": [
      "Output values:  [[          6         517        1010         765           8           2     0.41465]\n",
      " [        427         373         447         389          25           2     0.40288]]\n"
     ]
    },
    {
     "name": "stderr",
     "output_type": "stream",
     "text": [
      "0: 480x640 4 cars, 186.7ms\n",
      "Speed: 10.5ms preprocess, 186.7ms inference, 3.0ms postprocess per image at shape (1, 3, 480, 640)\n"
     ]
    },
    {
     "name": "stdout",
     "output_type": "stream",
     "text": [
      "Results:  [[572, 391, 657, 441], [4, 524, 1018, 767], [412, 379, 439, 397], [586, 399, 657, 441]] [0.5629124641418457, 0.555726170539856, 0.5004153251647949, 0.4265826940536499] [2, 2, 2, 2]\n",
      "Output values:  [[          2         523        1018         767           8           2     0.55573]\n",
      " [        411         378         439         397          25           2     0.50042]]\n"
     ]
    }
   ],
   "source": [
    "#For tracking\n",
    "from new_tracker import main\n",
    "\n",
    "tracker = main()\n",
    "tracker()"
   ]
  },
  {
   "cell_type": "code",
   "execution_count": null,
   "id": "6758b62a-7c5f-42d8-9e1f-f9a2190f49ed",
   "metadata": {},
   "outputs": [],
   "source": [
    "import torch\n",
    "\n",
    "import torchvision\n",
    "\n",
    "if torch.cuda.is_available():\n",
    "    print(\"CUDA is available!\")\n",
    "    print(\"CUDA version:\", torch.version.cuda)\n",
    "    print(\"Number of available GPUs:\", torch.cuda.device_count())\n",
    "    print(\"Current GPU device index:\", torch.cuda.current_device())\n",
    "    print(\"GPU name:\", torch.cuda.get_device_name(torch.cuda.current_device()))\n",
    "else:\n",
    "    print(\"CUDA is not available.\")"
   ]
  },
  {
   "cell_type": "code",
   "execution_count": 4,
   "id": "9e25b667-1c3e-4ae8-8160-ae2e95fed9c8",
   "metadata": {
    "scrolled": true
   },
   "outputs": [
    {
     "name": "stderr",
     "output_type": "stream",
     "text": [
      "\n",
      "0: 480x640 1 vehicle, 635.5ms\n",
      "Speed: 24.1ms preprocess, 635.5ms inference, 19.9ms postprocess per image at shape (1, 3, 640, 640)\n",
      "\n",
      "0: 480x640 3 vehicles, 549.6ms\n",
      "Speed: 15.0ms preprocess, 549.6ms inference, 2.0ms postprocess per image at shape (1, 3, 640, 640)\n",
      "\n",
      "0: 480x640 1 vehicle, 529.3ms\n",
      "Speed: 14.1ms preprocess, 529.3ms inference, 2.0ms postprocess per image at shape (1, 3, 640, 640)\n",
      "\n",
      "0: 480x640 2 vehicles, 584.6ms\n",
      "Speed: 15.1ms preprocess, 584.6ms inference, 2.5ms postprocess per image at shape (1, 3, 640, 640)\n",
      "\n",
      "0: 480x640 1 vehicle, 551.6ms\n",
      "Speed: 16.0ms preprocess, 551.6ms inference, 1.0ms postprocess per image at shape (1, 3, 640, 640)\n",
      "\n",
      "0: 480x640 1 vehicle, 321.7ms\n",
      "Speed: 12.5ms preprocess, 321.7ms inference, 2.1ms postprocess per image at shape (1, 3, 640, 640)\n",
      "\n",
      "0: 480x640 2 vehicles, 285.0ms\n",
      "Speed: 13.5ms preprocess, 285.0ms inference, 1.0ms postprocess per image at shape (1, 3, 640, 640)\n",
      "\n",
      "0: 480x640 3 vehicles, 259.6ms\n",
      "Speed: 10.5ms preprocess, 259.6ms inference, 1.0ms postprocess per image at shape (1, 3, 640, 640)\n",
      "\n",
      "0: 480x640 3 vehicles, 260.5ms\n",
      "Speed: 10.1ms preprocess, 260.5ms inference, 2.5ms postprocess per image at shape (1, 3, 640, 640)\n",
      "\n",
      "0: 480x640 4 vehicles, 271.3ms\n",
      "Speed: 9.5ms preprocess, 271.3ms inference, 1.0ms postprocess per image at shape (1, 3, 640, 640)\n",
      "\n",
      "0: 480x640 3 vehicles, 285.1ms\n",
      "Speed: 11.5ms preprocess, 285.1ms inference, 1.5ms postprocess per image at shape (1, 3, 640, 640)\n",
      "\n",
      "0: 480x640 4 vehicles, 345.0ms\n",
      "Speed: 11.1ms preprocess, 345.0ms inference, 1.0ms postprocess per image at shape (1, 3, 640, 640)\n",
      "\n",
      "0: 480x640 2 vehicles, 308.9ms\n",
      "Speed: 11.5ms preprocess, 308.9ms inference, 1.0ms postprocess per image at shape (1, 3, 640, 640)\n",
      "\n",
      "0: 480x640 3 vehicles, 287.0ms\n",
      "Speed: 12.6ms preprocess, 287.0ms inference, 1.0ms postprocess per image at shape (1, 3, 640, 640)\n",
      "\n",
      "0: 480x640 2 vehicles, 292.4ms\n",
      "Speed: 12.1ms preprocess, 292.4ms inference, 1.0ms postprocess per image at shape (1, 3, 640, 640)\n",
      "\n",
      "0: 480x640 2 vehicles, 306.1ms\n",
      "Speed: 11.1ms preprocess, 306.1ms inference, 1.2ms postprocess per image at shape (1, 3, 640, 640)\n",
      "\n",
      "0: 480x640 2 vehicles, 322.0ms\n",
      "Speed: 13.5ms preprocess, 322.0ms inference, 1.0ms postprocess per image at shape (1, 3, 640, 640)\n",
      "\n",
      "0: 480x640 2 vehicles, 317.9ms\n",
      "Speed: 11.5ms preprocess, 317.9ms inference, 2.0ms postprocess per image at shape (1, 3, 640, 640)\n",
      "\n",
      "0: 480x640 2 vehicles, 321.0ms\n",
      "Speed: 13.5ms preprocess, 321.0ms inference, 1.0ms postprocess per image at shape (1, 3, 640, 640)\n",
      "\n",
      "0: 480x640 2 vehicles, 314.3ms\n",
      "Speed: 13.1ms preprocess, 314.3ms inference, 1.0ms postprocess per image at shape (1, 3, 640, 640)\n",
      "\n",
      "0: 480x640 2 vehicles, 305.5ms\n",
      "Speed: 11.4ms preprocess, 305.5ms inference, 2.3ms postprocess per image at shape (1, 3, 640, 640)\n",
      "\n",
      "0: 480x640 2 vehicles, 309.6ms\n",
      "Speed: 11.5ms preprocess, 309.6ms inference, 1.0ms postprocess per image at shape (1, 3, 640, 640)\n",
      "\n",
      "0: 480x640 2 vehicles, 324.5ms\n",
      "Speed: 11.5ms preprocess, 324.5ms inference, 2.0ms postprocess per image at shape (1, 3, 640, 640)\n",
      "\n",
      "0: 480x640 2 vehicles, 322.0ms\n",
      "Speed: 12.5ms preprocess, 322.0ms inference, 2.0ms postprocess per image at shape (1, 3, 640, 640)\n",
      "\n",
      "0: 480x640 2 vehicles, 307.0ms\n",
      "Speed: 12.6ms preprocess, 307.0ms inference, 2.0ms postprocess per image at shape (1, 3, 640, 640)\n",
      "\n",
      "0: 480x640 2 vehicles, 303.4ms\n",
      "Speed: 12.0ms preprocess, 303.4ms inference, 2.0ms postprocess per image at shape (1, 3, 640, 640)\n",
      "\n",
      "0: 480x640 2 vehicles, 311.0ms\n",
      "Speed: 12.0ms preprocess, 311.0ms inference, 1.0ms postprocess per image at shape (1, 3, 640, 640)\n",
      "\n",
      "0: 480x640 2 vehicles, 318.1ms\n",
      "Speed: 13.4ms preprocess, 318.1ms inference, 1.0ms postprocess per image at shape (1, 3, 640, 640)\n",
      "\n",
      "0: 480x640 2 vehicles, 313.8ms\n",
      "Speed: 13.6ms preprocess, 313.8ms inference, 2.1ms postprocess per image at shape (1, 3, 640, 640)\n",
      "\n",
      "0: 480x640 2 vehicles, 305.9ms\n",
      "Speed: 11.5ms preprocess, 305.9ms inference, 1.0ms postprocess per image at shape (1, 3, 640, 640)\n",
      "\n",
      "0: 480x640 2 vehicles, 319.4ms\n",
      "Speed: 13.5ms preprocess, 319.4ms inference, 1.0ms postprocess per image at shape (1, 3, 640, 640)\n",
      "\n",
      "0: 480x640 2 vehicles, 299.9ms\n",
      "Speed: 12.5ms preprocess, 299.9ms inference, 1.0ms postprocess per image at shape (1, 3, 640, 640)\n",
      "\n",
      "0: 480x640 3 vehicles, 290.5ms\n",
      "Speed: 10.5ms preprocess, 290.5ms inference, 2.0ms postprocess per image at shape (1, 3, 640, 640)\n",
      "\n",
      "0: 480x640 3 vehicles, 291.7ms\n",
      "Speed: 13.1ms preprocess, 291.7ms inference, 2.0ms postprocess per image at shape (1, 3, 640, 640)\n",
      "\n",
      "0: 480x640 2 vehicles, 303.2ms\n",
      "Speed: 13.8ms preprocess, 303.2ms inference, 2.0ms postprocess per image at shape (1, 3, 640, 640)\n",
      "\n",
      "0: 480x640 2 vehicles, 304.1ms\n",
      "Speed: 11.5ms preprocess, 304.1ms inference, 1.0ms postprocess per image at shape (1, 3, 640, 640)\n",
      "\n",
      "0: 480x640 2 vehicles, 297.5ms\n",
      "Speed: 11.6ms preprocess, 297.5ms inference, 1.0ms postprocess per image at shape (1, 3, 640, 640)\n",
      "\n",
      "0: 480x640 2 vehicles, 294.5ms\n",
      "Speed: 11.0ms preprocess, 294.5ms inference, 2.0ms postprocess per image at shape (1, 3, 640, 640)\n",
      "\n",
      "0: 480x640 2 vehicles, 290.7ms\n",
      "Speed: 10.5ms preprocess, 290.7ms inference, 1.0ms postprocess per image at shape (1, 3, 640, 640)\n",
      "\n",
      "0: 480x640 2 vehicles, 300.5ms\n",
      "Speed: 11.5ms preprocess, 300.5ms inference, 1.0ms postprocess per image at shape (1, 3, 640, 640)\n",
      "\n",
      "0: 480x640 2 vehicles, 287.1ms\n",
      "Speed: 11.5ms preprocess, 287.1ms inference, 2.0ms postprocess per image at shape (1, 3, 640, 640)\n",
      "\n",
      "0: 480x640 2 vehicles, 281.3ms\n",
      "Speed: 11.0ms preprocess, 281.3ms inference, 2.0ms postprocess per image at shape (1, 3, 640, 640)\n",
      "\n",
      "0: 480x640 2 vehicles, 298.6ms\n",
      "Speed: 11.6ms preprocess, 298.6ms inference, 2.0ms postprocess per image at shape (1, 3, 640, 640)\n",
      "\n",
      "0: 480x640 2 vehicles, 288.0ms\n",
      "Speed: 11.0ms preprocess, 288.0ms inference, 1.0ms postprocess per image at shape (1, 3, 640, 640)\n",
      "\n",
      "0: 480x640 2 vehicles, 288.6ms\n",
      "Speed: 11.9ms preprocess, 288.6ms inference, 2.0ms postprocess per image at shape (1, 3, 640, 640)\n",
      "\n",
      "0: 480x640 2 vehicles, 290.9ms\n",
      "Speed: 13.1ms preprocess, 290.9ms inference, 1.0ms postprocess per image at shape (1, 3, 640, 640)\n",
      "\n",
      "0: 480x640 2 vehicles, 290.4ms\n",
      "Speed: 10.5ms preprocess, 290.4ms inference, 1.0ms postprocess per image at shape (1, 3, 640, 640)\n",
      "\n",
      "0: 480x640 2 vehicles, 298.8ms\n",
      "Speed: 12.5ms preprocess, 298.8ms inference, 2.0ms postprocess per image at shape (1, 3, 640, 640)\n",
      "\n",
      "0: 480x640 3 vehicles, 301.8ms\n",
      "Speed: 11.5ms preprocess, 301.8ms inference, 1.5ms postprocess per image at shape (1, 3, 640, 640)\n",
      "\n",
      "0: 480x640 3 vehicles, 312.0ms\n",
      "Speed: 11.5ms preprocess, 312.0ms inference, 1.0ms postprocess per image at shape (1, 3, 640, 640)\n",
      "\n",
      "0: 480x640 4 vehicles, 300.0ms\n",
      "Speed: 11.0ms preprocess, 300.0ms inference, 2.0ms postprocess per image at shape (1, 3, 640, 640)\n",
      "\n",
      "0: 480x640 2 vehicles, 304.1ms\n",
      "Speed: 11.1ms preprocess, 304.1ms inference, 1.0ms postprocess per image at shape (1, 3, 640, 640)\n",
      "\n",
      "0: 480x640 4 vehicles, 308.5ms\n",
      "Speed: 11.5ms preprocess, 308.5ms inference, 2.0ms postprocess per image at shape (1, 3, 640, 640)\n",
      "\n",
      "0: 480x640 4 vehicles, 298.9ms\n",
      "Speed: 15.4ms preprocess, 298.9ms inference, 1.0ms postprocess per image at shape (1, 3, 640, 640)\n",
      "\n",
      "0: 480x640 6 vehicles, 312.1ms\n",
      "Speed: 12.5ms preprocess, 312.1ms inference, 1.0ms postprocess per image at shape (1, 3, 640, 640)\n",
      "\n",
      "0: 480x640 3 vehicles, 299.2ms\n",
      "Speed: 12.5ms preprocess, 299.2ms inference, 2.6ms postprocess per image at shape (1, 3, 640, 640)\n",
      "\n",
      "0: 480x640 4 vehicles, 307.8ms\n",
      "Speed: 12.2ms preprocess, 307.8ms inference, 2.0ms postprocess per image at shape (1, 3, 640, 640)\n",
      "\n",
      "0: 480x640 4 vehicles, 309.1ms\n",
      "Speed: 12.5ms preprocess, 309.1ms inference, 1.0ms postprocess per image at shape (1, 3, 640, 640)\n",
      "\n",
      "0: 480x640 4 vehicles, 301.5ms\n",
      "Speed: 12.1ms preprocess, 301.5ms inference, 2.0ms postprocess per image at shape (1, 3, 640, 640)\n",
      "\n",
      "0: 480x640 5 vehicles, 304.4ms\n",
      "Speed: 12.5ms preprocess, 304.4ms inference, 2.0ms postprocess per image at shape (1, 3, 640, 640)\n",
      "\n",
      "0: 480x640 5 vehicles, 321.1ms\n",
      "Speed: 13.1ms preprocess, 321.1ms inference, 2.0ms postprocess per image at shape (1, 3, 640, 640)\n",
      "\n",
      "0: 480x640 5 vehicles, 321.7ms\n",
      "Speed: 11.6ms preprocess, 321.7ms inference, 1.0ms postprocess per image at shape (1, 3, 640, 640)\n",
      "\n",
      "0: 480x640 5 vehicles, 308.8ms\n",
      "Speed: 11.5ms preprocess, 308.8ms inference, 1.0ms postprocess per image at shape (1, 3, 640, 640)\n",
      "\n",
      "0: 480x640 4 vehicles, 310.4ms\n",
      "Speed: 12.5ms preprocess, 310.4ms inference, 1.5ms postprocess per image at shape (1, 3, 640, 640)\n",
      "\n",
      "0: 480x640 3 vehicles, 312.9ms\n",
      "Speed: 12.5ms preprocess, 312.9ms inference, 2.0ms postprocess per image at shape (1, 3, 640, 640)\n",
      "\n",
      "0: 480x640 4 vehicles, 316.8ms\n",
      "Speed: 12.2ms preprocess, 316.8ms inference, 0.5ms postprocess per image at shape (1, 3, 640, 640)\n",
      "\n",
      "0: 480x640 4 vehicles, 315.7ms\n",
      "Speed: 12.6ms preprocess, 315.7ms inference, 2.0ms postprocess per image at shape (1, 3, 640, 640)\n",
      "\n",
      "0: 480x640 5 vehicles, 310.6ms\n",
      "Speed: 12.0ms preprocess, 310.6ms inference, 1.0ms postprocess per image at shape (1, 3, 640, 640)\n",
      "\n",
      "0: 480x640 5 vehicles, 319.4ms\n",
      "Speed: 12.8ms preprocess, 319.4ms inference, 1.0ms postprocess per image at shape (1, 3, 640, 640)\n",
      "\n",
      "0: 480x640 5 vehicles, 310.3ms\n",
      "Speed: 14.2ms preprocess, 310.3ms inference, 1.0ms postprocess per image at shape (1, 3, 640, 640)\n",
      "\n",
      "0: 480x640 5 vehicles, 307.9ms\n",
      "Speed: 12.5ms preprocess, 307.9ms inference, 1.0ms postprocess per image at shape (1, 3, 640, 640)\n",
      "\n",
      "0: 480x640 5 vehicles, 322.6ms\n",
      "Speed: 11.5ms preprocess, 322.6ms inference, 1.0ms postprocess per image at shape (1, 3, 640, 640)\n",
      "\n",
      "0: 480x640 5 vehicles, 306.7ms\n",
      "Speed: 11.5ms preprocess, 306.7ms inference, 2.0ms postprocess per image at shape (1, 3, 640, 640)\n",
      "\n",
      "0: 480x640 5 vehicles, 315.8ms\n",
      "Speed: 11.2ms preprocess, 315.8ms inference, 1.0ms postprocess per image at shape (1, 3, 640, 640)\n",
      "\n",
      "0: 480x640 5 vehicles, 315.9ms\n",
      "Speed: 11.5ms preprocess, 315.9ms inference, 1.0ms postprocess per image at shape (1, 3, 640, 640)\n",
      "\n",
      "0: 480x640 5 vehicles, 309.1ms\n",
      "Speed: 11.5ms preprocess, 309.1ms inference, 3.0ms postprocess per image at shape (1, 3, 640, 640)\n",
      "\n",
      "0: 480x640 5 vehicles, 324.9ms\n",
      "Speed: 13.7ms preprocess, 324.9ms inference, 1.0ms postprocess per image at shape (1, 3, 640, 640)\n",
      "\n",
      "0: 480x640 5 vehicles, 330.3ms\n",
      "Speed: 11.2ms preprocess, 330.3ms inference, 1.0ms postprocess per image at shape (1, 3, 640, 640)\n",
      "\n",
      "0: 480x640 5 vehicles, 314.5ms\n",
      "Speed: 13.1ms preprocess, 314.5ms inference, 1.0ms postprocess per image at shape (1, 3, 640, 640)\n",
      "\n",
      "0: 480x640 5 vehicles, 316.3ms\n",
      "Speed: 11.5ms preprocess, 316.3ms inference, 1.0ms postprocess per image at shape (1, 3, 640, 640)\n",
      "\n",
      "0: 480x640 5 vehicles, 309.1ms\n",
      "Speed: 11.6ms preprocess, 309.1ms inference, 1.0ms postprocess per image at shape (1, 3, 640, 640)\n",
      "\n",
      "0: 480x640 5 vehicles, 305.0ms\n",
      "Speed: 13.4ms preprocess, 305.0ms inference, 1.0ms postprocess per image at shape (1, 3, 640, 640)\n",
      "\n",
      "0: 480x640 5 vehicles, 306.0ms\n",
      "Speed: 12.5ms preprocess, 306.0ms inference, 2.0ms postprocess per image at shape (1, 3, 640, 640)\n",
      "\n",
      "0: 480x640 4 vehicles, 306.5ms\n",
      "Speed: 11.5ms preprocess, 306.5ms inference, 1.0ms postprocess per image at shape (1, 3, 640, 640)\n",
      "\n",
      "0: 480x640 4 vehicles, 306.6ms\n",
      "Speed: 12.6ms preprocess, 306.6ms inference, 2.0ms postprocess per image at shape (1, 3, 640, 640)\n",
      "\n",
      "0: 480x640 5 vehicles, 304.1ms\n",
      "Speed: 11.5ms preprocess, 304.1ms inference, 1.0ms postprocess per image at shape (1, 3, 640, 640)\n",
      "\n",
      "0: 480x640 5 vehicles, 309.4ms\n",
      "Speed: 11.5ms preprocess, 309.4ms inference, 1.5ms postprocess per image at shape (1, 3, 640, 640)\n",
      "\n",
      "0: 480x640 5 vehicles, 309.0ms\n",
      "Speed: 14.0ms preprocess, 309.0ms inference, 1.5ms postprocess per image at shape (1, 3, 640, 640)\n",
      "\n",
      "0: 480x640 5 vehicles, 306.8ms\n",
      "Speed: 13.2ms preprocess, 306.8ms inference, 2.0ms postprocess per image at shape (1, 3, 640, 640)\n",
      "\n",
      "0: 480x640 4 vehicles, 310.8ms\n",
      "Speed: 11.5ms preprocess, 310.8ms inference, 1.0ms postprocess per image at shape (1, 3, 640, 640)\n",
      "\n",
      "0: 480x640 5 vehicles, 307.7ms\n",
      "Speed: 12.0ms preprocess, 307.7ms inference, 2.0ms postprocess per image at shape (1, 3, 640, 640)\n",
      "\n",
      "0: 480x640 5 vehicles, 307.7ms\n",
      "Speed: 13.5ms preprocess, 307.7ms inference, 2.0ms postprocess per image at shape (1, 3, 640, 640)\n",
      "\n",
      "0: 480x640 5 vehicles, 307.5ms\n",
      "Speed: 10.5ms preprocess, 307.5ms inference, 1.0ms postprocess per image at shape (1, 3, 640, 640)\n",
      "\n",
      "0: 480x640 5 vehicles, 307.2ms\n",
      "Speed: 10.5ms preprocess, 307.2ms inference, 0.9ms postprocess per image at shape (1, 3, 640, 640)\n",
      "\n",
      "0: 480x640 5 vehicles, 305.5ms\n",
      "Speed: 14.1ms preprocess, 305.5ms inference, 1.5ms postprocess per image at shape (1, 3, 640, 640)\n",
      "\n",
      "0: 480x640 4 vehicles, 304.7ms\n",
      "Speed: 11.5ms preprocess, 304.7ms inference, 2.1ms postprocess per image at shape (1, 3, 640, 640)\n",
      "\n",
      "0: 480x640 5 vehicles, 301.2ms\n",
      "Speed: 12.5ms preprocess, 301.2ms inference, 2.0ms postprocess per image at shape (1, 3, 640, 640)\n",
      "\n",
      "0: 480x640 4 vehicles, 301.7ms\n",
      "Speed: 12.0ms preprocess, 301.7ms inference, 2.5ms postprocess per image at shape (1, 3, 640, 640)\n",
      "\n",
      "0: 480x640 4 vehicles, 332.1ms\n",
      "Speed: 13.5ms preprocess, 332.1ms inference, 2.2ms postprocess per image at shape (1, 3, 640, 640)\n",
      "\n",
      "0: 480x640 4 vehicles, 342.3ms\n",
      "Speed: 14.0ms preprocess, 342.3ms inference, 2.5ms postprocess per image at shape (1, 3, 640, 640)\n",
      "\n",
      "0: 480x640 5 vehicles, 333.7ms\n",
      "Speed: 13.6ms preprocess, 333.7ms inference, 2.6ms postprocess per image at shape (1, 3, 640, 640)\n",
      "\n",
      "0: 480x640 4 vehicles, 336.3ms\n",
      "Speed: 13.5ms preprocess, 336.3ms inference, 2.0ms postprocess per image at shape (1, 3, 640, 640)\n",
      "\n",
      "0: 480x640 5 vehicles, 333.3ms\n",
      "Speed: 13.1ms preprocess, 333.3ms inference, 2.0ms postprocess per image at shape (1, 3, 640, 640)\n",
      "\n",
      "0: 480x640 5 vehicles, 343.4ms\n",
      "Speed: 12.6ms preprocess, 343.4ms inference, 1.0ms postprocess per image at shape (1, 3, 640, 640)\n",
      "\n",
      "0: 480x640 5 vehicles, 334.1ms\n",
      "Speed: 14.1ms preprocess, 334.1ms inference, 2.0ms postprocess per image at shape (1, 3, 640, 640)\n",
      "\n",
      "0: 480x640 5 vehicles, 328.3ms\n",
      "Speed: 13.5ms preprocess, 328.3ms inference, 2.0ms postprocess per image at shape (1, 3, 640, 640)\n",
      "\n",
      "0: 480x640 5 vehicles, 344.8ms\n",
      "Speed: 15.6ms preprocess, 344.8ms inference, 1.0ms postprocess per image at shape (1, 3, 640, 640)\n",
      "\n",
      "0: 480x640 5 vehicles, 332.7ms\n",
      "Speed: 12.3ms preprocess, 332.7ms inference, 2.0ms postprocess per image at shape (1, 3, 640, 640)\n",
      "\n",
      "0: 480x640 5 vehicles, 342.2ms\n",
      "Speed: 15.7ms preprocess, 342.2ms inference, 1.0ms postprocess per image at shape (1, 3, 640, 640)\n",
      "\n",
      "0: 480x640 4 vehicles, 330.2ms\n",
      "Speed: 12.5ms preprocess, 330.2ms inference, 2.0ms postprocess per image at shape (1, 3, 640, 640)\n",
      "\n",
      "0: 480x640 4 vehicles, 315.9ms\n",
      "Speed: 12.4ms preprocess, 315.9ms inference, 1.0ms postprocess per image at shape (1, 3, 640, 640)\n",
      "\n",
      "0: 480x640 3 vehicles, 324.6ms\n",
      "Speed: 12.0ms preprocess, 324.6ms inference, 2.0ms postprocess per image at shape (1, 3, 640, 640)\n",
      "\n",
      "0: 480x640 3 vehicles, 330.5ms\n",
      "Speed: 13.7ms preprocess, 330.5ms inference, 1.0ms postprocess per image at shape (1, 3, 640, 640)\n",
      "\n",
      "0: 480x640 1 vehicle, 323.9ms\n",
      "Speed: 12.5ms preprocess, 323.9ms inference, 2.0ms postprocess per image at shape (1, 3, 640, 640)\n",
      "\n",
      "0: 480x640 1 vehicle, 320.7ms\n",
      "Speed: 13.5ms preprocess, 320.7ms inference, 1.0ms postprocess per image at shape (1, 3, 640, 640)\n",
      "\n",
      "0: 480x640 2 vehicles, 309.5ms\n",
      "Speed: 12.5ms preprocess, 309.5ms inference, 1.0ms postprocess per image at shape (1, 3, 640, 640)\n",
      "\n",
      "0: 480x640 2 vehicles, 305.7ms\n",
      "Speed: 12.5ms preprocess, 305.7ms inference, 1.1ms postprocess per image at shape (1, 3, 640, 640)\n",
      "\n",
      "0: 480x640 4 vehicles, 306.8ms\n",
      "Speed: 11.0ms preprocess, 306.8ms inference, 2.0ms postprocess per image at shape (1, 3, 640, 640)\n",
      "\n",
      "0: 480x640 4 vehicles, 312.5ms\n",
      "Speed: 13.1ms preprocess, 312.5ms inference, 1.0ms postprocess per image at shape (1, 3, 640, 640)\n",
      "\n",
      "0: 480x640 5 vehicles, 308.1ms\n",
      "Speed: 11.5ms preprocess, 308.1ms inference, 3.0ms postprocess per image at shape (1, 3, 640, 640)\n",
      "\n",
      "0: 480x640 3 vehicles, 316.6ms\n",
      "Speed: 12.0ms preprocess, 316.6ms inference, 2.0ms postprocess per image at shape (1, 3, 640, 640)\n",
      "\n",
      "0: 480x640 3 vehicles, 307.3ms\n",
      "Speed: 11.5ms preprocess, 307.3ms inference, 1.0ms postprocess per image at shape (1, 3, 640, 640)\n",
      "\n",
      "0: 480x640 2 vehicles, 316.5ms\n",
      "Speed: 12.9ms preprocess, 316.5ms inference, 2.0ms postprocess per image at shape (1, 3, 640, 640)\n",
      "\n",
      "0: 480x640 3 vehicles, 283.4ms\n",
      "Speed: 12.5ms preprocess, 283.4ms inference, 0.0ms postprocess per image at shape (1, 3, 640, 640)\n",
      "\n",
      "0: 480x640 5 vehicles, 294.3ms\n",
      "Speed: 11.5ms preprocess, 294.3ms inference, 1.5ms postprocess per image at shape (1, 3, 640, 640)\n",
      "\n",
      "0: 480x640 2 vehicles, 297.0ms\n",
      "Speed: 11.0ms preprocess, 297.0ms inference, 1.0ms postprocess per image at shape (1, 3, 640, 640)\n",
      "\n",
      "0: 480x640 3 vehicles, 289.4ms\n",
      "Speed: 12.5ms preprocess, 289.4ms inference, 2.0ms postprocess per image at shape (1, 3, 640, 640)\n",
      "\n",
      "0: 480x640 2 vehicles, 283.6ms\n",
      "Speed: 12.0ms preprocess, 283.6ms inference, 2.0ms postprocess per image at shape (1, 3, 640, 640)\n",
      "\n",
      "0: 480x640 2 vehicles, 286.8ms\n",
      "Speed: 11.5ms preprocess, 286.8ms inference, 1.0ms postprocess per image at shape (1, 3, 640, 640)\n",
      "\n",
      "0: 480x640 4 vehicles, 288.9ms\n",
      "Speed: 11.7ms preprocess, 288.9ms inference, 2.0ms postprocess per image at shape (1, 3, 640, 640)\n",
      "\n",
      "0: 480x640 3 vehicles, 285.0ms\n",
      "Speed: 11.5ms preprocess, 285.0ms inference, 1.0ms postprocess per image at shape (1, 3, 640, 640)\n",
      "\n",
      "0: 480x640 4 vehicles, 287.7ms\n",
      "Speed: 11.5ms preprocess, 287.7ms inference, 2.0ms postprocess per image at shape (1, 3, 640, 640)\n",
      "\n",
      "0: 480x640 2 vehicles, 287.4ms\n",
      "Speed: 12.5ms preprocess, 287.4ms inference, 1.0ms postprocess per image at shape (1, 3, 640, 640)\n",
      "\n",
      "0: 480x640 3 vehicles, 288.1ms\n",
      "Speed: 12.0ms preprocess, 288.1ms inference, 1.6ms postprocess per image at shape (1, 3, 640, 640)\n",
      "\n",
      "0: 480x640 2 vehicles, 287.4ms\n",
      "Speed: 11.0ms preprocess, 287.4ms inference, 2.0ms postprocess per image at shape (1, 3, 640, 640)\n",
      "\n",
      "0: 480x640 5 vehicles, 287.1ms\n",
      "Speed: 10.8ms preprocess, 287.1ms inference, 1.0ms postprocess per image at shape (1, 3, 640, 640)\n",
      "\n",
      "0: 480x640 5 vehicles, 286.4ms\n",
      "Speed: 11.1ms preprocess, 286.4ms inference, 2.0ms postprocess per image at shape (1, 3, 640, 640)\n",
      "\n",
      "0: 480x640 5 vehicles, 291.5ms\n",
      "Speed: 10.5ms preprocess, 291.5ms inference, 2.0ms postprocess per image at shape (1, 3, 640, 640)\n",
      "\n",
      "0: 480x640 2 vehicles, 302.0ms\n",
      "Speed: 13.3ms preprocess, 302.0ms inference, 1.0ms postprocess per image at shape (1, 3, 640, 640)\n",
      "\n",
      "0: 480x640 2 vehicles, 289.0ms\n",
      "Speed: 10.8ms preprocess, 289.0ms inference, 1.0ms postprocess per image at shape (1, 3, 640, 640)\n",
      "\n",
      "0: 480x640 3 vehicles, 289.2ms\n",
      "Speed: 11.5ms preprocess, 289.2ms inference, 2.0ms postprocess per image at shape (1, 3, 640, 640)\n",
      "\n",
      "0: 480x640 2 vehicles, 293.3ms\n",
      "Speed: 12.5ms preprocess, 293.3ms inference, 2.0ms postprocess per image at shape (1, 3, 640, 640)\n",
      "\n",
      "0: 480x640 3 vehicles, 300.0ms\n",
      "Speed: 10.0ms preprocess, 300.0ms inference, 2.0ms postprocess per image at shape (1, 3, 640, 640)\n",
      "\n",
      "0: 480x640 2 vehicles, 305.2ms\n",
      "Speed: 12.0ms preprocess, 305.2ms inference, 2.0ms postprocess per image at shape (1, 3, 640, 640)\n",
      "\n",
      "0: 480x640 3 vehicles, 301.9ms\n",
      "Speed: 11.5ms preprocess, 301.9ms inference, 2.0ms postprocess per image at shape (1, 3, 640, 640)\n",
      "\n",
      "0: 480x640 4 vehicles, 294.7ms\n",
      "Speed: 10.1ms preprocess, 294.7ms inference, 2.0ms postprocess per image at shape (1, 3, 640, 640)\n",
      "\n",
      "0: 480x640 3 vehicles, 297.1ms\n",
      "Speed: 11.5ms preprocess, 297.1ms inference, 2.0ms postprocess per image at shape (1, 3, 640, 640)\n",
      "\n",
      "0: 480x640 3 vehicles, 289.8ms\n",
      "Speed: 10.4ms preprocess, 289.8ms inference, 2.0ms postprocess per image at shape (1, 3, 640, 640)\n",
      "\n",
      "0: 480x640 2 vehicles, 286.9ms\n",
      "Speed: 11.0ms preprocess, 286.9ms inference, 2.0ms postprocess per image at shape (1, 3, 640, 640)\n",
      "\n",
      "0: 480x640 3 vehicles, 292.1ms\n",
      "Speed: 13.4ms preprocess, 292.1ms inference, 1.0ms postprocess per image at shape (1, 3, 640, 640)\n",
      "\n",
      "0: 480x640 1 bike, 2 vehicles, 281.2ms\n",
      "Speed: 12.4ms preprocess, 281.2ms inference, 2.5ms postprocess per image at shape (1, 3, 640, 640)\n",
      "\n",
      "0: 480x640 1 vehicle, 285.6ms\n",
      "Speed: 10.5ms preprocess, 285.6ms inference, 1.0ms postprocess per image at shape (1, 3, 640, 640)\n",
      "\n",
      "0: 480x640 1 vehicle, 286.4ms\n",
      "Speed: 11.5ms preprocess, 286.4ms inference, 1.2ms postprocess per image at shape (1, 3, 640, 640)\n",
      "\n",
      "0: 480x640 1 vehicle, 286.3ms\n",
      "Speed: 11.5ms preprocess, 286.3ms inference, 1.0ms postprocess per image at shape (1, 3, 640, 640)\n",
      "\n",
      "0: 480x640 1 vehicle, 287.6ms\n",
      "Speed: 11.5ms preprocess, 287.6ms inference, 1.0ms postprocess per image at shape (1, 3, 640, 640)\n",
      "\n",
      "0: 480x640 1 vehicle, 286.8ms\n",
      "Speed: 10.5ms preprocess, 286.8ms inference, 1.0ms postprocess per image at shape (1, 3, 640, 640)\n",
      "\n",
      "0: 480x640 1 vehicle, 294.6ms\n",
      "Speed: 12.7ms preprocess, 294.6ms inference, 0.0ms postprocess per image at shape (1, 3, 640, 640)\n",
      "\n",
      "0: 480x640 1 vehicle, 299.5ms\n",
      "Speed: 11.1ms preprocess, 299.5ms inference, 1.0ms postprocess per image at shape (1, 3, 640, 640)\n",
      "\n",
      "0: 480x640 1 vehicle, 285.5ms\n",
      "Speed: 11.5ms preprocess, 285.5ms inference, 0.0ms postprocess per image at shape (1, 3, 640, 640)\n",
      "\n",
      "0: 480x640 1 vehicle, 283.0ms\n",
      "Speed: 11.5ms preprocess, 283.0ms inference, 1.0ms postprocess per image at shape (1, 3, 640, 640)\n",
      "\n",
      "0: 480x640 1 vehicle, 288.3ms\n",
      "Speed: 10.2ms preprocess, 288.3ms inference, 2.0ms postprocess per image at shape (1, 3, 640, 640)\n"
     ]
    },
    {
     "ename": "TypeError",
     "evalue": "'module' object is not callable",
     "output_type": "error",
     "traceback": [
      "\u001b[1;31m---------------------------------------------------------------------------\u001b[0m",
      "\u001b[1;31mTypeError\u001b[0m                                 Traceback (most recent call last)",
      "Cell \u001b[1;32mIn[4], line 3\u001b[0m\n\u001b[0;32m      1\u001b[0m \u001b[38;5;28;01mimport\u001b[39;00m \u001b[38;5;21;01myolo_detection\u001b[39;00m\n\u001b[1;32m----> 3\u001b[0m detection \u001b[38;5;241m=\u001b[39m \u001b[43myolo_detection\u001b[49m\u001b[43m(\u001b[49m\u001b[43m)\u001b[49m\n\u001b[0;32m      4\u001b[0m detection()\n",
      "\u001b[1;31mTypeError\u001b[0m: 'module' object is not callable"
     ]
    }
   ],
   "source": [
    "import yolo_detection\n",
    "\n",
    "detection = yolo_detection()\n",
    "detection()"
   ]
  },
  {
   "cell_type": "code",
   "execution_count": null,
   "id": "9caaef39-4c34-4e4b-811f-d92b40f01538",
   "metadata": {},
   "outputs": [],
   "source": [
    " 1: 'bicycle', 2: 'car', 3: 'motorcycle', 5: 'bus', 7: 'truck'"
   ]
  }
 ],
 "metadata": {
  "kernelspec": {
   "display_name": "Python 3 (ipykernel)",
   "language": "python",
   "name": "python3"
  },
  "language_info": {
   "codemirror_mode": {
    "name": "ipython",
    "version": 3
   },
   "file_extension": ".py",
   "mimetype": "text/x-python",
   "name": "python",
   "nbconvert_exporter": "python",
   "pygments_lexer": "ipython3",
   "version": "3.9.12"
  }
 },
 "nbformat": 4,
 "nbformat_minor": 5
}

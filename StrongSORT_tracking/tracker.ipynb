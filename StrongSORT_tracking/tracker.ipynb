{
 "cells": [
  {
   "cell_type": "code",
   "execution_count": 5,
   "id": "64a614bd-504d-42ed-95d1-747b355a921f",
   "metadata": {},
   "outputs": [
    {
     "name": "stdout",
     "output_type": "stream",
     "text": [
      "Model: osnet_x0_25\n",
      "- params: 203,568\n",
      "- flops: 82,316,000\n",
      "Successfully loaded pretrained weights from \"deep/checkpoint/osnet_x0_25_market1501.pth\"\n",
      "** The following layers are discarded due to unmatched keys or layer size: ['classifier.weight', 'classifier.bias']\n"
     ]
    },
    {
     "name": "stderr",
     "output_type": "stream",
     "text": [
      "\n",
      "0: 480x640 (no detections), 333.2ms\n",
      "Speed: 17.1ms preprocess, 333.2ms inference, 4.5ms postprocess per image at shape (1, 3, 480, 640)\n"
     ]
    },
    {
     "name": "stdout",
     "output_type": "stream",
     "text": [
      "Results:  [] [] []\n",
      "Output values:  []\n"
     ]
    },
    {
     "name": "stderr",
     "output_type": "stream",
     "text": [
      "\n",
      "0: 480x640 2 cars, 1 traffic light, 310.7ms\n",
      "Speed: 19.6ms preprocess, 310.7ms inference, 5.5ms postprocess per image at shape (1, 3, 480, 640)\n"
     ]
    },
    {
     "name": "stdout",
     "output_type": "stream",
     "text": [
      "Results:  [[737, 390, 829, 425], [0, 526, 1013, 767]] [0.4818067252635956, 0.4037974178791046] [2, 2]\n"
     ]
    },
    {
     "name": "stderr",
     "output_type": "stream",
     "text": [
      "\n"
     ]
    },
    {
     "name": "stdout",
     "output_type": "stream",
     "text": [
      "Output values:  []\n"
     ]
    },
    {
     "name": "stderr",
     "output_type": "stream",
     "text": [
      "0: 480x640 1 car, 292.7ms\n",
      "Speed: 17.6ms preprocess, 292.7ms inference, 6.2ms postprocess per image at shape (1, 3, 480, 640)\n",
      "\n"
     ]
    },
    {
     "name": "stdout",
     "output_type": "stream",
     "text": [
      "Results:  [[448, 384, 531, 416]] [0.5924220681190491] [2]\n",
      "Output values:  []\n"
     ]
    },
    {
     "name": "stderr",
     "output_type": "stream",
     "text": [
      "0: 480x640 4 cars, 279.5ms\n",
      "Speed: 14.6ms preprocess, 279.5ms inference, 5.0ms postprocess per image at shape (1, 3, 480, 640)\n"
     ]
    },
    {
     "name": "stdout",
     "output_type": "stream",
     "text": [
      "Results:  [[136, 369, 312, 428], [5, 524, 1015, 767], [320, 379, 426, 428], [320, 380, 395, 428]] [0.8432764410972595, 0.755771279335022, 0.5291093587875366, 0.41418251395225525] [2, 2, 2, 2]\n"
     ]
    },
    {
     "name": "stderr",
     "output_type": "stream",
     "text": [
      "\n"
     ]
    },
    {
     "name": "stdout",
     "output_type": "stream",
     "text": [
      "Output values:  []\n"
     ]
    },
    {
     "name": "stderr",
     "output_type": "stream",
     "text": [
      "0: 480x640 2 cars, 289.5ms\n",
      "Speed: 18.5ms preprocess, 289.5ms inference, 4.5ms postprocess per image at shape (1, 3, 480, 640)\n"
     ]
    },
    {
     "name": "stdout",
     "output_type": "stream",
     "text": [
      "Results:  [[0, 384, 271, 487], [1, 525, 1016, 767]] [0.8185368776321411, 0.4825917184352875] [2, 2]\n"
     ]
    },
    {
     "name": "stderr",
     "output_type": "stream",
     "text": [
      "\n"
     ]
    },
    {
     "name": "stdout",
     "output_type": "stream",
     "text": [
      "Output values:  []\n"
     ]
    },
    {
     "name": "stderr",
     "output_type": "stream",
     "text": [
      "0: 480x640 1 car, 298.4ms\n",
      "Speed: 14.2ms preprocess, 298.4ms inference, 6.5ms postprocess per image at shape (1, 3, 480, 640)\n",
      "\n"
     ]
    },
    {
     "name": "stdout",
     "output_type": "stream",
     "text": [
      "Results:  [[3, 524, 1016, 767]] [0.3861352801322937] [2]\n",
      "Output values:  [[          3         524        1015         766           4           2     0.38614]]\n"
     ]
    },
    {
     "name": "stderr",
     "output_type": "stream",
     "text": [
      "0: 480x640 (no detections), 291.7ms\n",
      "Speed: 16.1ms preprocess, 291.7ms inference, 5.5ms postprocess per image at shape (1, 3, 480, 640)\n",
      "\n"
     ]
    },
    {
     "name": "stdout",
     "output_type": "stream",
     "text": [
      "Results:  [] [] []\n",
      "Output values:  [[          3         523        1016         766           4           2     0.38614]]\n"
     ]
    },
    {
     "name": "stderr",
     "output_type": "stream",
     "text": [
      "0: 480x640 1 car, 292.8ms\n",
      "Speed: 15.5ms preprocess, 292.8ms inference, 5.2ms postprocess per image at shape (1, 3, 480, 640)\n",
      "\n"
     ]
    },
    {
     "name": "stdout",
     "output_type": "stream",
     "text": [
      "Results:  [[4, 522, 1017, 767]] [0.40481066703796387] [2]\n",
      "Output values:  [[          4         522        1016         766           4           2     0.40481]]\n"
     ]
    },
    {
     "name": "stderr",
     "output_type": "stream",
     "text": [
      "0: 480x640 1 car, 254.9ms\n",
      "Speed: 16.5ms preprocess, 254.9ms inference, 3.0ms postprocess per image at shape (1, 3, 480, 640)\n",
      "\n"
     ]
    },
    {
     "name": "stdout",
     "output_type": "stream",
     "text": [
      "Results:  [[2, 504, 1012, 767]] [0.6465178728103638] [2]\n",
      "Output values:  [[          4         504        1009         766           4           2     0.64652]]\n"
     ]
    },
    {
     "name": "stderr",
     "output_type": "stream",
     "text": [
      "0: 480x640 1 car, 182.7ms\n",
      "Speed: 12.7ms preprocess, 182.7ms inference, 2.0ms postprocess per image at shape (1, 3, 480, 640)\n",
      "\n"
     ]
    },
    {
     "name": "stdout",
     "output_type": "stream",
     "text": [
      "Results:  [[4, 523, 1016, 767]] [0.7558388710021973] [2]\n",
      "Output values:  [[          1         522        1017         767           4           2     0.75584]]\n"
     ]
    },
    {
     "name": "stderr",
     "output_type": "stream",
     "text": [
      "0: 480x640 1 car, 181.5ms\n",
      "Speed: 9.9ms preprocess, 181.5ms inference, 3.0ms postprocess per image at shape (1, 3, 480, 640)\n",
      "\n"
     ]
    },
    {
     "name": "stdout",
     "output_type": "stream",
     "text": [
      "Results:  [[0, 524, 1019, 767]] [0.8332624435424805] [2]\n",
      "Output values:  [[          0         523        1019         767           4           2     0.83326]]\n"
     ]
    },
    {
     "name": "stderr",
     "output_type": "stream",
     "text": [
      "0: 480x640 1 car, 180.8ms\n",
      "Speed: 11.5ms preprocess, 180.8ms inference, 3.0ms postprocess per image at shape (1, 3, 480, 640)\n",
      "\n"
     ]
    },
    {
     "name": "stdout",
     "output_type": "stream",
     "text": [
      "Results:  [[3, 524, 1004, 767]] [0.6195725202560425] [2]\n",
      "Output values:  [[          3         523        1004         767           4           2     0.61957]]\n"
     ]
    },
    {
     "name": "stderr",
     "output_type": "stream",
     "text": [
      "0: 480x640 1 car, 183.1ms\n",
      "Speed: 11.5ms preprocess, 183.1ms inference, 2.0ms postprocess per image at shape (1, 3, 480, 640)\n",
      "\n"
     ]
    },
    {
     "name": "stdout",
     "output_type": "stream",
     "text": [
      "Results:  [[2, 526, 1015, 767]] [0.8368678689002991] [2]\n",
      "Output values:  [[          1         525        1015         767           4           2     0.83687]]\n"
     ]
    },
    {
     "name": "stderr",
     "output_type": "stream",
     "text": [
      "0: 480x640 1 car, 181.8ms\n",
      "Speed: 10.5ms preprocess, 181.8ms inference, 2.1ms postprocess per image at shape (1, 3, 480, 640)\n",
      "\n"
     ]
    },
    {
     "name": "stdout",
     "output_type": "stream",
     "text": [
      "Results:  [[0, 528, 1005, 767]] [0.7844074964523315] [2]\n",
      "Output values:  [[          0         527        1005         767           4           2     0.78441]]\n"
     ]
    },
    {
     "name": "stderr",
     "output_type": "stream",
     "text": [
      "0: 480x640 1 car, 181.0ms\n",
      "Speed: 11.1ms preprocess, 181.0ms inference, 3.2ms postprocess per image at shape (1, 3, 480, 640)\n",
      "\n"
     ]
    },
    {
     "name": "stdout",
     "output_type": "stream",
     "text": [
      "Results:  [[1, 519, 1017, 767]] [0.4623343348503113] [2]\n",
      "Output values:  [[          4         520        1012         766           4           2     0.46233]]\n"
     ]
    },
    {
     "name": "stderr",
     "output_type": "stream",
     "text": [
      "0: 480x640 2 cars, 182.0ms\n",
      "Speed: 11.5ms preprocess, 182.0ms inference, 2.0ms postprocess per image at shape (1, 3, 480, 640)\n",
      "\n"
     ]
    },
    {
     "name": "stdout",
     "output_type": "stream",
     "text": [
      "Results:  [[2, 524, 1014, 767], [102, 389, 133, 413]] [0.7363895177841187, 0.28378230333328247] [2, 2]\n",
      "Output values:  [[          1         523        1014         767           4           2     0.73639]]\n"
     ]
    },
    {
     "name": "stderr",
     "output_type": "stream",
     "text": [
      "0: 480x640 3 cars, 1 traffic light, 179.7ms\n",
      "Speed: 11.5ms preprocess, 179.7ms inference, 2.1ms postprocess per image at shape (1, 3, 480, 640)\n"
     ]
    },
    {
     "name": "stdout",
     "output_type": "stream",
     "text": [
      "Results:  [[0, 521, 1018, 767], [18, 388, 60, 416], [515, 383, 546, 396]] [0.6805884838104248, 0.5799360275268555, 0.48562192916870117] [2, 2, 2]\n"
     ]
    },
    {
     "name": "stderr",
     "output_type": "stream",
     "text": [
      "\n"
     ]
    },
    {
     "name": "stdout",
     "output_type": "stream",
     "text": [
      "Output values:  [[          0         521        1017         766           4           2     0.68059]]\n"
     ]
    },
    {
     "name": "stderr",
     "output_type": "stream",
     "text": [
      "0: 480x640 1 car, 1 traffic light, 183.5ms\n",
      "Speed: 13.1ms preprocess, 183.5ms inference, 3.5ms postprocess per image at shape (1, 3, 480, 640)\n",
      "\n"
     ]
    },
    {
     "name": "stdout",
     "output_type": "stream",
     "text": [
      "Results:  [[1, 525, 1009, 767]] [0.839434802532196] [2]\n",
      "Output values:  [[          0         524        1009         767           4           2     0.83943]]\n"
     ]
    },
    {
     "name": "stderr",
     "output_type": "stream",
     "text": [
      "0: 480x640 1 car, 183.9ms\n",
      "Speed: 12.1ms preprocess, 183.9ms inference, 3.0ms postprocess per image at shape (1, 3, 480, 640)\n",
      "\n"
     ]
    },
    {
     "name": "stdout",
     "output_type": "stream",
     "text": [
      "Results:  [[2, 523, 1012, 767]] [0.6759272217750549] [2]\n",
      "Output values:  [[          2         523        1011         766           4           2     0.67593]]\n"
     ]
    },
    {
     "name": "stderr",
     "output_type": "stream",
     "text": [
      "0: 480x640 2 cars, 1 traffic light, 184.2ms\n",
      "Speed: 10.5ms preprocess, 184.2ms inference, 2.5ms postprocess per image at shape (1, 3, 480, 640)\n"
     ]
    },
    {
     "name": "stdout",
     "output_type": "stream",
     "text": [
      "Results:  [[0, 522, 1012, 767], [439, 387, 489, 405]] [0.7058465480804443, 0.5362473130226135] [2, 2]\n",
      "Output values:  [[          0         522        1011         766           4           2     0.70585]]\n"
     ]
    },
    {
     "name": "stderr",
     "output_type": "stream",
     "text": [
      "\n",
      "0: 480x640 3 cars, 1 traffic light, 189.4ms\n",
      "Speed: 12.2ms preprocess, 189.4ms inference, 2.0ms postprocess per image at shape (1, 3, 480, 640)\n"
     ]
    },
    {
     "name": "stdout",
     "output_type": "stream",
     "text": [
      "Results:  [[385, 389, 457, 410], [3, 524, 1015, 767], [384, 388, 434, 411]] [0.6607940793037415, 0.4330576956272125, 0.4308532178401947] [2, 2, 2]\n"
     ]
    },
    {
     "name": "stderr",
     "output_type": "stream",
     "text": [
      "\n"
     ]
    },
    {
     "name": "stdout",
     "output_type": "stream",
     "text": [
      "Output values:  [[          1         523        1015         767           4           2     0.43306]]\n"
     ]
    },
    {
     "name": "stderr",
     "output_type": "stream",
     "text": [
      "0: 480x640 2 cars, 1 traffic light, 185.3ms\n",
      "Speed: 11.5ms preprocess, 185.3ms inference, 3.0ms postprocess per image at shape (1, 3, 480, 640)\n"
     ]
    },
    {
     "name": "stdout",
     "output_type": "stream",
     "text": [
      "Results:  [[0, 520, 1016, 767], [249, 391, 373, 425]] [0.6237980127334595, 0.5436977744102478] [2, 2]\n",
      "Output values:  [[          0         520        1015         766           4           2      0.6238]]\n"
     ]
    },
    {
     "name": "stderr",
     "output_type": "stream",
     "text": [
      "\n",
      "0: 480x640 2 cars, 1 clock, 182.6ms\n",
      "Speed: 12.5ms preprocess, 182.6ms inference, 3.3ms postprocess per image at shape (1, 3, 480, 640)\n",
      "\n"
     ]
    },
    {
     "name": "stdout",
     "output_type": "stream",
     "text": [
      "Results:  [[2, 526, 1017, 767], [1, 395, 181, 454]] [0.7365721464157104, 0.6346820592880249] [2, 2]\n",
      "Output values:  [[          1         525        1017         767           4           2     0.73657]]\n"
     ]
    },
    {
     "name": "stderr",
     "output_type": "stream",
     "text": [
      "0: 480x640 2 cars, 181.1ms\n",
      "Speed: 11.1ms preprocess, 181.1ms inference, 3.0ms postprocess per image at shape (1, 3, 480, 640)\n",
      "\n"
     ]
    },
    {
     "name": "stdout",
     "output_type": "stream",
     "text": [
      "Results:  [[0, 520, 1011, 767], [339, 381, 384, 404]] [0.43348079919815063, 0.3205307126045227] [2, 2]\n",
      "Output values:  [[          2         520        1008         766           4           2     0.43348]]\n"
     ]
    },
    {
     "name": "stderr",
     "output_type": "stream",
     "text": [
      "0: 480x640 4 cars, 180.9ms\n",
      "Speed: 11.5ms preprocess, 180.9ms inference, 3.0ms postprocess per image at shape (1, 3, 480, 640)\n"
     ]
    },
    {
     "name": "stdout",
     "output_type": "stream",
     "text": [
      "Results:  [[1, 523, 1015, 767], [261, 387, 307, 410], [615, 376, 671, 403], [336, 384, 361, 405]] [0.6561676859855652, 0.5653755068778992, 0.43787848949432373, 0.25555330514907837] [2, 2, 2, 2]\n"
     ]
    },
    {
     "name": "stderr",
     "output_type": "stream",
     "text": [
      "\n"
     ]
    },
    {
     "name": "stdout",
     "output_type": "stream",
     "text": [
      "Output values:  [[          0         522        1015         767           4           2     0.65617]]\n"
     ]
    },
    {
     "name": "stderr",
     "output_type": "stream",
     "text": [
      "0: 480x640 2 cars, 1 bus, 184.1ms\n",
      "Speed: 10.5ms preprocess, 184.1ms inference, 3.0ms postprocess per image at shape (1, 3, 480, 640)\n"
     ]
    },
    {
     "name": "stdout",
     "output_type": "stream",
     "text": [
      "Results:  [[164, 385, 219, 413], [3, 520, 1018, 767], [571, 370, 627, 403]] [0.5909449458122253, 0.5376662015914917, 0.4754296541213989] [2, 2, 5]\n"
     ]
    },
    {
     "name": "stderr",
     "output_type": "stream",
     "text": [
      "\n"
     ]
    },
    {
     "name": "stdout",
     "output_type": "stream",
     "text": [
      "Output values:  [[          3         520        1017         766           4           2     0.53767]]\n"
     ]
    },
    {
     "name": "stderr",
     "output_type": "stream",
     "text": [
      "0: 480x640 6 cars, 1 bus, 1 truck, 182.0ms\n",
      "Speed: 11.5ms preprocess, 182.0ms inference, 4.0ms postprocess per image at shape (1, 3, 480, 640)\n"
     ]
    },
    {
     "name": "stdout",
     "output_type": "stream",
     "text": [
      "Results:  [[2, 524, 1016, 767], [515, 370, 582, 410], [0, 388, 41, 422], [133, 392, 176, 418], [133, 393, 192, 420], [515, 371, 583, 410], [41, 396, 108, 425], [0, 392, 69, 425]] [0.8184303045272827, 0.48765647411346436, 0.4432418942451477, 0.4049321413040161, 0.3493078052997589, 0.33129751682281494, 0.2618536949157715, 0.25785601139068604] [2, 5, 2, 2, 2, 7, 2, 2]\n"
     ]
    },
    {
     "name": "stderr",
     "output_type": "stream",
     "text": [
      "\n"
     ]
    },
    {
     "name": "stdout",
     "output_type": "stream",
     "text": [
      "Output values:  [[          1         523        1016         767           4           2     0.81843]]\n"
     ]
    },
    {
     "name": "stderr",
     "output_type": "stream",
     "text": [
      "0: 480x640 2 cars, 1 truck, 185.8ms\n",
      "Speed: 10.5ms preprocess, 185.8ms inference, 4.0ms postprocess per image at shape (1, 3, 480, 640)\n"
     ]
    },
    {
     "name": "stdout",
     "output_type": "stream",
     "text": [
      "Results:  [[402, 361, 507, 421], [2, 526, 1015, 767], [495, 394, 541, 409]] [0.724027156829834, 0.6337430477142334, 0.4237339198589325] [7, 2, 2]\n"
     ]
    },
    {
     "name": "stderr",
     "output_type": "stream",
     "text": [
      "\n"
     ]
    },
    {
     "name": "stdout",
     "output_type": "stream",
     "text": [
      "Output values:  [[          1         525        1015         767           4           2     0.63374]]\n"
     ]
    },
    {
     "name": "stderr",
     "output_type": "stream",
     "text": [
      "0: 480x640 1 car, 1 truck, 188.6ms\n",
      "Speed: 11.5ms preprocess, 188.6ms inference, 3.0ms postprocess per image at shape (1, 3, 480, 640)\n",
      "\n"
     ]
    },
    {
     "name": "stdout",
     "output_type": "stream",
     "text": [
      "Results:  [[175, 346, 405, 457], [6, 524, 1019, 767]] [0.738260805606842, 0.6090315580368042] [7, 2]\n",
      "Output values:  [[          6         524        1018         766           4           2     0.60903]]\n"
     ]
    },
    {
     "name": "stderr",
     "output_type": "stream",
     "text": [
      "0: 480x640 1 car, 182.9ms\n",
      "Speed: 11.5ms preprocess, 182.9ms inference, 2.0ms postprocess per image at shape (1, 3, 480, 640)\n",
      "\n"
     ]
    },
    {
     "name": "stdout",
     "output_type": "stream",
     "text": [
      "Results:  [[13, 523, 1021, 767]] [0.5288512706756592] [2]\n",
      "Output values:  [[         13         523        1020         766           4           2     0.52885]]\n"
     ]
    },
    {
     "name": "stderr",
     "output_type": "stream",
     "text": [
      "0: 480x640 1 car, 180.7ms\n",
      "Speed: 11.5ms preprocess, 180.7ms inference, 3.5ms postprocess per image at shape (1, 3, 480, 640)\n",
      "\n"
     ]
    },
    {
     "name": "stdout",
     "output_type": "stream",
     "text": [
      "Results:  [[2, 522, 1019, 767]] [0.5886119604110718] [2]\n",
      "Output values:  [[          2         522        1018         766           4           2     0.58861]]\n"
     ]
    },
    {
     "name": "stderr",
     "output_type": "stream",
     "text": [
      "0: 480x640 1 car, 1 train, 183.6ms\n",
      "Speed: 10.6ms preprocess, 183.6ms inference, 3.0ms postprocess per image at shape (1, 3, 480, 640)\n",
      "\n"
     ]
    },
    {
     "name": "stdout",
     "output_type": "stream",
     "text": [
      "Results:  [[5, 519, 1019, 767]] [0.5776926279067993] [2]\n",
      "Output values:  [[          5         519        1018         766           4           2     0.57769]]\n"
     ]
    },
    {
     "name": "stderr",
     "output_type": "stream",
     "text": [
      "0: 480x640 1 car, 181.2ms\n",
      "Speed: 12.5ms preprocess, 181.2ms inference, 2.5ms postprocess per image at shape (1, 3, 480, 640)\n",
      "\n"
     ]
    },
    {
     "name": "stdout",
     "output_type": "stream",
     "text": [
      "Results:  [[4, 524, 1021, 767]] [0.5666036009788513] [2]\n",
      "Output values:  [[          2         523        1022         767           4           2      0.5666]]\n"
     ]
    },
    {
     "name": "stderr",
     "output_type": "stream",
     "text": [
      "0: 480x640 1 car, 180.3ms\n",
      "Speed: 10.5ms preprocess, 180.3ms inference, 3.0ms postprocess per image at shape (1, 3, 480, 640)\n",
      "\n"
     ]
    },
    {
     "name": "stdout",
     "output_type": "stream",
     "text": [
      "Results:  [[3, 524, 1017, 767]] [0.4414764940738678] [2]\n",
      "Output values:  [[          2         523        1017         767           4           2     0.44148]]\n"
     ]
    },
    {
     "name": "stderr",
     "output_type": "stream",
     "text": [
      "0: 480x640 1 car, 184.5ms\n",
      "Speed: 11.5ms preprocess, 184.5ms inference, 3.0ms postprocess per image at shape (1, 3, 480, 640)\n",
      "\n"
     ]
    },
    {
     "name": "stdout",
     "output_type": "stream",
     "text": [
      "Results:  [[4, 526, 1018, 767]] [0.3494497835636139] [2]\n",
      "Output values:  [[          2         525        1018         767           4           2     0.34945]]\n"
     ]
    },
    {
     "name": "stderr",
     "output_type": "stream",
     "text": [
      "0: 480x640 1 person, 1 car, 182.9ms\n",
      "Speed: 11.4ms preprocess, 182.9ms inference, 4.0ms postprocess per image at shape (1, 3, 480, 640)\n",
      "\n"
     ]
    },
    {
     "name": "stdout",
     "output_type": "stream",
     "text": [
      "Results:  [[1, 528, 1006, 767]] [0.4728364646434784] [2]\n",
      "Output values:  [[          0         527        1007         767           4           2     0.47284]]\n"
     ]
    },
    {
     "name": "stderr",
     "output_type": "stream",
     "text": [
      "0: 480x640 1 traffic light, 182.2ms\n",
      "Speed: 11.5ms preprocess, 182.2ms inference, 2.5ms postprocess per image at shape (1, 3, 480, 640)\n",
      "\n"
     ]
    },
    {
     "name": "stdout",
     "output_type": "stream",
     "text": [
      "Results:  [] [] []\n",
      "Output values:  [[          0         528        1005         767           4           2     0.47284]]\n"
     ]
    },
    {
     "name": "stderr",
     "output_type": "stream",
     "text": [
      "0: 480x640 1 traffic light, 180.1ms\n",
      "Speed: 10.5ms preprocess, 180.1ms inference, 2.0ms postprocess per image at shape (1, 3, 480, 640)\n",
      "\n"
     ]
    },
    {
     "name": "stdout",
     "output_type": "stream",
     "text": [
      "Results:  [] [] []\n",
      "Output values:  []\n"
     ]
    },
    {
     "name": "stderr",
     "output_type": "stream",
     "text": [
      "0: 480x640 1 bench, 180.4ms\n",
      "Speed: 11.5ms preprocess, 180.4ms inference, 4.0ms postprocess per image at shape (1, 3, 480, 640)\n",
      "\n"
     ]
    },
    {
     "name": "stdout",
     "output_type": "stream",
     "text": [
      "Results:  [] [] []\n",
      "Output values:  []\n"
     ]
    },
    {
     "name": "stderr",
     "output_type": "stream",
     "text": [
      "0: 480x640 1 car, 1 traffic light, 2 benchs, 177.3ms\n",
      "Speed: 10.5ms preprocess, 177.3ms inference, 5.0ms postprocess per image at shape (1, 3, 480, 640)\n",
      "\n"
     ]
    },
    {
     "name": "stdout",
     "output_type": "stream",
     "text": [
      "Results:  [[7, 527, 1012, 767]] [0.2545243799686432] [2]\n",
      "Output values:  [[          7         527        1011         766           4           2     0.25452]]\n"
     ]
    },
    {
     "name": "stderr",
     "output_type": "stream",
     "text": [
      "0: 480x640 (no detections), 184.4ms\n",
      "Speed: 11.5ms preprocess, 184.4ms inference, 3.0ms postprocess per image at shape (1, 3, 480, 640)\n",
      "\n"
     ]
    },
    {
     "name": "stdout",
     "output_type": "stream",
     "text": [
      "Results:  [] [] []\n",
      "Output values:  [[          7         527        1011         766           4           2     0.25452]]\n"
     ]
    },
    {
     "name": "stderr",
     "output_type": "stream",
     "text": [
      "0: 480x640 (no detections), 181.6ms\n",
      "Speed: 10.5ms preprocess, 181.6ms inference, 2.0ms postprocess per image at shape (1, 3, 480, 640)\n",
      "\n"
     ]
    },
    {
     "name": "stdout",
     "output_type": "stream",
     "text": [
      "Results:  [] [] []\n",
      "Output values:  []\n"
     ]
    },
    {
     "name": "stderr",
     "output_type": "stream",
     "text": [
      "0: 480x640 (no detections), 187.3ms\n",
      "Speed: 10.5ms preprocess, 187.3ms inference, 2.0ms postprocess per image at shape (1, 3, 480, 640)\n",
      "\n"
     ]
    },
    {
     "name": "stdout",
     "output_type": "stream",
     "text": [
      "Results:  [] [] []\n",
      "Output values:  []\n"
     ]
    },
    {
     "name": "stderr",
     "output_type": "stream",
     "text": [
      "0: 480x640 1 traffic light, 177.8ms\n",
      "Speed: 10.5ms preprocess, 177.8ms inference, 2.0ms postprocess per image at shape (1, 3, 480, 640)\n",
      "\n"
     ]
    },
    {
     "name": "stdout",
     "output_type": "stream",
     "text": [
      "Results:  [] [] []\n",
      "Output values:  []\n"
     ]
    },
    {
     "name": "stderr",
     "output_type": "stream",
     "text": [
      "0: 480x640 (no detections), 178.7ms\n",
      "Speed: 12.2ms preprocess, 178.7ms inference, 2.5ms postprocess per image at shape (1, 3, 480, 640)\n",
      "\n"
     ]
    },
    {
     "name": "stdout",
     "output_type": "stream",
     "text": [
      "Results:  [] [] []\n",
      "Output values:  []\n"
     ]
    },
    {
     "name": "stderr",
     "output_type": "stream",
     "text": [
      "0: 480x640 (no detections), 180.6ms\n",
      "Speed: 12.0ms preprocess, 180.6ms inference, 2.0ms postprocess per image at shape (1, 3, 480, 640)\n",
      "\n"
     ]
    },
    {
     "name": "stdout",
     "output_type": "stream",
     "text": [
      "Results:  [] [] []\n",
      "Output values:  []\n"
     ]
    },
    {
     "name": "stderr",
     "output_type": "stream",
     "text": [
      "0: 480x640 (no detections), 179.0ms\n",
      "Speed: 11.0ms preprocess, 179.0ms inference, 2.0ms postprocess per image at shape (1, 3, 480, 640)\n",
      "\n"
     ]
    },
    {
     "name": "stdout",
     "output_type": "stream",
     "text": [
      "Results:  [] [] []\n",
      "Output values:  []\n"
     ]
    },
    {
     "name": "stderr",
     "output_type": "stream",
     "text": [
      "0: 480x640 (no detections), 183.7ms\n",
      "Speed: 11.2ms preprocess, 183.7ms inference, 2.0ms postprocess per image at shape (1, 3, 480, 640)\n",
      "\n"
     ]
    },
    {
     "name": "stdout",
     "output_type": "stream",
     "text": [
      "Results:  [] [] []\n",
      "Output values:  []\n"
     ]
    },
    {
     "name": "stderr",
     "output_type": "stream",
     "text": [
      "0: 480x640 (no detections), 177.0ms\n",
      "Speed: 10.5ms preprocess, 177.0ms inference, 2.0ms postprocess per image at shape (1, 3, 480, 640)\n",
      "\n"
     ]
    },
    {
     "name": "stdout",
     "output_type": "stream",
     "text": [
      "Results:  [] [] []\n",
      "Output values:  []\n"
     ]
    },
    {
     "name": "stderr",
     "output_type": "stream",
     "text": [
      "0: 480x640 (no detections), 177.3ms\n",
      "Speed: 11.5ms preprocess, 177.3ms inference, 3.0ms postprocess per image at shape (1, 3, 480, 640)\n",
      "\n"
     ]
    },
    {
     "name": "stdout",
     "output_type": "stream",
     "text": [
      "Results:  [] [] []\n",
      "Output values:  []\n"
     ]
    },
    {
     "name": "stderr",
     "output_type": "stream",
     "text": [
      "0: 480x640 1 person, 181.7ms\n",
      "Speed: 11.5ms preprocess, 181.7ms inference, 2.0ms postprocess per image at shape (1, 3, 480, 640)\n",
      "\n"
     ]
    },
    {
     "name": "stdout",
     "output_type": "stream",
     "text": [
      "Results:  [] [] []\n",
      "Output values:  []\n"
     ]
    },
    {
     "name": "stderr",
     "output_type": "stream",
     "text": [
      "0: 480x640 1 person, 175.1ms\n",
      "Speed: 11.5ms preprocess, 175.1ms inference, 3.0ms postprocess per image at shape (1, 3, 480, 640)\n",
      "\n"
     ]
    },
    {
     "name": "stdout",
     "output_type": "stream",
     "text": [
      "Results:  [] [] []\n",
      "Output values:  []\n"
     ]
    },
    {
     "name": "stderr",
     "output_type": "stream",
     "text": [
      "0: 480x640 1 person, 181.2ms\n",
      "Speed: 11.4ms preprocess, 181.2ms inference, 3.0ms postprocess per image at shape (1, 3, 480, 640)\n",
      "\n"
     ]
    },
    {
     "name": "stdout",
     "output_type": "stream",
     "text": [
      "Results:  [] [] []\n",
      "Output values:  []\n"
     ]
    },
    {
     "name": "stderr",
     "output_type": "stream",
     "text": [
      "0: 480x640 1 person, 1 car, 183.7ms\n",
      "Speed: 11.5ms preprocess, 183.7ms inference, 3.5ms postprocess per image at shape (1, 3, 480, 640)\n",
      "\n"
     ]
    },
    {
     "name": "stdout",
     "output_type": "stream",
     "text": [
      "Results:  [[5, 527, 1017, 767]] [0.4608767628669739] [2]\n",
      "Output values:  [[          5         527        1016         766           4           2     0.46088]]\n"
     ]
    },
    {
     "name": "stderr",
     "output_type": "stream",
     "text": [
      "0: 480x640 1 car, 180.1ms\n",
      "Speed: 12.5ms preprocess, 180.1ms inference, 2.0ms postprocess per image at shape (1, 3, 480, 640)\n",
      "\n"
     ]
    },
    {
     "name": "stdout",
     "output_type": "stream",
     "text": [
      "Results:  [[718, 394, 820, 458]] [0.3823467195034027] [2]\n",
      "Output values:  [[          4         527        1017         766           4           2     0.46088]]\n"
     ]
    },
    {
     "name": "stderr",
     "output_type": "stream",
     "text": [
      "0: 480x640 1 car, 1 motorcycle, 1 clock, 180.1ms\n",
      "Speed: 11.5ms preprocess, 180.1ms inference, 3.0ms postprocess per image at shape (1, 3, 480, 640)\n"
     ]
    },
    {
     "name": "stdout",
     "output_type": "stream",
     "text": [
      "Results:  [[839, 404, 1023, 504], [1, 525, 1015, 767]] [0.7157480716705322, 0.3445361256599426] [3, 2]\n",
      "Output values:  [[          1         525        1014         766           4           2     0.34454]]\n"
     ]
    },
    {
     "name": "stderr",
     "output_type": "stream",
     "text": [
      "\n",
      "0: 480x640 2 cars, 181.8ms\n",
      "Speed: 10.5ms preprocess, 181.8ms inference, 3.0ms postprocess per image at shape (1, 3, 480, 640)\n"
     ]
    },
    {
     "name": "stdout",
     "output_type": "stream",
     "text": [
      "Results:  [[298, 384, 334, 406], [1, 526, 1017, 767]] [0.3364121615886688, 0.25922128558158875] [2, 2]\n",
      "Output values:  [[          0         525        1017         767           4           2     0.25922]]\n"
     ]
    },
    {
     "name": "stderr",
     "output_type": "stream",
     "text": [
      "\n",
      "0: 480x640 1 car, 182.6ms\n",
      "Speed: 12.1ms preprocess, 182.6ms inference, 3.0ms postprocess per image at shape (1, 3, 480, 640)\n",
      "\n"
     ]
    },
    {
     "name": "stdout",
     "output_type": "stream",
     "text": [
      "Results:  [[1, 526, 1019, 767]] [0.3238012194633484] [2]\n",
      "Output values:  [[          0         525        1019         767           4           2      0.3238]]\n"
     ]
    },
    {
     "name": "stderr",
     "output_type": "stream",
     "text": [
      "0: 480x640 (no detections), 183.7ms\n",
      "Speed: 11.0ms preprocess, 183.7ms inference, 1.4ms postprocess per image at shape (1, 3, 480, 640)\n",
      "\n"
     ]
    },
    {
     "name": "stdout",
     "output_type": "stream",
     "text": [
      "Results:  [] [] []\n",
      "Output values:  [[          0         525        1019         767           4           2      0.3238]]\n"
     ]
    },
    {
     "name": "stderr",
     "output_type": "stream",
     "text": [
      "0: 480x640 1 car, 1 traffic light, 184.4ms\n",
      "Speed: 10.5ms preprocess, 184.4ms inference, 2.0ms postprocess per image at shape (1, 3, 480, 640)\n",
      "\n"
     ]
    },
    {
     "name": "stdout",
     "output_type": "stream",
     "text": [
      "Results:  [[195, 386, 263, 420]] [0.29737594723701477] [2]\n",
      "Output values:  []\n"
     ]
    },
    {
     "name": "stderr",
     "output_type": "stream",
     "text": [
      "0: 480x640 1 car, 2 traffic lights, 184.9ms\n",
      "Speed: 12.5ms preprocess, 184.9ms inference, 3.0ms postprocess per image at shape (1, 3, 480, 640)\n",
      "\n"
     ]
    },
    {
     "name": "stdout",
     "output_type": "stream",
     "text": [
      "Results:  [[135, 383, 217, 424]] [0.3045128583908081] [2]\n",
      "Output values:  []\n"
     ]
    },
    {
     "name": "stderr",
     "output_type": "stream",
     "text": [
      "0: 480x640 (no detections), 183.5ms\n",
      "Speed: 10.2ms preprocess, 183.5ms inference, 2.1ms postprocess per image at shape (1, 3, 480, 640)\n",
      "\n"
     ]
    },
    {
     "name": "stdout",
     "output_type": "stream",
     "text": [
      "Results:  [] [] []\n",
      "Output values:  []\n"
     ]
    },
    {
     "name": "stderr",
     "output_type": "stream",
     "text": [
      "0: 480x640 1 car, 182.6ms\n",
      "Speed: 10.6ms preprocess, 182.6ms inference, 3.5ms postprocess per image at shape (1, 3, 480, 640)\n",
      "\n"
     ]
    },
    {
     "name": "stdout",
     "output_type": "stream",
     "text": [
      "Results:  [[1, 525, 1020, 767]] [0.40537169575691223] [2]\n",
      "Output values:  []\n"
     ]
    },
    {
     "name": "stderr",
     "output_type": "stream",
     "text": [
      "0: 480x640 (no detections), 183.4ms\n",
      "Speed: 10.5ms preprocess, 183.4ms inference, 1.0ms postprocess per image at shape (1, 3, 480, 640)\n",
      "\n"
     ]
    },
    {
     "name": "stdout",
     "output_type": "stream",
     "text": [
      "Results:  [] [] []\n",
      "Output values:  []\n"
     ]
    },
    {
     "name": "stderr",
     "output_type": "stream",
     "text": [
      "0: 480x640 1 car, 185.0ms\n",
      "Speed: 11.5ms preprocess, 185.0ms inference, 2.0ms postprocess per image at shape (1, 3, 480, 640)\n",
      "\n"
     ]
    },
    {
     "name": "stdout",
     "output_type": "stream",
     "text": [
      "Results:  [[2, 527, 1010, 766]] [0.26122093200683594] [2]\n",
      "Output values:  [[          1         526        1010         766           4           2     0.26122]]\n"
     ]
    },
    {
     "name": "stderr",
     "output_type": "stream",
     "text": [
      "0: 480x640 1 person, 1 motorcycle, 178.6ms\n",
      "Speed: 13.5ms preprocess, 178.6ms inference, 3.1ms postprocess per image at shape (1, 3, 480, 640)\n",
      "\n"
     ]
    },
    {
     "name": "stdout",
     "output_type": "stream",
     "text": [
      "Results:  [[183, 411, 255, 459]] [0.470572292804718] [3]\n",
      "Output values:  [[          1         527        1009         765           4           2     0.26122]]\n"
     ]
    },
    {
     "name": "stderr",
     "output_type": "stream",
     "text": [
      "0: 480x640 1 person, 1 traffic light, 181.4ms\n",
      "Speed: 10.2ms preprocess, 181.4ms inference, 3.0ms postprocess per image at shape (1, 3, 480, 640)\n",
      "\n"
     ]
    },
    {
     "name": "stdout",
     "output_type": "stream",
     "text": [
      "Results:  [] [] []\n",
      "Output values:  []\n"
     ]
    },
    {
     "name": "stderr",
     "output_type": "stream",
     "text": [
      "0: 480x640 1 person, 1 traffic light, 180.7ms\n",
      "Speed: 10.5ms preprocess, 180.7ms inference, 2.0ms postprocess per image at shape (1, 3, 480, 640)\n",
      "\n"
     ]
    },
    {
     "name": "stdout",
     "output_type": "stream",
     "text": [
      "Results:  [] [] []\n",
      "Output values:  []\n"
     ]
    },
    {
     "name": "stderr",
     "output_type": "stream",
     "text": [
      "0: 480x640 1 train, 1 traffic light, 178.8ms\n",
      "Speed: 10.5ms preprocess, 178.8ms inference, 3.0ms postprocess per image at shape (1, 3, 480, 640)\n",
      "\n"
     ]
    },
    {
     "name": "stdout",
     "output_type": "stream",
     "text": [
      "Results:  [] [] []\n",
      "Output values:  []\n"
     ]
    },
    {
     "name": "stderr",
     "output_type": "stream",
     "text": [
      "0: 480x640 1 traffic light, 177.0ms\n",
      "Speed: 11.5ms preprocess, 177.0ms inference, 3.0ms postprocess per image at shape (1, 3, 480, 640)\n",
      "\n"
     ]
    },
    {
     "name": "stdout",
     "output_type": "stream",
     "text": [
      "Results:  [] [] []\n",
      "Output values:  []\n"
     ]
    },
    {
     "name": "stderr",
     "output_type": "stream",
     "text": [
      "0: 480x640 (no detections), 181.4ms\n",
      "Speed: 11.1ms preprocess, 181.4ms inference, 3.8ms postprocess per image at shape (1, 3, 480, 640)\n",
      "\n"
     ]
    },
    {
     "name": "stdout",
     "output_type": "stream",
     "text": [
      "Results:  [] [] []\n",
      "Output values:  []\n"
     ]
    },
    {
     "name": "stderr",
     "output_type": "stream",
     "text": [
      "0: 480x640 2 traffic lights, 182.3ms\n",
      "Speed: 10.9ms preprocess, 182.3ms inference, 3.0ms postprocess per image at shape (1, 3, 480, 640)\n",
      "\n"
     ]
    },
    {
     "name": "stdout",
     "output_type": "stream",
     "text": [
      "Results:  [] [] []\n",
      "Output values:  []\n"
     ]
    },
    {
     "name": "stderr",
     "output_type": "stream",
     "text": [
      "0: 480x640 1 traffic light, 1 bench, 180.6ms\n",
      "Speed: 11.5ms preprocess, 180.6ms inference, 2.0ms postprocess per image at shape (1, 3, 480, 640)\n",
      "\n"
     ]
    },
    {
     "name": "stdout",
     "output_type": "stream",
     "text": [
      "Results:  [] [] []\n",
      "Output values:  []\n"
     ]
    },
    {
     "name": "stderr",
     "output_type": "stream",
     "text": [
      "0: 480x640 1 traffic light, 181.2ms\n",
      "Speed: 11.5ms preprocess, 181.2ms inference, 1.6ms postprocess per image at shape (1, 3, 480, 640)\n",
      "\n"
     ]
    },
    {
     "name": "stdout",
     "output_type": "stream",
     "text": [
      "Results:  [] [] []\n",
      "Output values:  []\n"
     ]
    },
    {
     "name": "stderr",
     "output_type": "stream",
     "text": [
      "0: 480x640 2 traffic lights, 182.1ms\n",
      "Speed: 10.5ms preprocess, 182.1ms inference, 2.0ms postprocess per image at shape (1, 3, 480, 640)\n",
      "\n"
     ]
    },
    {
     "name": "stdout",
     "output_type": "stream",
     "text": [
      "Results:  [] [] []\n",
      "Output values:  []\n"
     ]
    },
    {
     "name": "stderr",
     "output_type": "stream",
     "text": [
      "0: 480x640 1 traffic light, 183.6ms\n",
      "Speed: 12.7ms preprocess, 183.6ms inference, 2.0ms postprocess per image at shape (1, 3, 480, 640)\n",
      "\n"
     ]
    },
    {
     "name": "stdout",
     "output_type": "stream",
     "text": [
      "Results:  [] [] []\n",
      "Output values:  []\n"
     ]
    },
    {
     "name": "stderr",
     "output_type": "stream",
     "text": [
      "0: 480x640 1 bench, 182.9ms\n",
      "Speed: 11.5ms preprocess, 182.9ms inference, 2.0ms postprocess per image at shape (1, 3, 480, 640)\n",
      "\n"
     ]
    },
    {
     "name": "stdout",
     "output_type": "stream",
     "text": [
      "Results:  [] [] []\n",
      "Output values:  []\n"
     ]
    },
    {
     "name": "stderr",
     "output_type": "stream",
     "text": [
      "0: 480x640 1 bench, 181.1ms\n",
      "Speed: 11.0ms preprocess, 181.1ms inference, 4.5ms postprocess per image at shape (1, 3, 480, 640)\n",
      "\n"
     ]
    },
    {
     "name": "stdout",
     "output_type": "stream",
     "text": [
      "Results:  [] [] []\n",
      "Output values:  []\n"
     ]
    },
    {
     "name": "stderr",
     "output_type": "stream",
     "text": [
      "0: 480x640 1 bench, 180.0ms\n",
      "Speed: 11.5ms preprocess, 180.0ms inference, 3.2ms postprocess per image at shape (1, 3, 480, 640)\n",
      "\n"
     ]
    },
    {
     "name": "stdout",
     "output_type": "stream",
     "text": [
      "Results:  [] [] []\n",
      "Output values:  []\n"
     ]
    },
    {
     "name": "stderr",
     "output_type": "stream",
     "text": [
      "0: 480x640 1 airplane, 1 traffic light, 1 bench, 179.4ms\n",
      "Speed: 10.7ms preprocess, 179.4ms inference, 4.0ms postprocess per image at shape (1, 3, 480, 640)\n",
      "\n"
     ]
    },
    {
     "name": "stdout",
     "output_type": "stream",
     "text": [
      "Results:  [] [] []\n",
      "Output values:  []\n"
     ]
    },
    {
     "name": "stderr",
     "output_type": "stream",
     "text": [
      "0: 480x640 (no detections), 181.9ms\n",
      "Speed: 11.1ms preprocess, 181.9ms inference, 3.0ms postprocess per image at shape (1, 3, 480, 640)\n",
      "\n"
     ]
    },
    {
     "name": "stdout",
     "output_type": "stream",
     "text": [
      "Results:  [] [] []\n",
      "Output values:  []\n"
     ]
    },
    {
     "name": "stderr",
     "output_type": "stream",
     "text": [
      "0: 480x640 1 bench, 185.3ms\n",
      "Speed: 11.4ms preprocess, 185.3ms inference, 2.5ms postprocess per image at shape (1, 3, 480, 640)\n",
      "\n"
     ]
    },
    {
     "name": "stdout",
     "output_type": "stream",
     "text": [
      "Results:  [] [] []\n",
      "Output values:  []\n"
     ]
    },
    {
     "name": "stderr",
     "output_type": "stream",
     "text": [
      "0: 480x640 (no detections), 183.3ms\n",
      "Speed: 10.5ms preprocess, 183.3ms inference, 2.0ms postprocess per image at shape (1, 3, 480, 640)\n",
      "\n"
     ]
    },
    {
     "name": "stdout",
     "output_type": "stream",
     "text": [
      "Results:  [] [] []\n",
      "Output values:  []\n"
     ]
    },
    {
     "name": "stderr",
     "output_type": "stream",
     "text": [
      "0: 480x640 1 car, 1 clock, 181.8ms\n",
      "Speed: 10.5ms preprocess, 181.8ms inference, 2.0ms postprocess per image at shape (1, 3, 480, 640)\n",
      "\n"
     ]
    },
    {
     "name": "stdout",
     "output_type": "stream",
     "text": [
      "Results:  [[5, 525, 1011, 767]] [0.31919315457344055] [2]\n",
      "Output values:  [[          5         525        1010         766           4           2     0.31919]]\n"
     ]
    },
    {
     "name": "stderr",
     "output_type": "stream",
     "text": [
      "0: 480x640 (no detections), 180.9ms\n",
      "Speed: 12.1ms preprocess, 180.9ms inference, 2.0ms postprocess per image at shape (1, 3, 480, 640)\n",
      "\n"
     ]
    },
    {
     "name": "stdout",
     "output_type": "stream",
     "text": [
      "Results:  [] [] []\n",
      "Output values:  [[          5         524        1011         767           4           2     0.31919]]\n"
     ]
    },
    {
     "name": "stderr",
     "output_type": "stream",
     "text": [
      "0: 480x640 1 traffic light, 180.8ms\n",
      "Speed: 10.8ms preprocess, 180.8ms inference, 3.5ms postprocess per image at shape (1, 3, 480, 640)\n",
      "\n"
     ]
    },
    {
     "name": "stdout",
     "output_type": "stream",
     "text": [
      "Results:  [] [] []\n",
      "Output values:  []\n"
     ]
    },
    {
     "name": "stderr",
     "output_type": "stream",
     "text": [
      "0: 480x640 (no detections), 180.8ms\n",
      "Speed: 10.5ms preprocess, 180.8ms inference, 2.0ms postprocess per image at shape (1, 3, 480, 640)\n",
      "\n"
     ]
    },
    {
     "name": "stdout",
     "output_type": "stream",
     "text": [
      "Results:  [] [] []\n",
      "Output values:  []\n"
     ]
    },
    {
     "name": "stderr",
     "output_type": "stream",
     "text": [
      "0: 480x640 1 traffic light, 180.6ms\n",
      "Speed: 10.5ms preprocess, 180.6ms inference, 3.5ms postprocess per image at shape (1, 3, 480, 640)\n",
      "\n"
     ]
    },
    {
     "name": "stdout",
     "output_type": "stream",
     "text": [
      "Results:  [] [] []\n",
      "Output values:  []\n"
     ]
    },
    {
     "name": "stderr",
     "output_type": "stream",
     "text": [
      "0: 480x640 (no detections), 182.2ms\n",
      "Speed: 12.0ms preprocess, 182.2ms inference, 2.0ms postprocess per image at shape (1, 3, 480, 640)\n"
     ]
    },
    {
     "name": "stdout",
     "output_type": "stream",
     "text": [
      "Results:  [] [] []\n",
      "Output values:  []\n"
     ]
    }
   ],
   "source": [
    "#For tracking\n",
    "#from new_tracker import main\n",
    "from new_tracker_2 import Main\n",
    "\n",
    "track = Main()\n",
    "track.run()"
   ]
  },
  {
   "cell_type": "code",
   "execution_count": 6,
   "id": "6758b62a-7c5f-42d8-9e1f-f9a2190f49ed",
   "metadata": {},
   "outputs": [
    {
     "name": "stdout",
     "output_type": "stream",
     "text": [
      "Model: osnet_x0_25\n",
      "- params: 203,568\n",
      "- flops: 82,316,000\n",
      "Successfully loaded pretrained weights from \"deep/checkpoint/osnet_x0_25_market1501.pth\"\n",
      "** The following layers are discarded due to unmatched keys or layer size: ['classifier.weight', 'classifier.bias']\n"
     ]
    },
    {
     "name": "stderr",
     "output_type": "stream",
     "text": [
      "\n",
      "0: 480x640 3 persons, 2 cars, 1 traffic light, 206.9ms\n",
      "Speed: 13.0ms preprocess, 206.9ms inference, 4.0ms postprocess per image at shape (1, 3, 480, 640)\n"
     ]
    },
    {
     "name": "stdout",
     "output_type": "stream",
     "text": [
      "Results:  [[66, 388, 196, 436], [411, 385, 436, 410]] [0.6071314811706543, 0.2614893913269043] [2, 2]\n",
      "Output values:  []\n"
     ]
    },
    {
     "name": "stderr",
     "output_type": "stream",
     "text": [
      "\n",
      "0: 480x640 (no detections), 140.2ms\n",
      "Speed: 9.2ms preprocess, 140.2ms inference, 3.0ms postprocess per image at shape (1, 3, 480, 640)\n",
      "\n",
      "0: 480x640 1 skateboard, 150.9ms\n"
     ]
    },
    {
     "name": "stdout",
     "output_type": "stream",
     "text": [
      "Results:  [] [] []\n",
      "Output values:  []\n"
     ]
    },
    {
     "name": "stderr",
     "output_type": "stream",
     "text": [
      "Speed: 7.0ms preprocess, 150.9ms inference, 1.5ms postprocess per image at shape (1, 3, 480, 640)\n",
      "\n",
      "0: 480x640 1 clock, 121.1ms\n",
      "Speed: 7.0ms preprocess, 121.1ms inference, 2.0ms postprocess per image at shape (1, 3, 480, 640)\n",
      "\n"
     ]
    },
    {
     "name": "stdout",
     "output_type": "stream",
     "text": [
      "Results:  [] [] []\n",
      "Output values:  []\n",
      "Results:  [] [] []\n",
      "Output values:  []\n"
     ]
    },
    {
     "name": "stderr",
     "output_type": "stream",
     "text": [
      "0: 480x640 1 car, 129.0ms\n",
      "Speed: 8.5ms preprocess, 129.0ms inference, 2.0ms postprocess per image at shape (1, 3, 480, 640)\n",
      "\n"
     ]
    },
    {
     "name": "stdout",
     "output_type": "stream",
     "text": [
      "Results:  [[2, 0, 448, 143]] [0.5527377724647522] [2]\n",
      "Output values:  []\n"
     ]
    },
    {
     "name": "stderr",
     "output_type": "stream",
     "text": [
      "0: 480x640 3 cars, 1 truck, 127.5ms\n",
      "Speed: 8.5ms preprocess, 127.5ms inference, 2.0ms postprocess per image at shape (1, 3, 480, 640)\n",
      "\n"
     ]
    },
    {
     "name": "stdout",
     "output_type": "stream",
     "text": [
      "Results:  [[0, 0, 164, 65], [257, 33, 495, 184], [257, 37, 497, 183], [866, 176, 1024, 288]] [0.8225195407867432, 0.5253581404685974, 0.4303416311740875, 0.2649935781955719] [2, 2, 7, 2]\n",
      "Output values:  []\n"
     ]
    },
    {
     "name": "stderr",
     "output_type": "stream",
     "text": [
      "0: 480x640 3 cars, 124.6ms\n",
      "Speed: 7.5ms preprocess, 124.6ms inference, 2.0ms postprocess per image at shape (1, 3, 480, 640)\n",
      "\n"
     ]
    },
    {
     "name": "stdout",
     "output_type": "stream",
     "text": [
      "Results:  [[369, 285, 462, 341], [24, 272, 226, 328], [370, 275, 489, 339]] [0.6587530374526978, 0.588142454624176, 0.4429084360599518] [2, 2, 2]\n",
      "Output values:  []\n"
     ]
    },
    {
     "name": "stderr",
     "output_type": "stream",
     "text": [
      "0: 480x640 2 cars, 128.0ms\n",
      "Speed: 9.5ms preprocess, 128.0ms inference, 2.0ms postprocess per image at shape (1, 3, 480, 640)\n",
      "\n"
     ]
    },
    {
     "name": "stdout",
     "output_type": "stream",
     "text": [
      "Results:  [[3, 394, 219, 451], [391, 393, 489, 448]] [0.7926250100135803, 0.7572537064552307] [2, 2]\n",
      "Output values:  []\n"
     ]
    },
    {
     "name": "stderr",
     "output_type": "stream",
     "text": [
      "0: 480x640 2 cars, 125.2ms\n",
      "Speed: 7.5ms preprocess, 125.2ms inference, 3.1ms postprocess per image at shape (1, 3, 480, 640)\n",
      "\n"
     ]
    },
    {
     "name": "stdout",
     "output_type": "stream",
     "text": [
      "Results:  [[0, 389, 184, 452], [395, 388, 484, 440]] [0.8906325697898865, 0.8124358654022217] [2, 2]\n",
      "Output values:  []\n"
     ]
    },
    {
     "name": "stderr",
     "output_type": "stream",
     "text": [
      "0: 480x640 2 cars, 126.0ms\n",
      "Speed: 8.5ms preprocess, 126.0ms inference, 1.0ms postprocess per image at shape (1, 3, 480, 640)\n",
      "\n"
     ]
    },
    {
     "name": "stdout",
     "output_type": "stream",
     "text": [
      "Results:  [[0, 387, 133, 445], [404, 387, 483, 433]] [0.8423617482185364, 0.7667985558509827] [2, 2]\n",
      "Output values:  [[          0         386         133         445          11           2     0.84236]\n",
      " [        403         386         483         433          12           2      0.7668]]\n"
     ]
    },
    {
     "name": "stderr",
     "output_type": "stream",
     "text": [
      "0: 480x640 3 cars, 126.3ms\n",
      "Speed: 7.5ms preprocess, 126.3ms inference, 2.5ms postprocess per image at shape (1, 3, 480, 640)\n",
      "\n"
     ]
    },
    {
     "name": "stdout",
     "output_type": "stream",
     "text": [
      "Results:  [[0, 390, 91, 448], [372, 389, 409, 417], [415, 385, 488, 427]] [0.8161112666130066, 0.7120411396026611, 0.6972236037254333] [2, 2, 2]\n",
      "Output values:  [[          0         390          91         447          11           2     0.81611]\n",
      " [        414         384         488         427          12           2     0.69722]]\n"
     ]
    },
    {
     "name": "stderr",
     "output_type": "stream",
     "text": [
      "0: 480x640 2 cars, 145.0ms\n",
      "Speed: 7.0ms preprocess, 145.0ms inference, 3.0ms postprocess per image at shape (1, 3, 480, 640)\n",
      "\n"
     ]
    },
    {
     "name": "stdout",
     "output_type": "stream",
     "text": [
      "Results:  [[431, 384, 495, 424], [358, 388, 399, 420]] [0.6537749767303467, 0.5582520961761475] [2, 2]\n",
      "Output values:  [[          0         389          68         446          11           2     0.81611]\n",
      " [        431         384         494         423          12           2     0.65377]]\n"
     ]
    },
    {
     "name": "stderr",
     "output_type": "stream",
     "text": [
      "0: 480x640 3 cars, 152.2ms\n",
      "Speed: 10.2ms preprocess, 152.2ms inference, 2.0ms postprocess per image at shape (1, 3, 480, 640)\n",
      "\n"
     ]
    },
    {
     "name": "stdout",
     "output_type": "stream",
     "text": [
      "Results:  [[327, 389, 371, 424], [428, 386, 477, 420], [363, 387, 398, 420]] [0.8020280003547668, 0.650980532169342, 0.3480358123779297] [2, 2, 2]\n",
      "Output values:  [[        427         385         477         420          12           2     0.65098]\n",
      " [        363         387         397         419          13           2     0.34804]]\n"
     ]
    },
    {
     "name": "stderr",
     "output_type": "stream",
     "text": [
      "0: 480x640 4 cars, 124.5ms\n",
      "Speed: 7.4ms preprocess, 124.5ms inference, 2.0ms postprocess per image at shape (1, 3, 480, 640)\n",
      "\n"
     ]
    },
    {
     "name": "stdout",
     "output_type": "stream",
     "text": [
      "Results:  [[267, 386, 353, 432], [406, 387, 457, 421], [348, 388, 398, 420], [267, 387, 326, 432]] [0.74965900182724, 0.6959506869316101, 0.36394673585891724, 0.2519090175628662] [2, 2, 2, 2]\n",
      "Output values:  [[        433         385         476         415          12           2     0.65098]\n",
      " [        347         387         398         420          13           2     0.36395]]\n"
     ]
    },
    {
     "name": "stderr",
     "output_type": "stream",
     "text": [
      "0: 480x640 3 cars, 124.6ms\n",
      "Speed: 7.1ms preprocess, 124.6ms inference, 2.5ms postprocess per image at shape (1, 3, 480, 640)\n",
      "\n"
     ]
    },
    {
     "name": "stdout",
     "output_type": "stream",
     "text": [
      "Results:  [[212, 389, 326, 447], [404, 390, 456, 425], [318, 390, 386, 429]] [0.8203063607215881, 0.6979889869689941, 0.6059642434120178] [2, 2, 2]\n",
      "Output values:  [[        318         390         385         428          13           2     0.60596]]\n"
     ]
    },
    {
     "name": "stderr",
     "output_type": "stream",
     "text": [
      "0: 480x640 3 cars, 128.0ms\n",
      "Speed: 7.0ms preprocess, 128.0ms inference, 2.0ms postprocess per image at shape (1, 3, 480, 640)\n",
      "\n"
     ]
    },
    {
     "name": "stdout",
     "output_type": "stream",
     "text": [
      "Results:  [[423, 389, 478, 426], [147, 392, 315, 465], [293, 391, 393, 443]] [0.7532422542572021, 0.6128453612327576, 0.589880645275116] [2, 2, 2]\n",
      "Output values:  [[        294         391         391         442          13           2     0.58988]\n",
      " [        423         389         477         425          15           2     0.75324]\n",
      " [        148         392         313         464          16           2     0.61285]]\n"
     ]
    },
    {
     "name": "stderr",
     "output_type": "stream",
     "text": [
      "0: 480x640 5 cars, 124.7ms\n",
      "Speed: 7.5ms preprocess, 124.7ms inference, 1.5ms postprocess per image at shape (1, 3, 480, 640)\n",
      "\n"
     ]
    },
    {
     "name": "stdout",
     "output_type": "stream",
     "text": [
      "Results:  [[0, 386, 207, 507], [407, 386, 467, 422], [195, 387, 333, 451], [328, 401, 352, 426], [314, 390, 353, 425]] [0.9028677344322205, 0.7322239279747009, 0.6488113403320312, 0.2753807604312897, 0.25816619396209717] [2, 2, 2, 2, 2]\n",
      "Output values:  [[        281         392         387         446          13           2     0.58988]\n",
      " [        406         385         467         422          15           2     0.73222]\n",
      " [        192         386         334         451          16           2     0.64881]]\n"
     ]
    },
    {
     "name": "stderr",
     "output_type": "stream",
     "text": [
      "0: 480x640 3 cars, 128.5ms\n",
      "Speed: 7.5ms preprocess, 128.5ms inference, 3.0ms postprocess per image at shape (1, 3, 480, 640)\n",
      "\n"
     ]
    },
    {
     "name": "stdout",
     "output_type": "stream",
     "text": [
      "Results:  [[0, 383, 261, 483], [386, 383, 441, 420], [223, 386, 290, 435]] [0.8683188557624817, 0.6889908909797668, 0.542246401309967] [2, 2, 2]\n",
      "Output values:  [[        386         383         440         419          15           2     0.68899]\n",
      " [        221         384         292         436          16           2     0.54225]]\n"
     ]
    },
    {
     "name": "stderr",
     "output_type": "stream",
     "text": [
      "0: 480x640 4 cars, 135.1ms\n",
      "Speed: 8.0ms preprocess, 135.1ms inference, 2.0ms postprocess per image at shape (1, 3, 480, 640)\n",
      "\n"
     ]
    },
    {
     "name": "stdout",
     "output_type": "stream",
     "text": [
      "Results:  [[177, 386, 262, 447], [0, 386, 201, 477], [399, 380, 462, 419], [498, 380, 531, 395]] [0.7916643023490906, 0.7287471294403076, 0.614576518535614, 0.3110043704509735] [2, 2, 2, 2]\n",
      "Output values:  [[        399         380         461         418          15           2     0.61458]\n",
      " [        177         386         261         446          16           2     0.79166]\n",
      " [          0         385         201         477          20           2     0.72875]]\n"
     ]
    },
    {
     "name": "stderr",
     "output_type": "stream",
     "text": [
      "0: 480x640 1 person, 3 cars, 127.6ms\n",
      "Speed: 6.0ms preprocess, 127.6ms inference, 2.0ms postprocess per image at shape (1, 3, 480, 640)\n",
      "\n"
     ]
    },
    {
     "name": "stdout",
     "output_type": "stream",
     "text": [
      "Results:  [[0, 391, 139, 496], [111, 391, 231, 468], [422, 383, 472, 418]] [0.8903198838233948, 0.8335399627685547, 0.726945161819458] [2, 2, 2]\n",
      "Output values:  [[        421         382         472         418          15           2     0.72695]\n",
      " [        111         391         230         467          16           2     0.83354]\n",
      " [          0         391         139         495          20           2     0.89032]]\n"
     ]
    },
    {
     "name": "stderr",
     "output_type": "stream",
     "text": [
      "0: 480x640 3 cars, 164.0ms\n",
      "Speed: 8.5ms preprocess, 164.0ms inference, 3.0ms postprocess per image at shape (1, 3, 480, 640)\n"
     ]
    },
    {
     "name": "stdout",
     "output_type": "stream",
     "text": [
      "Results:  [[0, 393, 159, 496], [421, 382, 483, 420], [483, 383, 515, 404]] [0.8614292740821838, 0.7861758470535278, 0.25574013590812683] [2, 2, 2]\n"
     ]
    },
    {
     "name": "stderr",
     "output_type": "stream",
     "text": [
      "\n",
      "0: 480x640 2 cars, 1 traffic light, 119.6ms\n",
      "Speed: 10.5ms preprocess, 119.6ms inference, 2.0ms postprocess per image at shape (1, 3, 480, 640)\n"
     ]
    },
    {
     "name": "stdout",
     "output_type": "stream",
     "text": [
      "Output values:  [[        421         382         482         419          15           2     0.78618]\n",
      " [         88         391         215         472          16           2     0.83354]\n",
      " [          0         392         158         496          20           2     0.86143]]\n",
      "Results:  [[414, 389, 482, 427], [414, 391, 468, 425]] [0.524176299571991, 0.3934512436389923] [2, 2]\n"
     ]
    },
    {
     "name": "stderr",
     "output_type": "stream",
     "text": [
      "\n",
      "0: 480x640 4 cars, 126.5ms\n",
      "Speed: 8.4ms preprocess, 126.5ms inference, 2.0ms postprocess per image at shape (1, 3, 480, 640)\n"
     ]
    },
    {
     "name": "stdout",
     "output_type": "stream",
     "text": [
      "Output values:  [[        413         388         482         427          15           2     0.52418]\n",
      " [          0         394         154         498          20           2     0.86143]]\n",
      "Results:  [[44, 393, 84, 418], [435, 395, 476, 422], [386, 390, 435, 419], [426, 390, 477, 421]] [0.39972513914108276, 0.3898257315158844, 0.34613537788391113, 0.2833041250705719] [2, 2, 2, 2]\n"
     ]
    },
    {
     "name": "stderr",
     "output_type": "stream",
     "text": [
      "\n",
      "0: 480x640 3 cars, 125.9ms\n",
      "Speed: 7.9ms preprocess, 125.9ms inference, 3.0ms postprocess per image at shape (1, 3, 480, 640)\n"
     ]
    },
    {
     "name": "stdout",
     "output_type": "stream",
     "text": [
      "Output values:  [[        424         388         478         422          15           2      0.2833]]\n",
      "Results:  [[354, 391, 440, 425], [467, 385, 538, 422], [741, 388, 775, 404]] [0.4680792987346649, 0.4489066004753113, 0.3661554455757141] [2, 2, 2]\n"
     ]
    },
    {
     "name": "stderr",
     "output_type": "stream",
     "text": [
      "\n",
      "0: 480x640 3 cars, 126.3ms\n",
      "Speed: 6.0ms preprocess, 126.3ms inference, 2.0ms postprocess per image at shape (1, 3, 480, 640)\n"
     ]
    },
    {
     "name": "stdout",
     "output_type": "stream",
     "text": [
      "Output values:  [[        467         385         537         421          15           2     0.44891]]\n",
      "Results:  [[244, 381, 388, 442], [120, 385, 155, 408], [487, 380, 559, 415]] [0.8236474394798279, 0.3282358944416046, 0.2970506548881531] [2, 2, 2]\n"
     ]
    },
    {
     "name": "stderr",
     "output_type": "stream",
     "text": [
      "\n",
      "0: 480x640 4 cars, 126.7ms\n",
      "Speed: 8.0ms preprocess, 126.7ms inference, 2.0ms postprocess per image at shape (1, 3, 480, 640)\n"
     ]
    },
    {
     "name": "stdout",
     "output_type": "stream",
     "text": [
      "Output values:  [[        486         379         559         415          15           2     0.29705]]\n",
      "Results:  [[0, 380, 262, 509], [733, 384, 771, 403], [480, 381, 548, 416], [0, 382, 44, 412]] [0.877076268196106, 0.5678930878639221, 0.5671496987342834, 0.34774890542030334] [2, 2, 2, 2]\n"
     ]
    },
    {
     "name": "stderr",
     "output_type": "stream",
     "text": [
      "\n",
      "0: 480x640 2 cars, 1 traffic light, 127.3ms\n",
      "Speed: 6.5ms preprocess, 127.3ms inference, 1.0ms postprocess per image at shape (1, 3, 480, 640)\n"
     ]
    },
    {
     "name": "stdout",
     "output_type": "stream",
     "text": [
      "Output values:  [[        479         380         548         416          15           2     0.56715]]\n",
      "Results:  [[472, 380, 545, 418], [722, 385, 760, 404]] [0.6037721037864685, 0.5189924240112305] [2, 2]\n"
     ]
    },
    {
     "name": "stderr",
     "output_type": "stream",
     "text": [
      "\n",
      "0: 480x640 5 cars, 128.3ms\n",
      "Speed: 7.6ms preprocess, 128.3ms inference, 3.0ms postprocess per image at shape (1, 3, 480, 640)\n"
     ]
    },
    {
     "name": "stdout",
     "output_type": "stream",
     "text": [
      "Output values:  [[        472         380         544         417          15           2     0.60377]]\n",
      "Results:  [[741, 386, 783, 406], [495, 381, 565, 421], [495, 383, 547, 420], [113, 389, 149, 412], [639, 380, 671, 393]] [0.586844801902771, 0.5047295093536377, 0.47743797302246094, 0.3045782446861267, 0.2661169469356537] [2, 2, 2, 2, 2]\n"
     ]
    },
    {
     "name": "stderr",
     "output_type": "stream",
     "text": [
      "\n",
      "0: 480x640 3 cars, 1 traffic light, 126.3ms\n",
      "Speed: 6.5ms preprocess, 126.3ms inference, 2.0ms postprocess per image at shape (1, 3, 480, 640)\n"
     ]
    },
    {
     "name": "stdout",
     "output_type": "stream",
     "text": [
      "Output values:  [[        495         381         564         420          15           2     0.50473]]\n",
      "Results:  [[763, 395, 811, 416], [521, 388, 593, 424], [520, 388, 572, 424]] [0.6478459239006042, 0.5499053597450256, 0.4714142382144928] [2, 2, 2]\n"
     ]
    },
    {
     "name": "stderr",
     "output_type": "stream",
     "text": [
      "\n"
     ]
    },
    {
     "name": "stdout",
     "output_type": "stream",
     "text": [
      "Output values:  [[        520         387         593         424          15           2     0.54991]]\n"
     ]
    },
    {
     "name": "stderr",
     "output_type": "stream",
     "text": [
      "0: 480x640 1 car, 1 clock, 184.2ms\n",
      "Speed: 9.5ms preprocess, 184.2ms inference, 3.3ms postprocess per image at shape (1, 3, 480, 640)\n",
      "\n"
     ]
    },
    {
     "name": "stdout",
     "output_type": "stream",
     "text": [
      "Results:  [[744, 393, 789, 420]] [0.6461195945739746] [2]\n",
      "Output values:  [[        530         387         604         424          15           2     0.54991]]\n"
     ]
    },
    {
     "name": "stderr",
     "output_type": "stream",
     "text": [
      "0: 480x640 2 cars, 1 traffic light, 124.0ms\n",
      "Speed: 8.1ms preprocess, 124.0ms inference, 2.0ms postprocess per image at shape (1, 3, 480, 640)\n",
      "\n"
     ]
    },
    {
     "name": "stdout",
     "output_type": "stream",
     "text": [
      "Results:  [[493, 385, 566, 426], [716, 393, 759, 421]] [0.8208826780319214, 0.5865705609321594] [2, 2]\n",
      "Output values:  [[        493         385         565         425          15           2     0.82088]]\n"
     ]
    },
    {
     "name": "stderr",
     "output_type": "stream",
     "text": [
      "0: 480x640 3 cars, 1 traffic light, 1 umbrella, 126.2ms\n",
      "Speed: 8.0ms preprocess, 126.2ms inference, 2.0ms postprocess per image at shape (1, 3, 480, 640)\n",
      "\n"
     ]
    },
    {
     "name": "stdout",
     "output_type": "stream",
     "text": [
      "Results:  [[464, 377, 548, 420], [689, 395, 732, 418], [762, 381, 797, 401]] [0.7193365693092346, 0.5411138534545898, 0.29576724767684937] [2, 2, 2]\n",
      "Output values:  [[        464         377         547         419          15           2     0.71934]]\n"
     ]
    },
    {
     "name": "stderr",
     "output_type": "stream",
     "text": [
      "0: 480x640 2 cars, 1 umbrella, 147.9ms\n",
      "Speed: 7.0ms preprocess, 147.9ms inference, 2.0ms postprocess per image at shape (1, 3, 480, 640)\n",
      "\n"
     ]
    },
    {
     "name": "stdout",
     "output_type": "stream",
     "text": [
      "Results:  [[482, 378, 567, 422], [716, 385, 765, 420]] [0.7818858623504639, 0.6906841397285461] [2, 2]\n",
      "Output values:  [[        482         378         566         421          15           2     0.78189]]\n"
     ]
    },
    {
     "name": "stderr",
     "output_type": "stream",
     "text": [
      "0: 480x640 2 cars, 133.2ms\n",
      "Speed: 8.5ms preprocess, 133.2ms inference, 2.0ms postprocess per image at shape (1, 3, 480, 640)\n",
      "\n"
     ]
    },
    {
     "name": "stdout",
     "output_type": "stream",
     "text": [
      "Results:  [[498, 380, 581, 424], [737, 395, 793, 428]] [0.846124529838562, 0.5621495246887207] [2, 2]\n",
      "Output values:  [[        497         379         581         424          15           2     0.84612]]\n"
     ]
    },
    {
     "name": "stderr",
     "output_type": "stream",
     "text": [
      "0: 480x640 2 cars, 1 fire hydrant, 137.3ms\n",
      "Speed: 7.0ms preprocess, 137.3ms inference, 1.0ms postprocess per image at shape (1, 3, 480, 640)\n",
      "\n"
     ]
    },
    {
     "name": "stdout",
     "output_type": "stream",
     "text": [
      "Results:  [[494, 385, 573, 428], [731, 401, 787, 432]] [0.7194646596908569, 0.5108230113983154] [2, 2]\n",
      "Output values:  [[        493         384         573         428          15           2     0.71946]]\n"
     ]
    },
    {
     "name": "stderr",
     "output_type": "stream",
     "text": [
      "0: 480x640 2 cars, 128.8ms\n",
      "Speed: 8.0ms preprocess, 128.8ms inference, 2.0ms postprocess per image at shape (1, 3, 480, 640)\n",
      "\n"
     ]
    },
    {
     "name": "stdout",
     "output_type": "stream",
     "text": [
      "Results:  [[486, 386, 566, 431], [721, 407, 782, 448]] [0.6781043410301208, 0.596897542476654] [2, 2]\n",
      "Output values:  [[        486         386         565         430          15           2      0.6781]\n",
      " [        721         407         781         447          42           2      0.5969]]\n"
     ]
    },
    {
     "name": "stderr",
     "output_type": "stream",
     "text": [
      "0: 480x640 4 cars, 127.2ms\n",
      "Speed: 8.2ms preprocess, 127.2ms inference, 2.0ms postprocess per image at shape (1, 3, 480, 640)\n",
      "\n"
     ]
    },
    {
     "name": "stdout",
     "output_type": "stream",
     "text": [
      "Results:  [[712, 396, 783, 461], [473, 390, 553, 430], [695, 387, 724, 406], [273, 374, 295, 403]] [0.6835235357284546, 0.5708215236663818, 0.34421592950820923, 0.27016958594322205] [2, 2, 2, 2]\n",
      "Output values:  [[        472         389         553         430          15           2     0.57082]\n",
      " [        712         396         782         460          42           2     0.68352]]\n"
     ]
    },
    {
     "name": "stderr",
     "output_type": "stream",
     "text": [
      "0: 480x640 5 cars, 125.1ms\n",
      "Speed: 8.5ms preprocess, 125.1ms inference, 1.5ms postprocess per image at shape (1, 3, 480, 640)\n"
     ]
    },
    {
     "name": "stdout",
     "output_type": "stream",
     "text": [
      "Results:  [[773, 395, 892, 488], [696, 385, 719, 406], [490, 386, 573, 431], [667, 380, 692, 393], [592, 383, 620, 398]] [0.8367270827293396, 0.5003571510314941, 0.46005743741989136, 0.3592715263366699, 0.2525281608104706] [2, 2, 2, 2, 2]\n",
      "Output values:  [[        490         386         572         430          15           2     0.46006]\n",
      " [        703         396         782         469          42           2     0.68352]]\n"
     ]
    },
    {
     "name": "stderr",
     "output_type": "stream",
     "text": [
      "\n",
      "0: 480x640 2 cars, 179.5ms\n",
      "Speed: 9.6ms preprocess, 179.5ms inference, 2.0ms postprocess per image at shape (1, 3, 480, 640)\n",
      "\n"
     ]
    },
    {
     "name": "stdout",
     "output_type": "stream",
     "text": [
      "Results:  [[867, 397, 1023, 566], [498, 381, 580, 427]] [0.8039363026618958, 0.38709282875061035] [2, 2]\n",
      "Output values:  [[        498         381         579         426          15           2     0.38709]]\n"
     ]
    },
    {
     "name": "stderr",
     "output_type": "stream",
     "text": [
      "0: 480x640 4 cars, 117.5ms\n",
      "Speed: 5.0ms preprocess, 117.5ms inference, 2.0ms postprocess per image at shape (1, 3, 480, 640)\n",
      "\n"
     ]
    },
    {
     "name": "stdout",
     "output_type": "stream",
     "text": [
      "Results:  [[447, 380, 535, 428], [926, 426, 1023, 586], [446, 383, 513, 429], [628, 384, 661, 403]] [0.6065782904624939, 0.5783404111862183, 0.5469070672988892, 0.2614518105983734] [2, 2, 2, 2]\n",
      "Output values:  [[        447         380         534         427          15           2     0.60658]]\n"
     ]
    },
    {
     "name": "stderr",
     "output_type": "stream",
     "text": [
      "0: 480x640 1 car, 1 traffic light, 128.2ms\n",
      "Speed: 6.5ms preprocess, 128.2ms inference, 2.0ms postprocess per image at shape (1, 3, 480, 640)\n",
      "\n"
     ]
    },
    {
     "name": "stdout",
     "output_type": "stream",
     "text": [
      "Results:  [[421, 379, 511, 429]] [0.7389864921569824] [2]\n",
      "Output values:  [[        421         379         510         428          15           2     0.73899]]\n"
     ]
    },
    {
     "name": "stderr",
     "output_type": "stream",
     "text": [
      "0: 480x640 2 cars, 1 clock, 128.4ms\n",
      "Speed: 7.0ms preprocess, 128.4ms inference, 2.5ms postprocess per image at shape (1, 3, 480, 640)\n",
      "\n"
     ]
    },
    {
     "name": "stdout",
     "output_type": "stream",
     "text": [
      "Results:  [[449, 379, 534, 427], [586, 385, 622, 405]] [0.7398926019668579, 0.32553809881210327] [2, 2]\n",
      "Output values:  [[        448         378         534         427          15           2     0.73989]]\n"
     ]
    },
    {
     "name": "stderr",
     "output_type": "stream",
     "text": [
      "0: 480x640 4 cars, 125.0ms\n",
      "Speed: 8.5ms preprocess, 125.0ms inference, 2.0ms postprocess per image at shape (1, 3, 480, 640)\n",
      "\n"
     ]
    },
    {
     "name": "stdout",
     "output_type": "stream",
     "text": [
      "Results:  [[609, 390, 642, 409], [661, 383, 689, 396], [494, 394, 548, 429], [494, 388, 569, 430]] [0.49706941843032837, 0.4202888011932373, 0.3935406506061554, 0.34907665848731995] [2, 2, 2, 2]\n",
      "Output values:  [[        492         387         570         430          15           2     0.34908]]\n"
     ]
    },
    {
     "name": "stderr",
     "output_type": "stream",
     "text": [
      "0: 480x640 5 cars, 1 truck, 125.0ms\n",
      "Speed: 6.5ms preprocess, 125.0ms inference, 1.0ms postprocess per image at shape (1, 3, 480, 640)\n",
      "\n"
     ]
    },
    {
     "name": "stdout",
     "output_type": "stream",
     "text": [
      "Results:  [[527, 384, 604, 429], [626, 387, 665, 410], [671, 380, 702, 394], [627, 389, 658, 409], [526, 384, 604, 430], [890, 378, 917, 397]] [0.4521782398223877, 0.4399503767490387, 0.4196110963821411, 0.3962208032608032, 0.27994266152381897, 0.25962743163108826] [2, 2, 2, 2, 7, 2]\n",
      "Output values:  [[        527         384         603         428          15           2     0.45218]]\n"
     ]
    },
    {
     "name": "stderr",
     "output_type": "stream",
     "text": [
      "0: 480x640 3 cars, 121.1ms\n",
      "Speed: 7.2ms preprocess, 121.1ms inference, 2.0ms postprocess per image at shape (1, 3, 480, 640)\n",
      "\n"
     ]
    },
    {
     "name": "stdout",
     "output_type": "stream",
     "text": [
      "Results:  [[455, 383, 545, 436], [562, 390, 596, 413], [602, 382, 628, 395]] [0.6699140667915344, 0.4305862486362457, 0.3632088005542755] [2, 2, 2]\n",
      "Output values:  [[        534         384         611         429          15           2     0.45218]]\n"
     ]
    },
    {
     "name": "stderr",
     "output_type": "stream",
     "text": [
      "0: 480x640 3 cars, 124.7ms\n",
      "Speed: 7.5ms preprocess, 124.7ms inference, 2.0ms postprocess per image at shape (1, 3, 480, 640)\n",
      "\n"
     ]
    },
    {
     "name": "stdout",
     "output_type": "stream",
     "text": [
      "Results:  [[360, 386, 479, 450], [504, 390, 544, 415], [545, 381, 573, 396]] [0.7357812523841858, 0.612082839012146, 0.47844430804252625] [2, 2, 2]\n",
      "Output values:  []\n"
     ]
    },
    {
     "name": "stderr",
     "output_type": "stream",
     "text": [
      "0: 480x640 3 cars, 123.6ms\n",
      "Speed: 7.0ms preprocess, 123.6ms inference, 2.0ms postprocess per image at shape (1, 3, 480, 640)\n",
      "\n"
     ]
    },
    {
     "name": "stdout",
     "output_type": "stream",
     "text": [
      "Results:  [[278, 388, 461, 479], [490, 386, 534, 417], [534, 380, 563, 395]] [0.8649277091026306, 0.5170807242393494, 0.4250897169113159] [2, 2, 2]\n",
      "Output values:  []\n"
     ]
    },
    {
     "name": "stderr",
     "output_type": "stream",
     "text": [
      "0: 480x640 2 cars, 172.3ms\n",
      "Speed: 10.5ms preprocess, 172.3ms inference, 3.5ms postprocess per image at shape (1, 3, 480, 640)\n"
     ]
    },
    {
     "name": "stdout",
     "output_type": "stream",
     "text": [
      "Results:  [[214, 384, 478, 510], [492, 381, 541, 421]] [0.8818464875221252, 0.5415780544281006] [2, 2]\n",
      "Output values:  [[        214         384         477         509          62           2     0.88185]\n",
      " [        492         381         540         420          63           2     0.54158]]\n"
     ]
    }
   ],
   "source": [
    "from new_tracker import main\n",
    "track = main()\n",
    "track()"
   ]
  },
  {
   "cell_type": "code",
   "execution_count": null,
   "id": "eb2fa232-2156-49c1-8dda-734d7006cc6e",
   "metadata": {},
   "outputs": [],
   "source": [
    "import torch\n",
    "\n",
    "import torchvision\n",
    "\n",
    "if torch.cuda.is_available():\n",
    "    print(\"CUDA is available!\")\n",
    "    print(\"CUDA version:\", torch.version.cuda)\n",
    "    print(\"Number of available GPUs:\", torch.cuda.device_count())\n",
    "    print(\"Current GPU device index:\", torch.cuda.current_device())\n",
    "    print(\"GPU name:\", torch.cuda.get_device_name(torch.cuda.current_device()))\n",
    "else:\n",
    "    print(\"CUDA is not available.\")"
   ]
  },
  {
   "cell_type": "code",
   "execution_count": 4,
   "id": "9e25b667-1c3e-4ae8-8160-ae2e95fed9c8",
   "metadata": {
    "scrolled": true
   },
   "outputs": [
    {
     "name": "stderr",
     "output_type": "stream",
     "text": [
      "\n",
      "0: 480x640 1 vehicle, 635.5ms\n",
      "Speed: 24.1ms preprocess, 635.5ms inference, 19.9ms postprocess per image at shape (1, 3, 640, 640)\n",
      "\n",
      "0: 480x640 3 vehicles, 549.6ms\n",
      "Speed: 15.0ms preprocess, 549.6ms inference, 2.0ms postprocess per image at shape (1, 3, 640, 640)\n",
      "\n",
      "0: 480x640 1 vehicle, 529.3ms\n",
      "Speed: 14.1ms preprocess, 529.3ms inference, 2.0ms postprocess per image at shape (1, 3, 640, 640)\n",
      "\n",
      "0: 480x640 2 vehicles, 584.6ms\n",
      "Speed: 15.1ms preprocess, 584.6ms inference, 2.5ms postprocess per image at shape (1, 3, 640, 640)\n",
      "\n",
      "0: 480x640 1 vehicle, 551.6ms\n",
      "Speed: 16.0ms preprocess, 551.6ms inference, 1.0ms postprocess per image at shape (1, 3, 640, 640)\n",
      "\n",
      "0: 480x640 1 vehicle, 321.7ms\n",
      "Speed: 12.5ms preprocess, 321.7ms inference, 2.1ms postprocess per image at shape (1, 3, 640, 640)\n",
      "\n",
      "0: 480x640 2 vehicles, 285.0ms\n",
      "Speed: 13.5ms preprocess, 285.0ms inference, 1.0ms postprocess per image at shape (1, 3, 640, 640)\n",
      "\n",
      "0: 480x640 3 vehicles, 259.6ms\n",
      "Speed: 10.5ms preprocess, 259.6ms inference, 1.0ms postprocess per image at shape (1, 3, 640, 640)\n",
      "\n",
      "0: 480x640 3 vehicles, 260.5ms\n",
      "Speed: 10.1ms preprocess, 260.5ms inference, 2.5ms postprocess per image at shape (1, 3, 640, 640)\n",
      "\n",
      "0: 480x640 4 vehicles, 271.3ms\n",
      "Speed: 9.5ms preprocess, 271.3ms inference, 1.0ms postprocess per image at shape (1, 3, 640, 640)\n",
      "\n",
      "0: 480x640 3 vehicles, 285.1ms\n",
      "Speed: 11.5ms preprocess, 285.1ms inference, 1.5ms postprocess per image at shape (1, 3, 640, 640)\n",
      "\n",
      "0: 480x640 4 vehicles, 345.0ms\n",
      "Speed: 11.1ms preprocess, 345.0ms inference, 1.0ms postprocess per image at shape (1, 3, 640, 640)\n",
      "\n",
      "0: 480x640 2 vehicles, 308.9ms\n",
      "Speed: 11.5ms preprocess, 308.9ms inference, 1.0ms postprocess per image at shape (1, 3, 640, 640)\n",
      "\n",
      "0: 480x640 3 vehicles, 287.0ms\n",
      "Speed: 12.6ms preprocess, 287.0ms inference, 1.0ms postprocess per image at shape (1, 3, 640, 640)\n",
      "\n",
      "0: 480x640 2 vehicles, 292.4ms\n",
      "Speed: 12.1ms preprocess, 292.4ms inference, 1.0ms postprocess per image at shape (1, 3, 640, 640)\n",
      "\n",
      "0: 480x640 2 vehicles, 306.1ms\n",
      "Speed: 11.1ms preprocess, 306.1ms inference, 1.2ms postprocess per image at shape (1, 3, 640, 640)\n",
      "\n",
      "0: 480x640 2 vehicles, 322.0ms\n",
      "Speed: 13.5ms preprocess, 322.0ms inference, 1.0ms postprocess per image at shape (1, 3, 640, 640)\n",
      "\n",
      "0: 480x640 2 vehicles, 317.9ms\n",
      "Speed: 11.5ms preprocess, 317.9ms inference, 2.0ms postprocess per image at shape (1, 3, 640, 640)\n",
      "\n",
      "0: 480x640 2 vehicles, 321.0ms\n",
      "Speed: 13.5ms preprocess, 321.0ms inference, 1.0ms postprocess per image at shape (1, 3, 640, 640)\n",
      "\n",
      "0: 480x640 2 vehicles, 314.3ms\n",
      "Speed: 13.1ms preprocess, 314.3ms inference, 1.0ms postprocess per image at shape (1, 3, 640, 640)\n",
      "\n",
      "0: 480x640 2 vehicles, 305.5ms\n",
      "Speed: 11.4ms preprocess, 305.5ms inference, 2.3ms postprocess per image at shape (1, 3, 640, 640)\n",
      "\n",
      "0: 480x640 2 vehicles, 309.6ms\n",
      "Speed: 11.5ms preprocess, 309.6ms inference, 1.0ms postprocess per image at shape (1, 3, 640, 640)\n",
      "\n",
      "0: 480x640 2 vehicles, 324.5ms\n",
      "Speed: 11.5ms preprocess, 324.5ms inference, 2.0ms postprocess per image at shape (1, 3, 640, 640)\n",
      "\n",
      "0: 480x640 2 vehicles, 322.0ms\n",
      "Speed: 12.5ms preprocess, 322.0ms inference, 2.0ms postprocess per image at shape (1, 3, 640, 640)\n",
      "\n",
      "0: 480x640 2 vehicles, 307.0ms\n",
      "Speed: 12.6ms preprocess, 307.0ms inference, 2.0ms postprocess per image at shape (1, 3, 640, 640)\n",
      "\n",
      "0: 480x640 2 vehicles, 303.4ms\n",
      "Speed: 12.0ms preprocess, 303.4ms inference, 2.0ms postprocess per image at shape (1, 3, 640, 640)\n",
      "\n",
      "0: 480x640 2 vehicles, 311.0ms\n",
      "Speed: 12.0ms preprocess, 311.0ms inference, 1.0ms postprocess per image at shape (1, 3, 640, 640)\n",
      "\n",
      "0: 480x640 2 vehicles, 318.1ms\n",
      "Speed: 13.4ms preprocess, 318.1ms inference, 1.0ms postprocess per image at shape (1, 3, 640, 640)\n",
      "\n",
      "0: 480x640 2 vehicles, 313.8ms\n",
      "Speed: 13.6ms preprocess, 313.8ms inference, 2.1ms postprocess per image at shape (1, 3, 640, 640)\n",
      "\n",
      "0: 480x640 2 vehicles, 305.9ms\n",
      "Speed: 11.5ms preprocess, 305.9ms inference, 1.0ms postprocess per image at shape (1, 3, 640, 640)\n",
      "\n",
      "0: 480x640 2 vehicles, 319.4ms\n",
      "Speed: 13.5ms preprocess, 319.4ms inference, 1.0ms postprocess per image at shape (1, 3, 640, 640)\n",
      "\n",
      "0: 480x640 2 vehicles, 299.9ms\n",
      "Speed: 12.5ms preprocess, 299.9ms inference, 1.0ms postprocess per image at shape (1, 3, 640, 640)\n",
      "\n",
      "0: 480x640 3 vehicles, 290.5ms\n",
      "Speed: 10.5ms preprocess, 290.5ms inference, 2.0ms postprocess per image at shape (1, 3, 640, 640)\n",
      "\n",
      "0: 480x640 3 vehicles, 291.7ms\n",
      "Speed: 13.1ms preprocess, 291.7ms inference, 2.0ms postprocess per image at shape (1, 3, 640, 640)\n",
      "\n",
      "0: 480x640 2 vehicles, 303.2ms\n",
      "Speed: 13.8ms preprocess, 303.2ms inference, 2.0ms postprocess per image at shape (1, 3, 640, 640)\n",
      "\n",
      "0: 480x640 2 vehicles, 304.1ms\n",
      "Speed: 11.5ms preprocess, 304.1ms inference, 1.0ms postprocess per image at shape (1, 3, 640, 640)\n",
      "\n",
      "0: 480x640 2 vehicles, 297.5ms\n",
      "Speed: 11.6ms preprocess, 297.5ms inference, 1.0ms postprocess per image at shape (1, 3, 640, 640)\n",
      "\n",
      "0: 480x640 2 vehicles, 294.5ms\n",
      "Speed: 11.0ms preprocess, 294.5ms inference, 2.0ms postprocess per image at shape (1, 3, 640, 640)\n",
      "\n",
      "0: 480x640 2 vehicles, 290.7ms\n",
      "Speed: 10.5ms preprocess, 290.7ms inference, 1.0ms postprocess per image at shape (1, 3, 640, 640)\n",
      "\n",
      "0: 480x640 2 vehicles, 300.5ms\n",
      "Speed: 11.5ms preprocess, 300.5ms inference, 1.0ms postprocess per image at shape (1, 3, 640, 640)\n",
      "\n",
      "0: 480x640 2 vehicles, 287.1ms\n",
      "Speed: 11.5ms preprocess, 287.1ms inference, 2.0ms postprocess per image at shape (1, 3, 640, 640)\n",
      "\n",
      "0: 480x640 2 vehicles, 281.3ms\n",
      "Speed: 11.0ms preprocess, 281.3ms inference, 2.0ms postprocess per image at shape (1, 3, 640, 640)\n",
      "\n",
      "0: 480x640 2 vehicles, 298.6ms\n",
      "Speed: 11.6ms preprocess, 298.6ms inference, 2.0ms postprocess per image at shape (1, 3, 640, 640)\n",
      "\n",
      "0: 480x640 2 vehicles, 288.0ms\n",
      "Speed: 11.0ms preprocess, 288.0ms inference, 1.0ms postprocess per image at shape (1, 3, 640, 640)\n",
      "\n",
      "0: 480x640 2 vehicles, 288.6ms\n",
      "Speed: 11.9ms preprocess, 288.6ms inference, 2.0ms postprocess per image at shape (1, 3, 640, 640)\n",
      "\n",
      "0: 480x640 2 vehicles, 290.9ms\n",
      "Speed: 13.1ms preprocess, 290.9ms inference, 1.0ms postprocess per image at shape (1, 3, 640, 640)\n",
      "\n",
      "0: 480x640 2 vehicles, 290.4ms\n",
      "Speed: 10.5ms preprocess, 290.4ms inference, 1.0ms postprocess per image at shape (1, 3, 640, 640)\n",
      "\n",
      "0: 480x640 2 vehicles, 298.8ms\n",
      "Speed: 12.5ms preprocess, 298.8ms inference, 2.0ms postprocess per image at shape (1, 3, 640, 640)\n",
      "\n",
      "0: 480x640 3 vehicles, 301.8ms\n",
      "Speed: 11.5ms preprocess, 301.8ms inference, 1.5ms postprocess per image at shape (1, 3, 640, 640)\n",
      "\n",
      "0: 480x640 3 vehicles, 312.0ms\n",
      "Speed: 11.5ms preprocess, 312.0ms inference, 1.0ms postprocess per image at shape (1, 3, 640, 640)\n",
      "\n",
      "0: 480x640 4 vehicles, 300.0ms\n",
      "Speed: 11.0ms preprocess, 300.0ms inference, 2.0ms postprocess per image at shape (1, 3, 640, 640)\n",
      "\n",
      "0: 480x640 2 vehicles, 304.1ms\n",
      "Speed: 11.1ms preprocess, 304.1ms inference, 1.0ms postprocess per image at shape (1, 3, 640, 640)\n",
      "\n",
      "0: 480x640 4 vehicles, 308.5ms\n",
      "Speed: 11.5ms preprocess, 308.5ms inference, 2.0ms postprocess per image at shape (1, 3, 640, 640)\n",
      "\n",
      "0: 480x640 4 vehicles, 298.9ms\n",
      "Speed: 15.4ms preprocess, 298.9ms inference, 1.0ms postprocess per image at shape (1, 3, 640, 640)\n",
      "\n",
      "0: 480x640 6 vehicles, 312.1ms\n",
      "Speed: 12.5ms preprocess, 312.1ms inference, 1.0ms postprocess per image at shape (1, 3, 640, 640)\n",
      "\n",
      "0: 480x640 3 vehicles, 299.2ms\n",
      "Speed: 12.5ms preprocess, 299.2ms inference, 2.6ms postprocess per image at shape (1, 3, 640, 640)\n",
      "\n",
      "0: 480x640 4 vehicles, 307.8ms\n",
      "Speed: 12.2ms preprocess, 307.8ms inference, 2.0ms postprocess per image at shape (1, 3, 640, 640)\n",
      "\n",
      "0: 480x640 4 vehicles, 309.1ms\n",
      "Speed: 12.5ms preprocess, 309.1ms inference, 1.0ms postprocess per image at shape (1, 3, 640, 640)\n",
      "\n",
      "0: 480x640 4 vehicles, 301.5ms\n",
      "Speed: 12.1ms preprocess, 301.5ms inference, 2.0ms postprocess per image at shape (1, 3, 640, 640)\n",
      "\n",
      "0: 480x640 5 vehicles, 304.4ms\n",
      "Speed: 12.5ms preprocess, 304.4ms inference, 2.0ms postprocess per image at shape (1, 3, 640, 640)\n",
      "\n",
      "0: 480x640 5 vehicles, 321.1ms\n",
      "Speed: 13.1ms preprocess, 321.1ms inference, 2.0ms postprocess per image at shape (1, 3, 640, 640)\n",
      "\n",
      "0: 480x640 5 vehicles, 321.7ms\n",
      "Speed: 11.6ms preprocess, 321.7ms inference, 1.0ms postprocess per image at shape (1, 3, 640, 640)\n",
      "\n",
      "0: 480x640 5 vehicles, 308.8ms\n",
      "Speed: 11.5ms preprocess, 308.8ms inference, 1.0ms postprocess per image at shape (1, 3, 640, 640)\n",
      "\n",
      "0: 480x640 4 vehicles, 310.4ms\n",
      "Speed: 12.5ms preprocess, 310.4ms inference, 1.5ms postprocess per image at shape (1, 3, 640, 640)\n",
      "\n",
      "0: 480x640 3 vehicles, 312.9ms\n",
      "Speed: 12.5ms preprocess, 312.9ms inference, 2.0ms postprocess per image at shape (1, 3, 640, 640)\n",
      "\n",
      "0: 480x640 4 vehicles, 316.8ms\n",
      "Speed: 12.2ms preprocess, 316.8ms inference, 0.5ms postprocess per image at shape (1, 3, 640, 640)\n",
      "\n",
      "0: 480x640 4 vehicles, 315.7ms\n",
      "Speed: 12.6ms preprocess, 315.7ms inference, 2.0ms postprocess per image at shape (1, 3, 640, 640)\n",
      "\n",
      "0: 480x640 5 vehicles, 310.6ms\n",
      "Speed: 12.0ms preprocess, 310.6ms inference, 1.0ms postprocess per image at shape (1, 3, 640, 640)\n",
      "\n",
      "0: 480x640 5 vehicles, 319.4ms\n",
      "Speed: 12.8ms preprocess, 319.4ms inference, 1.0ms postprocess per image at shape (1, 3, 640, 640)\n",
      "\n",
      "0: 480x640 5 vehicles, 310.3ms\n",
      "Speed: 14.2ms preprocess, 310.3ms inference, 1.0ms postprocess per image at shape (1, 3, 640, 640)\n",
      "\n",
      "0: 480x640 5 vehicles, 307.9ms\n",
      "Speed: 12.5ms preprocess, 307.9ms inference, 1.0ms postprocess per image at shape (1, 3, 640, 640)\n",
      "\n",
      "0: 480x640 5 vehicles, 322.6ms\n",
      "Speed: 11.5ms preprocess, 322.6ms inference, 1.0ms postprocess per image at shape (1, 3, 640, 640)\n",
      "\n",
      "0: 480x640 5 vehicles, 306.7ms\n",
      "Speed: 11.5ms preprocess, 306.7ms inference, 2.0ms postprocess per image at shape (1, 3, 640, 640)\n",
      "\n",
      "0: 480x640 5 vehicles, 315.8ms\n",
      "Speed: 11.2ms preprocess, 315.8ms inference, 1.0ms postprocess per image at shape (1, 3, 640, 640)\n",
      "\n",
      "0: 480x640 5 vehicles, 315.9ms\n",
      "Speed: 11.5ms preprocess, 315.9ms inference, 1.0ms postprocess per image at shape (1, 3, 640, 640)\n",
      "\n",
      "0: 480x640 5 vehicles, 309.1ms\n",
      "Speed: 11.5ms preprocess, 309.1ms inference, 3.0ms postprocess per image at shape (1, 3, 640, 640)\n",
      "\n",
      "0: 480x640 5 vehicles, 324.9ms\n",
      "Speed: 13.7ms preprocess, 324.9ms inference, 1.0ms postprocess per image at shape (1, 3, 640, 640)\n",
      "\n",
      "0: 480x640 5 vehicles, 330.3ms\n",
      "Speed: 11.2ms preprocess, 330.3ms inference, 1.0ms postprocess per image at shape (1, 3, 640, 640)\n",
      "\n",
      "0: 480x640 5 vehicles, 314.5ms\n",
      "Speed: 13.1ms preprocess, 314.5ms inference, 1.0ms postprocess per image at shape (1, 3, 640, 640)\n",
      "\n",
      "0: 480x640 5 vehicles, 316.3ms\n",
      "Speed: 11.5ms preprocess, 316.3ms inference, 1.0ms postprocess per image at shape (1, 3, 640, 640)\n",
      "\n",
      "0: 480x640 5 vehicles, 309.1ms\n",
      "Speed: 11.6ms preprocess, 309.1ms inference, 1.0ms postprocess per image at shape (1, 3, 640, 640)\n",
      "\n",
      "0: 480x640 5 vehicles, 305.0ms\n",
      "Speed: 13.4ms preprocess, 305.0ms inference, 1.0ms postprocess per image at shape (1, 3, 640, 640)\n",
      "\n",
      "0: 480x640 5 vehicles, 306.0ms\n",
      "Speed: 12.5ms preprocess, 306.0ms inference, 2.0ms postprocess per image at shape (1, 3, 640, 640)\n",
      "\n",
      "0: 480x640 4 vehicles, 306.5ms\n",
      "Speed: 11.5ms preprocess, 306.5ms inference, 1.0ms postprocess per image at shape (1, 3, 640, 640)\n",
      "\n",
      "0: 480x640 4 vehicles, 306.6ms\n",
      "Speed: 12.6ms preprocess, 306.6ms inference, 2.0ms postprocess per image at shape (1, 3, 640, 640)\n",
      "\n",
      "0: 480x640 5 vehicles, 304.1ms\n",
      "Speed: 11.5ms preprocess, 304.1ms inference, 1.0ms postprocess per image at shape (1, 3, 640, 640)\n",
      "\n",
      "0: 480x640 5 vehicles, 309.4ms\n",
      "Speed: 11.5ms preprocess, 309.4ms inference, 1.5ms postprocess per image at shape (1, 3, 640, 640)\n",
      "\n",
      "0: 480x640 5 vehicles, 309.0ms\n",
      "Speed: 14.0ms preprocess, 309.0ms inference, 1.5ms postprocess per image at shape (1, 3, 640, 640)\n",
      "\n",
      "0: 480x640 5 vehicles, 306.8ms\n",
      "Speed: 13.2ms preprocess, 306.8ms inference, 2.0ms postprocess per image at shape (1, 3, 640, 640)\n",
      "\n",
      "0: 480x640 4 vehicles, 310.8ms\n",
      "Speed: 11.5ms preprocess, 310.8ms inference, 1.0ms postprocess per image at shape (1, 3, 640, 640)\n",
      "\n",
      "0: 480x640 5 vehicles, 307.7ms\n",
      "Speed: 12.0ms preprocess, 307.7ms inference, 2.0ms postprocess per image at shape (1, 3, 640, 640)\n",
      "\n",
      "0: 480x640 5 vehicles, 307.7ms\n",
      "Speed: 13.5ms preprocess, 307.7ms inference, 2.0ms postprocess per image at shape (1, 3, 640, 640)\n",
      "\n",
      "0: 480x640 5 vehicles, 307.5ms\n",
      "Speed: 10.5ms preprocess, 307.5ms inference, 1.0ms postprocess per image at shape (1, 3, 640, 640)\n",
      "\n",
      "0: 480x640 5 vehicles, 307.2ms\n",
      "Speed: 10.5ms preprocess, 307.2ms inference, 0.9ms postprocess per image at shape (1, 3, 640, 640)\n",
      "\n",
      "0: 480x640 5 vehicles, 305.5ms\n",
      "Speed: 14.1ms preprocess, 305.5ms inference, 1.5ms postprocess per image at shape (1, 3, 640, 640)\n",
      "\n",
      "0: 480x640 4 vehicles, 304.7ms\n",
      "Speed: 11.5ms preprocess, 304.7ms inference, 2.1ms postprocess per image at shape (1, 3, 640, 640)\n",
      "\n",
      "0: 480x640 5 vehicles, 301.2ms\n",
      "Speed: 12.5ms preprocess, 301.2ms inference, 2.0ms postprocess per image at shape (1, 3, 640, 640)\n",
      "\n",
      "0: 480x640 4 vehicles, 301.7ms\n",
      "Speed: 12.0ms preprocess, 301.7ms inference, 2.5ms postprocess per image at shape (1, 3, 640, 640)\n",
      "\n",
      "0: 480x640 4 vehicles, 332.1ms\n",
      "Speed: 13.5ms preprocess, 332.1ms inference, 2.2ms postprocess per image at shape (1, 3, 640, 640)\n",
      "\n",
      "0: 480x640 4 vehicles, 342.3ms\n",
      "Speed: 14.0ms preprocess, 342.3ms inference, 2.5ms postprocess per image at shape (1, 3, 640, 640)\n",
      "\n",
      "0: 480x640 5 vehicles, 333.7ms\n",
      "Speed: 13.6ms preprocess, 333.7ms inference, 2.6ms postprocess per image at shape (1, 3, 640, 640)\n",
      "\n",
      "0: 480x640 4 vehicles, 336.3ms\n",
      "Speed: 13.5ms preprocess, 336.3ms inference, 2.0ms postprocess per image at shape (1, 3, 640, 640)\n",
      "\n",
      "0: 480x640 5 vehicles, 333.3ms\n",
      "Speed: 13.1ms preprocess, 333.3ms inference, 2.0ms postprocess per image at shape (1, 3, 640, 640)\n",
      "\n",
      "0: 480x640 5 vehicles, 343.4ms\n",
      "Speed: 12.6ms preprocess, 343.4ms inference, 1.0ms postprocess per image at shape (1, 3, 640, 640)\n",
      "\n",
      "0: 480x640 5 vehicles, 334.1ms\n",
      "Speed: 14.1ms preprocess, 334.1ms inference, 2.0ms postprocess per image at shape (1, 3, 640, 640)\n",
      "\n",
      "0: 480x640 5 vehicles, 328.3ms\n",
      "Speed: 13.5ms preprocess, 328.3ms inference, 2.0ms postprocess per image at shape (1, 3, 640, 640)\n",
      "\n",
      "0: 480x640 5 vehicles, 344.8ms\n",
      "Speed: 15.6ms preprocess, 344.8ms inference, 1.0ms postprocess per image at shape (1, 3, 640, 640)\n",
      "\n",
      "0: 480x640 5 vehicles, 332.7ms\n",
      "Speed: 12.3ms preprocess, 332.7ms inference, 2.0ms postprocess per image at shape (1, 3, 640, 640)\n",
      "\n",
      "0: 480x640 5 vehicles, 342.2ms\n",
      "Speed: 15.7ms preprocess, 342.2ms inference, 1.0ms postprocess per image at shape (1, 3, 640, 640)\n",
      "\n",
      "0: 480x640 4 vehicles, 330.2ms\n",
      "Speed: 12.5ms preprocess, 330.2ms inference, 2.0ms postprocess per image at shape (1, 3, 640, 640)\n",
      "\n",
      "0: 480x640 4 vehicles, 315.9ms\n",
      "Speed: 12.4ms preprocess, 315.9ms inference, 1.0ms postprocess per image at shape (1, 3, 640, 640)\n",
      "\n",
      "0: 480x640 3 vehicles, 324.6ms\n",
      "Speed: 12.0ms preprocess, 324.6ms inference, 2.0ms postprocess per image at shape (1, 3, 640, 640)\n",
      "\n",
      "0: 480x640 3 vehicles, 330.5ms\n",
      "Speed: 13.7ms preprocess, 330.5ms inference, 1.0ms postprocess per image at shape (1, 3, 640, 640)\n",
      "\n",
      "0: 480x640 1 vehicle, 323.9ms\n",
      "Speed: 12.5ms preprocess, 323.9ms inference, 2.0ms postprocess per image at shape (1, 3, 640, 640)\n",
      "\n",
      "0: 480x640 1 vehicle, 320.7ms\n",
      "Speed: 13.5ms preprocess, 320.7ms inference, 1.0ms postprocess per image at shape (1, 3, 640, 640)\n",
      "\n",
      "0: 480x640 2 vehicles, 309.5ms\n",
      "Speed: 12.5ms preprocess, 309.5ms inference, 1.0ms postprocess per image at shape (1, 3, 640, 640)\n",
      "\n",
      "0: 480x640 2 vehicles, 305.7ms\n",
      "Speed: 12.5ms preprocess, 305.7ms inference, 1.1ms postprocess per image at shape (1, 3, 640, 640)\n",
      "\n",
      "0: 480x640 4 vehicles, 306.8ms\n",
      "Speed: 11.0ms preprocess, 306.8ms inference, 2.0ms postprocess per image at shape (1, 3, 640, 640)\n",
      "\n",
      "0: 480x640 4 vehicles, 312.5ms\n",
      "Speed: 13.1ms preprocess, 312.5ms inference, 1.0ms postprocess per image at shape (1, 3, 640, 640)\n",
      "\n",
      "0: 480x640 5 vehicles, 308.1ms\n",
      "Speed: 11.5ms preprocess, 308.1ms inference, 3.0ms postprocess per image at shape (1, 3, 640, 640)\n",
      "\n",
      "0: 480x640 3 vehicles, 316.6ms\n",
      "Speed: 12.0ms preprocess, 316.6ms inference, 2.0ms postprocess per image at shape (1, 3, 640, 640)\n",
      "\n",
      "0: 480x640 3 vehicles, 307.3ms\n",
      "Speed: 11.5ms preprocess, 307.3ms inference, 1.0ms postprocess per image at shape (1, 3, 640, 640)\n",
      "\n",
      "0: 480x640 2 vehicles, 316.5ms\n",
      "Speed: 12.9ms preprocess, 316.5ms inference, 2.0ms postprocess per image at shape (1, 3, 640, 640)\n",
      "\n",
      "0: 480x640 3 vehicles, 283.4ms\n",
      "Speed: 12.5ms preprocess, 283.4ms inference, 0.0ms postprocess per image at shape (1, 3, 640, 640)\n",
      "\n",
      "0: 480x640 5 vehicles, 294.3ms\n",
      "Speed: 11.5ms preprocess, 294.3ms inference, 1.5ms postprocess per image at shape (1, 3, 640, 640)\n",
      "\n",
      "0: 480x640 2 vehicles, 297.0ms\n",
      "Speed: 11.0ms preprocess, 297.0ms inference, 1.0ms postprocess per image at shape (1, 3, 640, 640)\n",
      "\n",
      "0: 480x640 3 vehicles, 289.4ms\n",
      "Speed: 12.5ms preprocess, 289.4ms inference, 2.0ms postprocess per image at shape (1, 3, 640, 640)\n",
      "\n",
      "0: 480x640 2 vehicles, 283.6ms\n",
      "Speed: 12.0ms preprocess, 283.6ms inference, 2.0ms postprocess per image at shape (1, 3, 640, 640)\n",
      "\n",
      "0: 480x640 2 vehicles, 286.8ms\n",
      "Speed: 11.5ms preprocess, 286.8ms inference, 1.0ms postprocess per image at shape (1, 3, 640, 640)\n",
      "\n",
      "0: 480x640 4 vehicles, 288.9ms\n",
      "Speed: 11.7ms preprocess, 288.9ms inference, 2.0ms postprocess per image at shape (1, 3, 640, 640)\n",
      "\n",
      "0: 480x640 3 vehicles, 285.0ms\n",
      "Speed: 11.5ms preprocess, 285.0ms inference, 1.0ms postprocess per image at shape (1, 3, 640, 640)\n",
      "\n",
      "0: 480x640 4 vehicles, 287.7ms\n",
      "Speed: 11.5ms preprocess, 287.7ms inference, 2.0ms postprocess per image at shape (1, 3, 640, 640)\n",
      "\n",
      "0: 480x640 2 vehicles, 287.4ms\n",
      "Speed: 12.5ms preprocess, 287.4ms inference, 1.0ms postprocess per image at shape (1, 3, 640, 640)\n",
      "\n",
      "0: 480x640 3 vehicles, 288.1ms\n",
      "Speed: 12.0ms preprocess, 288.1ms inference, 1.6ms postprocess per image at shape (1, 3, 640, 640)\n",
      "\n",
      "0: 480x640 2 vehicles, 287.4ms\n",
      "Speed: 11.0ms preprocess, 287.4ms inference, 2.0ms postprocess per image at shape (1, 3, 640, 640)\n",
      "\n",
      "0: 480x640 5 vehicles, 287.1ms\n",
      "Speed: 10.8ms preprocess, 287.1ms inference, 1.0ms postprocess per image at shape (1, 3, 640, 640)\n",
      "\n",
      "0: 480x640 5 vehicles, 286.4ms\n",
      "Speed: 11.1ms preprocess, 286.4ms inference, 2.0ms postprocess per image at shape (1, 3, 640, 640)\n",
      "\n",
      "0: 480x640 5 vehicles, 291.5ms\n",
      "Speed: 10.5ms preprocess, 291.5ms inference, 2.0ms postprocess per image at shape (1, 3, 640, 640)\n",
      "\n",
      "0: 480x640 2 vehicles, 302.0ms\n",
      "Speed: 13.3ms preprocess, 302.0ms inference, 1.0ms postprocess per image at shape (1, 3, 640, 640)\n",
      "\n",
      "0: 480x640 2 vehicles, 289.0ms\n",
      "Speed: 10.8ms preprocess, 289.0ms inference, 1.0ms postprocess per image at shape (1, 3, 640, 640)\n",
      "\n",
      "0: 480x640 3 vehicles, 289.2ms\n",
      "Speed: 11.5ms preprocess, 289.2ms inference, 2.0ms postprocess per image at shape (1, 3, 640, 640)\n",
      "\n",
      "0: 480x640 2 vehicles, 293.3ms\n",
      "Speed: 12.5ms preprocess, 293.3ms inference, 2.0ms postprocess per image at shape (1, 3, 640, 640)\n",
      "\n",
      "0: 480x640 3 vehicles, 300.0ms\n",
      "Speed: 10.0ms preprocess, 300.0ms inference, 2.0ms postprocess per image at shape (1, 3, 640, 640)\n",
      "\n",
      "0: 480x640 2 vehicles, 305.2ms\n",
      "Speed: 12.0ms preprocess, 305.2ms inference, 2.0ms postprocess per image at shape (1, 3, 640, 640)\n",
      "\n",
      "0: 480x640 3 vehicles, 301.9ms\n",
      "Speed: 11.5ms preprocess, 301.9ms inference, 2.0ms postprocess per image at shape (1, 3, 640, 640)\n",
      "\n",
      "0: 480x640 4 vehicles, 294.7ms\n",
      "Speed: 10.1ms preprocess, 294.7ms inference, 2.0ms postprocess per image at shape (1, 3, 640, 640)\n",
      "\n",
      "0: 480x640 3 vehicles, 297.1ms\n",
      "Speed: 11.5ms preprocess, 297.1ms inference, 2.0ms postprocess per image at shape (1, 3, 640, 640)\n",
      "\n",
      "0: 480x640 3 vehicles, 289.8ms\n",
      "Speed: 10.4ms preprocess, 289.8ms inference, 2.0ms postprocess per image at shape (1, 3, 640, 640)\n",
      "\n",
      "0: 480x640 2 vehicles, 286.9ms\n",
      "Speed: 11.0ms preprocess, 286.9ms inference, 2.0ms postprocess per image at shape (1, 3, 640, 640)\n",
      "\n",
      "0: 480x640 3 vehicles, 292.1ms\n",
      "Speed: 13.4ms preprocess, 292.1ms inference, 1.0ms postprocess per image at shape (1, 3, 640, 640)\n",
      "\n",
      "0: 480x640 1 bike, 2 vehicles, 281.2ms\n",
      "Speed: 12.4ms preprocess, 281.2ms inference, 2.5ms postprocess per image at shape (1, 3, 640, 640)\n",
      "\n",
      "0: 480x640 1 vehicle, 285.6ms\n",
      "Speed: 10.5ms preprocess, 285.6ms inference, 1.0ms postprocess per image at shape (1, 3, 640, 640)\n",
      "\n",
      "0: 480x640 1 vehicle, 286.4ms\n",
      "Speed: 11.5ms preprocess, 286.4ms inference, 1.2ms postprocess per image at shape (1, 3, 640, 640)\n",
      "\n",
      "0: 480x640 1 vehicle, 286.3ms\n",
      "Speed: 11.5ms preprocess, 286.3ms inference, 1.0ms postprocess per image at shape (1, 3, 640, 640)\n",
      "\n",
      "0: 480x640 1 vehicle, 287.6ms\n",
      "Speed: 11.5ms preprocess, 287.6ms inference, 1.0ms postprocess per image at shape (1, 3, 640, 640)\n",
      "\n",
      "0: 480x640 1 vehicle, 286.8ms\n",
      "Speed: 10.5ms preprocess, 286.8ms inference, 1.0ms postprocess per image at shape (1, 3, 640, 640)\n",
      "\n",
      "0: 480x640 1 vehicle, 294.6ms\n",
      "Speed: 12.7ms preprocess, 294.6ms inference, 0.0ms postprocess per image at shape (1, 3, 640, 640)\n",
      "\n",
      "0: 480x640 1 vehicle, 299.5ms\n",
      "Speed: 11.1ms preprocess, 299.5ms inference, 1.0ms postprocess per image at shape (1, 3, 640, 640)\n",
      "\n",
      "0: 480x640 1 vehicle, 285.5ms\n",
      "Speed: 11.5ms preprocess, 285.5ms inference, 0.0ms postprocess per image at shape (1, 3, 640, 640)\n",
      "\n",
      "0: 480x640 1 vehicle, 283.0ms\n",
      "Speed: 11.5ms preprocess, 283.0ms inference, 1.0ms postprocess per image at shape (1, 3, 640, 640)\n",
      "\n",
      "0: 480x640 1 vehicle, 288.3ms\n",
      "Speed: 10.2ms preprocess, 288.3ms inference, 2.0ms postprocess per image at shape (1, 3, 640, 640)\n"
     ]
    },
    {
     "ename": "TypeError",
     "evalue": "'module' object is not callable",
     "output_type": "error",
     "traceback": [
      "\u001b[1;31m---------------------------------------------------------------------------\u001b[0m",
      "\u001b[1;31mTypeError\u001b[0m                                 Traceback (most recent call last)",
      "Cell \u001b[1;32mIn[4], line 3\u001b[0m\n\u001b[0;32m      1\u001b[0m \u001b[38;5;28;01mimport\u001b[39;00m \u001b[38;5;21;01myolo_detection\u001b[39;00m\n\u001b[1;32m----> 3\u001b[0m detection \u001b[38;5;241m=\u001b[39m \u001b[43myolo_detection\u001b[49m\u001b[43m(\u001b[49m\u001b[43m)\u001b[49m\n\u001b[0;32m      4\u001b[0m detection()\n",
      "\u001b[1;31mTypeError\u001b[0m: 'module' object is not callable"
     ]
    }
   ],
   "source": [
    "import yolo_detection\n",
    "\n",
    "detection = yolo_detection()\n",
    "detection()"
   ]
  },
  {
   "cell_type": "code",
   "execution_count": null,
   "id": "9caaef39-4c34-4e4b-811f-d92b40f01538",
   "metadata": {},
   "outputs": [],
   "source": [
    " 1: 'bicycle', 2: 'car', 3: 'motorcycle', 5: 'bus', 7: 'truck'"
   ]
  }
 ],
 "metadata": {
  "kernelspec": {
   "display_name": "Python 3 (ipykernel)",
   "language": "python",
   "name": "python3"
  },
  "language_info": {
   "codemirror_mode": {
    "name": "ipython",
    "version": 3
   },
   "file_extension": ".py",
   "mimetype": "text/x-python",
   "name": "python",
   "nbconvert_exporter": "python",
   "pygments_lexer": "ipython3",
   "version": "3.8.17"
  }
 },
 "nbformat": 4,
 "nbformat_minor": 5
}

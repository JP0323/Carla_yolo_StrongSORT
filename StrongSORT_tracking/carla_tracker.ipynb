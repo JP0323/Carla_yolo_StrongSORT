{
 "cells": [
  {
   "cell_type": "code",
   "execution_count": 2,
   "metadata": {},
   "outputs": [
    {
     "name": "stdout",
     "output_type": "stream",
     "text": [
      "Model: osnet_x0_25\n",
      "- params: 203,568\n",
      "- flops: 82,316,000\n",
      "Successfully loaded pretrained weights from \"weights/osnet_x0_25_market1501.pth\"\n",
      "** The following layers are discarded due to unmatched keys or layer size: ['classifier.weight', 'classifier.bias']\n"
     ]
    },
    {
     "name": "stderr",
     "output_type": "stream",
     "text": [
      "\n",
      "0: 480x640 1 motobike, 1 vehicle, 249.8ms\n",
      "Speed: 17.0ms preprocess, 249.8ms inference, 2.0ms postprocess per image at shape (1, 3, 480, 640)\n"
     ]
    },
    {
     "name": "stdout",
     "output_type": "stream",
     "text": [
      "Results:  [[466, 380, 490, 399], [503, 385, 521, 419]] [0.8089713454246521, 0.7264942526817322] [1, 0]\n"
     ]
    },
    {
     "name": "stderr",
     "output_type": "stream",
     "text": [
      "\n"
     ]
    },
    {
     "name": "stdout",
     "output_type": "stream",
     "text": [
      "Output values:  []\n"
     ]
    },
    {
     "name": "stderr",
     "output_type": "stream",
     "text": [
      "0: 480x640 1 motobike, 1 vehicle, 173.5ms\n",
      "Speed: 11.5ms preprocess, 173.5ms inference, 2.0ms postprocess per image at shape (1, 3, 480, 640)\n"
     ]
    },
    {
     "name": "stdout",
     "output_type": "stream",
     "text": [
      "Results:  [[499, 390, 522, 433], [456, 384, 485, 406]] [0.7939414978027344, 0.7244676947593689] [0, 1]\n",
      "Output values:  []\n"
     ]
    },
    {
     "name": "stderr",
     "output_type": "stream",
     "text": [
      "\n",
      "0: 480x640 1 motobike, 1 vehicle, 164.8ms\n",
      "Speed: 10.5ms preprocess, 164.8ms inference, 2.5ms postprocess per image at shape (1, 3, 480, 640)\n"
     ]
    },
    {
     "name": "stdout",
     "output_type": "stream",
     "text": [
      "Results:  [[498, 383, 521, 428], [444, 378, 481, 402]] [0.7826921939849854, 0.36359044909477234] [0, 1]\n",
      "Output values:  [[        444         378         480         401           1           1     0.36359]\n",
      " [        497         383         521         428           2           0     0.78269]]\n"
     ]
    },
    {
     "name": "stderr",
     "output_type": "stream",
     "text": [
      "\n",
      "0: 480x640 1 motobike, 1 vehicle, 202.6ms\n",
      "Speed: 10.2ms preprocess, 202.6ms inference, 2.5ms postprocess per image at shape (1, 3, 480, 640)\n"
     ]
    },
    {
     "name": "stdout",
     "output_type": "stream",
     "text": [
      "Results:  [[499, 383, 522, 433], [448, 379, 479, 405]] [0.7863785028457642, 0.7839109897613525] [0, 1]\n",
      "Output values:  [[        448         379         478         404           1           1     0.78391]\n",
      " [        499         383         521         432           2           0     0.78638]]\n"
     ]
    },
    {
     "name": "stderr",
     "output_type": "stream",
     "text": [
      "\n",
      "0: 480x640 1 motobike, 1 vehicle, 216.5ms\n",
      "Speed: 11.5ms preprocess, 216.5ms inference, 1.5ms postprocess per image at shape (1, 3, 480, 640)\n"
     ]
    },
    {
     "name": "stdout",
     "output_type": "stream",
     "text": [
      "Results:  [[442, 386, 475, 413], [498, 390, 523, 445]] [0.8089228868484497, 0.7954016923904419] [1, 0]\n",
      "Output values:  [[        441         385         475         413           1           1     0.80892]\n",
      " [        498         390         522         444           2           0      0.7954]]\n"
     ]
    },
    {
     "name": "stderr",
     "output_type": "stream",
     "text": [
      "\n",
      "0: 480x640 1 motobike, 2 vehicles, 228.6ms\n",
      "Speed: 13.0ms preprocess, 228.6ms inference, 1.0ms postprocess per image at shape (1, 3, 480, 640)\n"
     ]
    },
    {
     "name": "stdout",
     "output_type": "stream",
     "text": [
      "Results:  [[428, 383, 469, 413], [498, 385, 524, 444], [271, 386, 362, 430]] [0.8437020182609558, 0.8118711709976196, 0.7912752628326416] [1, 0, 1]\n",
      "Output values:  [[        428         383         468         412           1           1      0.8437]\n",
      " [        498         385         523         443           2           0     0.81187]]\n"
     ]
    },
    {
     "name": "stderr",
     "output_type": "stream",
     "text": [
      "\n",
      "0: 480x640 1 motobike, 2 vehicles, 214.5ms\n",
      "Speed: 11.0ms preprocess, 214.5ms inference, 2.0ms postprocess per image at shape (1, 3, 480, 640)\n"
     ]
    },
    {
     "name": "stdout",
     "output_type": "stream",
     "text": [
      "Results:  [[20, 387, 266, 475], [413, 380, 464, 417], [497, 384, 525, 447]] [0.8934003114700317, 0.8373660445213318, 0.8167557716369629] [1, 1, 0]\n",
      "Output values:  [[        413         380         463         416           1           1     0.83737]\n",
      " [        497         384         524         446           2           0     0.81676]]\n"
     ]
    },
    {
     "name": "stderr",
     "output_type": "stream",
     "text": [
      "\n",
      "0: 480x640 1 motobike, 1 vehicle, 218.3ms\n",
      "Speed: 11.5ms preprocess, 218.3ms inference, 1.0ms postprocess per image at shape (1, 3, 480, 640)\n"
     ]
    },
    {
     "name": "stdout",
     "output_type": "stream",
     "text": [
      "Results:  [[400, 379, 460, 421], [496, 385, 525, 444]] [0.8566601276397705, 0.8103064298629761] [1, 0]\n",
      "Output values:  [[        400         379         459         420           1           1     0.85666]\n",
      " [        495         384         525         444           2           0     0.81031]]\n"
     ]
    },
    {
     "name": "stderr",
     "output_type": "stream",
     "text": [
      "\n",
      "0: 480x640 1 motobike, 1 vehicle, 216.5ms\n",
      "Speed: 15.7ms preprocess, 216.5ms inference, 2.4ms postprocess per image at shape (1, 3, 480, 640)\n"
     ]
    },
    {
     "name": "stdout",
     "output_type": "stream",
     "text": [
      "Results:  [[385, 385, 455, 432], [497, 388, 525, 446]] [0.8758441209793091, 0.803701639175415] [1, 0]\n",
      "Output values:  [[        385         385         454         431           1           1     0.87584]\n",
      " [        496         387         525         446           2           0      0.8037]]\n"
     ]
    },
    {
     "name": "stderr",
     "output_type": "stream",
     "text": [
      "\n",
      "0: 480x640 1 motobike, 1 vehicle, 223.9ms\n",
      "Speed: 14.2ms preprocess, 223.9ms inference, 1.1ms postprocess per image at shape (1, 3, 480, 640)\n"
     ]
    },
    {
     "name": "stdout",
     "output_type": "stream",
     "text": [
      "Results:  [[352, 385, 444, 446], [498, 390, 525, 448]] [0.888860285282135, 0.8207565546035767] [1, 0]\n",
      "Output values:  [[        352         385         443         445           1           1     0.88886]\n",
      " [        497         389         525         448           2           0     0.82076]]\n"
     ]
    },
    {
     "name": "stderr",
     "output_type": "stream",
     "text": [
      "\n",
      "0: 480x640 1 motobike, 1 vehicle, 262.9ms\n",
      "Speed: 18.0ms preprocess, 262.9ms inference, 2.0ms postprocess per image at shape (1, 3, 480, 640)\n",
      "\n"
     ]
    },
    {
     "name": "stdout",
     "output_type": "stream",
     "text": [
      "Results:  [[253, 385, 424, 475], [492, 389, 530, 469]] [0.8948823809623718, 0.8330188393592834] [1, 0]\n",
      "Output values:  [[        253         385         423         474           1           1     0.89488]\n",
      " [        492         389         529         468           2           0     0.83302]]\n"
     ]
    },
    {
     "name": "stderr",
     "output_type": "stream",
     "text": [
      "0: 480x640 1 motobike, 2 vehicles, 214.6ms\n",
      "Speed: 12.3ms preprocess, 214.6ms inference, 2.0ms postprocess per image at shape (1, 3, 480, 640)\n"
     ]
    },
    {
     "name": "stdout",
     "output_type": "stream",
     "text": [
      "Results:  [[38, 371, 388, 516], [484, 372, 540, 503], [414, 371, 473, 393]] [0.9001689553260803, 0.8238045573234558, 0.3798835277557373] [1, 0, 1]\n"
     ]
    },
    {
     "name": "stderr",
     "output_type": "stream",
     "text": [
      "\n"
     ]
    },
    {
     "name": "stdout",
     "output_type": "stream",
     "text": [
      "Output values:  [[        229         387         411         481           1           1     0.89488]\n",
      " [        484         372         539         502           2           0      0.8238]]\n"
     ]
    },
    {
     "name": "stderr",
     "output_type": "stream",
     "text": [
      "0: 480x640 1 motobike, 1 vehicle, 216.6ms\n",
      "Speed: 12.5ms preprocess, 216.6ms inference, 2.0ms postprocess per image at shape (1, 3, 480, 640)\n",
      "\n"
     ]
    },
    {
     "name": "stdout",
     "output_type": "stream",
     "text": [
      "Results:  [[38, 383, 390, 529], [481, 381, 539, 515]] [0.9229139685630798, 0.8128188252449036] [1, 0]\n",
      "Output values:  [[        480         380         539         515           2           0     0.81282]]\n"
     ]
    },
    {
     "name": "stderr",
     "output_type": "stream",
     "text": [
      "0: 480x640 1 motobike, 1 vehicle, 230.4ms\n",
      "Speed: 14.1ms preprocess, 230.4ms inference, 1.0ms postprocess per image at shape (1, 3, 480, 640)\n",
      "\n"
     ]
    },
    {
     "name": "stdout",
     "output_type": "stream",
     "text": [
      "Results:  [[37, 384, 389, 532], [482, 385, 541, 518]] [0.9237626194953918, 0.8249185085296631] [1, 0]\n",
      "Output values:  [[        481         384         541         518           2           0     0.82492]\n",
      " [         37         384         388         531           5           1     0.92376]]\n"
     ]
    },
    {
     "name": "stderr",
     "output_type": "stream",
     "text": [
      "0: 480x640 1 motobike, 2 vehicles, 211.3ms\n",
      "Speed: 11.6ms preprocess, 211.3ms inference, 2.0ms postprocess per image at shape (1, 3, 480, 640)\n"
     ]
    },
    {
     "name": "stdout",
     "output_type": "stream",
     "text": [
      "Results:  [[37, 383, 389, 533], [482, 384, 540, 519], [554, 383, 613, 404]] [0.9270485043525696, 0.8206275105476379, 0.685600757598877] [1, 0, 1]\n",
      "Output values:  [[        481         383         540         519           2           0     0.82063]\n",
      " [         37         383         388         532           5           1     0.92705]]\n"
     ]
    },
    {
     "name": "stderr",
     "output_type": "stream",
     "text": [
      "\n",
      "0: 480x640 1 motobike, 1 vehicle, 203.1ms\n",
      "Speed: 12.5ms preprocess, 203.1ms inference, 2.5ms postprocess per image at shape (1, 3, 480, 640)\n",
      "\n"
     ]
    },
    {
     "name": "stdout",
     "output_type": "stream",
     "text": [
      "Results:  [[35, 386, 389, 533], [481, 384, 540, 517]] [0.9237850308418274, 0.8395490646362305] [1, 0]\n",
      "Output values:  [[        480         383         540         517           2           0     0.83955]\n",
      " [         34         385         389         533           5           1     0.92379]]\n"
     ]
    },
    {
     "name": "stderr",
     "output_type": "stream",
     "text": [
      "0: 480x640 1 motobike, 1 vehicle, 220.7ms\n",
      "Speed: 13.5ms preprocess, 220.7ms inference, 1.0ms postprocess per image at shape (1, 3, 480, 640)\n"
     ]
    },
    {
     "name": "stdout",
     "output_type": "stream",
     "text": [
      "Results:  [[60, 387, 390, 526], [481, 384, 531, 518]] [0.9217949509620667, 0.8263460397720337] [1, 0]\n"
     ]
    },
    {
     "name": "stderr",
     "output_type": "stream",
     "text": [
      "\n"
     ]
    },
    {
     "name": "stdout",
     "output_type": "stream",
     "text": [
      "Output values:  [[        480         383         531         518           2           0     0.82635]\n",
      " [         59         386         390         526           5           1     0.92179]]\n"
     ]
    },
    {
     "name": "stderr",
     "output_type": "stream",
     "text": [
      "0: 480x640 1 motobike, 1 vehicle, 217.4ms\n",
      "Speed: 12.5ms preprocess, 217.4ms inference, 2.0ms postprocess per image at shape (1, 3, 480, 640)\n",
      "\n"
     ]
    },
    {
     "name": "stdout",
     "output_type": "stream",
     "text": [
      "Results:  [[147, 385, 400, 508], [483, 386, 533, 502]] [0.9300670027732849, 0.814092755317688] [1, 0]\n",
      "Output values:  [[        482         385         533         502           2           0     0.81409]\n",
      " [        146         384         399         508           5           1     0.93007]]\n"
     ]
    },
    {
     "name": "stderr",
     "output_type": "stream",
     "text": [
      "0: 480x640 1 motobike, 1 vehicle, 219.5ms\n",
      "Speed: 13.5ms preprocess, 219.5ms inference, 1.5ms postprocess per image at shape (1, 3, 480, 640)\n",
      "\n"
     ]
    },
    {
     "name": "stdout",
     "output_type": "stream",
     "text": [
      "Results:  [[220, 388, 413, 490], [487, 388, 532, 484]] [0.9048629403114319, 0.8288885951042175] [1, 0]\n",
      "Output values:  [[        486         387         532         484           2           0     0.82889]\n",
      " [        219         387         413         490           5           1     0.90486]]\n"
     ]
    },
    {
     "name": "stderr",
     "output_type": "stream",
     "text": [
      "0: 480x640 2 motobikes, 2 vehicles, 224.4ms\n",
      "Speed: 13.5ms preprocess, 224.4ms inference, 2.0ms postprocess per image at shape (1, 3, 480, 640)\n"
     ]
    },
    {
     "name": "stdout",
     "output_type": "stream",
     "text": [
      "Results:  [[255, 390, 422, 476], [490, 389, 534, 518], [460, 389, 534, 520], [0, 387, 27, 413]] [0.8925573825836182, 0.7731731534004211, 0.6638110280036926, 0.28241315484046936] [1, 0, 0, 1]\n"
     ]
    },
    {
     "name": "stderr",
     "output_type": "stream",
     "text": [
      "\n"
     ]
    },
    {
     "name": "stdout",
     "output_type": "stream",
     "text": [
      "Output values:  [[        490         389         533         517           2           0     0.77317]\n",
      " [        254         389         422         476           5           1     0.89256]]\n"
     ]
    },
    {
     "name": "stderr",
     "output_type": "stream",
     "text": [
      "0: 480x640 1 motobike, 1 vehicle, 226.1ms\n",
      "Speed: 18.6ms preprocess, 226.1ms inference, 1.0ms postprocess per image at shape (1, 3, 480, 640)\n"
     ]
    },
    {
     "name": "stdout",
     "output_type": "stream",
     "text": [
      "Results:  [[245, 375, 420, 466], [481, 371, 540, 536]] [0.8939622044563293, 0.6593000888824463] [1, 0]\n",
      "Output values:  [[        481         372         539         534           2           0      0.6593]\n",
      " [        245         375         419         465           5           1     0.89396]]\n"
     ]
    },
    {
     "name": "stderr",
     "output_type": "stream",
     "text": [
      "\n",
      "0: 480x640 2 motobikes, 1 vehicle, 225.5ms\n",
      "Speed: 14.0ms preprocess, 225.5ms inference, 2.0ms postprocess per image at shape (1, 3, 480, 640)\n"
     ]
    },
    {
     "name": "stdout",
     "output_type": "stream",
     "text": [
      "Results:  [[317, 382, 442, 452], [489, 384, 541, 514], [490, 386, 540, 476]] [0.880245566368103, 0.7522438168525696, 0.2500709593296051] [1, 0, 0]\n",
      "Output values:  [[        488         382         541         515           2           0     0.75224]\n",
      " [        316         381         442         452           5           1     0.88025]]\n"
     ]
    },
    {
     "name": "stderr",
     "output_type": "stream",
     "text": [
      "\n",
      "0: 480x640 2 motobikes, 1 vehicle, 227.1ms\n",
      "Speed: 12.5ms preprocess, 227.1ms inference, 1.0ms postprocess per image at shape (1, 3, 480, 640)\n"
     ]
    },
    {
     "name": "stdout",
     "output_type": "stream",
     "text": [
      "Results:  [[370, 382, 465, 447], [494, 381, 540, 573], [480, 377, 540, 597]] [0.8791915774345398, 0.6854313611984253, 0.5658880472183228] [1, 0, 0]\n"
     ]
    },
    {
     "name": "stderr",
     "output_type": "stream",
     "text": [
      "\n"
     ]
    },
    {
     "name": "stdout",
     "output_type": "stream",
     "text": [
      "Output values:  [[        481         382         538         590           2           0     0.56589]\n",
      " [        370         382         464         446           5           1     0.87919]]\n"
     ]
    },
    {
     "name": "stderr",
     "output_type": "stream",
     "text": [
      "0: 480x640 1 motobike, 2 vehicles, 199.1ms\n",
      "Speed: 13.7ms preprocess, 199.1ms inference, 2.0ms postprocess per image at shape (1, 3, 480, 640)\n",
      "\n"
     ]
    },
    {
     "name": "stdout",
     "output_type": "stream",
     "text": [
      "Results:  [[421, 385, 513, 433], [486, 371, 547, 645], [35, 388, 92, 413]] [0.8789688348770142, 0.7345045208930969, 0.45209041237831116] [1, 0, 1]\n",
      "Output values:  [[        486         372         546         643           2           0      0.7345]\n",
      " [        420         384         513         433           5           1     0.87897]]\n"
     ]
    },
    {
     "name": "stderr",
     "output_type": "stream",
     "text": [
      "0: 480x640 4 vehicles, 145.5ms\n",
      "Speed: 8.5ms preprocess, 145.5ms inference, 2.0ms postprocess per image at shape (1, 3, 480, 640)\n",
      "\n"
     ]
    },
    {
     "name": "stdout",
     "output_type": "stream",
     "text": [
      "Results:  [[0, 384, 63, 409], [463, 382, 529, 426], [722, 378, 795, 402], [461, 384, 556, 426]] [0.7834944725036621, 0.7365656495094299, 0.6830973625183105, 0.3858300745487213] [1, 1, 1, 1]\n",
      "Output values:  [[        487         371         546         658           2           0      0.7345]\n",
      " [        463         382         528         425           5           1     0.73657]]\n"
     ]
    },
    {
     "name": "stderr",
     "output_type": "stream",
     "text": [
      "0: 480x640 1 motobike, 3 vehicles, 136.6ms\n",
      "Speed: 9.5ms preprocess, 136.6ms inference, 2.0ms postprocess per image at shape (1, 3, 480, 640)\n",
      "\n"
     ]
    },
    {
     "name": "stdout",
     "output_type": "stream",
     "text": [
      "Results:  [[503, 385, 595, 425], [500, 389, 556, 519], [0, 382, 29, 414], [983, 374, 1024, 417]] [0.8557909727096558, 0.6555250287055969, 0.48643389344215393, 0.31834524869918823] [1, 0, 1, 1]\n",
      "Output values:  [[        490         381         543         417           5           1     0.73657]]\n"
     ]
    },
    {
     "name": "stderr",
     "output_type": "stream",
     "text": [
      "0: 480x640 1 motobike, 2 vehicles, 140.6ms\n",
      "Speed: 9.0ms preprocess, 140.6ms inference, 1.0ms postprocess per image at shape (1, 3, 480, 640)\n"
     ]
    },
    {
     "name": "stdout",
     "output_type": "stream",
     "text": [
      "Results:  [[699, 381, 780, 409], [545, 385, 641, 426], [524, 385, 581, 505]] [0.8572476506233215, 0.8196557760238647, 0.8013292551040649] [1, 1, 0]\n",
      "Output values:  [[        545         385         640         425          13           1     0.81966]]\n"
     ]
    },
    {
     "name": "stderr",
     "output_type": "stream",
     "text": [
      "\n",
      "0: 480x640 1 motobike, 2 vehicles, 156.0ms\n",
      "Speed: 10.1ms preprocess, 156.0ms inference, 2.2ms postprocess per image at shape (1, 3, 480, 640)\n"
     ]
    },
    {
     "name": "stdout",
     "output_type": "stream",
     "text": [
      "Results:  [[608, 377, 701, 418], [572, 380, 623, 484], [700, 375, 771, 403]] [0.8630633354187012, 0.7976755499839783, 0.691583514213562] [1, 0, 1]\n"
     ]
    },
    {
     "name": "stderr",
     "output_type": "stream",
     "text": [
      "\n"
     ]
    },
    {
     "name": "stdout",
     "output_type": "stream",
     "text": [
      "Output values:  [[        607         376         701         418          13           1     0.86306]]\n"
     ]
    },
    {
     "name": "stderr",
     "output_type": "stream",
     "text": [
      "0: 480x640 1 motobike, 3 vehicles, 154.1ms\n",
      "Speed: 13.9ms preprocess, 154.1ms inference, 2.0ms postprocess per image at shape (1, 3, 480, 640)\n"
     ]
    },
    {
     "name": "stdout",
     "output_type": "stream",
     "text": [
      "Results:  [[875, 378, 987, 417], [652, 382, 771, 424], [625, 389, 682, 471], [624, 390, 681, 470]] [0.8916449546813965, 0.8467870950698853, 0.6186605095863342, 0.3280554711818695] [1, 1, 0, 1]\n"
     ]
    },
    {
     "name": "stderr",
     "output_type": "stream",
     "text": [
      "\n"
     ]
    },
    {
     "name": "stdout",
     "output_type": "stream",
     "text": [
      "Output values:  [[        652         382         770         423          13           1     0.84679]]\n"
     ]
    },
    {
     "name": "stderr",
     "output_type": "stream",
     "text": [
      "0: 480x640 1 motobike, 2 vehicles, 155.1ms\n",
      "Speed: 11.5ms preprocess, 155.1ms inference, 0.9ms postprocess per image at shape (1, 3, 480, 640)\n",
      "\n"
     ]
    },
    {
     "name": "stdout",
     "output_type": "stream",
     "text": [
      "Results:  [[738, 388, 863, 429], [682, 393, 741, 474], [851, 379, 936, 423]] [0.855654239654541, 0.6646395921707153, 0.2676772177219391] [1, 0, 1]\n",
      "Output values:  [[        737         387         863         429          13           1     0.85565]]\n"
     ]
    },
    {
     "name": "stderr",
     "output_type": "stream",
     "text": [
      "0: 480x640 1 motobike, 2 vehicles, 137.0ms\n",
      "Speed: 8.5ms preprocess, 137.0ms inference, 1.2ms postprocess per image at shape (1, 3, 480, 640)\n",
      "\n"
     ]
    },
    {
     "name": "stdout",
     "output_type": "stream",
     "text": [
      "Results:  [[601, 380, 690, 411], [740, 388, 806, 482], [759, 377, 944, 428]] [0.8419255018234253, 0.8365964889526367, 0.7792212963104248] [1, 0, 1]\n",
      "Output values:  [[        759         377         943         427          13           1     0.77922]]\n"
     ]
    },
    {
     "name": "stderr",
     "output_type": "stream",
     "text": [
      "0: 480x640 4 vehicles, 126.9ms\n",
      "Speed: 7.9ms preprocess, 126.9ms inference, 3.0ms postprocess per image at shape (1, 3, 480, 640)\n",
      "\n"
     ]
    },
    {
     "name": "stdout",
     "output_type": "stream",
     "text": [
      "Results:  [[838, 377, 998, 426], [720, 380, 813, 415], [561, 379, 652, 411], [777, 384, 834, 453]] [0.8951290845870972, 0.86600261926651, 0.8657882213592529, 0.5051058530807495] [1, 1, 1, 1]\n",
      "Output values:  [[        837         376         998         426          13           1     0.89513]]\n"
     ]
    },
    {
     "name": "stderr",
     "output_type": "stream",
     "text": [
      "0: 480x640 5 vehicles, 131.1ms\n",
      "Speed: 8.0ms preprocess, 131.1ms inference, 4.0ms postprocess per image at shape (1, 3, 480, 640)\n"
     ]
    },
    {
     "name": "stdout",
     "output_type": "stream",
     "text": [
      "Results:  [[492, 383, 596, 417], [671, 385, 760, 422], [802, 394, 857, 454], [865, 385, 1007, 431], [866, 386, 965, 430]] [0.8992776870727539, 0.8853239417076111, 0.7324678897857666, 0.4544689655303955, 0.3822740614414215] [1, 1, 1, 1, 1]\n",
      "Output values:  [[        863         384        1008         431          13           1     0.45447]]\n"
     ]
    },
    {
     "name": "stderr",
     "output_type": "stream",
     "text": [
      "\n",
      "0: 480x640 4 vehicles, 132.7ms\n",
      "Speed: 8.0ms preprocess, 132.7ms inference, 1.0ms postprocess per image at shape (1, 3, 480, 640)\n",
      "\n"
     ]
    },
    {
     "name": "stdout",
     "output_type": "stream",
     "text": [
      "Results:  [[590, 386, 681, 425], [431, 385, 538, 421], [801, 393, 859, 452], [806, 382, 1016, 433]] [0.8958604335784912, 0.888454794883728, 0.7501978874206543, 0.40160077810287476] [1, 1, 1, 1]\n",
      "Output values:  [[        807         382        1014         432          13           1      0.4016]\n",
      " [        801         393         858         451          26           1      0.7502]]\n"
     ]
    },
    {
     "name": "stderr",
     "output_type": "stream",
     "text": [
      "0: 480x640 1 motobike, 4 vehicles, 132.9ms\n",
      "Speed: 7.0ms preprocess, 132.9ms inference, 1.4ms postprocess per image at shape (1, 3, 480, 640)\n"
     ]
    },
    {
     "name": "stdout",
     "output_type": "stream",
     "text": [
      "Results:  [[495, 383, 589, 429], [695, 385, 777, 416], [337, 385, 455, 424], [791, 389, 843, 451], [851, 385, 926, 432]] [0.8969305753707886, 0.8720632195472717, 0.8429772853851318, 0.7037084102630615, 0.2871195375919342] [1, 1, 1, 0, 1]\n"
     ]
    },
    {
     "name": "stderr",
     "output_type": "stream",
     "text": [
      "\n"
     ]
    },
    {
     "name": "stdout",
     "output_type": "stream",
     "text": [
      "Output values:  [[        850         384         927         432          13           1     0.28712]\n",
      " [        791         389         842         450          26           0     0.70371]]\n"
     ]
    },
    {
     "name": "stderr",
     "output_type": "stream",
     "text": [
      "0: 480x640 3 vehicles, 163.0ms\n",
      "Speed: 10.2ms preprocess, 163.0ms inference, 2.0ms postprocess per image at shape (1, 3, 480, 640)\n"
     ]
    },
    {
     "name": "stdout",
     "output_type": "stream",
     "text": [
      "Results:  [[358, 381, 483, 443], [598, 390, 669, 420], [763, 400, 808, 455]] [0.8844789266586304, 0.8664893507957458, 0.7024974226951599] [1, 1, 1]\n",
      "Output values:  [[        883         384         961         433          13           1     0.28712]\n",
      " [        762         399         808         455          26           1      0.7025]]\n"
     ]
    },
    {
     "name": "stderr",
     "output_type": "stream",
     "text": [
      "\n",
      "0: 480x640 1 motobike, 1 vehicle, 161.6ms\n",
      "Speed: 10.5ms preprocess, 161.6ms inference, 2.0ms postprocess per image at shape (1, 3, 480, 640)\n",
      "\n"
     ]
    },
    {
     "name": "stdout",
     "output_type": "stream",
     "text": [
      "Results:  [[412, 380, 505, 421], [714, 398, 753, 453]] [0.8930215835571289, 0.738847553730011] [1, 0]\n",
      "Output values:  [[        714         398         752         452          26           0     0.73885]\n",
      " [        411         379         505         421          32           1     0.89302]]\n"
     ]
    },
    {
     "name": "stderr",
     "output_type": "stream",
     "text": [
      "0: 480x640 1 motobike, 1 vehicle, 157.4ms\n",
      "Speed: 12.6ms preprocess, 157.4ms inference, 2.0ms postprocess per image at shape (1, 3, 480, 640)\n"
     ]
    },
    {
     "name": "stdout",
     "output_type": "stream",
     "text": [
      "Results:  [[125, 377, 322, 439], [660, 381, 694, 438]] [0.8938953280448914, 0.7303820848464966] [1, 0]\n",
      "Output values:  [[        660         381         693         437          26           0     0.73038]\n",
      " [        437         376         524         414          32           1     0.89302]]\n"
     ]
    },
    {
     "name": "stderr",
     "output_type": "stream",
     "text": [
      "\n",
      "0: 480x640 1 motobike, 1 vehicle, 162.1ms\n",
      "Speed: 10.7ms preprocess, 162.1ms inference, 2.0ms postprocess per image at shape (1, 3, 480, 640)\n"
     ]
    },
    {
     "name": "stdout",
     "output_type": "stream",
     "text": [
      "Results:  [[0, 387, 161, 465], [660, 383, 685, 436]] [0.8803772926330566, 0.47796952724456787] [1, 0]\n",
      "Output values:  [[        659         382         685         436          26           0     0.47797]]\n"
     ]
    },
    {
     "name": "stderr",
     "output_type": "stream",
     "text": [
      "\n",
      "0: 480x640 1 motobike, 159.7ms\n",
      "Speed: 12.6ms preprocess, 159.7ms inference, 1.5ms postprocess per image at shape (1, 3, 480, 640)\n",
      "\n"
     ]
    },
    {
     "name": "stdout",
     "output_type": "stream",
     "text": [
      "Results:  [[656, 386, 681, 441]] [0.5289222002029419] [0]\n",
      "Output values:  [[        656         386         680         440          26           0     0.52892]]\n"
     ]
    },
    {
     "name": "stderr",
     "output_type": "stream",
     "text": [
      "0: 480x640 (no detections), 159.6ms\n",
      "Speed: 9.5ms preprocess, 159.6ms inference, 0.0ms postprocess per image at shape (1, 3, 480, 640)\n",
      "\n"
     ]
    },
    {
     "name": "stdout",
     "output_type": "stream",
     "text": [
      "Results:  [] [] []\n",
      "Output values:  [[        637         385         660         439          26           0     0.52892]]\n"
     ]
    },
    {
     "name": "stderr",
     "output_type": "stream",
     "text": [
      "0: 480x640 1 motobike, 158.7ms\n",
      "Speed: 10.2ms preprocess, 158.7ms inference, 1.3ms postprocess per image at shape (1, 3, 480, 640)\n",
      "\n"
     ]
    },
    {
     "name": "stdout",
     "output_type": "stream",
     "text": [
      "Results:  [[629, 391, 654, 443]] [0.6234263777732849] [0]\n",
      "Output values:  [[        628         390         654         443          26           0     0.62343]]\n"
     ]
    },
    {
     "name": "stderr",
     "output_type": "stream",
     "text": [
      "0: 480x640 1 motobike, 159.3ms\n",
      "Speed: 10.5ms preprocess, 159.3ms inference, 1.0ms postprocess per image at shape (1, 3, 480, 640)\n",
      "\n"
     ]
    },
    {
     "name": "stdout",
     "output_type": "stream",
     "text": [
      "Results:  [[601, 384, 627, 434]] [0.7586663961410522] [0]\n",
      "Output values:  [[        600         383         627         434          26           0     0.75867]]\n"
     ]
    },
    {
     "name": "stderr",
     "output_type": "stream",
     "text": [
      "0: 480x640 1 motobike, 156.0ms\n",
      "Speed: 9.5ms preprocess, 156.0ms inference, 1.0ms postprocess per image at shape (1, 3, 480, 640)\n",
      "\n"
     ]
    },
    {
     "name": "stdout",
     "output_type": "stream",
     "text": [
      "Results:  [[584, 382, 610, 433]] [0.7250091433525085] [0]\n",
      "Output values:  [[        584         382         609         432          26           0     0.72501]]\n"
     ]
    },
    {
     "name": "stderr",
     "output_type": "stream",
     "text": [
      "0: 480x640 1 motobike, 158.9ms\n",
      "Speed: 9.5ms preprocess, 158.9ms inference, 2.3ms postprocess per image at shape (1, 3, 480, 640)\n",
      "\n"
     ]
    },
    {
     "name": "stdout",
     "output_type": "stream",
     "text": [
      "Results:  [[578, 390, 602, 438]] [0.745124340057373] [0]\n",
      "Output values:  [[        577         389         602         438          26           0     0.74512]]\n"
     ]
    },
    {
     "name": "stderr",
     "output_type": "stream",
     "text": [
      "0: 480x640 1 motobike, 159.4ms\n",
      "Speed: 10.5ms preprocess, 159.4ms inference, 2.0ms postprocess per image at shape (1, 3, 480, 640)\n",
      "\n"
     ]
    },
    {
     "name": "stdout",
     "output_type": "stream",
     "text": [
      "Results:  [[590, 391, 614, 443]] [0.7768697142601013] [0]\n",
      "Output values:  [[        590         391         613         442          26           0     0.77687]]\n"
     ]
    },
    {
     "name": "stderr",
     "output_type": "stream",
     "text": [
      "0: 480x640 1 motobike, 1 vehicle, 161.6ms\n",
      "Speed: 10.5ms preprocess, 161.6ms inference, 2.0ms postprocess per image at shape (1, 3, 480, 640)\n"
     ]
    },
    {
     "name": "stdout",
     "output_type": "stream",
     "text": [
      "Results:  [[581, 385, 606, 439], [748, 386, 788, 408]] [0.8194855451583862, 0.7252321243286133] [0, 1]\n",
      "Output values:  [[        581         385         605         438          26           0     0.81949]]\n"
     ]
    },
    {
     "name": "stderr",
     "output_type": "stream",
     "text": [
      "\n",
      "0: 480x640 1 motobike, 1 vehicle, 161.6ms\n",
      "Speed: 11.5ms preprocess, 161.6ms inference, 2.5ms postprocess per image at shape (1, 3, 480, 640)\n"
     ]
    },
    {
     "name": "stdout",
     "output_type": "stream",
     "text": [
      "Results:  [[734, 383, 777, 405], [584, 377, 613, 432]] [0.7320423722267151, 0.7306109666824341] [1, 0]\n",
      "Output values:  [[        584         377         612         431          26           0     0.73061]]\n"
     ]
    },
    {
     "name": "stderr",
     "output_type": "stream",
     "text": [
      "\n",
      "0: 480x640 1 motobike, 1 vehicle, 156.2ms\n",
      "Speed: 11.5ms preprocess, 156.2ms inference, 1.0ms postprocess per image at shape (1, 3, 480, 640)\n",
      "\n"
     ]
    },
    {
     "name": "stdout",
     "output_type": "stream",
     "text": [
      "Results:  [[581, 376, 606, 429], [725, 377, 769, 401]] [0.7543880343437195, 0.536270797252655] [0, 1]\n",
      "Output values:  [[        580         375         606         429          26           0     0.75439]\n",
      " [        725         377         768         400          38           1     0.53627]]\n"
     ]
    },
    {
     "name": "stderr",
     "output_type": "stream",
     "text": [
      "0: 480x640 1 motobike, 1 vehicle, 156.2ms\n",
      "Speed: 10.7ms preprocess, 156.2ms inference, 3.5ms postprocess per image at shape (1, 3, 480, 640)\n",
      "\n"
     ]
    },
    {
     "name": "stdout",
     "output_type": "stream",
     "text": [
      "Results:  [[586, 385, 611, 433], [720, 387, 764, 411]] [0.721494197845459, 0.5490133166313171] [0, 1]\n",
      "Output values:  [[        585         384         611         433          26           0     0.72149]\n",
      " [        719         386         764         411          38           1     0.54901]]\n"
     ]
    },
    {
     "name": "stderr",
     "output_type": "stream",
     "text": [
      "0: 480x640 1 motobike, 161.3ms\n",
      "Speed: 11.1ms preprocess, 161.3ms inference, 1.5ms postprocess per image at shape (1, 3, 480, 640)\n",
      "\n"
     ]
    },
    {
     "name": "stdout",
     "output_type": "stream",
     "text": [
      "Results:  [[600, 384, 623, 431]] [0.3116024136543274] [0]\n",
      "Output values:  [[        599         383         622         431          26           0      0.3116]\n",
      " [        713         388         759         413          38           1     0.54901]]\n"
     ]
    },
    {
     "name": "stderr",
     "output_type": "stream",
     "text": [
      "0: 480x640 1 motobike, 2 vehicles, 160.1ms\n",
      "Speed: 11.5ms preprocess, 160.1ms inference, 1.8ms postprocess per image at shape (1, 3, 480, 640)\n"
     ]
    },
    {
     "name": "stdout",
     "output_type": "stream",
     "text": [
      "Results:  [[715, 390, 768, 420], [0, 396, 303, 765], [594, 387, 616, 433]] [0.7624149918556213, 0.7283949255943298, 0.6668445467948914] [1, 1, 0]\n",
      "Output values:  [[        593         386         616         433          26           0     0.66684]\n",
      " [        715         390         767         419          38           1     0.76241]]\n"
     ]
    },
    {
     "name": "stderr",
     "output_type": "stream",
     "text": [
      "\n",
      "0: 480x640 1 motobike, 1 vehicle, 161.4ms\n",
      "Speed: 10.5ms preprocess, 161.4ms inference, 1.0ms postprocess per image at shape (1, 3, 480, 640)\n"
     ]
    },
    {
     "name": "stdout",
     "output_type": "stream",
     "text": [
      "Results:  [[695, 393, 753, 423], [567, 388, 595, 447]] [0.8387950658798218, 0.8079709410667419] [1, 0]\n",
      "Output values:  [[        566         387         595         447           2           0     0.80797]\n",
      " [        589         387         610         432          26           0     0.66684]\n",
      " [        694         392         753         423          38           1      0.8388]]\n"
     ]
    },
    {
     "name": "stderr",
     "output_type": "stream",
     "text": [
      "\n",
      "0: 480x640 1 motobike, 2 vehicles, 160.7ms\n",
      "Speed: 11.9ms preprocess, 160.7ms inference, 2.0ms postprocess per image at shape (1, 3, 480, 640)\n"
     ]
    },
    {
     "name": "stdout",
     "output_type": "stream",
     "text": [
      "Results:  [[688, 389, 763, 423], [548, 385, 581, 457], [1, 407, 232, 622]] [0.8465568423271179, 0.8081167936325073, 0.7346451282501221] [1, 0, 1]\n"
     ]
    },
    {
     "name": "stderr",
     "output_type": "stream",
     "text": [
      "\n"
     ]
    },
    {
     "name": "stdout",
     "output_type": "stream",
     "text": [
      "Output values:  [[        548         385         580         456           2           0     0.80812]\n",
      " [        688         389         762         422          38           1     0.84656]]\n"
     ]
    },
    {
     "name": "stderr",
     "output_type": "stream",
     "text": [
      "0: 480x640 1 motobike, 2 vehicles, 158.8ms\n",
      "Speed: 11.5ms preprocess, 158.8ms inference, 2.0ms postprocess per image at shape (1, 3, 480, 640)\n"
     ]
    },
    {
     "name": "stdout",
     "output_type": "stream",
     "text": [
      "Results:  [[540, 376, 575, 452], [689, 377, 769, 416], [0, 419, 368, 630]] [0.8297080397605896, 0.8057901263237, 0.4649945795536041] [0, 1, 1]\n"
     ]
    },
    {
     "name": "stderr",
     "output_type": "stream",
     "text": [
      "\n"
     ]
    },
    {
     "name": "stdout",
     "output_type": "stream",
     "text": [
      "Output values:  [[        540         375         575         452           2           0     0.82971]\n",
      " [        689         377         768         415          38           1     0.80579]]\n"
     ]
    },
    {
     "name": "stderr",
     "output_type": "stream",
     "text": [
      "0: 480x640 1 motobike, 2 vehicles, 158.3ms\n",
      "Speed: 12.6ms preprocess, 158.3ms inference, 2.0ms postprocess per image at shape (1, 3, 480, 640)\n"
     ]
    },
    {
     "name": "stdout",
     "output_type": "stream",
     "text": [
      "Results:  [[229, 356, 437, 497], [533, 383, 570, 460], [686, 383, 765, 423]] [0.8609145879745483, 0.8331874012947083, 0.8055213689804077] [1, 0, 1]\n",
      "Output values:  [[        532         382         570         460           2           0     0.83319]\n",
      " [        685         382         765         423          38           1     0.80552]]\n"
     ]
    },
    {
     "name": "stderr",
     "output_type": "stream",
     "text": [
      "\n",
      "0: 480x640 1 motobike, 2 vehicles, 158.6ms\n",
      "Speed: 9.8ms preprocess, 158.6ms inference, 1.0ms postprocess per image at shape (1, 3, 480, 640)\n"
     ]
    },
    {
     "name": "stdout",
     "output_type": "stream",
     "text": [
      "Results:  [[685, 385, 766, 427], [535, 386, 570, 462], [359, 368, 476, 454]] [0.8424102663993835, 0.8361790180206299, 0.6618985533714294] [1, 0, 1]\n"
     ]
    },
    {
     "name": "stderr",
     "output_type": "stream",
     "text": [
      "\n"
     ]
    },
    {
     "name": "stdout",
     "output_type": "stream",
     "text": [
      "Output values:  [[        534         385         570         462           2           0     0.83618]\n",
      " [        684         384         766         426          38           1     0.84241]]\n"
     ]
    },
    {
     "name": "stderr",
     "output_type": "stream",
     "text": [
      "0: 480x640 2 motobikes, 3 vehicles, 159.5ms\n",
      "Speed: 11.5ms preprocess, 159.5ms inference, 2.5ms postprocess per image at shape (1, 3, 480, 640)\n"
     ]
    },
    {
     "name": "stdout",
     "output_type": "stream",
     "text": [
      "Results:  [[685, 386, 766, 427], [535, 387, 571, 465], [423, 370, 503, 433], [423, 370, 503, 433], [708, 387, 767, 428]] [0.8430382013320923, 0.8235887289047241, 0.6031560897827148, 0.46219849586486816, 0.3892575800418854] [1, 0, 0, 1, 1]\n"
     ]
    },
    {
     "name": "stderr",
     "output_type": "stream",
     "text": [
      "\n"
     ]
    },
    {
     "name": "stdout",
     "output_type": "stream",
     "text": [
      "Output values:  [[        534         386         570         464           2           0     0.82359]\n",
      " [        684         385         766         427          38           1     0.84304]]\n"
     ]
    },
    {
     "name": "stderr",
     "output_type": "stream",
     "text": [
      "0: 480x640 2 motobikes, 159.0ms\n",
      "Speed: 11.5ms preprocess, 159.0ms inference, 2.0ms postprocess per image at shape (1, 3, 480, 640)\n"
     ]
    },
    {
     "name": "stdout",
     "output_type": "stream",
     "text": [
      "Results:  [[534, 388, 570, 467], [459, 375, 518, 422]] [0.793611466884613, 0.4492112100124359] [0, 0]\n",
      "Output values:  [[        533         387         570         467           2           0     0.79361]\n",
      " [        680         386         765         429          38           1     0.84304]]\n"
     ]
    },
    {
     "name": "stderr",
     "output_type": "stream",
     "text": [
      "\n",
      "0: 480x640 2 motobikes, 161.0ms\n",
      "Speed: 10.5ms preprocess, 161.0ms inference, 1.5ms postprocess per image at shape (1, 3, 480, 640)\n",
      "\n"
     ]
    },
    {
     "name": "stdout",
     "output_type": "stream",
     "text": [
      "Results:  [[531, 388, 567, 468], [484, 380, 527, 419]] [0.814751386642456, 0.3996036946773529] [0, 0]\n",
      "Output values:  [[        530         387         567         468           2           0     0.81475]\n",
      " [        483         379         527         419          43           0      0.3996]]\n"
     ]
    },
    {
     "name": "stderr",
     "output_type": "stream",
     "text": [
      "0: 480x640 1 motobike, 158.9ms\n",
      "Speed: 13.0ms preprocess, 158.9ms inference, 1.0ms postprocess per image at shape (1, 3, 480, 640)\n",
      "\n"
     ]
    },
    {
     "name": "stdout",
     "output_type": "stream",
     "text": [
      "Results:  [[531, 388, 565, 464]] [0.7971059679985046] [0]\n",
      "Output values:  [[        530         387         565         464           2           0     0.79711]\n",
      " [        499         383         535         416          43           0      0.3996]]\n"
     ]
    },
    {
     "name": "stderr",
     "output_type": "stream",
     "text": [
      "0: 480x640 1 motobike, 156.2ms\n",
      "Speed: 11.0ms preprocess, 156.2ms inference, 2.0ms postprocess per image at shape (1, 3, 480, 640)\n",
      "\n"
     ]
    },
    {
     "name": "stdout",
     "output_type": "stream",
     "text": [
      "Results:  [[536, 391, 565, 458]] [0.7808870673179626] [0]\n",
      "Output values:  [[        535         390         565         458           2           0     0.78089]]\n"
     ]
    },
    {
     "name": "stderr",
     "output_type": "stream",
     "text": [
      "0: 480x640 1 motobike, 161.6ms\n",
      "Speed: 10.4ms preprocess, 161.6ms inference, 2.0ms postprocess per image at shape (1, 3, 480, 640)\n",
      "\n"
     ]
    },
    {
     "name": "stdout",
     "output_type": "stream",
     "text": [
      "Results:  [[545, 388, 573, 451]] [0.7680128216743469] [0]\n",
      "Output values:  [[        544         387         573         451           2           0     0.76801]]\n"
     ]
    },
    {
     "name": "stderr",
     "output_type": "stream",
     "text": [
      "0: 480x640 1 motobike, 161.0ms\n",
      "Speed: 11.5ms preprocess, 161.0ms inference, 2.0ms postprocess per image at shape (1, 3, 480, 640)\n",
      "\n"
     ]
    },
    {
     "name": "stdout",
     "output_type": "stream",
     "text": [
      "Results:  [[538, 391, 563, 452]] [0.7864269614219666] [0]\n",
      "Output values:  [[        537         390         563         452           2           0     0.78643]]\n"
     ]
    },
    {
     "name": "stderr",
     "output_type": "stream",
     "text": [
      "0: 480x640 1 motobike, 158.8ms\n",
      "Speed: 10.5ms preprocess, 158.8ms inference, 2.0ms postprocess per image at shape (1, 3, 480, 640)\n",
      "\n"
     ]
    },
    {
     "name": "stdout",
     "output_type": "stream",
     "text": [
      "Results:  [[540, 387, 567, 450]] [0.7907128930091858] [0]\n",
      "Output values:  [[        540         387         566         449           2           0     0.79071]]\n"
     ]
    },
    {
     "name": "stderr",
     "output_type": "stream",
     "text": [
      "0: 480x640 1 motobike, 1 vehicle, 160.4ms\n",
      "Speed: 11.9ms preprocess, 160.4ms inference, 2.0ms postprocess per image at shape (1, 3, 480, 640)\n",
      "\n"
     ]
    },
    {
     "name": "stdout",
     "output_type": "stream",
     "text": [
      "Results:  [[536, 383, 565, 449], [1, 0, 62, 57]] [0.7916511297225952, 0.2505398988723755] [0, 1]\n",
      "Output values:  [[        536         383         564         448           2           0     0.79165]]\n"
     ]
    },
    {
     "name": "stderr",
     "output_type": "stream",
     "text": [
      "0: 480x640 1 motobike, 162.4ms\n",
      "Speed: 11.5ms preprocess, 162.4ms inference, 2.0ms postprocess per image at shape (1, 3, 480, 640)\n",
      "\n"
     ]
    },
    {
     "name": "stdout",
     "output_type": "stream",
     "text": [
      "Results:  [[538, 382, 571, 458]] [0.7745457887649536] [0]\n",
      "Output values:  [[        538         382         570         457           2           0     0.77455]]\n"
     ]
    },
    {
     "name": "stderr",
     "output_type": "stream",
     "text": [
      "0: 480x640 1 motobike, 1 vehicle, 159.2ms\n",
      "Speed: 10.1ms preprocess, 159.2ms inference, 2.0ms postprocess per image at shape (1, 3, 480, 640)\n"
     ]
    },
    {
     "name": "stdout",
     "output_type": "stream",
     "text": [
      "Results:  [[541, 376, 571, 442], [0, 407, 277, 712]] [0.782751739025116, 0.5209705233573914] [0, 1]\n",
      "Output values:  [[        540         375         571         442           2           0     0.78275]]\n"
     ]
    },
    {
     "name": "stderr",
     "output_type": "stream",
     "text": [
      "\n",
      "0: 480x640 1 motobike, 2 vehicles, 159.1ms\n",
      "Speed: 11.1ms preprocess, 159.1ms inference, 1.0ms postprocess per image at shape (1, 3, 480, 640)\n"
     ]
    },
    {
     "name": "stdout",
     "output_type": "stream",
     "text": [
      "Results:  [[2, 412, 400, 600], [547, 382, 572, 439], [1, 411, 217, 767]] [0.8105016946792603, 0.7058818340301514, 0.5034897923469543] [1, 0, 1]\n",
      "Output values:  [[        546         381         572         439           2           0     0.70588]]\n"
     ]
    },
    {
     "name": "stderr",
     "output_type": "stream",
     "text": [
      "\n",
      "0: 480x640 1 motobike, 2 vehicles, 157.6ms\n",
      "Speed: 11.5ms preprocess, 157.6ms inference, 1.0ms postprocess per image at shape (1, 3, 480, 640)\n"
     ]
    },
    {
     "name": "stdout",
     "output_type": "stream",
     "text": [
      "Results:  [[472, 367, 551, 407], [555, 387, 578, 431], [0, 416, 362, 768]] [0.8140233159065247, 0.7581950426101685, 0.3112300932407379] [1, 0, 1]\n",
      "Output values:  [[        547         380         572         437           2           0     0.70588]\n",
      " [        555         387         577         430          26           0      0.7582]\n",
      " [          0         414         326         767          47           1     0.31123]]\n"
     ]
    },
    {
     "name": "stderr",
     "output_type": "stream",
     "text": [
      "\n",
      "0: 480x640 1 motobike, 1 vehicle, 158.7ms\n",
      "Speed: 10.6ms preprocess, 158.7ms inference, 2.0ms postprocess per image at shape (1, 3, 480, 640)\n"
     ]
    },
    {
     "name": "stdout",
     "output_type": "stream",
     "text": [
      "Results:  [[257, 395, 469, 480], [560, 390, 583, 433]] [0.8496010303497314, 0.6146245002746582] [1, 0]\n",
      "Output values:  [[        559         389         583         433          26           0     0.61462]\n",
      " [          0         416         343         767          47           1     0.31123]]\n"
     ]
    },
    {
     "name": "stderr",
     "output_type": "stream",
     "text": [
      "\n",
      "0: 480x640 1 motobike, 1 vehicle, 157.4ms\n",
      "Speed: 10.5ms preprocess, 157.4ms inference, 2.0ms postprocess per image at shape (1, 3, 480, 640)\n"
     ]
    },
    {
     "name": "stdout",
     "output_type": "stream",
     "text": [
      "Results:  [[267, 395, 460, 482], [544, 390, 566, 438]] [0.8811168074607849, 0.7358624935150146] [1, 0]\n",
      "Output values:  [[        544         390         565         437          26           0     0.73586]]\n"
     ]
    },
    {
     "name": "stderr",
     "output_type": "stream",
     "text": [
      "\n",
      "0: 480x640 1 motobike, 1 vehicle, 158.0ms\n",
      "Speed: 9.5ms preprocess, 158.0ms inference, 1.5ms postprocess per image at shape (1, 3, 480, 640)\n"
     ]
    },
    {
     "name": "stdout",
     "output_type": "stream",
     "text": [
      "Results:  [[204, 285, 472, 479], [554, 390, 578, 443]] [0.8870422840118408, 0.731217622756958] [1, 0]\n",
      "Output values:  [[        553         389         577         442           2           0     0.73122]\n",
      " [        540         390         562         438          26           0     0.73586]\n",
      " [        204         285         471         478          50           1     0.88704]]\n"
     ]
    },
    {
     "name": "stderr",
     "output_type": "stream",
     "text": [
      "\n",
      "0: 480x640 1 motobike, 1 vehicle, 161.1ms\n",
      "Speed: 10.1ms preprocess, 161.1ms inference, 2.0ms postprocess per image at shape (1, 3, 480, 640)\n"
     ]
    },
    {
     "name": "stdout",
     "output_type": "stream",
     "text": [
      "Results:  [[543, 386, 565, 436], [249, 406, 389, 471]] [0.6512344479560852, 0.36267876625061035] [0, 1]\n",
      "Output values:  [[        542         385         565         436           2           0     0.65123]\n",
      " [        154         226         494         476          50           1     0.88704]]\n"
     ]
    },
    {
     "name": "stderr",
     "output_type": "stream",
     "text": [
      "\n",
      "0: 480x640 1 motobike, 1 vehicle, 164.1ms\n",
      "Speed: 11.5ms preprocess, 164.1ms inference, 1.5ms postprocess per image at shape (1, 3, 480, 640)\n",
      "\n"
     ]
    },
    {
     "name": "stdout",
     "output_type": "stream",
     "text": [
      "Results:  [[269, 392, 452, 465], [541, 391, 564, 433]] [0.8694758415222168, 0.6856908798217773] [1, 0]\n",
      "Output values:  [[        540         390         564         433           2           0     0.68569]]\n"
     ]
    },
    {
     "name": "stderr",
     "output_type": "stream",
     "text": [
      "0: 480x640 2 motobikes, 1 vehicle, 162.5ms\n",
      "Speed: 10.5ms preprocess, 162.5ms inference, 2.0ms postprocess per image at shape (1, 3, 480, 640)\n"
     ]
    },
    {
     "name": "stdout",
     "output_type": "stream",
     "text": [
      "Results:  [[538, 390, 563, 439], [154, 386, 501, 501], [38, 0, 68, 39]] [0.6432768702507019, 0.551237165927887, 0.36467915773391724] [0, 1, 0]\n",
      "Output values:  [[        538         390         562         438           2           0     0.64328]\n",
      " [        160         387         495         499          51           1     0.55124]]\n"
     ]
    },
    {
     "name": "stderr",
     "output_type": "stream",
     "text": [
      "\n",
      "0: 480x640 1 motobike, 1 vehicle, 161.1ms\n",
      "Speed: 11.5ms preprocess, 161.1ms inference, 2.0ms postprocess per image at shape (1, 3, 480, 640)\n"
     ]
    },
    {
     "name": "stdout",
     "output_type": "stream",
     "text": [
      "Results:  [[548, 376, 570, 426], [126, 381, 514, 501]] [0.6511609554290771, 0.5394203066825867] [0, 1]\n",
      "Output values:  [[        548         376         569         425           2           0     0.65116]\n",
      " [        122         380         516         502          51           1     0.53942]]\n"
     ]
    },
    {
     "name": "stderr",
     "output_type": "stream",
     "text": [
      "\n",
      "0: 480x640 1 vehicle, 158.6ms\n",
      "Speed: 10.5ms preprocess, 158.6ms inference, 2.0ms postprocess per image at shape (1, 3, 480, 640)\n",
      "\n"
     ]
    },
    {
     "name": "stdout",
     "output_type": "stream",
     "text": [
      "Results:  [[180, 381, 355, 497]] [0.5845939517021179] [1]\n",
      "Output values:  [[        548         374         570         423           2           0     0.65116]\n",
      " [        178         379         358         498          51           1     0.58459]]\n"
     ]
    },
    {
     "name": "stderr",
     "output_type": "stream",
     "text": [
      "0: 480x640 2 vehicles, 160.7ms\n",
      "Speed: 10.5ms preprocess, 160.7ms inference, 2.0ms postprocess per image at shape (1, 3, 480, 640)\n"
     ]
    },
    {
     "name": "stdout",
     "output_type": "stream",
     "text": [
      "Results:  [[171, 389, 360, 499], [170, 387, 469, 501]] [0.5899248123168945, 0.4368963837623596] [1, 1]\n",
      "Output values:  [[        167         387         362         500          51           1     0.58992]]\n"
     ]
    },
    {
     "name": "stderr",
     "output_type": "stream",
     "text": [
      "\n",
      "0: 480x640 1 motobike, 1 vehicle, 164.5ms\n",
      "Speed: 9.5ms preprocess, 164.5ms inference, 1.0ms postprocess per image at shape (1, 3, 480, 640)\n"
     ]
    },
    {
     "name": "stdout",
     "output_type": "stream",
     "text": [
      "Results:  [[533, 387, 552, 425], [0, 396, 396, 558]] [0.6364649534225464, 0.6216925978660583] [0, 1]\n"
     ]
    },
    {
     "name": "stderr",
     "output_type": "stream",
     "text": [
      "\n"
     ]
    },
    {
     "name": "stdout",
     "output_type": "stream",
     "text": [
      "Output values:  [[        532         386         552         425          26           0     0.63646]\n",
      " [          6         397         392         555          51           1     0.62169]]\n"
     ]
    },
    {
     "name": "stderr",
     "output_type": "stream",
     "text": [
      "0: 480x640 1 motobike, 1 vehicle, 157.7ms\n",
      "Speed: 10.1ms preprocess, 157.7ms inference, 1.0ms postprocess per image at shape (1, 3, 480, 640)\n"
     ]
    },
    {
     "name": "stdout",
     "output_type": "stream",
     "text": [
      "Results:  [[531, 387, 551, 426], [1, 421, 367, 604]] [0.6692811250686646, 0.5787302255630493] [0, 1]\n",
      "Output values:  [[        531         387         550         425          26           0     0.66928]\n",
      " [          1         421         364         602          51           1     0.57873]]\n"
     ]
    },
    {
     "name": "stderr",
     "output_type": "stream",
     "text": [
      "\n",
      "0: 480x640 1 motobike, 1 vehicle, 159.8ms\n",
      "Speed: 13.3ms preprocess, 159.8ms inference, 2.0ms postprocess per image at shape (1, 3, 480, 640)\n"
     ]
    },
    {
     "name": "stdout",
     "output_type": "stream",
     "text": [
      "Results:  [[390, 376, 482, 432], [511, 388, 530, 430]] [0.5872292518615723, 0.550507664680481] [1, 0]\n",
      "Output values:  [[        511         388         529         429          26           0     0.55051]\n",
      " [        390         376         481         431          43           1     0.58723]\n",
      " [          0         425         361         624          51           1     0.57873]]\n"
     ]
    },
    {
     "name": "stderr",
     "output_type": "stream",
     "text": [
      "\n",
      "0: 480x640 2 motobikes, 2 vehicles, 158.8ms\n",
      "Speed: 10.5ms preprocess, 158.8ms inference, 3.0ms postprocess per image at shape (1, 3, 480, 640)\n"
     ]
    },
    {
     "name": "stdout",
     "output_type": "stream",
     "text": [
      "Results:  [[221, 382, 340, 426], [506, 387, 533, 438], [500, 385, 532, 434], [337, 368, 477, 445]] [0.7295275926589966, 0.6619386672973633, 0.3093278706073761, 0.2910473346710205] [1, 0, 0, 1]\n"
     ]
    },
    {
     "name": "stderr",
     "output_type": "stream",
     "text": [
      "\n"
     ]
    },
    {
     "name": "stdout",
     "output_type": "stream",
     "text": [
      "Output values:  [[        506         387         532         437           2           0     0.66194]\n",
      " [        500         385         531         433          26           0     0.30933]\n",
      " [        341         370         473         442          43           1     0.29105]]\n"
     ]
    },
    {
     "name": "stderr",
     "output_type": "stream",
     "text": [
      "0: 480x640 1 motobike, 1 vehicle, 158.4ms\n",
      "Speed: 9.5ms preprocess, 158.4ms inference, 2.0ms postprocess per image at shape (1, 3, 480, 640)\n"
     ]
    },
    {
     "name": "stdout",
     "output_type": "stream",
     "text": [
      "Results:  [[24, 373, 279, 463], [501, 383, 529, 437]] [0.8885335326194763, 0.72016441822052] [1, 0]\n",
      "Output values:  [[        501         383         528         436           2           0     0.72016]\n",
      " [        495         385         527         433          26           0     0.30933]\n",
      " [        326         369         465         444          43           1     0.29105]]\n"
     ]
    },
    {
     "name": "stderr",
     "output_type": "stream",
     "text": [
      "\n",
      "0: 480x640 1 motobike, 1 vehicle, 159.0ms\n",
      "Speed: 11.2ms preprocess, 159.0ms inference, 1.0ms postprocess per image at shape (1, 3, 480, 640)\n"
     ]
    },
    {
     "name": "stdout",
     "output_type": "stream",
     "text": [
      "Results:  [[505, 387, 530, 438], [488, 387, 518, 421]] [0.4670467972755432, 0.4463658928871155] [0, 1]\n",
      "Output values:  [[        504         386         530         438           2           0     0.46705]]\n"
     ]
    },
    {
     "name": "stderr",
     "output_type": "stream",
     "text": [
      "\n",
      "0: 480x640 1 motobike, 2 vehicles, 156.0ms\n",
      "Speed: 11.4ms preprocess, 156.0ms inference, 2.5ms postprocess per image at shape (1, 3, 480, 640)\n"
     ]
    },
    {
     "name": "stdout",
     "output_type": "stream",
     "text": [
      "Results:  [[505, 392, 530, 445], [486, 396, 514, 427], [233, 366, 488, 484]] [0.45398610830307007, 0.3786025941371918, 0.31522586941719055] [0, 1, 1]\n"
     ]
    },
    {
     "name": "stderr",
     "output_type": "stream",
     "text": [
      "\n"
     ]
    },
    {
     "name": "stdout",
     "output_type": "stream",
     "text": [
      "Output values:  [[        505         392         529         444           2           0     0.45399]]\n"
     ]
    },
    {
     "name": "stderr",
     "output_type": "stream",
     "text": [
      "0: 480x640 2 vehicles, 158.0ms\n",
      "Speed: 11.5ms preprocess, 158.0ms inference, 3.4ms postprocess per image at shape (1, 3, 480, 640)\n",
      "\n"
     ]
    },
    {
     "name": "stdout",
     "output_type": "stream",
     "text": [
      "Results:  [[482, 397, 513, 428], [286, 370, 461, 499]] [0.6483697891235352, 0.3625534474849701] [1, 1]\n",
      "Output values:  [[        502         392         527         445           2           0     0.45399]\n",
      " [        482         397         512         427          56           1     0.64837]]\n"
     ]
    },
    {
     "name": "stderr",
     "output_type": "stream",
     "text": [
      "0: 480x640 1 motobike, 2 vehicles, 156.2ms\n",
      "Speed: 11.5ms preprocess, 156.2ms inference, 2.0ms postprocess per image at shape (1, 3, 480, 640)\n"
     ]
    },
    {
     "name": "stdout",
     "output_type": "stream",
     "text": [
      "Results:  [[479, 395, 512, 432], [507, 391, 539, 444], [221, 374, 444, 526]] [0.6047734022140503, 0.3836396336555481, 0.37406402826309204] [1, 0, 1]\n"
     ]
    },
    {
     "name": "stderr",
     "output_type": "stream",
     "text": [
      "\n"
     ]
    },
    {
     "name": "stdout",
     "output_type": "stream",
     "text": [
      "Output values:  [[        507         391         538         444           2           0     0.38364]\n",
      " [        479         395         511         431          56           1     0.60477]\n",
      " [        224         375         442         524          57           1     0.37406]]\n"
     ]
    },
    {
     "name": "stderr",
     "output_type": "stream",
     "text": [
      "0: 480x640 1 motobike, 2 vehicles, 158.7ms\n",
      "Speed: 11.1ms preprocess, 158.7ms inference, 2.0ms postprocess per image at shape (1, 3, 480, 640)\n"
     ]
    },
    {
     "name": "stdout",
     "output_type": "stream",
     "text": [
      "Results:  [[0, 351, 387, 571], [475, 393, 505, 433], [504, 386, 541, 450]] [0.8415905833244324, 0.6696752905845642, 0.397914856672287] [1, 1, 0]\n",
      "Output values:  [[        504         387         540         448           2           0     0.39791]\n",
      " [        475         393         504         432          56           1     0.66968]\n",
      " [          1         351         386         570          57           1     0.84159]]\n"
     ]
    },
    {
     "name": "stderr",
     "output_type": "stream",
     "text": [
      "\n",
      "0: 480x640 1 motobike, 2 vehicles, 159.2ms\n",
      "Speed: 10.5ms preprocess, 159.2ms inference, 2.0ms postprocess per image at shape (1, 3, 480, 640)\n"
     ]
    },
    {
     "name": "stdout",
     "output_type": "stream",
     "text": [
      "Results:  [[0, 357, 383, 589], [475, 393, 505, 435], [503, 388, 543, 453]] [0.8831583261489868, 0.6388217210769653, 0.4760807752609253] [1, 1, 0]\n",
      "Output values:  [[        503         388         542         452           2           0     0.47608]\n",
      " [        474         392         505         435          56           1     0.63882]\n",
      " [          0         356         382         589          57           1     0.88316]]\n"
     ]
    },
    {
     "name": "stderr",
     "output_type": "stream",
     "text": [
      "\n",
      "0: 480x640 1 motobike, 3 vehicles, 157.2ms\n",
      "Speed: 10.3ms preprocess, 157.2ms inference, 2.0ms postprocess per image at shape (1, 3, 480, 640)\n"
     ]
    },
    {
     "name": "stdout",
     "output_type": "stream",
     "text": [
      "Results:  [[5, 394, 370, 609], [474, 392, 503, 435], [503, 387, 543, 454], [264, 376, 467, 498]] [0.672549843788147, 0.6670811176300049, 0.41465768218040466, 0.31132712960243225] [1, 1, 0, 1]\n"
     ]
    },
    {
     "name": "stderr",
     "output_type": "stream",
     "text": [
      "\n"
     ]
    },
    {
     "name": "stdout",
     "output_type": "stream",
     "text": [
      "Output values:  [[        503         387         542         453           2           0     0.41466]\n",
      " [        473         391         503         435          56           1     0.66708]\n",
      " [          0         391         370         610          57           1     0.67255]]\n"
     ]
    },
    {
     "name": "stderr",
     "output_type": "stream",
     "text": [
      "0: 480x640 1 motobike, 3 vehicles, 160.4ms\n",
      "Speed: 10.5ms preprocess, 160.4ms inference, 2.0ms postprocess per image at shape (1, 3, 480, 640)\n"
     ]
    },
    {
     "name": "stdout",
     "output_type": "stream",
     "text": [
      "Results:  [[5, 408, 356, 612], [502, 386, 544, 456], [473, 389, 505, 437], [277, 375, 466, 500]] [0.6610735058784485, 0.5971790552139282, 0.5049746632575989, 0.3642538785934448] [1, 0, 1, 1]\n"
     ]
    },
    {
     "name": "stderr",
     "output_type": "stream",
     "text": [
      "\n",
      "0: 480x640 1 motobike, 3 vehicles, 157.2ms\n"
     ]
    },
    {
     "name": "stdout",
     "output_type": "stream",
     "text": [
      "Output values:  [[        502         386         543         455           2           0     0.59718]\n",
      " [        473         389         504         436          56           1     0.50497]\n",
      " [          0         406         357         613          57           1     0.66107]]\n"
     ]
    },
    {
     "name": "stderr",
     "output_type": "stream",
     "text": [
      "Speed: 10.6ms preprocess, 157.2ms inference, 2.2ms postprocess per image at shape (1, 3, 480, 640)\n"
     ]
    },
    {
     "name": "stdout",
     "output_type": "stream",
     "text": [
      "Results:  [[3, 395, 356, 613], [473, 390, 505, 437], [502, 387, 544, 456], [281, 376, 464, 500]] [0.6184194087982178, 0.5238164663314819, 0.45296287536621094, 0.4181748032569885] [1, 1, 0, 1]\n"
     ]
    },
    {
     "name": "stderr",
     "output_type": "stream",
     "text": [
      "\n"
     ]
    },
    {
     "name": "stdout",
     "output_type": "stream",
     "text": [
      "Output values:  [[        501         386         544         456           2           0     0.45296]\n",
      " [        472         389         505         437          56           1     0.52382]\n",
      " [          0         395         354         613          57           1     0.61842]\n",
      " [        280         375         464         500          58           1     0.41817]]\n"
     ]
    },
    {
     "name": "stderr",
     "output_type": "stream",
     "text": [
      "0: 480x640 1 motobike, 3 vehicles, 159.1ms\n",
      "Speed: 10.8ms preprocess, 159.1ms inference, 2.0ms postprocess per image at shape (1, 3, 480, 640)\n"
     ]
    },
    {
     "name": "stdout",
     "output_type": "stream",
     "text": [
      "Results:  [[3, 379, 363, 612], [474, 392, 505, 437], [502, 388, 544, 456], [278, 377, 461, 500]] [0.6199131011962891, 0.5659891963005066, 0.4856792986392975, 0.3652724623680115] [1, 1, 0, 1]\n"
     ]
    },
    {
     "name": "stderr",
     "output_type": "stream",
     "text": [
      "\n"
     ]
    },
    {
     "name": "stdout",
     "output_type": "stream",
     "text": [
      "Output values:  [[        501         387         544         456           2           0     0.48568]\n",
      " [        473         391         505         437          56           1     0.56599]\n",
      " [          0         379         360         612          57           1     0.61991]\n",
      " [        277         376         461         500          58           1     0.36527]]\n"
     ]
    },
    {
     "name": "stderr",
     "output_type": "stream",
     "text": [
      "0: 480x640 1 motobike, 2 vehicles, 159.7ms\n",
      "Speed: 9.5ms preprocess, 159.7ms inference, 2.0ms postprocess per image at shape (1, 3, 480, 640)\n"
     ]
    },
    {
     "name": "stdout",
     "output_type": "stream",
     "text": [
      "Results:  [[475, 393, 505, 436], [502, 389, 542, 457], [2, 398, 371, 613]] [0.49670928716659546, 0.4325898289680481, 0.3742268979549408] [1, 0, 1]\n",
      "Output values:  [[        501         388         542         457           2           0     0.43259]\n",
      " [        474         392         505         436          56           1     0.49671]\n",
      " [          0         393         373         617          57           1     0.37423]\n",
      " [        278         377         460         500          58           1     0.36527]]\n"
     ]
    },
    {
     "name": "stderr",
     "output_type": "stream",
     "text": [
      "\n",
      "0: 480x640 1 motobike, 1 vehicle, 158.4ms\n",
      "Speed: 10.2ms preprocess, 158.4ms inference, 2.0ms postprocess per image at shape (1, 3, 480, 640)\n"
     ]
    },
    {
     "name": "stdout",
     "output_type": "stream",
     "text": [
      "Results:  [[493, 388, 537, 456], [2, 398, 368, 613]] [0.536795973777771, 0.42783060669898987] [0, 1]\n",
      "Output values:  [[        492         387         537         456           2           0      0.5368]\n",
      " [        473         392         504         437          56           1     0.49671]\n",
      " [          0         396         368         615          57           1     0.42783]]\n"
     ]
    },
    {
     "name": "stderr",
     "output_type": "stream",
     "text": [
      "\n",
      "0: 480x640 1 motobike, 2 vehicles, 157.1ms\n",
      "Speed: 9.5ms preprocess, 157.1ms inference, 1.0ms postprocess per image at shape (1, 3, 480, 640)\n"
     ]
    },
    {
     "name": "stdout",
     "output_type": "stream",
     "text": [
      "Results:  [[275, 381, 424, 469], [493, 390, 529, 457], [0, 402, 361, 623]] [0.7427403926849365, 0.7127248644828796, 0.5201836228370667] [1, 0, 1]\n",
      "Output values:  [[        492         389         529         457           2           0     0.71272]\n",
      " [          0         401         361         623          57           1     0.52018]\n",
      " [        274         380         424         469          58           1     0.74274]]\n"
     ]
    },
    {
     "name": "stderr",
     "output_type": "stream",
     "text": [
      "\n",
      "0: 480x640 1 motobike, 2 vehicles, 156.0ms\n",
      "Speed: 9.5ms preprocess, 156.0ms inference, 1.0ms postprocess per image at shape (1, 3, 480, 640)\n"
     ]
    },
    {
     "name": "stdout",
     "output_type": "stream",
     "text": [
      "Results:  [[238, 383, 428, 463], [495, 390, 530, 457], [238, 384, 428, 512]] [0.7990541458129883, 0.7121985554695129, 0.34419041872024536] [1, 0, 1]\n"
     ]
    },
    {
     "name": "stderr",
     "output_type": "stream",
     "text": [
      "\n"
     ]
    },
    {
     "name": "stdout",
     "output_type": "stream",
     "text": [
      "Output values:  [[        494         389         530         457           2           0      0.7122]\n",
      " [          0         402         364         636          57           1     0.52018]\n",
      " [        237         382         428         463          58           1     0.79905]]\n"
     ]
    },
    {
     "name": "stderr",
     "output_type": "stream",
     "text": [
      "0: 480x640 1 motobike, 1 vehicle, 157.1ms\n",
      "Speed: 11.5ms preprocess, 157.1ms inference, 2.0ms postprocess per image at shape (1, 3, 480, 640)\n"
     ]
    },
    {
     "name": "stdout",
     "output_type": "stream",
     "text": [
      "Results:  [[292, 387, 429, 463], [496, 393, 527, 455]] [0.8852444291114807, 0.7426077127456665] [1, 0]\n",
      "Output values:  [[        495         392         527         455           2           0     0.74261]\n",
      " [        292         387         428         462          58           1     0.88524]]\n"
     ]
    },
    {
     "name": "stderr",
     "output_type": "stream",
     "text": [
      "\n",
      "0: 480x640 1 motobike, 2 vehicles, 156.0ms\n",
      "Speed: 11.5ms preprocess, 156.0ms inference, 2.5ms postprocess per image at shape (1, 3, 480, 640)\n"
     ]
    },
    {
     "name": "stdout",
     "output_type": "stream",
     "text": [
      "Results:  [[296, 386, 430, 462], [495, 396, 535, 461], [63, 392, 214, 463]] [0.8802579045295715, 0.5395135879516602, 0.39506715536117554] [1, 0, 1]\n",
      "Output values:  [[        495         396         534         460           2           0     0.53951]\n",
      " [        296         386         429         461          58           1     0.88026]]\n"
     ]
    },
    {
     "name": "stderr",
     "output_type": "stream",
     "text": [
      "\n",
      "0: 480x640 1 motobike, 1 vehicle, 156.6ms\n",
      "Speed: 10.5ms preprocess, 156.6ms inference, 2.0ms postprocess per image at shape (1, 3, 480, 640)\n",
      "\n"
     ]
    },
    {
     "name": "stdout",
     "output_type": "stream",
     "text": [
      "Results:  [[290, 390, 429, 464], [487, 394, 535, 481]] [0.8952265977859497, 0.733893096446991] [1, 0]\n",
      "Output values:  [[        493         397         534         461           2           0     0.53951]\n",
      " [        487         394         534         480          26           0     0.73389]\n",
      " [        290         390         428         463          58           1     0.89523]]\n"
     ]
    },
    {
     "name": "stderr",
     "output_type": "stream",
     "text": [
      "0: 480x640 1 motobike, 1 vehicle, 158.1ms\n",
      "Speed: 13.5ms preprocess, 158.1ms inference, 2.0ms postprocess per image at shape (1, 3, 480, 640)\n",
      "\n"
     ]
    },
    {
     "name": "stdout",
     "output_type": "stream",
     "text": [
      "Results:  [[289, 382, 431, 458], [479, 381, 542, 512]] [0.8848835825920105, 0.8343759179115295] [1, 0]\n",
      "Output values:  [[        479         381         541         511          26           0     0.83438]\n",
      " [        289         382         430         457          58           1     0.88488]]\n"
     ]
    },
    {
     "name": "stderr",
     "output_type": "stream",
     "text": [
      "0: 480x640 1 motobike, 1 vehicle, 160.0ms\n",
      "Speed: 9.8ms preprocess, 160.0ms inference, 1.0ms postprocess per image at shape (1, 3, 480, 640)\n",
      "\n"
     ]
    },
    {
     "name": "stdout",
     "output_type": "stream",
     "text": [
      "Results:  [[303, 383, 432, 453], [485, 381, 538, 493]] [0.8939391374588013, 0.8076889514923096] [1, 0]\n",
      "Output values:  [[        484         380         538         493          26           0     0.80769]\n",
      " [        302         382         432         453          58           1     0.89394]]\n"
     ]
    },
    {
     "name": "stderr",
     "output_type": "stream",
     "text": [
      "0: 480x640 1 motobike, 1 vehicle, 158.5ms\n",
      "Speed: 9.5ms preprocess, 158.5ms inference, 2.0ms postprocess per image at shape (1, 3, 480, 640)\n",
      "\n"
     ]
    },
    {
     "name": "stdout",
     "output_type": "stream",
     "text": [
      "Results:  [[306, 387, 435, 457], [492, 384, 533, 469]] [0.886667788028717, 0.778813362121582] [1, 0]\n",
      "Output values:  [[        492         384         532         468           2           0     0.77881]\n",
      " [        484         379         538         496          26           0     0.80769]\n",
      " [        306         387         434         456          58           1     0.88667]]\n"
     ]
    },
    {
     "name": "stderr",
     "output_type": "stream",
     "text": [
      "0: 480x640 1 motobike, 1 vehicle, 157.8ms\n",
      "Speed: 10.5ms preprocess, 157.8ms inference, 2.0ms postprocess per image at shape (1, 3, 480, 640)\n",
      "\n"
     ]
    },
    {
     "name": "stdout",
     "output_type": "stream",
     "text": [
      "Results:  [[304, 390, 435, 460], [494, 387, 530, 473]] [0.8837987184524536, 0.7966629862785339] [1, 0]\n",
      "Output values:  [[        493         386         530         473           2           0     0.79666]\n",
      " [        304         390         434         459          58           1      0.8838]]\n"
     ]
    },
    {
     "name": "stderr",
     "output_type": "stream",
     "text": [
      "0: 480x640 1 motobike, 1 vehicle, 158.3ms\n",
      "Speed: 10.0ms preprocess, 158.3ms inference, 2.0ms postprocess per image at shape (1, 3, 480, 640)\n"
     ]
    },
    {
     "name": "stdout",
     "output_type": "stream",
     "text": [
      "Results:  [[294, 389, 432, 464], [488, 388, 534, 502]] [0.8960037231445312, 0.7930989861488342] [1, 0]\n",
      "Output values:  [[        493         386         529         474           2           0     0.79666]\n",
      " [        487         387         534         502          26           0      0.7931]\n",
      " [        294         389         431         463          58           1       0.896]]\n"
     ]
    },
    {
     "name": "stderr",
     "output_type": "stream",
     "text": [
      "\n",
      "0: 480x640 1 motobike, 1 vehicle, 165.8ms\n",
      "Speed: 11.5ms preprocess, 165.8ms inference, 1.0ms postprocess per image at shape (1, 3, 480, 640)\n"
     ]
    },
    {
     "name": "stdout",
     "output_type": "stream",
     "text": [
      "Results:  [[320, 377, 437, 443], [486, 377, 535, 486]] [0.8840796947479248, 0.7974841594696045] [1, 0]\n",
      "Output values:  [[        486         377         534         485           2           0     0.79748]\n",
      " [        488         387         533         505          26           0      0.7931]\n",
      " [        319         376         437         443          58           1     0.88408]]\n"
     ]
    },
    {
     "name": "stderr",
     "output_type": "stream",
     "text": [
      "\n",
      "0: 480x640 1 motobike, 1 vehicle, 158.0ms\n",
      "Speed: 10.0ms preprocess, 158.0ms inference, 2.0ms postprocess per image at shape (1, 3, 480, 640)\n",
      "\n"
     ]
    },
    {
     "name": "stdout",
     "output_type": "stream",
     "text": [
      "Results:  [[356, 387, 451, 438], [493, 386, 532, 471]] [0.8640780448913574, 0.7982462644577026] [1, 0]\n",
      "Output values:  [[        492         385         532         471           2           0     0.79825]\n",
      " [        355         386         451         438          58           1     0.86408]]\n"
     ]
    },
    {
     "name": "stderr",
     "output_type": "stream",
     "text": [
      "0: 480x640 1 motobike, 2 vehicles, 160.2ms\n",
      "Speed: 10.3ms preprocess, 160.2ms inference, 2.0ms postprocess per image at shape (1, 3, 480, 640)\n"
     ]
    },
    {
     "name": "stdout",
     "output_type": "stream",
     "text": [
      "Results:  [[380, 392, 457, 435], [491, 387, 536, 487], [0, 430, 226, 621]] [0.8449554443359375, 0.7882839441299438, 0.6116974353790283] [1, 0, 1]\n",
      "Output values:  [[        491         387         535         486           2           0     0.78828]\n",
      " [        379         391         457         435          58           1     0.84496]]\n"
     ]
    },
    {
     "name": "stderr",
     "output_type": "stream",
     "text": [
      "\n",
      "0: 480x640 1 motobike, 1 vehicle, 160.5ms\n",
      "Speed: 11.6ms preprocess, 160.5ms inference, 2.0ms postprocess per image at shape (1, 3, 480, 640)\n",
      "\n"
     ]
    },
    {
     "name": "stdout",
     "output_type": "stream",
     "text": [
      "Results:  [[393, 392, 476, 434], [492, 384, 541, 505]] [0.8280041217803955, 0.6512877941131592] [1, 0]\n",
      "Output values:  [[        492         384         540         504           2           0     0.65129]\n",
      " [        393         392         475         433          58           1       0.828]]\n"
     ]
    },
    {
     "name": "stderr",
     "output_type": "stream",
     "text": [
      "0: 480x640 1 motobike, 1 vehicle, 160.9ms\n",
      "Speed: 10.4ms preprocess, 160.9ms inference, 2.2ms postprocess per image at shape (1, 3, 480, 640)\n",
      "\n"
     ]
    },
    {
     "name": "stdout",
     "output_type": "stream",
     "text": [
      "Results:  [[432, 380, 504, 414], [503, 379, 542, 468]] [0.8042314648628235, 0.7049108147621155] [1, 0]\n",
      "Output values:  [[        492         384         541         508           2           0     0.65129]\n",
      " [        502         378         542         468          26           0     0.70491]\n",
      " [        431         379         504         414          58           1     0.80423]]\n"
     ]
    },
    {
     "name": "stderr",
     "output_type": "stream",
     "text": [
      "0: 480x640 1 motobike, 2 vehicles, 160.2ms\n",
      "Speed: 10.8ms preprocess, 160.2ms inference, 1.0ms postprocess per image at shape (1, 3, 480, 640)\n"
     ]
    },
    {
     "name": "stdout",
     "output_type": "stream",
     "text": [
      "Results:  [[0, 354, 384, 583], [470, 381, 518, 416], [514, 386, 543, 451]] [0.8794928193092346, 0.7519314289093018, 0.7410581707954407] [1, 1, 0]\n"
     ]
    },
    {
     "name": "stderr",
     "output_type": "stream",
     "text": [
      "\n"
     ]
    },
    {
     "name": "stdout",
     "output_type": "stream",
     "text": [
      "Output values:  [[        513         385         543         451          26           0     0.74106]\n",
      " [          0         353         383         583          57           1     0.87949]\n",
      " [        470         381         517         415          58           1     0.75193]]\n"
     ]
    },
    {
     "name": "stderr",
     "output_type": "stream",
     "text": [
      "0: 480x640 1 motobike, 2 vehicles, 159.1ms\n",
      "Speed: 10.5ms preprocess, 159.1ms inference, 2.0ms postprocess per image at shape (1, 3, 480, 640)\n"
     ]
    },
    {
     "name": "stdout",
     "output_type": "stream",
     "text": [
      "Results:  [[509, 378, 541, 417], [535, 387, 570, 439], [80, 349, 414, 536]] [0.6996840238571167, 0.62114417552948, 0.2908102571964264] [1, 0, 1]\n",
      "Output values:  [[        508         377         541         417          26           1     0.69968]\n",
      " [         80         349         413         535          43           1     0.29081]\n",
      " [          0         351         386         582          57           1     0.87949]\n",
      " [        483         380         525         411          58           1     0.75193]]\n"
     ]
    },
    {
     "name": "stderr",
     "output_type": "stream",
     "text": [
      "\n",
      "0: 480x640 3 vehicles, 160.9ms\n",
      "Speed: 10.5ms preprocess, 160.9ms inference, 2.0ms postprocess per image at shape (1, 3, 480, 640)\n"
     ]
    },
    {
     "name": "stdout",
     "output_type": "stream",
     "text": [
      "Results:  [[559, 387, 609, 443], [559, 386, 630, 443], [229, 369, 393, 529]] [0.39790648221969604, 0.3832840919494629, 0.265263170003891] [1, 1, 1]\n",
      "Output values:  [[        512         377         539         408          26           1     0.69968]\n",
      " [        211         364         384         532          43           1     0.26526]]\n"
     ]
    },
    {
     "name": "stderr",
     "output_type": "stream",
     "text": [
      "\n",
      "0: 480x640 4 vehicles, 162.4ms\n",
      "Speed: 10.9ms preprocess, 162.4ms inference, 1.0ms postprocess per image at shape (1, 3, 480, 640)\n"
     ]
    },
    {
     "name": "stdout",
     "output_type": "stream",
     "text": [
      "Results:  [[928, 373, 1024, 415], [606, 376, 699, 418], [1, 337, 374, 574], [616, 376, 697, 407]] [0.8644428849220276, 0.6580222249031067, 0.5396555662155151, 0.3964790999889374] [1, 1, 1, 1]\n"
     ]
    },
    {
     "name": "stderr",
     "output_type": "stream",
     "text": [
      "\n"
     ]
    },
    {
     "name": "stdout",
     "output_type": "stream",
     "text": [
      "Output values:  [[        223         365         372         536          43           1     0.26526]\n",
      " [          1         337         374         574          57           1     0.53966]]\n"
     ]
    },
    {
     "name": "stderr",
     "output_type": "stream",
     "text": [
      "0: 480x640 2 vehicles, 159.4ms\n",
      "Speed: 10.7ms preprocess, 159.4ms inference, 1.0ms postprocess per image at shape (1, 3, 480, 640)\n",
      "\n"
     ]
    },
    {
     "name": "stdout",
     "output_type": "stream",
     "text": [
      "Results:  [[957, 381, 1023, 425], [5, 380, 360, 589]] [0.853692889213562, 0.6121382713317871] [1, 1]\n",
      "Output values:  [[          3         377         363         589          57           1     0.61214]]\n"
     ]
    },
    {
     "name": "stderr",
     "output_type": "stream",
     "text": [
      "0: 480x640 2 vehicles, 158.2ms\n",
      "Speed: 10.5ms preprocess, 158.2ms inference, 2.0ms postprocess per image at shape (1, 3, 480, 640)\n",
      "\n"
     ]
    },
    {
     "name": "stdout",
     "output_type": "stream",
     "text": [
      "Results:  [[732, 389, 837, 423], [0, 371, 362, 624]] [0.7266780138015747, 0.33362287282943726] [1, 1]\n",
      "Output values:  [[          7         375         355         618          57           1     0.33362]]\n"
     ]
    },
    {
     "name": "stderr",
     "output_type": "stream",
     "text": [
      "0: 480x640 1 motobike, 1 vehicle, 163.3ms\n",
      "Speed: 10.2ms preprocess, 163.3ms inference, 2.0ms postprocess per image at shape (1, 3, 480, 640)\n",
      "\n"
     ]
    },
    {
     "name": "stdout",
     "output_type": "stream",
     "text": [
      "Results:  [[718, 392, 773, 447], [766, 388, 881, 429]] [0.5263630151748657, 0.2550086975097656] [0, 1]\n",
      "Output values:  [[          6         376         355         623          57           1     0.33362]]\n"
     ]
    },
    {
     "name": "stderr",
     "output_type": "stream",
     "text": [
      "0: 480x640 1 motobike, 1 vehicle, 161.6ms\n",
      "Speed: 11.5ms preprocess, 161.6ms inference, 1.6ms postprocess per image at shape (1, 3, 480, 640)\n",
      "\n"
     ]
    },
    {
     "name": "stdout",
     "output_type": "stream",
     "text": [
      "Results:  [[717, 381, 852, 455], [719, 389, 785, 457]] [0.3951094448566437, 0.32405054569244385] [1, 0]\n",
      "Output values:  []\n"
     ]
    },
    {
     "name": "stderr",
     "output_type": "stream",
     "text": [
      "0: 480x640 1 motobike, 159.7ms\n",
      "Speed: 9.5ms preprocess, 159.7ms inference, 1.9ms postprocess per image at shape (1, 3, 480, 640)\n",
      "\n"
     ]
    },
    {
     "name": "stdout",
     "output_type": "stream",
     "text": [
      "Results:  [[718, 365, 808, 444]] [0.28549739718437195] [0]\n",
      "Output values:  []\n"
     ]
    },
    {
     "name": "stderr",
     "output_type": "stream",
     "text": [
      "0: 480x640 1 vehicle, 158.5ms\n",
      "Speed: 11.5ms preprocess, 158.5ms inference, 2.0ms postprocess per image at shape (1, 3, 480, 640)\n",
      "\n"
     ]
    },
    {
     "name": "stdout",
     "output_type": "stream",
     "text": [
      "Results:  [[94, 347, 422, 518]] [0.8773314356803894] [1]\n",
      "Output values:  [[         94         346         422         518          43           1     0.87733]]\n"
     ]
    },
    {
     "name": "stderr",
     "output_type": "stream",
     "text": [
      "0: 480x640 3 vehicles, 160.7ms\n",
      "Speed: 11.4ms preprocess, 160.7ms inference, 2.0ms postprocess per image at shape (1, 3, 480, 640)\n"
     ]
    },
    {
     "name": "stdout",
     "output_type": "stream",
     "text": [
      "Results:  [[193, 366, 444, 505], [705, 385, 815, 435], [705, 384, 836, 445]] [0.9057528972625732, 0.5978646874427795, 0.41146448254585266] [1, 1, 1]\n",
      "Output values:  [[        192         365         444         505          43           1     0.90575]]\n"
     ]
    },
    {
     "name": "stderr",
     "output_type": "stream",
     "text": [
      "\n",
      "0: 480x640 3 vehicles, 156.7ms\n",
      "Speed: 10.4ms preprocess, 156.7ms inference, 1.5ms postprocess per image at shape (1, 3, 480, 640)\n"
     ]
    },
    {
     "name": "stdout",
     "output_type": "stream",
     "text": [
      "Results:  [[36, 369, 411, 539], [687, 389, 810, 452], [689, 389, 800, 432]] [0.7830672860145569, 0.5374394655227661, 0.25974100828170776] [1, 1, 1]\n",
      "Output values:  [[        194         367         455         503          43           1     0.90575]\n",
      " [         35         368         411         539          57           1     0.78307]]\n"
     ]
    }
   ],
   "source": [
    "from carla_tracker import main\n",
    "tracker = main()\n",
    "tracker()"
   ]
  },
  {
   "cell_type": "code",
   "execution_count": null,
   "metadata": {},
   "outputs": [],
   "source": []
  }
 ],
 "metadata": {
  "kernelspec": {
   "display_name": "Python 3 (ipykernel)",
   "language": "python",
   "name": "python3"
  },
  "language_info": {
   "codemirror_mode": {
    "name": "ipython",
    "version": 3
   },
   "file_extension": ".py",
   "mimetype": "text/x-python",
   "name": "python",
   "nbconvert_exporter": "python",
   "pygments_lexer": "ipython3",
   "version": "3.8.17"
  }
 },
 "nbformat": 4,
 "nbformat_minor": 4
}

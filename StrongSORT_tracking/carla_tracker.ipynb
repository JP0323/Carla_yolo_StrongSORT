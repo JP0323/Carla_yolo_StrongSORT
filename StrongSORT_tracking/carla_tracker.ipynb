{
 "cells": [
  {
   "cell_type": "code",
   "execution_count": 4,
   "metadata": {},
   "outputs": [
    {
     "name": "stdout",
     "output_type": "stream",
     "text": [
      "Model: osnet_x0_25\n",
      "- params: 203,568\n",
      "- flops: 82,316,000\n",
      "Successfully loaded pretrained weights from \"weights/osnet_x0_25_market1501.pth\"\n",
      "** The following layers are discarded due to unmatched keys or layer size: ['classifier.weight', 'classifier.bias']\n"
     ]
    },
    {
     "name": "stderr",
     "output_type": "stream",
     "text": [
      "\n",
      "0: 480x640 5 vehicles, 397.8ms\n",
      "Speed: 25.1ms preprocess, 397.8ms inference, 15.2ms postprocess per image at shape (1, 3, 480, 640)\n"
     ]
    },
    {
     "name": "stdout",
     "output_type": "stream",
     "text": [
      "Results:  [[709, 382, 836, 422], [186, 383, 268, 412], [564, 385, 627, 406], [163, 384, 267, 414], [427, 378, 470, 397]] [0.7563757300376892, 0.742172360420227, 0.7306699752807617, 0.6187009811401367, 0.36622515320777893] [1, 1, 1, 1, 1]\n",
      "Output values:  []\n"
     ]
    },
    {
     "name": "stderr",
     "output_type": "stream",
     "text": [
      "\n",
      "0: 480x640 4 vehicles, 523.9ms\n",
      "Speed: 76.4ms preprocess, 523.9ms inference, 4.6ms postprocess per image at shape (1, 3, 480, 640)\n"
     ]
    },
    {
     "name": "stdout",
     "output_type": "stream",
     "text": [
      "Results:  [[361, 378, 453, 410], [521, 391, 598, 443], [620, 383, 1017, 606], [88, 355, 156, 405]] [0.6920038461685181, 0.516755998134613, 0.34691429138183594, 0.31223925948143005] [1, 1, 1, 1]\n"
     ]
    },
    {
     "name": "stderr",
     "output_type": "stream",
     "text": [
      "\n"
     ]
    },
    {
     "name": "stdout",
     "output_type": "stream",
     "text": [
      "Output values:  []\n"
     ]
    },
    {
     "name": "stderr",
     "output_type": "stream",
     "text": [
      "0: 480x640 1 vehicle, 398.6ms\n",
      "Speed: 25.6ms preprocess, 398.6ms inference, 3.1ms postprocess per image at shape (1, 3, 480, 640)\n"
     ]
    },
    {
     "name": "stdout",
     "output_type": "stream",
     "text": [
      "Results:  [[555, 406, 866, 512]] [0.31378746032714844] [1]\n",
      "Output values:  []\n"
     ]
    },
    {
     "name": "stderr",
     "output_type": "stream",
     "text": [
      "\n",
      "0: 480x640 1 vehicle, 368.6ms\n",
      "Speed: 18.8ms preprocess, 368.6ms inference, 4.6ms postprocess per image at shape (1, 3, 480, 640)\n"
     ]
    },
    {
     "name": "stdout",
     "output_type": "stream",
     "text": [
      "Results:  [[524, 386, 613, 475]] [0.26391154527664185] [1]\n",
      "Output values:  []\n"
     ]
    },
    {
     "name": "stderr",
     "output_type": "stream",
     "text": [
      "\n",
      "0: 480x640 1 vehicle, 396.0ms\n",
      "Speed: 19.0ms preprocess, 396.0ms inference, 3.5ms postprocess per image at shape (1, 3, 480, 640)\n"
     ]
    },
    {
     "name": "stdout",
     "output_type": "stream",
     "text": [
      "Results:  [[28, 292, 372, 464]] [0.3177589476108551] [1]\n",
      "Output values:  []\n"
     ]
    },
    {
     "name": "stderr",
     "output_type": "stream",
     "text": [
      "\n",
      "0: 480x640 (no detections), 304.2ms\n",
      "Speed: 17.5ms preprocess, 304.2ms inference, 1.0ms postprocess per image at shape (1, 3, 480, 640)\n",
      "\n"
     ]
    },
    {
     "name": "stdout",
     "output_type": "stream",
     "text": [
      "Results:  [] [] []\n",
      "Output values:  []\n"
     ]
    },
    {
     "name": "stderr",
     "output_type": "stream",
     "text": [
      "0: 480x640 1 vehicle, 302.0ms\n",
      "Speed: 18.7ms preprocess, 302.0ms inference, 3.9ms postprocess per image at shape (1, 3, 480, 640)\n"
     ]
    },
    {
     "name": "stdout",
     "output_type": "stream",
     "text": [
      "Results:  [[72, 747, 120, 767]] [0.29905596375465393] [1]\n",
      "Output values:  []\n"
     ]
    },
    {
     "name": "stderr",
     "output_type": "stream",
     "text": [
      "\n",
      "0: 480x640 (no detections), 301.4ms\n",
      "Speed: 20.1ms preprocess, 301.4ms inference, 2.0ms postprocess per image at shape (1, 3, 480, 640)\n",
      "\n"
     ]
    },
    {
     "name": "stdout",
     "output_type": "stream",
     "text": [
      "Results:  [] [] []\n",
      "Output values:  []\n"
     ]
    },
    {
     "name": "stderr",
     "output_type": "stream",
     "text": [
      "0: 480x640 (no detections), 293.1ms\n",
      "Speed: 17.8ms preprocess, 293.1ms inference, 0.0ms postprocess per image at shape (1, 3, 480, 640)\n",
      "\n"
     ]
    },
    {
     "name": "stdout",
     "output_type": "stream",
     "text": [
      "Results:  [] [] []\n",
      "Output values:  []\n"
     ]
    },
    {
     "name": "stderr",
     "output_type": "stream",
     "text": [
      "0: 480x640 1 vehicle, 169.7ms\n",
      "Speed: 10.3ms preprocess, 169.7ms inference, 2.0ms postprocess per image at shape (1, 3, 480, 640)\n",
      "\n"
     ]
    },
    {
     "name": "stdout",
     "output_type": "stream",
     "text": [
      "Results:  [[404, 389, 427, 408]] [0.642421543598175] [1]\n",
      "Output values:  []\n"
     ]
    },
    {
     "name": "stderr",
     "output_type": "stream",
     "text": [
      "0: 480x640 2 vehicles, 174.2ms\n",
      "Speed: 11.1ms preprocess, 174.2ms inference, 1.0ms postprocess per image at shape (1, 3, 480, 640)\n"
     ]
    },
    {
     "name": "stdout",
     "output_type": "stream",
     "text": [
      "Results:  [[384, 390, 414, 413], [0, 388, 48, 422]] [0.7552738785743713, 0.6704987287521362] [1, 1]\n"
     ]
    },
    {
     "name": "stderr",
     "output_type": "stream",
     "text": [
      "\n"
     ]
    },
    {
     "name": "stdout",
     "output_type": "stream",
     "text": [
      "Output values:  []\n"
     ]
    },
    {
     "name": "stderr",
     "output_type": "stream",
     "text": [
      "0: 480x640 1 vehicle, 192.3ms\n",
      "Speed: 14.6ms preprocess, 192.3ms inference, 2.0ms postprocess per image at shape (1, 3, 480, 640)\n",
      "\n"
     ]
    },
    {
     "name": "stdout",
     "output_type": "stream",
     "text": [
      "Results:  [[328, 390, 373, 416]] [0.7714727520942688] [1]\n",
      "Output values:  []\n"
     ]
    },
    {
     "name": "stderr",
     "output_type": "stream",
     "text": [
      "0: 480x640 1 vehicle, 212.6ms\n",
      "Speed: 12.5ms preprocess, 212.6ms inference, 2.0ms postprocess per image at shape (1, 3, 480, 640)\n",
      "\n"
     ]
    },
    {
     "name": "stdout",
     "output_type": "stream",
     "text": [
      "Results:  [[234, 387, 313, 436]] [0.7919889092445374] [1]\n",
      "Output values:  []\n"
     ]
    },
    {
     "name": "stderr",
     "output_type": "stream",
     "text": [
      "0: 480x640 1 vehicle, 229.9ms\n",
      "Speed: 14.5ms preprocess, 229.9ms inference, 2.5ms postprocess per image at shape (1, 3, 480, 640)\n",
      "\n"
     ]
    },
    {
     "name": "stdout",
     "output_type": "stream",
     "text": [
      "Results:  [[2, 390, 187, 489]] [0.8719224333763123] [1]\n",
      "Output values:  []\n"
     ]
    },
    {
     "name": "stderr",
     "output_type": "stream",
     "text": [
      "0: 480x640 (no detections), 227.5ms\n",
      "Speed: 13.0ms preprocess, 227.5ms inference, 1.0ms postprocess per image at shape (1, 3, 480, 640)\n",
      "\n"
     ]
    },
    {
     "name": "stdout",
     "output_type": "stream",
     "text": [
      "Results:  [] [] []\n",
      "Output values:  []\n"
     ]
    },
    {
     "name": "stderr",
     "output_type": "stream",
     "text": [
      "0: 480x640 (no detections), 235.5ms\n",
      "Speed: 18.1ms preprocess, 235.5ms inference, 1.0ms postprocess per image at shape (1, 3, 480, 640)\n",
      "\n"
     ]
    },
    {
     "name": "stdout",
     "output_type": "stream",
     "text": [
      "Results:  [] [] []\n",
      "Output values:  []\n"
     ]
    },
    {
     "name": "stderr",
     "output_type": "stream",
     "text": [
      "0: 480x640 1 vehicle, 233.6ms\n",
      "Speed: 16.0ms preprocess, 233.6ms inference, 2.0ms postprocess per image at shape (1, 3, 480, 640)\n",
      "\n"
     ]
    },
    {
     "name": "stdout",
     "output_type": "stream",
     "text": [
      "Results:  [[475, 378, 518, 395]] [0.3813037574291229] [1]\n",
      "Output values:  []\n"
     ]
    },
    {
     "name": "stderr",
     "output_type": "stream",
     "text": [
      "0: 480x640 1 vehicle, 156.6ms\n",
      "Speed: 12.5ms preprocess, 156.6ms inference, 2.0ms postprocess per image at shape (1, 3, 480, 640)\n",
      "\n"
     ]
    },
    {
     "name": "stdout",
     "output_type": "stream",
     "text": [
      "Results:  [[454, 371, 503, 390]] [0.5699549913406372] [1]\n",
      "Output values:  []\n"
     ]
    },
    {
     "name": "stderr",
     "output_type": "stream",
     "text": [
      "0: 480x640 1 vehicle, 138.3ms\n",
      "Speed: 9.5ms preprocess, 138.3ms inference, 2.0ms postprocess per image at shape (1, 3, 480, 640)\n",
      "\n"
     ]
    },
    {
     "name": "stdout",
     "output_type": "stream",
     "text": [
      "Results:  [[814, 423, 1022, 595]] [0.4132925868034363] [1]\n",
      "Output values:  []\n"
     ]
    },
    {
     "name": "stderr",
     "output_type": "stream",
     "text": [
      "0: 480x640 (no detections), 139.2ms\n",
      "Speed: 8.5ms preprocess, 139.2ms inference, 1.0ms postprocess per image at shape (1, 3, 480, 640)\n",
      "\n",
      "0: 480x640 (no detections), 132.5ms\n",
      "Speed: 7.5ms preprocess, 132.5ms inference, 1.5ms postprocess per image at shape (1, 3, 480, 640)\n",
      "\n"
     ]
    },
    {
     "name": "stdout",
     "output_type": "stream",
     "text": [
      "Results:  [] [] []\n",
      "Output values:  []\n",
      "Results:  [] [] []\n",
      "Output values:  []\n"
     ]
    },
    {
     "name": "stderr",
     "output_type": "stream",
     "text": [
      "0: 480x640 (no detections), 136.2ms\n",
      "Speed: 7.5ms preprocess, 136.2ms inference, 2.0ms postprocess per image at shape (1, 3, 480, 640)\n",
      "\n",
      "0: 480x640 1 vehicle, 135.1ms\n"
     ]
    },
    {
     "name": "stdout",
     "output_type": "stream",
     "text": [
      "Results:  [] [] []\n",
      "Output values:  []\n"
     ]
    },
    {
     "name": "stderr",
     "output_type": "stream",
     "text": [
      "Speed: 8.5ms preprocess, 135.1ms inference, 1.0ms postprocess per image at shape (1, 3, 480, 640)\n",
      "\n"
     ]
    },
    {
     "name": "stdout",
     "output_type": "stream",
     "text": [
      "Results:  [[395, 380, 447, 399]] [0.342460036277771] [1]\n",
      "Output values:  []\n"
     ]
    },
    {
     "name": "stderr",
     "output_type": "stream",
     "text": [
      "0: 480x640 (no detections), 159.1ms\n",
      "Speed: 10.2ms preprocess, 159.1ms inference, 1.0ms postprocess per image at shape (1, 3, 480, 640)\n",
      "\n",
      "0: 480x640 1 vehicle, 145.7ms\n"
     ]
    },
    {
     "name": "stdout",
     "output_type": "stream",
     "text": [
      "Results:  [] [] []\n",
      "Output values:  []\n"
     ]
    },
    {
     "name": "stderr",
     "output_type": "stream",
     "text": [
      "Speed: 8.5ms preprocess, 145.7ms inference, 1.0ms postprocess per image at shape (1, 3, 480, 640)\n",
      "\n"
     ]
    },
    {
     "name": "stdout",
     "output_type": "stream",
     "text": [
      "Results:  [[148, 377, 219, 408]] [0.3800968825817108] [1]\n",
      "Output values:  []\n"
     ]
    },
    {
     "name": "stderr",
     "output_type": "stream",
     "text": [
      "0: 480x640 (no detections), 152.9ms\n",
      "Speed: 9.6ms preprocess, 152.9ms inference, 1.0ms postprocess per image at shape (1, 3, 480, 640)\n",
      "\n",
      "0: 480x640 (no detections), 150.0ms\n"
     ]
    },
    {
     "name": "stdout",
     "output_type": "stream",
     "text": [
      "Results:  [] [] []\n",
      "Output values:  []\n"
     ]
    },
    {
     "name": "stderr",
     "output_type": "stream",
     "text": [
      "Speed: 11.1ms preprocess, 150.0ms inference, 1.5ms postprocess per image at shape (1, 3, 480, 640)\n",
      "\n",
      "0: 480x640 (no detections), 155.1ms\n"
     ]
    },
    {
     "name": "stdout",
     "output_type": "stream",
     "text": [
      "Results:  [] [] []\n",
      "Output values:  []\n"
     ]
    },
    {
     "name": "stderr",
     "output_type": "stream",
     "text": [
      "Speed: 9.5ms preprocess, 155.1ms inference, 0.0ms postprocess per image at shape (1, 3, 480, 640)\n",
      "\n",
      "0: 480x640 2 vehicles, 148.6ms\n"
     ]
    },
    {
     "name": "stdout",
     "output_type": "stream",
     "text": [
      "Results:  [] [] []\n",
      "Output values:  []\n"
     ]
    },
    {
     "name": "stderr",
     "output_type": "stream",
     "text": [
      "Speed: 9.5ms preprocess, 148.6ms inference, 1.0ms postprocess per image at shape (1, 3, 480, 640)\n",
      "\n"
     ]
    },
    {
     "name": "stdout",
     "output_type": "stream",
     "text": [
      "Results:  [[87, 374, 145, 404], [0, 378, 49, 410]] [0.41350021958351135, 0.2919161319732666] [1, 1]\n",
      "Output values:  []\n"
     ]
    },
    {
     "name": "stderr",
     "output_type": "stream",
     "text": [
      "0: 480x640 1 vehicle, 155.1ms\n",
      "Speed: 11.5ms preprocess, 155.1ms inference, 1.0ms postprocess per image at shape (1, 3, 480, 640)\n",
      "\n"
     ]
    },
    {
     "name": "stdout",
     "output_type": "stream",
     "text": [
      "Results:  [[51, 380, 120, 412]] [0.7338280081748962] [1]\n",
      "Output values:  []\n"
     ]
    },
    {
     "name": "stderr",
     "output_type": "stream",
     "text": [
      "0: 480x640 2 vehicles, 182.0ms\n",
      "Speed: 9.1ms preprocess, 182.0ms inference, 1.5ms postprocess per image at shape (1, 3, 480, 640)\n",
      "\n"
     ]
    },
    {
     "name": "stdout",
     "output_type": "stream",
     "text": [
      "Results:  [[2, 379, 77, 417], [209, 371, 277, 405]] [0.8278539180755615, 0.2865038216114044] [1, 1]\n",
      "Output values:  []\n"
     ]
    },
    {
     "name": "stderr",
     "output_type": "stream",
     "text": [
      "0: 480x640 1 vehicle, 185.9ms\n",
      "Speed: 12.5ms preprocess, 185.9ms inference, 2.0ms postprocess per image at shape (1, 3, 480, 640)\n",
      "\n"
     ]
    },
    {
     "name": "stdout",
     "output_type": "stream",
     "text": [
      "Results:  [[0, 387, 52, 411]] [0.7100392580032349] [1]\n",
      "Output values:  []\n"
     ]
    },
    {
     "name": "stderr",
     "output_type": "stream",
     "text": [
      "0: 480x640 2 vehicles, 203.2ms\n",
      "Speed: 13.0ms preprocess, 203.2ms inference, 2.0ms postprocess per image at shape (1, 3, 480, 640)\n"
     ]
    },
    {
     "name": "stdout",
     "output_type": "stream",
     "text": [
      "Results:  [[139, 368, 206, 400], [718, 388, 769, 414]] [0.43319106101989746, 0.27603936195373535] [1, 1]\n",
      "Output values:  []\n"
     ]
    },
    {
     "name": "stderr",
     "output_type": "stream",
     "text": [
      "\n",
      "0: 480x640 1 vehicle, 169.3ms\n",
      "Speed: 10.0ms preprocess, 169.3ms inference, 2.0ms postprocess per image at shape (1, 3, 480, 640)\n",
      "\n"
     ]
    },
    {
     "name": "stdout",
     "output_type": "stream",
     "text": [
      "Results:  [[72, 356, 151, 390]] [0.6970983147621155] [1]\n",
      "Output values:  []\n"
     ]
    },
    {
     "name": "stderr",
     "output_type": "stream",
     "text": [
      "0: 480x640 (no detections), 166.4ms\n",
      "Speed: 9.5ms preprocess, 166.4ms inference, 1.5ms postprocess per image at shape (1, 3, 480, 640)\n",
      "\n",
      "0: 480x640 (no detections), 153.2ms\n"
     ]
    },
    {
     "name": "stdout",
     "output_type": "stream",
     "text": [
      "Results:  [] [] []\n",
      "Output values:  []\n"
     ]
    },
    {
     "name": "stderr",
     "output_type": "stream",
     "text": [
      "Speed: 9.5ms preprocess, 153.2ms inference, 1.0ms postprocess per image at shape (1, 3, 480, 640)\n",
      "\n",
      "0: 480x640 (no detections), 150.4ms\n"
     ]
    },
    {
     "name": "stdout",
     "output_type": "stream",
     "text": [
      "Results:  [] [] []\n",
      "Output values:  []\n"
     ]
    },
    {
     "name": "stderr",
     "output_type": "stream",
     "text": [
      "Speed: 8.2ms preprocess, 150.4ms inference, 1.0ms postprocess per image at shape (1, 3, 480, 640)\n",
      "\n",
      "0: 480x640 (no detections), 150.5ms\n"
     ]
    },
    {
     "name": "stdout",
     "output_type": "stream",
     "text": [
      "Results:  [] [] []\n",
      "Output values:  []\n"
     ]
    },
    {
     "name": "stderr",
     "output_type": "stream",
     "text": [
      "Speed: 9.5ms preprocess, 150.5ms inference, 0.0ms postprocess per image at shape (1, 3, 480, 640)\n",
      "\n",
      "0: 480x640 (no detections), 159.4ms\n"
     ]
    },
    {
     "name": "stdout",
     "output_type": "stream",
     "text": [
      "Results:  [] [] []\n",
      "Output values:  []\n"
     ]
    },
    {
     "name": "stderr",
     "output_type": "stream",
     "text": [
      "Speed: 7.5ms preprocess, 159.4ms inference, 1.0ms postprocess per image at shape (1, 3, 480, 640)\n",
      "\n",
      "0: 480x640 (no detections), 149.4ms\n"
     ]
    },
    {
     "name": "stdout",
     "output_type": "stream",
     "text": [
      "Results:  [] [] []\n",
      "Output values:  []\n"
     ]
    },
    {
     "name": "stderr",
     "output_type": "stream",
     "text": [
      "Speed: 7.6ms preprocess, 149.4ms inference, 1.0ms postprocess per image at shape (1, 3, 480, 640)\n",
      "\n",
      "0: 480x640 (no detections), 151.2ms\n"
     ]
    },
    {
     "name": "stdout",
     "output_type": "stream",
     "text": [
      "Results:  [] [] []\n",
      "Output values:  []\n"
     ]
    },
    {
     "name": "stderr",
     "output_type": "stream",
     "text": [
      "Speed: 10.1ms preprocess, 151.2ms inference, 1.0ms postprocess per image at shape (1, 3, 480, 640)\n",
      "\n",
      "0: 480x640 (no detections), 142.9ms\n"
     ]
    },
    {
     "name": "stdout",
     "output_type": "stream",
     "text": [
      "Results:  [] [] []\n",
      "Output values:  []\n"
     ]
    },
    {
     "name": "stderr",
     "output_type": "stream",
     "text": [
      "Speed: 8.5ms preprocess, 142.9ms inference, 1.0ms postprocess per image at shape (1, 3, 480, 640)\n",
      "\n",
      "0: 480x640 (no detections), 145.1ms\n"
     ]
    },
    {
     "name": "stdout",
     "output_type": "stream",
     "text": [
      "Results:  [] [] []\n",
      "Output values:  []\n"
     ]
    },
    {
     "name": "stderr",
     "output_type": "stream",
     "text": [
      "Speed: 8.5ms preprocess, 145.1ms inference, 1.0ms postprocess per image at shape (1, 3, 480, 640)\n",
      "\n",
      "0: 480x640 (no detections), 143.2ms\n",
      "Speed: 8.0ms preprocess, 143.2ms inference, 1.0ms postprocess per image at shape (1, 3, 480, 640)\n"
     ]
    },
    {
     "name": "stdout",
     "output_type": "stream",
     "text": [
      "Results:  [] [] []\n",
      "Output values:  []\n"
     ]
    },
    {
     "name": "stderr",
     "output_type": "stream",
     "text": [
      "\n",
      "0: 480x640 (no detections), 149.4ms\n"
     ]
    },
    {
     "name": "stdout",
     "output_type": "stream",
     "text": [
      "Results:  [] [] []\n",
      "Output values:  []\n"
     ]
    },
    {
     "name": "stderr",
     "output_type": "stream",
     "text": [
      "Speed: 8.5ms preprocess, 149.4ms inference, 2.0ms postprocess per image at shape (1, 3, 480, 640)\n",
      "\n",
      "0: 480x640 (no detections), 156.2ms\n"
     ]
    },
    {
     "name": "stdout",
     "output_type": "stream",
     "text": [
      "Results:  [] [] []\n",
      "Output values:  []\n"
     ]
    },
    {
     "name": "stderr",
     "output_type": "stream",
     "text": [
      "Speed: 9.5ms preprocess, 156.2ms inference, 0.0ms postprocess per image at shape (1, 3, 480, 640)\n",
      "\n",
      "0: 480x640 (no detections), 150.1ms\n"
     ]
    },
    {
     "name": "stdout",
     "output_type": "stream",
     "text": [
      "Results:  [] [] []\n",
      "Output values:  []\n"
     ]
    },
    {
     "name": "stderr",
     "output_type": "stream",
     "text": [
      "Speed: 8.5ms preprocess, 150.1ms inference, 1.5ms postprocess per image at shape (1, 3, 480, 640)\n",
      "\n",
      "0: 480x640 (no detections), 157.5ms\n"
     ]
    },
    {
     "name": "stdout",
     "output_type": "stream",
     "text": [
      "Results:  [] [] []\n",
      "Output values:  []\n"
     ]
    },
    {
     "name": "stderr",
     "output_type": "stream",
     "text": [
      "Speed: 9.5ms preprocess, 157.5ms inference, 1.0ms postprocess per image at shape (1, 3, 480, 640)\n",
      "\n"
     ]
    },
    {
     "name": "stdout",
     "output_type": "stream",
     "text": [
      "Results:  [] [] []\n",
      "Output values:  []\n"
     ]
    },
    {
     "name": "stderr",
     "output_type": "stream",
     "text": [
      "0: 480x640 (no detections), 162.4ms\n",
      "Speed: 11.5ms preprocess, 162.4ms inference, 1.0ms postprocess per image at shape (1, 3, 480, 640)\n",
      "\n"
     ]
    },
    {
     "name": "stdout",
     "output_type": "stream",
     "text": [
      "Results:  [] [] []\n",
      "Output values:  []\n"
     ]
    },
    {
     "name": "stderr",
     "output_type": "stream",
     "text": [
      "0: 480x640 (no detections), 171.9ms\n",
      "Speed: 11.5ms preprocess, 171.9ms inference, 1.0ms postprocess per image at shape (1, 3, 480, 640)\n",
      "\n"
     ]
    },
    {
     "name": "stdout",
     "output_type": "stream",
     "text": [
      "Results:  [] [] []\n",
      "Output values:  []\n"
     ]
    },
    {
     "name": "stderr",
     "output_type": "stream",
     "text": [
      "0: 480x640 (no detections), 172.7ms\n",
      "Speed: 10.1ms preprocess, 172.7ms inference, 1.0ms postprocess per image at shape (1, 3, 480, 640)\n",
      "\n"
     ]
    },
    {
     "name": "stdout",
     "output_type": "stream",
     "text": [
      "Results:  [] [] []\n",
      "Output values:  []\n"
     ]
    },
    {
     "name": "stderr",
     "output_type": "stream",
     "text": [
      "0: 480x640 (no detections), 184.2ms\n",
      "Speed: 13.8ms preprocess, 184.2ms inference, 1.0ms postprocess per image at shape (1, 3, 480, 640)\n",
      "\n"
     ]
    },
    {
     "name": "stdout",
     "output_type": "stream",
     "text": [
      "Results:  [] [] []\n",
      "Output values:  []\n"
     ]
    },
    {
     "name": "stderr",
     "output_type": "stream",
     "text": [
      "0: 480x640 (no detections), 175.4ms\n",
      "Speed: 12.0ms preprocess, 175.4ms inference, 2.0ms postprocess per image at shape (1, 3, 480, 640)\n",
      "\n",
      "0: 480x640 (no detections), 152.1ms\n"
     ]
    },
    {
     "name": "stdout",
     "output_type": "stream",
     "text": [
      "Results:  [] [] []\n",
      "Output values:  []\n"
     ]
    },
    {
     "name": "stderr",
     "output_type": "stream",
     "text": [
      "Speed: 11.5ms preprocess, 152.1ms inference, 1.0ms postprocess per image at shape (1, 3, 480, 640)\n",
      "\n",
      "0: 480x640 (no detections), 145.5ms\n"
     ]
    },
    {
     "name": "stdout",
     "output_type": "stream",
     "text": [
      "Results:  [] [] []\n",
      "Output values:  []\n"
     ]
    },
    {
     "name": "stderr",
     "output_type": "stream",
     "text": [
      "Speed: 10.0ms preprocess, 145.5ms inference, 1.0ms postprocess per image at shape (1, 3, 480, 640)\n",
      "\n",
      "0: 480x640 (no detections), 146.7ms\n"
     ]
    },
    {
     "name": "stdout",
     "output_type": "stream",
     "text": [
      "Results:  [] [] []\n",
      "Output values:  []\n"
     ]
    },
    {
     "name": "stderr",
     "output_type": "stream",
     "text": [
      "Speed: 8.5ms preprocess, 146.7ms inference, 1.0ms postprocess per image at shape (1, 3, 480, 640)\n",
      "\n",
      "0: 480x640 (no detections), 141.9ms\n",
      "Speed: 7.5ms preprocess, 141.9ms inference, 1.0ms postprocess per image at shape (1, 3, 480, 640)\n",
      "\n"
     ]
    },
    {
     "name": "stdout",
     "output_type": "stream",
     "text": [
      "Results:  [] [] []\n",
      "Output values:  []\n",
      "Results:  [] [] []\n",
      "Output values:  []\n"
     ]
    },
    {
     "name": "stderr",
     "output_type": "stream",
     "text": [
      "0: 480x640 (no detections), 143.2ms\n",
      "Speed: 8.5ms preprocess, 143.2ms inference, 1.0ms postprocess per image at shape (1, 3, 480, 640)\n",
      "\n",
      "0: 480x640 (no detections), 144.6ms\n"
     ]
    },
    {
     "name": "stdout",
     "output_type": "stream",
     "text": [
      "Results:  [] [] []\n",
      "Output values:  []\n"
     ]
    },
    {
     "name": "stderr",
     "output_type": "stream",
     "text": [
      "Speed: 7.5ms preprocess, 144.6ms inference, 1.0ms postprocess per image at shape (1, 3, 480, 640)\n",
      "\n",
      "0: 480x640 (no detections), 148.1ms\n"
     ]
    },
    {
     "name": "stdout",
     "output_type": "stream",
     "text": [
      "Results:  [] [] []\n",
      "Output values:  []\n"
     ]
    },
    {
     "name": "stderr",
     "output_type": "stream",
     "text": [
      "Speed: 8.2ms preprocess, 148.1ms inference, 1.5ms postprocess per image at shape (1, 3, 480, 640)\n",
      "\n",
      "0: 480x640 (no detections), 142.4ms\n"
     ]
    },
    {
     "name": "stdout",
     "output_type": "stream",
     "text": [
      "Results:  [] [] []\n",
      "Output values:  []\n"
     ]
    },
    {
     "name": "stderr",
     "output_type": "stream",
     "text": [
      "Speed: 8.0ms preprocess, 142.4ms inference, 1.0ms postprocess per image at shape (1, 3, 480, 640)\n",
      "\n",
      "0: 480x640 (no detections), 139.4ms\n"
     ]
    },
    {
     "name": "stdout",
     "output_type": "stream",
     "text": [
      "Results:  [] [] []\n",
      "Output values:  []\n"
     ]
    },
    {
     "name": "stderr",
     "output_type": "stream",
     "text": [
      "Speed: 7.5ms preprocess, 139.4ms inference, 1.0ms postprocess per image at shape (1, 3, 480, 640)\n",
      "\n",
      "0: 480x640 (no detections), 144.8ms\n",
      "Speed: 8.5ms preprocess, 144.8ms inference, 1.0ms postprocess per image at shape (1, 3, 480, 640)\n"
     ]
    },
    {
     "name": "stdout",
     "output_type": "stream",
     "text": [
      "Results:  [] [] []\n",
      "Output values:  []\n",
      "Results:  [] [] []\n",
      "Output values:  []\n"
     ]
    },
    {
     "name": "stderr",
     "output_type": "stream",
     "text": [
      "\n",
      "0: 480x640 (no detections), 143.8ms\n",
      "Speed: 8.5ms preprocess, 143.8ms inference, 1.0ms postprocess per image at shape (1, 3, 480, 640)\n",
      "\n",
      "0: 480x640 (no detections), 147.8ms\n"
     ]
    },
    {
     "name": "stdout",
     "output_type": "stream",
     "text": [
      "Results:  [] [] []\n",
      "Output values:  []\n"
     ]
    },
    {
     "name": "stderr",
     "output_type": "stream",
     "text": [
      "Speed: 10.1ms preprocess, 147.8ms inference, 1.5ms postprocess per image at shape (1, 3, 480, 640)\n",
      "\n",
      "0: 480x640 (no detections), 153.0ms\n"
     ]
    },
    {
     "name": "stdout",
     "output_type": "stream",
     "text": [
      "Results:  [] [] []\n",
      "Output values:  []\n"
     ]
    },
    {
     "name": "stderr",
     "output_type": "stream",
     "text": [
      "Speed: 11.5ms preprocess, 153.0ms inference, 1.5ms postprocess per image at shape (1, 3, 480, 640)\n",
      "\n"
     ]
    },
    {
     "name": "stdout",
     "output_type": "stream",
     "text": [
      "Results:  [] [] []\n",
      "Output values:  []\n"
     ]
    },
    {
     "name": "stderr",
     "output_type": "stream",
     "text": [
      "0: 480x640 (no detections), 155.2ms\n",
      "Speed: 13.1ms preprocess, 155.2ms inference, 1.0ms postprocess per image at shape (1, 3, 480, 640)\n",
      "\n",
      "0: 480x640 (no detections), 158.2ms\n"
     ]
    },
    {
     "name": "stdout",
     "output_type": "stream",
     "text": [
      "Results:  [] [] []\n",
      "Output values:  []\n"
     ]
    },
    {
     "name": "stderr",
     "output_type": "stream",
     "text": [
      "Speed: 9.5ms preprocess, 158.2ms inference, 1.0ms postprocess per image at shape (1, 3, 480, 640)\n",
      "\n",
      "0: 480x640 (no detections), 154.7ms\n"
     ]
    },
    {
     "name": "stdout",
     "output_type": "stream",
     "text": [
      "Results:  [] [] []\n",
      "Output values:  []\n"
     ]
    },
    {
     "name": "stderr",
     "output_type": "stream",
     "text": [
      "Speed: 9.5ms preprocess, 154.7ms inference, 2.0ms postprocess per image at shape (1, 3, 480, 640)\n",
      "\n"
     ]
    },
    {
     "name": "stdout",
     "output_type": "stream",
     "text": [
      "Results:  [] [] []\n",
      "Output values:  []\n"
     ]
    },
    {
     "name": "stderr",
     "output_type": "stream",
     "text": [
      "0: 480x640 1 vehicle, 172.8ms\n",
      "Speed: 13.0ms preprocess, 172.8ms inference, 2.0ms postprocess per image at shape (1, 3, 480, 640)\n",
      "\n"
     ]
    },
    {
     "name": "stdout",
     "output_type": "stream",
     "text": [
      "Results:  [[767, 384, 845, 413]] [0.7297855019569397] [1]\n",
      "Output values:  []\n"
     ]
    },
    {
     "name": "stderr",
     "output_type": "stream",
     "text": [
      "0: 480x640 1 vehicle, 186.9ms\n",
      "Speed: 12.3ms preprocess, 186.9ms inference, 2.0ms postprocess per image at shape (1, 3, 480, 640)\n",
      "\n"
     ]
    },
    {
     "name": "stdout",
     "output_type": "stream",
     "text": [
      "Results:  [[736, 381, 838, 414]] [0.7211443781852722] [1]\n",
      "Output values:  []\n"
     ]
    },
    {
     "name": "stderr",
     "output_type": "stream",
     "text": [
      "0: 480x640 (no detections), 196.0ms\n",
      "Speed: 12.4ms preprocess, 196.0ms inference, 1.0ms postprocess per image at shape (1, 3, 480, 640)\n",
      "\n",
      "0: 480x640 1 vehicle, 157.4ms\n"
     ]
    },
    {
     "name": "stdout",
     "output_type": "stream",
     "text": [
      "Results:  [] [] []\n",
      "Output values:  []\n"
     ]
    },
    {
     "name": "stderr",
     "output_type": "stream",
     "text": [
      "Speed: 12.5ms preprocess, 157.4ms inference, 4.0ms postprocess per image at shape (1, 3, 480, 640)\n",
      "\n"
     ]
    },
    {
     "name": "stdout",
     "output_type": "stream",
     "text": [
      "Results:  [[688, 384, 756, 407]] [0.5248295068740845] [1]\n",
      "Output values:  []\n"
     ]
    },
    {
     "name": "stderr",
     "output_type": "stream",
     "text": [
      "0: 480x640 1 vehicle, 141.0ms\n",
      "Speed: 10.0ms preprocess, 141.0ms inference, 1.0ms postprocess per image at shape (1, 3, 480, 640)\n",
      "\n"
     ]
    },
    {
     "name": "stdout",
     "output_type": "stream",
     "text": [
      "Results:  [[670, 384, 740, 406]] [0.7014875411987305] [1]\n",
      "Output values:  []\n"
     ]
    },
    {
     "name": "stderr",
     "output_type": "stream",
     "text": [
      "0: 480x640 1 vehicle, 137.9ms\n",
      "Speed: 9.5ms preprocess, 137.9ms inference, 1.0ms postprocess per image at shape (1, 3, 480, 640)\n",
      "\n"
     ]
    },
    {
     "name": "stdout",
     "output_type": "stream",
     "text": [
      "Results:  [[647, 383, 712, 405]] [0.7518950700759888] [1]\n",
      "Output values:  [[        647         383         711         404          34           1      0.7519]]\n"
     ]
    },
    {
     "name": "stderr",
     "output_type": "stream",
     "text": [
      "0: 480x640 1 vehicle, 156.5ms\n",
      "Speed: 10.0ms preprocess, 156.5ms inference, 2.0ms postprocess per image at shape (1, 3, 480, 640)\n",
      "\n"
     ]
    },
    {
     "name": "stdout",
     "output_type": "stream",
     "text": [
      "Results:  [[633, 383, 696, 405]] [0.7431988716125488] [1]\n",
      "Output values:  [[        633         383         695         404          34           1      0.7432]]\n"
     ]
    },
    {
     "name": "stderr",
     "output_type": "stream",
     "text": [
      "0: 480x640 1 vehicle, 163.2ms\n",
      "Speed: 8.2ms preprocess, 163.2ms inference, 1.0ms postprocess per image at shape (1, 3, 480, 640)\n",
      "\n"
     ]
    },
    {
     "name": "stdout",
     "output_type": "stream",
     "text": [
      "Results:  [[618, 385, 676, 404]] [0.7301455736160278] [1]\n",
      "Output values:  [[        617         384         676         404          34           1     0.73015]]\n"
     ]
    },
    {
     "name": "stderr",
     "output_type": "stream",
     "text": [
      "0: 480x640 1 vehicle, 152.5ms\n",
      "Speed: 9.1ms preprocess, 152.5ms inference, 1.0ms postprocess per image at shape (1, 3, 480, 640)\n",
      "\n"
     ]
    },
    {
     "name": "stdout",
     "output_type": "stream",
     "text": [
      "Results:  [[601, 384, 661, 405]] [0.7595025897026062] [1]\n",
      "Output values:  [[        601         384         660         404          34           1      0.7595]]\n"
     ]
    },
    {
     "name": "stderr",
     "output_type": "stream",
     "text": [
      "0: 480x640 1 vehicle, 151.4ms\n",
      "Speed: 9.5ms preprocess, 151.4ms inference, 1.0ms postprocess per image at shape (1, 3, 480, 640)\n",
      "\n"
     ]
    },
    {
     "name": "stdout",
     "output_type": "stream",
     "text": [
      "Results:  [[585, 383, 647, 405]] [0.7533695101737976] [1]\n",
      "Output values:  [[        585         383         646         404          34           1     0.75337]]\n"
     ]
    },
    {
     "name": "stderr",
     "output_type": "stream",
     "text": [
      "0: 480x640 1 vehicle, 144.8ms\n",
      "Speed: 9.5ms preprocess, 144.8ms inference, 1.0ms postprocess per image at shape (1, 3, 480, 640)\n",
      "\n"
     ]
    },
    {
     "name": "stdout",
     "output_type": "stream",
     "text": [
      "Results:  [[570, 384, 632, 404]] [0.7528705596923828] [1]\n",
      "Output values:  [[        569         383         632         404          34           1     0.75287]]\n"
     ]
    },
    {
     "name": "stderr",
     "output_type": "stream",
     "text": [
      "0: 480x640 1 vehicle, 157.6ms\n",
      "Speed: 12.1ms preprocess, 157.6ms inference, 2.0ms postprocess per image at shape (1, 3, 480, 640)\n",
      "\n"
     ]
    },
    {
     "name": "stdout",
     "output_type": "stream",
     "text": [
      "Results:  [[551, 385, 609, 404]] [0.7506067752838135] [1]\n",
      "Output values:  [[        550         384         609         404          34           1     0.75061]]\n"
     ]
    },
    {
     "name": "stderr",
     "output_type": "stream",
     "text": [
      "0: 480x640 1 vehicle, 159.3ms\n",
      "Speed: 9.6ms preprocess, 159.3ms inference, 2.0ms postprocess per image at shape (1, 3, 480, 640)\n",
      "\n"
     ]
    },
    {
     "name": "stdout",
     "output_type": "stream",
     "text": [
      "Results:  [[530, 383, 595, 404]] [0.7358282804489136] [1]\n",
      "Output values:  [[        530         383         594         403          34           1     0.73583]]\n"
     ]
    },
    {
     "name": "stderr",
     "output_type": "stream",
     "text": [
      "0: 480x640 1 vehicle, 165.3ms\n",
      "Speed: 9.5ms preprocess, 165.3ms inference, 3.0ms postprocess per image at shape (1, 3, 480, 640)\n",
      "\n"
     ]
    },
    {
     "name": "stdout",
     "output_type": "stream",
     "text": [
      "Results:  [[511, 384, 568, 403]] [0.7555211782455444] [1]\n",
      "Output values:  [[        510         383         568         403          34           1     0.75552]]\n"
     ]
    },
    {
     "name": "stderr",
     "output_type": "stream",
     "text": [
      "0: 480x640 1 vehicle, 169.6ms\n",
      "Speed: 12.1ms preprocess, 169.6ms inference, 2.5ms postprocess per image at shape (1, 3, 480, 640)\n",
      "\n"
     ]
    },
    {
     "name": "stdout",
     "output_type": "stream",
     "text": [
      "Results:  [[489, 382, 548, 404]] [0.7343851327896118] [1]\n",
      "Output values:  [[        489         382         547         403          34           1     0.73439]]\n"
     ]
    },
    {
     "name": "stderr",
     "output_type": "stream",
     "text": [
      "0: 480x640 2 vehicles, 183.1ms\n",
      "Speed: 12.5ms preprocess, 183.1ms inference, 3.0ms postprocess per image at shape (1, 3, 480, 640)\n"
     ]
    },
    {
     "name": "stdout",
     "output_type": "stream",
     "text": [
      "Results:  [[460, 382, 521, 403], [594, 372, 687, 406]] [0.7223483324050903, 0.4991540312767029] [1, 1]\n"
     ]
    },
    {
     "name": "stderr",
     "output_type": "stream",
     "text": [
      "\n"
     ]
    },
    {
     "name": "stdout",
     "output_type": "stream",
     "text": [
      "Output values:  [[        459         381         521         403          34           1     0.72235]]\n"
     ]
    },
    {
     "name": "stderr",
     "output_type": "stream",
     "text": [
      "0: 480x640 2 vehicles, 196.6ms\n",
      "Speed: 11.5ms preprocess, 196.6ms inference, 2.0ms postprocess per image at shape (1, 3, 480, 640)\n",
      "\n"
     ]
    },
    {
     "name": "stdout",
     "output_type": "stream",
     "text": [
      "Results:  [[569, 372, 657, 406], [404, 383, 463, 404]] [0.7953231334686279, 0.7516509890556335] [1, 1]\n",
      "Output values:  [[        403         382         463         404          34           1     0.75165]]\n"
     ]
    },
    {
     "name": "stderr",
     "output_type": "stream",
     "text": [
      "0: 480x640 2 vehicles, 155.4ms\n",
      "Speed: 8.5ms preprocess, 155.4ms inference, 2.5ms postprocess per image at shape (1, 3, 480, 640)\n",
      "\n"
     ]
    },
    {
     "name": "stdout",
     "output_type": "stream",
     "text": [
      "Results:  [[545, 373, 630, 406], [357, 382, 416, 404]] [0.7904072999954224, 0.7156829237937927] [1, 1]\n",
      "Output values:  [[        357         382         415         403          34           1     0.71568]\n",
      " [        544         372         630         406          35           1     0.79041]]\n"
     ]
    },
    {
     "name": "stderr",
     "output_type": "stream",
     "text": [
      "0: 480x640 2 vehicles, 155.2ms\n",
      "Speed: 10.0ms preprocess, 155.2ms inference, 2.0ms postprocess per image at shape (1, 3, 480, 640)\n"
     ]
    },
    {
     "name": "stdout",
     "output_type": "stream",
     "text": [
      "Results:  [[519, 374, 605, 406], [319, 384, 378, 404]] [0.7631019949913025, 0.7401771545410156] [1, 1]\n",
      "Output values:  [[        318         383         378         404          34           1     0.74018]\n",
      " [        518         373         605         406          35           1      0.7631]]\n"
     ]
    },
    {
     "name": "stderr",
     "output_type": "stream",
     "text": [
      "\n",
      "0: 480x640 3 vehicles, 176.8ms\n",
      "Speed: 7.5ms preprocess, 176.8ms inference, 1.0ms postprocess per image at shape (1, 3, 480, 640)\n"
     ]
    },
    {
     "name": "stdout",
     "output_type": "stream",
     "text": [
      "Results:  [[292, 384, 353, 405], [495, 377, 585, 406], [684, 378, 746, 403]] [0.7380685210227966, 0.6664459109306335, 0.46183720231056213] [1, 1, 1]\n"
     ]
    },
    {
     "name": "stderr",
     "output_type": "stream",
     "text": [
      "\n"
     ]
    },
    {
     "name": "stdout",
     "output_type": "stream",
     "text": [
      "Output values:  [[        292         384         352         404          34           1     0.73807]\n",
      " [        494         376         585         406          35           1     0.66645]]\n"
     ]
    },
    {
     "name": "stderr",
     "output_type": "stream",
     "text": [
      "0: 480x640 3 vehicles, 163.0ms\n",
      "Speed: 9.1ms preprocess, 163.0ms inference, 2.0ms postprocess per image at shape (1, 3, 480, 640)\n"
     ]
    },
    {
     "name": "stdout",
     "output_type": "stream",
     "text": [
      "Results:  [[238, 385, 304, 405], [445, 374, 537, 406], [665, 377, 730, 403]] [0.7288806438446045, 0.593242347240448, 0.5409591794013977] [1, 1, 1]\n"
     ]
    },
    {
     "name": "stderr",
     "output_type": "stream",
     "text": [
      "\n"
     ]
    },
    {
     "name": "stdout",
     "output_type": "stream",
     "text": [
      "Output values:  [[        237         384         304         405          34           1     0.72888]\n",
      " [        445         374         536         405          35           1     0.59324]]\n"
     ]
    },
    {
     "name": "stderr",
     "output_type": "stream",
     "text": [
      "0: 480x640 3 vehicles, 154.2ms\n",
      "Speed: 9.0ms preprocess, 154.2ms inference, 1.0ms postprocess per image at shape (1, 3, 480, 640)\n"
     ]
    },
    {
     "name": "stdout",
     "output_type": "stream",
     "text": [
      "Results:  [[191, 384, 257, 405], [393, 371, 475, 405], [637, 378, 701, 403]] [0.7394673228263855, 0.7061446309089661, 0.6940253973007202] [1, 1, 1]\n",
      "Output values:  [[        191         384         256         404          34           1     0.73947]\n",
      " [        393         371         474         404          35           1     0.70614]\n",
      " [        636         377         701         403          36           1     0.69403]]\n"
     ]
    },
    {
     "name": "stderr",
     "output_type": "stream",
     "text": [
      "\n",
      "0: 480x640 4 vehicles, 135.0ms\n",
      "Speed: 10.5ms preprocess, 135.0ms inference, 2.0ms postprocess per image at shape (1, 3, 480, 640)\n"
     ]
    },
    {
     "name": "stdout",
     "output_type": "stream",
     "text": [
      "Results:  [[151, 383, 222, 405], [618, 377, 672, 402], [443, 381, 492, 401], [351, 372, 432, 406]] [0.7271494269371033, 0.6632561683654785, 0.656093180179596, 0.43087008595466614] [1, 1, 1, 1]\n",
      "Output values:  [[        151         383         221         404          34           1     0.72715]\n",
      " [        351         371         432         406          35           1     0.43087]\n",
      " [        618         377         671         401          36           1     0.66326]]\n"
     ]
    },
    {
     "name": "stderr",
     "output_type": "stream",
     "text": [
      "\n",
      "0: 480x640 2 vehicles, 134.8ms\n",
      "Speed: 9.5ms preprocess, 134.8ms inference, 2.0ms postprocess per image at shape (1, 3, 480, 640)\n",
      "\n"
     ]
    },
    {
     "name": "stdout",
     "output_type": "stream",
     "text": [
      "Results:  [[616, 377, 672, 402], [120, 383, 189, 405]] [0.6547197103500366, 0.6187601685523987] [1, 1]\n",
      "Output values:  [[        119         382         189         405          34           1     0.61876]\n",
      " [        313         371         394         406          35           1     0.43087]\n",
      " [        616         377         671         401          36           1     0.65472]]\n"
     ]
    },
    {
     "name": "stderr",
     "output_type": "stream",
     "text": [
      "0: 480x640 2 vehicles, 147.3ms\n",
      "Speed: 10.5ms preprocess, 147.3ms inference, 1.0ms postprocess per image at shape (1, 3, 480, 640)\n",
      "\n"
     ]
    },
    {
     "name": "stdout",
     "output_type": "stream",
     "text": [
      "Results:  [[89, 385, 162, 405], [666, 380, 726, 406]] [0.6061230301856995, 0.31130436062812805] [1, 1]\n",
      "Output values:  [[         88         384         162         405          34           1     0.60612]\n",
      " [        601         376         657         401          36           1     0.65472]]\n"
     ]
    },
    {
     "name": "stderr",
     "output_type": "stream",
     "text": [
      "0: 480x640 3 vehicles, 156.1ms\n",
      "Speed: 9.9ms preprocess, 156.1ms inference, 2.0ms postprocess per image at shape (1, 3, 480, 640)\n"
     ]
    },
    {
     "name": "stdout",
     "output_type": "stream",
     "text": [
      "Results:  [[57, 385, 122, 405], [640, 383, 695, 405], [273, 370, 399, 406]] [0.6767405867576599, 0.32871943712234497, 0.29391375184059143] [1, 1, 1]\n",
      "Output values:  [[         56         384         122         405          34           1     0.67674]\n",
      " [        273         370         398         405          35           1     0.29391]]\n"
     ]
    },
    {
     "name": "stderr",
     "output_type": "stream",
     "text": [
      "\n",
      "0: 480x640 2 vehicles, 172.2ms\n",
      "Speed: 11.5ms preprocess, 172.2ms inference, 2.6ms postprocess per image at shape (1, 3, 480, 640)\n"
     ]
    },
    {
     "name": "stdout",
     "output_type": "stream",
     "text": [
      "Results:  [[226, 369, 313, 406], [614, 378, 675, 405]] [0.8386591076850891, 0.4484831392765045] [1, 1]\n",
      "Output values:  [[         22         385          87         405          34           1     0.67674]\n",
      " [        226         369         312         405          35           1     0.83866]]\n"
     ]
    },
    {
     "name": "stderr",
     "output_type": "stream",
     "text": [
      "\n",
      "0: 480x640 2 vehicles, 144.8ms\n",
      "Speed: 9.5ms preprocess, 144.8ms inference, 1.4ms postprocess per image at shape (1, 3, 480, 640)\n",
      "\n"
     ]
    },
    {
     "name": "stdout",
     "output_type": "stream",
     "text": [
      "Results:  [[165, 371, 255, 407], [288, 378, 343, 401]] [0.6945233941078186, 0.32485127449035645] [1, 1]\n",
      "Output values:  [[        164         370         255         407          35           1     0.69452]]\n"
     ]
    },
    {
     "name": "stderr",
     "output_type": "stream",
     "text": [
      "0: 480x640 2 vehicles, 136.8ms\n",
      "Speed: 8.0ms preprocess, 136.8ms inference, 2.0ms postprocess per image at shape (1, 3, 480, 640)\n",
      "\n"
     ]
    },
    {
     "name": "stdout",
     "output_type": "stream",
     "text": [
      "Results:  [[129, 369, 226, 407], [548, 378, 636, 405]] [0.8076351881027222, 0.4810069799423218] [1, 1]\n",
      "Output values:  [[        129         369         225         406          35           1     0.80764]]\n"
     ]
    },
    {
     "name": "stderr",
     "output_type": "stream",
     "text": [
      "0: 480x640 3 vehicles, 129.1ms\n",
      "Speed: 7.8ms preprocess, 129.1ms inference, 1.0ms postprocess per image at shape (1, 3, 480, 640)\n",
      "\n"
     ]
    },
    {
     "name": "stdout",
     "output_type": "stream",
     "text": [
      "Results:  [[108, 369, 207, 406], [539, 378, 615, 405], [231, 376, 284, 402]] [0.8101680278778076, 0.7200535535812378, 0.2905825078487396] [1, 1, 1]\n",
      "Output values:  [[        107         368         207         406          35           1     0.81017]]\n"
     ]
    },
    {
     "name": "stderr",
     "output_type": "stream",
     "text": [
      "0: 480x640 3 vehicles, 152.3ms\n",
      "Speed: 9.6ms preprocess, 152.3ms inference, 3.0ms postprocess per image at shape (1, 3, 480, 640)\n",
      "\n"
     ]
    },
    {
     "name": "stdout",
     "output_type": "stream",
     "text": [
      "Results:  [[530, 378, 603, 404], [85, 368, 186, 406], [210, 379, 262, 402]] [0.7732152938842773, 0.6891433000564575, 0.41452473402023315] [1, 1, 1]\n",
      "Output values:  [[         85         368         185         405          35           1     0.68914]\n",
      " [        529         377         603         404          41           1     0.77322]]\n"
     ]
    },
    {
     "name": "stderr",
     "output_type": "stream",
     "text": [
      "0: 480x640 3 vehicles, 140.3ms\n",
      "Speed: 8.0ms preprocess, 140.3ms inference, 1.5ms postprocess per image at shape (1, 3, 480, 640)\n",
      "\n"
     ]
    },
    {
     "name": "stdout",
     "output_type": "stream",
     "text": [
      "Results:  [[669, 382, 732, 403], [515, 381, 582, 404], [67, 368, 148, 405]] [0.7142620086669922, 0.696588397026062, 0.6786605715751648] [1, 1, 1]\n",
      "Output values:  [[         66         367         148         405          35           1     0.67866]\n",
      " [        514         380         582         404          41           1     0.69659]]\n"
     ]
    },
    {
     "name": "stderr",
     "output_type": "stream",
     "text": [
      "0: 480x640 2 vehicles, 143.3ms\n",
      "Speed: 9.5ms preprocess, 143.3ms inference, 1.0ms postprocess per image at shape (1, 3, 480, 640)\n",
      "\n"
     ]
    },
    {
     "name": "stdout",
     "output_type": "stream",
     "text": [
      "Results:  [[492, 380, 560, 403], [651, 382, 712, 403]] [0.738355278968811, 0.7117875218391418] [1, 1]\n",
      "Output values:  [[         37         367         119         404          35           1     0.67866]\n",
      " [        492         380         559         402          41           1     0.73836]]\n"
     ]
    },
    {
     "name": "stderr",
     "output_type": "stream",
     "text": [
      "0: 480x640 2 vehicles, 152.5ms\n",
      "Speed: 10.5ms preprocess, 152.5ms inference, 1.0ms postprocess per image at shape (1, 3, 480, 640)\n",
      "\n"
     ]
    },
    {
     "name": "stdout",
     "output_type": "stream",
     "text": [
      "Results:  [[462, 379, 532, 405], [630, 383, 687, 402]] [0.737243115901947, 0.7246571183204651] [1, 1]\n",
      "Output values:  [[        462         379         531         404          41           1     0.73724]\n",
      " [        629         382         687         402          43           1     0.72466]]\n"
     ]
    },
    {
     "name": "stderr",
     "output_type": "stream",
     "text": [
      "0: 480x640 2 vehicles, 161.3ms\n",
      "Speed: 8.5ms preprocess, 161.3ms inference, 1.0ms postprocess per image at shape (1, 3, 480, 640)\n"
     ]
    },
    {
     "name": "stdout",
     "output_type": "stream",
     "text": [
      "Results:  [[428, 377, 494, 404], [605, 382, 663, 402]] [0.7883314490318298, 0.4353918731212616] [1, 1]\n",
      "Output values:  [[        428         377         493         403          41           1     0.78833]\n",
      " [        605         382         662         401          43           1     0.43539]]\n"
     ]
    },
    {
     "name": "stderr",
     "output_type": "stream",
     "text": [
      "\n",
      "0: 480x640 2 vehicles, 161.2ms\n",
      "Speed: 9.5ms preprocess, 161.2ms inference, 2.0ms postprocess per image at shape (1, 3, 480, 640)\n"
     ]
    },
    {
     "name": "stdout",
     "output_type": "stream",
     "text": [
      "Results:  [[379, 375, 447, 404], [597, 382, 656, 403]] [0.7766637206077576, 0.7256671190261841] [1, 1]\n",
      "Output values:  [[        379         375         446         403          41           1     0.77666]\n",
      " [        597         382         655         402          43           1     0.72567]]\n"
     ]
    },
    {
     "name": "stderr",
     "output_type": "stream",
     "text": [
      "\n",
      "0: 480x640 2 vehicles, 174.6ms\n",
      "Speed: 10.0ms preprocess, 174.6ms inference, 2.0ms postprocess per image at shape (1, 3, 480, 640)\n"
     ]
    },
    {
     "name": "stdout",
     "output_type": "stream",
     "text": [
      "Results:  [[356, 377, 418, 406], [597, 385, 658, 405]] [0.7419474720954895, 0.6129996180534363] [1, 1]\n",
      "Output values:  [[        355         376         418         406          41           1     0.74195]\n",
      " [        596         384         658         405          43           1       0.613]]\n"
     ]
    },
    {
     "name": "stderr",
     "output_type": "stream",
     "text": [
      "\n",
      "0: 480x640 4 vehicles, 179.7ms\n",
      "Speed: 10.5ms preprocess, 179.7ms inference, 5.0ms postprocess per image at shape (1, 3, 480, 640)\n"
     ]
    },
    {
     "name": "stdout",
     "output_type": "stream",
     "text": [
      "Results:  [[907, 386, 985, 434], [660, 382, 738, 409], [325, 377, 418, 409], [595, 387, 657, 406]] [0.7726947665214539, 0.7548168897628784, 0.7356005907058716, 0.4013957381248474] [1, 1, 1, 1]\n"
     ]
    },
    {
     "name": "stderr",
     "output_type": "stream",
     "text": [
      "\n"
     ]
    },
    {
     "name": "stdout",
     "output_type": "stream",
     "text": [
      "Output values:  [[        325         377         417         408          41           1      0.7356]\n",
      " [        594         386         657         406          43           1      0.4014]]\n"
     ]
    },
    {
     "name": "stderr",
     "output_type": "stream",
     "text": [
      "0: 480x640 6 vehicles, 157.3ms\n",
      "Speed: 12.1ms preprocess, 157.3ms inference, 2.5ms postprocess per image at shape (1, 3, 480, 640)\n"
     ]
    },
    {
     "name": "stdout",
     "output_type": "stream",
     "text": [
      "Results:  [[674, 382, 762, 413], [248, 383, 316, 411], [581, 385, 649, 407], [331, 375, 398, 408], [486, 380, 530, 400], [897, 374, 983, 413]] [0.8313025832176208, 0.7757018208503723, 0.7732230424880981, 0.6526114344596863, 0.47602781653404236, 0.28246307373046875] [1, 1, 1, 1, 1, 1]\n"
     ]
    },
    {
     "name": "stderr",
     "output_type": "stream",
     "text": [
      "\n"
     ]
    },
    {
     "name": "stdout",
     "output_type": "stream",
     "text": [
      "Output values:  [[        485         379         530         400          36           1     0.47603]\n",
      " [        331         375         397         407          41           1     0.65261]\n",
      " [        581         385         648         406          43           1     0.77322]]\n"
     ]
    },
    {
     "name": "stderr",
     "output_type": "stream",
     "text": [
      "0: 480x640 6 vehicles, 155.5ms\n",
      "Speed: 8.0ms preprocess, 155.5ms inference, 1.0ms postprocess per image at shape (1, 3, 480, 640)\n"
     ]
    },
    {
     "name": "stdout",
     "output_type": "stream",
     "text": [
      "Results:  [[133, 378, 219, 410], [665, 377, 762, 411], [553, 379, 622, 405], [278, 374, 353, 406], [861, 371, 952, 408], [474, 376, 519, 395]] [0.8228384256362915, 0.8117069005966187, 0.7958003878593445, 0.7819473743438721, 0.6987146139144897, 0.42031538486480713] [1, 1, 1, 1, 1, 1]\n"
     ]
    },
    {
     "name": "stderr",
     "output_type": "stream",
     "text": [
      "\n"
     ]
    },
    {
     "name": "stdout",
     "output_type": "stream",
     "text": [
      "Output values:  [[        473         375         519         395          36           1     0.42032]\n",
      " [        277         373         353         406          41           1     0.78195]\n",
      " [        553         379         621         404          43           1      0.7958]\n",
      " [        860         370         952         408          44           1     0.69871]\n",
      " [        665         377         761         410          45           1     0.81171]]\n"
     ]
    },
    {
     "name": "stderr",
     "output_type": "stream",
     "text": [
      "0: 480x640 5 vehicles, 159.8ms\n",
      "Speed: 8.3ms preprocess, 159.8ms inference, 4.0ms postprocess per image at shape (1, 3, 480, 640)\n"
     ]
    },
    {
     "name": "stdout",
     "output_type": "stream",
     "text": [
      "Results:  [[526, 378, 596, 403], [640, 376, 738, 408], [238, 376, 318, 405], [69, 375, 163, 409], [809, 373, 912, 406]] [0.8146458864212036, 0.8068253993988037, 0.8055309653282166, 0.800637423992157, 0.7936672568321228] [1, 1, 1, 1, 1]\n"
     ]
    },
    {
     "name": "stderr",
     "output_type": "stream",
     "text": [
      "\n",
      "0: 480x640 1 bike, 5 vehicles, 157.4ms\n"
     ]
    },
    {
     "name": "stdout",
     "output_type": "stream",
     "text": [
      "Output values:  [[        464         375         509         394          36           1     0.42032]\n",
      " [        237         375         318         405          41           1     0.80553]\n",
      " [        525         377         596         403          43           1     0.81465]\n",
      " [        808         372         912         406          44           1     0.79367]\n",
      " [        639         375         738         408          45           1     0.80683]]\n"
     ]
    },
    {
     "name": "stderr",
     "output_type": "stream",
     "text": [
      "Speed: 7.4ms preprocess, 157.4ms inference, 2.0ms postprocess per image at shape (1, 3, 480, 640)\n"
     ]
    },
    {
     "name": "stdout",
     "output_type": "stream",
     "text": [
      "Results:  [[605, 383, 701, 415], [487, 384, 560, 410], [785, 381, 883, 412], [181, 381, 263, 412], [4, 381, 104, 415], [421, 379, 451, 401]] [0.8204874396324158, 0.8092261552810669, 0.7993801832199097, 0.7905899286270142, 0.7891210913658142, 0.29326048493385315] [1, 1, 1, 1, 1, 0]\n"
     ]
    },
    {
     "name": "stderr",
     "output_type": "stream",
     "text": [
      "\n",
      "0: 480x640 4 vehicles, 133.6ms\n"
     ]
    },
    {
     "name": "stdout",
     "output_type": "stream",
     "text": [
      "Output values:  [[        421         379         450         400          36           0     0.29326]\n",
      " [        181         381         262         411          41           1     0.79059]\n",
      " [        487         384         559         409          43           1     0.80923]\n",
      " [        785         381         882         411          44           1     0.79938]\n",
      " [        604         382         701         415          45           1     0.82049]]\n"
     ]
    },
    {
     "name": "stderr",
     "output_type": "stream",
     "text": [
      "Speed: 8.5ms preprocess, 133.6ms inference, 1.4ms postprocess per image at shape (1, 3, 480, 640)\n",
      "\n"
     ]
    },
    {
     "name": "stdout",
     "output_type": "stream",
     "text": [
      "Results:  [[86, 381, 180, 414], [439, 387, 513, 413], [790, 385, 892, 416], [602, 385, 703, 419]] [0.8329230546951294, 0.8314293026924133, 0.8101476430892944, 0.8082533478736877] [1, 1, 1, 1]\n",
      "Output values:  [[        407         379         435         400          36           0     0.29326]\n",
      " [        144         381         229         412          41           1     0.79059]\n",
      " [        438         386         513         413          43           1     0.83143]\n",
      " [        790         385         891         415          44           1     0.81015]\n",
      " [        602         385         702         418          45           1     0.80825]]\n"
     ]
    },
    {
     "name": "stderr",
     "output_type": "stream",
     "text": [
      "0: 480x640 4 vehicles, 143.1ms\n",
      "Speed: 12.5ms preprocess, 143.1ms inference, 2.0ms postprocess per image at shape (1, 3, 480, 640)\n"
     ]
    },
    {
     "name": "stdout",
     "output_type": "stream",
     "text": [
      "Results:  [[364, 385, 447, 417], [584, 386, 691, 423], [771, 385, 874, 418], [0, 378, 63, 416]] [0.8251149654388428, 0.8199317455291748, 0.8041841983795166, 0.7800107598304749] [1, 1, 1, 1]\n",
      "Output values:  [[        414         387         490         414          43           1     0.83143]\n",
      " [        771         385         873         417          44           1     0.80418]\n",
      " [        584         386         690         422          45           1     0.81993]]\n"
     ]
    },
    {
     "name": "stderr",
     "output_type": "stream",
     "text": [
      "\n",
      "0: 480x640 3 vehicles, 149.1ms\n",
      "Speed: 11.0ms preprocess, 149.1ms inference, 1.0ms postprocess per image at shape (1, 3, 480, 640)\n"
     ]
    },
    {
     "name": "stdout",
     "output_type": "stream",
     "text": [
      "Results:  [[221, 372, 335, 421], [529, 388, 646, 428], [714, 388, 813, 422]] [0.8572307229042053, 0.835963785648346, 0.8009408712387085] [1, 1, 1]\n",
      "Output values:  [[        714         388         812         421          44           1     0.80094]\n",
      " [        529         388         645         427          45           1     0.83596]]\n"
     ]
    },
    {
     "name": "stderr",
     "output_type": "stream",
     "text": [
      "\n",
      "0: 480x640 2 vehicles, 167.7ms\n",
      "Speed: 12.3ms preprocess, 167.7ms inference, 2.0ms postprocess per image at shape (1, 3, 480, 640)\n"
     ]
    },
    {
     "name": "stdout",
     "output_type": "stream",
     "text": [
      "Results:  [[353, 386, 500, 434], [580, 389, 663, 423]] [0.8176853656768799, 0.8133624792098999] [1, 1]\n",
      "Output values:  [[        580         389         662         422          44           1     0.81336]\n",
      " [        506         389         627         430          45           1     0.83596]]\n"
     ]
    },
    {
     "name": "stderr",
     "output_type": "stream",
     "text": [
      "\n",
      "0: 480x640 2 vehicles, 169.6ms\n",
      "Speed: 10.5ms preprocess, 169.6ms inference, 1.0ms postprocess per image at shape (1, 3, 480, 640)\n"
     ]
    },
    {
     "name": "stdout",
     "output_type": "stream",
     "text": [
      "Results:  [[363, 377, 472, 419], [0, 369, 149, 459]] [0.8839852213859558, 0.7943626046180725] [1, 1]\n",
      "Output values:  [[        531         390         612         424          44           1     0.81336]]\n"
     ]
    },
    {
     "name": "stderr",
     "output_type": "stream",
     "text": [
      "\n",
      "0: 480x640 3 vehicles, 182.5ms\n",
      "Speed: 10.5ms preprocess, 182.5ms inference, 1.0ms postprocess per image at shape (1, 3, 480, 640)\n"
     ]
    },
    {
     "name": "stdout",
     "output_type": "stream",
     "text": [
      "Results:  [[0, 368, 245, 440], [117, 366, 247, 434], [0, 380, 56, 453]] [0.794416069984436, 0.4747515916824341, 0.2741619348526001] [1, 1, 1]\n"
     ]
    },
    {
     "name": "stderr",
     "output_type": "stream",
     "text": [
      "\n"
     ]
    },
    {
     "name": "stdout",
     "output_type": "stream",
     "text": [
      "Output values:  []\n"
     ]
    },
    {
     "name": "stderr",
     "output_type": "stream",
     "text": [
      "0: 480x640 1 vehicle, 186.5ms\n",
      "Speed: 12.5ms preprocess, 186.5ms inference, 2.0ms postprocess per image at shape (1, 3, 480, 640)\n",
      "\n"
     ]
    },
    {
     "name": "stdout",
     "output_type": "stream",
     "text": [
      "Results:  [[0, 385, 72, 481]] [0.7569183111190796] [1]\n",
      "Output values:  []\n"
     ]
    },
    {
     "name": "stderr",
     "output_type": "stream",
     "text": [
      "0: 480x640 (no detections), 147.6ms\n",
      "Speed: 10.5ms preprocess, 147.6ms inference, 1.0ms postprocess per image at shape (1, 3, 480, 640)\n",
      "\n",
      "0: 480x640 1 bike, 133.8ms\n",
      "Speed: 9.1ms preprocess, 133.8ms inference, 1.0ms postprocess per image at shape (1, 3, 480, 640)\n"
     ]
    },
    {
     "name": "stdout",
     "output_type": "stream",
     "text": [
      "Results:  [] [] []\n",
      "Output values:  []\n",
      "Results:  [[241, 383, 299, 428]] [0.36915281414985657] [0]\n"
     ]
    },
    {
     "name": "stderr",
     "output_type": "stream",
     "text": [
      "\n"
     ]
    },
    {
     "name": "stdout",
     "output_type": "stream",
     "text": [
      "Output values:  []\n"
     ]
    },
    {
     "name": "stderr",
     "output_type": "stream",
     "text": [
      "0: 480x640 (no detections), 145.2ms\n",
      "Speed: 8.5ms preprocess, 145.2ms inference, 1.0ms postprocess per image at shape (1, 3, 480, 640)\n",
      "\n",
      "0: 480x640 (no detections), 144.2ms\n"
     ]
    },
    {
     "name": "stdout",
     "output_type": "stream",
     "text": [
      "Results:  [] [] []\n",
      "Output values:  []\n"
     ]
    },
    {
     "name": "stderr",
     "output_type": "stream",
     "text": [
      "Speed: 7.5ms preprocess, 144.2ms inference, 1.0ms postprocess per image at shape (1, 3, 480, 640)\n",
      "\n",
      "0: 480x640 (no detections), 144.5ms\n"
     ]
    },
    {
     "name": "stdout",
     "output_type": "stream",
     "text": [
      "Results:  [] [] []\n",
      "Output values:  []\n"
     ]
    },
    {
     "name": "stderr",
     "output_type": "stream",
     "text": [
      "Speed: 9.2ms preprocess, 144.5ms inference, 1.0ms postprocess per image at shape (1, 3, 480, 640)\n",
      "\n",
      "0: 480x640 (no detections), 140.7ms\n",
      "Speed: 7.5ms preprocess, 140.7ms inference, 1.0ms postprocess per image at shape (1, 3, 480, 640)\n",
      "\n"
     ]
    },
    {
     "name": "stdout",
     "output_type": "stream",
     "text": [
      "Results:  [] [] []\n",
      "Output values:  []\n",
      "Results:  [] [] []\n",
      "Output values:  []\n"
     ]
    },
    {
     "name": "stderr",
     "output_type": "stream",
     "text": [
      "0: 480x640 (no detections), 135.1ms\n",
      "Speed: 9.4ms preprocess, 135.1ms inference, 1.0ms postprocess per image at shape (1, 3, 480, 640)\n",
      "\n",
      "0: 480x640 (no detections), 134.9ms\n",
      "Speed: 9.4ms preprocess, 134.9ms inference, 1.0ms postprocess per image at shape (1, 3, 480, 640)\n"
     ]
    },
    {
     "name": "stdout",
     "output_type": "stream",
     "text": [
      "Results:  [] [] []\n",
      "Output values:  []\n"
     ]
    },
    {
     "name": "stderr",
     "output_type": "stream",
     "text": [
      "\n",
      "0: 480x640 (no detections), 130.7ms\n",
      "Speed: 8.1ms preprocess, 130.7ms inference, 1.0ms postprocess per image at shape (1, 3, 480, 640)\n",
      "\n"
     ]
    },
    {
     "name": "stdout",
     "output_type": "stream",
     "text": [
      "Results:  [] [] []\n",
      "Output values:  []\n",
      "Results:  [] [] []\n",
      "Output values:  []\n"
     ]
    },
    {
     "name": "stderr",
     "output_type": "stream",
     "text": [
      "0: 480x640 1 bike, 1 vehicle, 138.5ms\n",
      "Speed: 8.5ms preprocess, 138.5ms inference, 2.0ms postprocess per image at shape (1, 3, 480, 640)\n",
      "\n"
     ]
    },
    {
     "name": "stdout",
     "output_type": "stream",
     "text": [
      "Results:  [[713, 388, 761, 412], [161, 402, 181, 420]] [0.6833605170249939, 0.36489519476890564] [1, 0]\n",
      "Output values:  [[        712         388         760         411          36           1     0.68336]]\n"
     ]
    },
    {
     "name": "stderr",
     "output_type": "stream",
     "text": [
      "0: 480x640 1 vehicle, 147.9ms\n",
      "Speed: 8.0ms preprocess, 147.9ms inference, 1.0ms postprocess per image at shape (1, 3, 480, 640)\n",
      "\n"
     ]
    },
    {
     "name": "stdout",
     "output_type": "stream",
     "text": [
      "Results:  [[724, 383, 772, 412]] [0.6461660861968994] [1]\n",
      "Output values:  [[        724         383         771         411          36           1     0.64617]]\n"
     ]
    },
    {
     "name": "stderr",
     "output_type": "stream",
     "text": [
      "0: 480x640 1 vehicle, 161.5ms\n",
      "Speed: 8.7ms preprocess, 161.5ms inference, 2.1ms postprocess per image at shape (1, 3, 480, 640)\n",
      "\n"
     ]
    },
    {
     "name": "stdout",
     "output_type": "stream",
     "text": [
      "Results:  [[779, 374, 837, 408]] [0.8008681535720825] [1]\n",
      "Output values:  [[        740         383         789         412          36           1     0.64617]]\n"
     ]
    },
    {
     "name": "stderr",
     "output_type": "stream",
     "text": [
      "0: 480x640 1 vehicle, 167.4ms\n",
      "Speed: 10.3ms preprocess, 167.4ms inference, 2.0ms postprocess per image at shape (1, 3, 480, 640)\n",
      "\n"
     ]
    },
    {
     "name": "stdout",
     "output_type": "stream",
     "text": [
      "Results:  [[838, 377, 909, 413]] [0.7838104963302612] [1]\n",
      "Output values:  []\n"
     ]
    },
    {
     "name": "stderr",
     "output_type": "stream",
     "text": [
      "0: 480x640 1 vehicle, 174.9ms\n",
      "Speed: 10.5ms preprocess, 174.9ms inference, 2.0ms postprocess per image at shape (1, 3, 480, 640)\n",
      "\n"
     ]
    },
    {
     "name": "stdout",
     "output_type": "stream",
     "text": [
      "Results:  [[856, 379, 936, 420]] [0.7590832710266113] [1]\n",
      "Output values:  []\n"
     ]
    },
    {
     "name": "stderr",
     "output_type": "stream",
     "text": [
      "0: 480x640 1 vehicle, 181.5ms\n",
      "Speed: 10.5ms preprocess, 181.5ms inference, 2.0ms postprocess per image at shape (1, 3, 480, 640)\n",
      "\n"
     ]
    },
    {
     "name": "stdout",
     "output_type": "stream",
     "text": [
      "Results:  [[883, 385, 974, 428]] [0.33379459381103516] [1]\n",
      "Output values:  [[        883         385         973         427          61           1     0.33379]]\n"
     ]
    },
    {
     "name": "stderr",
     "output_type": "stream",
     "text": [
      "0: 480x640 (no detections), 190.0ms\n",
      "Speed: 14.5ms preprocess, 190.0ms inference, 2.0ms postprocess per image at shape (1, 3, 480, 640)\n",
      "\n"
     ]
    },
    {
     "name": "stdout",
     "output_type": "stream",
     "text": [
      "Results:  [] [] []\n",
      "Output values:  [[        901         388         995         432          61           1     0.33379]]\n"
     ]
    },
    {
     "name": "stderr",
     "output_type": "stream",
     "text": [
      "0: 480x640 (no detections), 141.7ms\n",
      "Speed: 14.4ms preprocess, 141.7ms inference, 2.3ms postprocess per image at shape (1, 3, 480, 640)\n",
      "\n",
      "0: 480x640 (no detections), 134.1ms\n",
      "Speed: 8.1ms preprocess, 134.1ms inference, 1.0ms postprocess per image at shape (1, 3, 480, 640)\n",
      "\n"
     ]
    },
    {
     "name": "stdout",
     "output_type": "stream",
     "text": [
      "Results:  [] [] []\n",
      "Output values:  []\n",
      "Results:  [] [] []\n",
      "Output values:  []\n"
     ]
    },
    {
     "name": "stderr",
     "output_type": "stream",
     "text": [
      "0: 480x640 (no detections), 134.9ms\n",
      "Speed: 9.5ms preprocess, 134.9ms inference, 1.0ms postprocess per image at shape (1, 3, 480, 640)\n",
      "\n",
      "0: 480x640 (no detections), 131.5ms\n",
      "Speed: 9.5ms preprocess, 131.5ms inference, 0.0ms postprocess per image at shape (1, 3, 480, 640)\n",
      "\n"
     ]
    },
    {
     "name": "stdout",
     "output_type": "stream",
     "text": [
      "Results:  [] [] []\n",
      "Output values:  []\n",
      "Results:  [] [] []\n",
      "Output values:  []\n"
     ]
    },
    {
     "name": "stderr",
     "output_type": "stream",
     "text": [
      "0: 480x640 (no detections), 127.2ms\n",
      "Speed: 7.5ms preprocess, 127.2ms inference, 1.5ms postprocess per image at shape (1, 3, 480, 640)\n",
      "\n",
      "0: 480x640 (no detections), 130.1ms\n",
      "Speed: 6.5ms preprocess, 130.1ms inference, 0.9ms postprocess per image at shape (1, 3, 480, 640)\n",
      "\n"
     ]
    },
    {
     "name": "stdout",
     "output_type": "stream",
     "text": [
      "Results:  [] [] []\n",
      "Output values:  []\n",
      "Results:  [] [] []\n",
      "Output values:  []\n"
     ]
    },
    {
     "name": "stderr",
     "output_type": "stream",
     "text": [
      "0: 480x640 (no detections), 129.2ms\n",
      "Speed: 7.5ms preprocess, 129.2ms inference, 1.0ms postprocess per image at shape (1, 3, 480, 640)\n",
      "\n",
      "0: 480x640 (no detections), 126.4ms\n",
      "Speed: 8.5ms preprocess, 126.4ms inference, 1.0ms postprocess per image at shape (1, 3, 480, 640)\n",
      "\n"
     ]
    },
    {
     "name": "stdout",
     "output_type": "stream",
     "text": [
      "Results:  [] [] []\n",
      "Output values:  []\n",
      "Results:  [] [] []\n",
      "Output values:  []\n"
     ]
    },
    {
     "name": "stderr",
     "output_type": "stream",
     "text": [
      "0: 480x640 (no detections), 129.1ms\n",
      "Speed: 9.5ms preprocess, 129.1ms inference, 1.0ms postprocess per image at shape (1, 3, 480, 640)\n",
      "\n",
      "0: 480x640 (no detections), 128.7ms\n",
      "Speed: 7.1ms preprocess, 128.7ms inference, 1.0ms postprocess per image at shape (1, 3, 480, 640)\n",
      "\n"
     ]
    },
    {
     "name": "stdout",
     "output_type": "stream",
     "text": [
      "Results:  [] [] []\n",
      "Output values:  []\n",
      "Results:  [] [] []\n",
      "Output values:  []\n"
     ]
    },
    {
     "name": "stderr",
     "output_type": "stream",
     "text": [
      "0: 480x640 (no detections), 131.2ms\n",
      "Speed: 8.5ms preprocess, 131.2ms inference, 1.0ms postprocess per image at shape (1, 3, 480, 640)\n",
      "\n",
      "0: 480x640 (no detections), 137.9ms\n",
      "Speed: 8.0ms preprocess, 137.9ms inference, 1.0ms postprocess per image at shape (1, 3, 480, 640)\n"
     ]
    },
    {
     "name": "stdout",
     "output_type": "stream",
     "text": [
      "Results:  [] [] []\n",
      "Output values:  []\n",
      "Results:  [] [] []\n",
      "Output values:  []\n"
     ]
    },
    {
     "name": "stderr",
     "output_type": "stream",
     "text": [
      "\n",
      "0: 480x640 (no detections), 134.3ms\n",
      "Speed: 9.5ms preprocess, 134.3ms inference, 0.0ms postprocess per image at shape (1, 3, 480, 640)\n",
      "\n",
      "0: 480x640 (no detections), 137.7ms\n",
      "Speed: 10.2ms preprocess, 137.7ms inference, 1.0ms postprocess per image at shape (1, 3, 480, 640)\n"
     ]
    },
    {
     "name": "stdout",
     "output_type": "stream",
     "text": [
      "Results:  [] [] []\n",
      "Output values:  []\n"
     ]
    },
    {
     "name": "stderr",
     "output_type": "stream",
     "text": [
      "\n",
      "0: 480x640 (no detections), 142.0ms\n"
     ]
    },
    {
     "name": "stdout",
     "output_type": "stream",
     "text": [
      "Results:  [] [] []\n",
      "Output values:  []\n"
     ]
    },
    {
     "name": "stderr",
     "output_type": "stream",
     "text": [
      "Speed: 9.5ms preprocess, 142.0ms inference, 1.0ms postprocess per image at shape (1, 3, 480, 640)\n",
      "\n",
      "0: 480x640 (no detections), 143.0ms\n"
     ]
    },
    {
     "name": "stdout",
     "output_type": "stream",
     "text": [
      "Results:  [] [] []\n",
      "Output values:  []\n"
     ]
    },
    {
     "name": "stderr",
     "output_type": "stream",
     "text": [
      "Speed: 9.5ms preprocess, 143.0ms inference, 1.0ms postprocess per image at shape (1, 3, 480, 640)\n",
      "\n",
      "0: 480x640 (no detections), 158.0ms\n"
     ]
    },
    {
     "name": "stdout",
     "output_type": "stream",
     "text": [
      "Results:  [] [] []\n",
      "Output values:  []\n"
     ]
    },
    {
     "name": "stderr",
     "output_type": "stream",
     "text": [
      "Speed: 10.5ms preprocess, 158.0ms inference, 1.0ms postprocess per image at shape (1, 3, 480, 640)\n",
      "\n",
      "0: 480x640 (no detections), 154.7ms\n"
     ]
    },
    {
     "name": "stdout",
     "output_type": "stream",
     "text": [
      "Results:  [] [] []\n",
      "Output values:  []\n"
     ]
    },
    {
     "name": "stderr",
     "output_type": "stream",
     "text": [
      "Speed: 10.5ms preprocess, 154.7ms inference, 1.4ms postprocess per image at shape (1, 3, 480, 640)\n",
      "\n"
     ]
    },
    {
     "name": "stdout",
     "output_type": "stream",
     "text": [
      "Results:  [] [] []\n",
      "Output values:  []\n"
     ]
    },
    {
     "name": "stderr",
     "output_type": "stream",
     "text": [
      "0: 480x640 (no detections), 161.6ms\n",
      "Speed: 11.5ms preprocess, 161.6ms inference, 1.0ms postprocess per image at shape (1, 3, 480, 640)\n",
      "\n"
     ]
    },
    {
     "name": "stdout",
     "output_type": "stream",
     "text": [
      "Results:  [] [] []\n",
      "Output values:  []\n"
     ]
    },
    {
     "name": "stderr",
     "output_type": "stream",
     "text": [
      "0: 480x640 (no detections), 170.2ms\n",
      "Speed: 13.1ms preprocess, 170.2ms inference, 1.0ms postprocess per image at shape (1, 3, 480, 640)\n",
      "\n"
     ]
    },
    {
     "name": "stdout",
     "output_type": "stream",
     "text": [
      "Results:  [] [] []\n",
      "Output values:  []\n"
     ]
    },
    {
     "name": "stderr",
     "output_type": "stream",
     "text": [
      "0: 480x640 (no detections), 178.7ms\n",
      "Speed: 12.5ms preprocess, 178.7ms inference, 1.0ms postprocess per image at shape (1, 3, 480, 640)\n",
      "\n"
     ]
    },
    {
     "name": "stdout",
     "output_type": "stream",
     "text": [
      "Results:  [] [] []\n",
      "Output values:  []\n"
     ]
    },
    {
     "name": "stderr",
     "output_type": "stream",
     "text": [
      "0: 480x640 (no detections), 185.9ms\n",
      "Speed: 11.5ms preprocess, 185.9ms inference, 2.2ms postprocess per image at shape (1, 3, 480, 640)\n",
      "\n"
     ]
    },
    {
     "name": "stdout",
     "output_type": "stream",
     "text": [
      "Results:  [] [] []\n",
      "Output values:  []\n"
     ]
    },
    {
     "name": "stderr",
     "output_type": "stream",
     "text": [
      "0: 480x640 (no detections), 203.5ms\n",
      "Speed: 12.0ms preprocess, 203.5ms inference, 2.0ms postprocess per image at shape (1, 3, 480, 640)\n",
      "\n"
     ]
    },
    {
     "name": "stdout",
     "output_type": "stream",
     "text": [
      "Results:  [] [] []\n",
      "Output values:  []\n"
     ]
    },
    {
     "name": "stderr",
     "output_type": "stream",
     "text": [
      "0: 480x640 (no detections), 209.8ms\n",
      "Speed: 11.5ms preprocess, 209.8ms inference, 1.0ms postprocess per image at shape (1, 3, 480, 640)\n",
      "\n"
     ]
    },
    {
     "name": "stdout",
     "output_type": "stream",
     "text": [
      "Results:  [] [] []\n",
      "Output values:  []\n"
     ]
    },
    {
     "name": "stderr",
     "output_type": "stream",
     "text": [
      "0: 480x640 (no detections), 223.3ms\n",
      "Speed: 15.0ms preprocess, 223.3ms inference, 2.0ms postprocess per image at shape (1, 3, 480, 640)\n",
      "\n"
     ]
    },
    {
     "name": "stdout",
     "output_type": "stream",
     "text": [
      "Results:  [] [] []\n",
      "Output values:  []\n"
     ]
    },
    {
     "name": "stderr",
     "output_type": "stream",
     "text": [
      "0: 480x640 (no detections), 191.7ms\n",
      "Speed: 14.0ms preprocess, 191.7ms inference, 2.0ms postprocess per image at shape (1, 3, 480, 640)\n",
      "\n",
      "0: 480x640 (no detections), 138.0ms\n"
     ]
    },
    {
     "name": "stdout",
     "output_type": "stream",
     "text": [
      "Results:  [] [] []\n",
      "Output values:  []\n"
     ]
    },
    {
     "name": "stderr",
     "output_type": "stream",
     "text": [
      "Speed: 10.5ms preprocess, 138.0ms inference, 1.0ms postprocess per image at shape (1, 3, 480, 640)\n",
      "\n",
      "0: 480x640 (no detections), 131.9ms\n",
      "Speed: 8.4ms preprocess, 131.9ms inference, 1.0ms postprocess per image at shape (1, 3, 480, 640)\n",
      "\n"
     ]
    },
    {
     "name": "stdout",
     "output_type": "stream",
     "text": [
      "Results:  [] [] []\n",
      "Output values:  []\n",
      "Results:  [] [] []\n",
      "Output values:  []\n"
     ]
    },
    {
     "name": "stderr",
     "output_type": "stream",
     "text": [
      "0: 480x640 (no detections), 133.4ms\n",
      "Speed: 9.0ms preprocess, 133.4ms inference, 1.0ms postprocess per image at shape (1, 3, 480, 640)\n",
      "\n",
      "0: 480x640 (no detections), 132.3ms\n",
      "Speed: 7.2ms preprocess, 132.3ms inference, 1.0ms postprocess per image at shape (1, 3, 480, 640)\n",
      "\n"
     ]
    },
    {
     "name": "stdout",
     "output_type": "stream",
     "text": [
      "Results:  [] [] []\n",
      "Output values:  []\n",
      "Results:  [] [] []\n",
      "Output values:  []\n"
     ]
    },
    {
     "name": "stderr",
     "output_type": "stream",
     "text": [
      "0: 480x640 (no detections), 128.0ms\n",
      "Speed: 8.1ms preprocess, 128.0ms inference, 1.0ms postprocess per image at shape (1, 3, 480, 640)\n",
      "\n",
      "0: 480x640 (no detections), 129.9ms\n",
      "Speed: 8.4ms preprocess, 129.9ms inference, 2.0ms postprocess per image at shape (1, 3, 480, 640)\n",
      "\n"
     ]
    },
    {
     "name": "stdout",
     "output_type": "stream",
     "text": [
      "Results:  [] [] []\n",
      "Output values:  []\n",
      "Results:  [] [] []\n",
      "Output values:  []\n"
     ]
    },
    {
     "name": "stderr",
     "output_type": "stream",
     "text": [
      "0: 480x640 (no detections), 151.8ms\n",
      "Speed: 7.6ms preprocess, 151.8ms inference, 1.0ms postprocess per image at shape (1, 3, 480, 640)\n",
      "\n",
      "0: 480x640 (no detections), 145.1ms\n",
      "Speed: 7.5ms preprocess, 145.1ms inference, 2.0ms postprocess per image at shape (1, 3, 480, 640)\n"
     ]
    },
    {
     "name": "stdout",
     "output_type": "stream",
     "text": [
      "Results:  [] [] []\n",
      "Output values:  []\n",
      "Results:  [] [] []\n",
      "Output values:  []\n"
     ]
    },
    {
     "name": "stderr",
     "output_type": "stream",
     "text": [
      "\n",
      "0: 480x640 (no detections), 158.2ms\n",
      "Speed: 8.8ms preprocess, 158.2ms inference, 1.0ms postprocess per image at shape (1, 3, 480, 640)\n",
      "\n",
      "0: 480x640 (no detections), 139.8ms\n",
      "Speed: 8.5ms preprocess, 139.8ms inference, 1.0ms postprocess per image at shape (1, 3, 480, 640)\n",
      "\n"
     ]
    },
    {
     "name": "stdout",
     "output_type": "stream",
     "text": [
      "Results:  [] [] []\n",
      "Output values:  []\n",
      "Results:  [] [] []\n",
      "Output values:  []\n"
     ]
    },
    {
     "name": "stderr",
     "output_type": "stream",
     "text": [
      "0: 480x640 (no detections), 134.1ms\n",
      "Speed: 7.6ms preprocess, 134.1ms inference, 2.0ms postprocess per image at shape (1, 3, 480, 640)\n",
      "\n",
      "0: 480x640 (no detections), 132.4ms\n",
      "Speed: 11.5ms preprocess, 132.4ms inference, 1.0ms postprocess per image at shape (1, 3, 480, 640)\n",
      "\n"
     ]
    },
    {
     "name": "stdout",
     "output_type": "stream",
     "text": [
      "Results:  [] [] []\n",
      "Output values:  []\n",
      "Results:  [] [] []\n",
      "Output values:  []\n"
     ]
    },
    {
     "name": "stderr",
     "output_type": "stream",
     "text": [
      "0: 480x640 (no detections), 137.6ms\n",
      "Speed: 9.0ms preprocess, 137.6ms inference, 0.0ms postprocess per image at shape (1, 3, 480, 640)\n",
      "\n",
      "0: 480x640 (no detections), 133.2ms\n",
      "Speed: 10.5ms preprocess, 133.2ms inference, 1.0ms postprocess per image at shape (1, 3, 480, 640)\n"
     ]
    },
    {
     "name": "stdout",
     "output_type": "stream",
     "text": [
      "Results:  [] [] []\n",
      "Output values:  []\n",
      "Results:  [] [] []\n",
      "Output values:  []\n"
     ]
    },
    {
     "name": "stderr",
     "output_type": "stream",
     "text": [
      "\n",
      "0: 480x640 (no detections), 142.3ms\n",
      "Speed: 8.6ms preprocess, 142.3ms inference, 1.0ms postprocess per image at shape (1, 3, 480, 640)\n",
      "\n",
      "0: 480x640 (no detections), 151.9ms\n"
     ]
    },
    {
     "name": "stdout",
     "output_type": "stream",
     "text": [
      "Results:  [] [] []\n",
      "Output values:  []\n"
     ]
    },
    {
     "name": "stderr",
     "output_type": "stream",
     "text": [
      "Speed: 9.9ms preprocess, 151.9ms inference, 1.0ms postprocess per image at shape (1, 3, 480, 640)\n",
      "\n",
      "0: 480x640 1 vehicle, 145.0ms\n"
     ]
    },
    {
     "name": "stdout",
     "output_type": "stream",
     "text": [
      "Results:  [] [] []\n",
      "Output values:  []\n"
     ]
    },
    {
     "name": "stderr",
     "output_type": "stream",
     "text": [
      "Speed: 8.5ms preprocess, 145.0ms inference, 2.0ms postprocess per image at shape (1, 3, 480, 640)\n",
      "\n"
     ]
    },
    {
     "name": "stdout",
     "output_type": "stream",
     "text": [
      "Results:  [[601, 356, 680, 397]] [0.4654277265071869] [1]\n",
      "Output values:  []\n"
     ]
    },
    {
     "name": "stderr",
     "output_type": "stream",
     "text": [
      "0: 480x640 (no detections), 155.3ms\n",
      "Speed: 8.6ms preprocess, 155.3ms inference, 1.0ms postprocess per image at shape (1, 3, 480, 640)\n",
      "\n"
     ]
    },
    {
     "name": "stdout",
     "output_type": "stream",
     "text": [
      "Results:  [] [] []\n",
      "Output values:  []\n"
     ]
    },
    {
     "name": "stderr",
     "output_type": "stream",
     "text": [
      "0: 480x640 (no detections), 158.7ms\n",
      "Speed: 10.4ms preprocess, 158.7ms inference, 1.0ms postprocess per image at shape (1, 3, 480, 640)\n",
      "\n"
     ]
    },
    {
     "name": "stdout",
     "output_type": "stream",
     "text": [
      "Results:  [] [] []\n",
      "Output values:  []\n"
     ]
    },
    {
     "name": "stderr",
     "output_type": "stream",
     "text": [
      "0: 480x640 (no detections), 170.9ms\n",
      "Speed: 10.5ms preprocess, 170.9ms inference, 1.0ms postprocess per image at shape (1, 3, 480, 640)\n",
      "\n"
     ]
    },
    {
     "name": "stdout",
     "output_type": "stream",
     "text": [
      "Results:  [] [] []\n",
      "Output values:  []\n"
     ]
    },
    {
     "name": "stderr",
     "output_type": "stream",
     "text": [
      "0: 480x640 (no detections), 172.9ms\n",
      "Speed: 9.5ms preprocess, 172.9ms inference, 1.0ms postprocess per image at shape (1, 3, 480, 640)\n",
      "\n",
      "0: 480x640 (no detections), 151.7ms\n"
     ]
    },
    {
     "name": "stdout",
     "output_type": "stream",
     "text": [
      "Results:  [] [] []\n",
      "Output values:  []\n"
     ]
    },
    {
     "name": "stderr",
     "output_type": "stream",
     "text": [
      "Speed: 10.5ms preprocess, 151.7ms inference, 1.5ms postprocess per image at shape (1, 3, 480, 640)\n",
      "\n",
      "0: 480x640 (no detections), 129.9ms\n",
      "Speed: 9.2ms preprocess, 129.9ms inference, 1.0ms postprocess per image at shape (1, 3, 480, 640)\n"
     ]
    },
    {
     "name": "stdout",
     "output_type": "stream",
     "text": [
      "Results:  [] [] []\n",
      "Output values:  []\n"
     ]
    },
    {
     "name": "stderr",
     "output_type": "stream",
     "text": [
      "\n",
      "0: 480x640 1 vehicle, 132.0ms\n",
      "Speed: 9.5ms preprocess, 132.0ms inference, 1.0ms postprocess per image at shape (1, 3, 480, 640)\n"
     ]
    },
    {
     "name": "stdout",
     "output_type": "stream",
     "text": [
      "Results:  [] [] []\n",
      "Output values:  []\n",
      "Results:  [[529, 353, 632, 401]] [0.6808205842971802] [1]\n"
     ]
    },
    {
     "name": "stderr",
     "output_type": "stream",
     "text": [
      "\n",
      "0: 480x640 4 vehicles, 132.6ms\n",
      "Speed: 7.5ms preprocess, 132.6ms inference, 1.0ms postprocess per image at shape (1, 3, 480, 640)\n"
     ]
    },
    {
     "name": "stdout",
     "output_type": "stream",
     "text": [
      "Output values:  []\n",
      "Results:  [[883, 353, 1023, 416], [821, 382, 884, 417], [518, 346, 625, 399], [889, 329, 1020, 417]] [0.5305918455123901, 0.4259094297885895, 0.39044082164764404, 0.2767067849636078] [1, 1, 1, 1]\n"
     ]
    },
    {
     "name": "stderr",
     "output_type": "stream",
     "text": [
      "\n"
     ]
    },
    {
     "name": "stdout",
     "output_type": "stream",
     "text": [
      "Output values:  []\n"
     ]
    },
    {
     "name": "stderr",
     "output_type": "stream",
     "text": [
      "0: 480x640 3 vehicles, 162.9ms\n",
      "Speed: 7.5ms preprocess, 162.9ms inference, 1.0ms postprocess per image at shape (1, 3, 480, 640)\n"
     ]
    },
    {
     "name": "stdout",
     "output_type": "stream",
     "text": [
      "Results:  [[497, 338, 616, 393], [829, 374, 896, 411], [685, 361, 741, 390]] [0.6573294401168823, 0.6156669855117798, 0.4057806432247162] [1, 1, 1]\n",
      "Output values:  [[        497         338         615         392          63           1     0.65733]]\n"
     ]
    },
    {
     "name": "stderr",
     "output_type": "stream",
     "text": [
      "\n",
      "0: 480x640 3 vehicles, 154.0ms\n",
      "Speed: 8.2ms preprocess, 154.0ms inference, 2.0ms postprocess per image at shape (1, 3, 480, 640)\n",
      "\n"
     ]
    },
    {
     "name": "stdout",
     "output_type": "stream",
     "text": [
      "Results:  [[829, 382, 895, 417], [491, 342, 604, 400], [670, 371, 727, 395]] [0.6805002689361572, 0.4003187119960785, 0.3141118288040161] [1, 1, 1]\n",
      "Output values:  [[        491         342         603         399          63           1     0.40032]\n",
      " [        828         381         895         417          65           1      0.6805]]\n"
     ]
    },
    {
     "name": "stderr",
     "output_type": "stream",
     "text": [
      "0: 480x640 2 vehicles, 143.0ms\n",
      "Speed: 9.7ms preprocess, 143.0ms inference, 2.0ms postprocess per image at shape (1, 3, 480, 640)\n",
      "\n"
     ]
    },
    {
     "name": "stdout",
     "output_type": "stream",
     "text": [
      "Results:  [[830, 384, 895, 421], [470, 340, 577, 404]] [0.8010512590408325, 0.5168535113334656] [1, 1]\n",
      "Output values:  [[        470         340         576         403          63           1     0.51685]\n",
      " [        830         384         894         420          65           1     0.80105]]\n"
     ]
    },
    {
     "name": "stderr",
     "output_type": "stream",
     "text": [
      "0: 480x640 2 vehicles, 145.7ms\n",
      "Speed: 9.5ms preprocess, 145.7ms inference, 2.0ms postprocess per image at shape (1, 3, 480, 640)\n",
      "\n"
     ]
    },
    {
     "name": "stdout",
     "output_type": "stream",
     "text": [
      "Results:  [[455, 339, 565, 406], [830, 384, 894, 422]] [0.8490948677062988, 0.8086686134338379] [1, 1]\n",
      "Output values:  [[        455         339         564         405          63           1     0.84909]\n",
      " [        830         384         893         421          65           1     0.80867]]\n"
     ]
    },
    {
     "name": "stderr",
     "output_type": "stream",
     "text": [
      "0: 480x640 2 vehicles, 160.9ms\n",
      "Speed: 9.5ms preprocess, 160.9ms inference, 1.0ms postprocess per image at shape (1, 3, 480, 640)\n"
     ]
    },
    {
     "name": "stdout",
     "output_type": "stream",
     "text": [
      "Results:  [[439, 339, 554, 407], [830, 384, 894, 422]] [0.8229292035102844, 0.805229902267456] [1, 1]\n",
      "Output values:  [[        438         338         554         407          63           1     0.82293]\n",
      " [        829         383         894         422          65           1     0.80523]]\n"
     ]
    },
    {
     "name": "stderr",
     "output_type": "stream",
     "text": [
      "\n",
      "0: 480x640 2 vehicles, 169.2ms\n",
      "Speed: 11.0ms preprocess, 169.2ms inference, 1.0ms postprocess per image at shape (1, 3, 480, 640)\n"
     ]
    },
    {
     "name": "stdout",
     "output_type": "stream",
     "text": [
      "Results:  [[830, 384, 893, 422], [411, 339, 543, 410]] [0.8088589310646057, 0.7727862000465393] [1, 1]\n",
      "Output values:  [[        411         339         542         409          63           1     0.77279]\n",
      " [        829         383         893         422          65           1     0.80886]]\n"
     ]
    },
    {
     "name": "stderr",
     "output_type": "stream",
     "text": [
      "\n",
      "0: 480x640 2 vehicles, 184.7ms\n",
      "Speed: 10.1ms preprocess, 184.7ms inference, 1.0ms postprocess per image at shape (1, 3, 480, 640)\n"
     ]
    },
    {
     "name": "stdout",
     "output_type": "stream",
     "text": [
      "Results:  [[830, 384, 894, 422], [392, 337, 531, 412]] [0.8061832785606384, 0.42975133657455444] [1, 1]\n"
     ]
    },
    {
     "name": "stderr",
     "output_type": "stream",
     "text": [
      "\n"
     ]
    },
    {
     "name": "stdout",
     "output_type": "stream",
     "text": [
      "Output values:  [[        392         337         530         411          63           1     0.42975]\n",
      " [        829         383         894         422          65           1     0.80618]]\n"
     ]
    },
    {
     "name": "stderr",
     "output_type": "stream",
     "text": [
      "0: 480x640 1 vehicle, 184.0ms\n",
      "Speed: 12.5ms preprocess, 184.0ms inference, 3.5ms postprocess per image at shape (1, 3, 480, 640)\n",
      "\n"
     ]
    },
    {
     "name": "stdout",
     "output_type": "stream",
     "text": [
      "Results:  [[830, 384, 894, 422]] [0.8055403232574463] [1]\n",
      "Output values:  [[        374         335         518         413          63           1     0.42975]\n",
      " [        829         383         894         422          65           1     0.80554]]\n"
     ]
    },
    {
     "name": "stderr",
     "output_type": "stream",
     "text": [
      "0: 480x640 1 vehicle, 187.9ms\n",
      "Speed: 11.5ms preprocess, 187.9ms inference, 2.0ms postprocess per image at shape (1, 3, 480, 640)\n",
      "\n"
     ]
    },
    {
     "name": "stdout",
     "output_type": "stream",
     "text": [
      "Results:  [[830, 384, 893, 422]] [0.8062375783920288] [1]\n",
      "Output values:  [[        829         383         893         422          65           1     0.80624]]\n"
     ]
    },
    {
     "name": "stderr",
     "output_type": "stream",
     "text": [
      "0: 480x640 2 vehicles, 138.2ms\n",
      "Speed: 9.5ms preprocess, 138.2ms inference, 2.0ms postprocess per image at shape (1, 3, 480, 640)\n",
      "\n"
     ]
    },
    {
     "name": "stdout",
     "output_type": "stream",
     "text": [
      "Results:  [[830, 384, 893, 422], [326, 365, 434, 444]] [0.8071964383125305, 0.5079261064529419] [1, 1]\n",
      "Output values:  [[        829         383         893         422          65           1      0.8072]]\n"
     ]
    },
    {
     "name": "stderr",
     "output_type": "stream",
     "text": [
      "0: 480x640 3 vehicles, 142.9ms\n",
      "Speed: 9.5ms preprocess, 142.9ms inference, 2.0ms postprocess per image at shape (1, 3, 480, 640)\n"
     ]
    },
    {
     "name": "stdout",
     "output_type": "stream",
     "text": [
      "Results:  [[830, 384, 894, 422], [543, 377, 593, 400], [268, 363, 481, 451]] [0.8089327216148376, 0.35292237997055054, 0.2905232012271881] [1, 1, 1]\n",
      "Output values:  [[        268         362         480         450          63           1     0.29052]\n",
      " [        829         383         894         422          65           1     0.80893]]\n"
     ]
    },
    {
     "name": "stderr",
     "output_type": "stream",
     "text": [
      "\n",
      "0: 480x640 2 vehicles, 165.4ms\n",
      "Speed: 8.4ms preprocess, 165.4ms inference, 2.0ms postprocess per image at shape (1, 3, 480, 640)\n"
     ]
    },
    {
     "name": "stdout",
     "output_type": "stream",
     "text": [
      "Results:  [[830, 384, 894, 422], [523, 375, 573, 402]] [0.808076024055481, 0.37098175287246704] [1, 1]\n"
     ]
    },
    {
     "name": "stderr",
     "output_type": "stream",
     "text": [
      "\n"
     ]
    },
    {
     "name": "stdout",
     "output_type": "stream",
     "text": [
      "Output values:  [[        244         365         467         456          63           1     0.29052]\n",
      " [        829         383         894         422          65           1     0.80808]]\n"
     ]
    },
    {
     "name": "stderr",
     "output_type": "stream",
     "text": [
      "0: 480x640 2 vehicles, 188.0ms\n",
      "Speed: 8.0ms preprocess, 188.0ms inference, 1.0ms postprocess per image at shape (1, 3, 480, 640)\n"
     ]
    },
    {
     "name": "stdout",
     "output_type": "stream",
     "text": [
      "Results:  [[830, 384, 894, 422], [0, 234, 438, 553]] [0.8103167414665222, 0.3605307638645172] [1, 1]\n"
     ]
    },
    {
     "name": "stderr",
     "output_type": "stream",
     "text": [
      "\n"
     ]
    },
    {
     "name": "stdout",
     "output_type": "stream",
     "text": [
      "Output values:  [[        829         383         894         422          65           1     0.81032]]\n"
     ]
    },
    {
     "name": "stderr",
     "output_type": "stream",
     "text": [
      "0: 480x640 2 vehicles, 177.2ms\n",
      "Speed: 8.5ms preprocess, 177.2ms inference, 2.5ms postprocess per image at shape (1, 3, 480, 640)\n"
     ]
    },
    {
     "name": "stdout",
     "output_type": "stream",
     "text": [
      "Results:  [[830, 384, 894, 422], [458, 376, 515, 404]] [0.8113064169883728, 0.5698097348213196] [1, 1]\n",
      "Output values:  [[        829         383         894         422          65           1     0.81131]]\n"
     ]
    },
    {
     "name": "stderr",
     "output_type": "stream",
     "text": [
      "\n",
      "0: 480x640 2 vehicles, 152.7ms\n",
      "Speed: 7.5ms preprocess, 152.7ms inference, 2.9ms postprocess per image at shape (1, 3, 480, 640)\n",
      "\n"
     ]
    },
    {
     "name": "stdout",
     "output_type": "stream",
     "text": [
      "Results:  [[830, 384, 894, 422], [428, 375, 487, 405]] [0.8080918192863464, 0.7016496062278748] [1, 1]\n",
      "Output values:  [[        829         383         894         422          65           1     0.80809]]\n"
     ]
    },
    {
     "name": "stderr",
     "output_type": "stream",
     "text": [
      "0: 480x640 2 vehicles, 149.8ms\n",
      "Speed: 8.5ms preprocess, 149.8ms inference, 2.0ms postprocess per image at shape (1, 3, 480, 640)\n",
      "\n"
     ]
    },
    {
     "name": "stdout",
     "output_type": "stream",
     "text": [
      "Results:  [[830, 384, 894, 422], [398, 373, 461, 407]] [0.8093945384025574, 0.5088708400726318] [1, 1]\n",
      "Output values:  [[        829         383         894         422          65           1     0.80939]\n",
      " [        398         373         460         406          71           1     0.50887]]\n"
     ]
    },
    {
     "name": "stderr",
     "output_type": "stream",
     "text": [
      "0: 480x640 2 vehicles, 141.8ms\n",
      "Speed: 9.5ms preprocess, 141.8ms inference, 1.0ms postprocess per image at shape (1, 3, 480, 640)\n",
      "\n"
     ]
    },
    {
     "name": "stdout",
     "output_type": "stream",
     "text": [
      "Results:  [[830, 384, 894, 422], [368, 371, 442, 409]] [0.8096557259559631, 0.7529197335243225] [1, 1]\n",
      "Output values:  [[        829         383         894         422          65           1     0.80966]\n",
      " [        368         371         441         408          71           1     0.75292]]\n"
     ]
    },
    {
     "name": "stderr",
     "output_type": "stream",
     "text": [
      "0: 480x640 2 vehicles, 142.2ms\n",
      "Speed: 12.0ms preprocess, 142.2ms inference, 2.0ms postprocess per image at shape (1, 3, 480, 640)\n",
      "\n"
     ]
    },
    {
     "name": "stdout",
     "output_type": "stream",
     "text": [
      "Results:  [[830, 384, 894, 422], [336, 371, 416, 411]] [0.8082433342933655, 0.6875429749488831] [1, 1]\n",
      "Output values:  [[        829         383         894         422          65           1     0.80824]\n",
      " [        335         370         416         411          71           1     0.68754]]\n"
     ]
    },
    {
     "name": "stderr",
     "output_type": "stream",
     "text": [
      "0: 480x640 2 vehicles, 150.4ms\n",
      "Speed: 10.0ms preprocess, 150.4ms inference, 1.5ms postprocess per image at shape (1, 3, 480, 640)\n",
      "\n"
     ]
    },
    {
     "name": "stdout",
     "output_type": "stream",
     "text": [
      "Results:  [[830, 384, 893, 422], [310, 369, 389, 410]] [0.8092506527900696, 0.600066602230072] [1, 1]\n",
      "Output values:  [[        829         383         893         422          65           1     0.80925]\n",
      " [        309         368         389         410          71           1     0.60007]]\n"
     ]
    },
    {
     "name": "stderr",
     "output_type": "stream",
     "text": [
      "0: 480x640 2 vehicles, 167.7ms\n",
      "Speed: 10.6ms preprocess, 167.7ms inference, 3.0ms postprocess per image at shape (1, 3, 480, 640)\n"
     ]
    },
    {
     "name": "stdout",
     "output_type": "stream",
     "text": [
      "Results:  [[830, 383, 894, 422], [284, 369, 370, 436]] [0.8089589476585388, 0.7332128882408142] [1, 1]\n",
      "Output values:  [[        830         383         893         421          65           1     0.80896]\n",
      " [        284         369         369         435          71           1     0.73321]]\n"
     ]
    },
    {
     "name": "stderr",
     "output_type": "stream",
     "text": [
      "\n",
      "0: 480x640 3 vehicles, 178.7ms\n",
      "Speed: 11.2ms preprocess, 178.7ms inference, 2.0ms postprocess per image at shape (1, 3, 480, 640)\n"
     ]
    },
    {
     "name": "stdout",
     "output_type": "stream",
     "text": [
      "Results:  [[830, 384, 894, 422], [224, 359, 368, 456], [236, 348, 357, 396]] [0.8086981177330017, 0.7364311218261719, 0.529594361782074] [1, 1, 1]\n"
     ]
    },
    {
     "name": "stderr",
     "output_type": "stream",
     "text": [
      "\n"
     ]
    },
    {
     "name": "stdout",
     "output_type": "stream",
     "text": [
      "Output values:  [[        829         383         894         422          65           1      0.8087]\n",
      " [        225         359         366         455          71           1     0.73643]]\n"
     ]
    },
    {
     "name": "stderr",
     "output_type": "stream",
     "text": [
      "0: 480x640 2 vehicles, 196.8ms\n",
      "Speed: 12.5ms preprocess, 196.8ms inference, 2.0ms postprocess per image at shape (1, 3, 480, 640)\n"
     ]
    },
    {
     "name": "stdout",
     "output_type": "stream",
     "text": [
      "Results:  [[830, 384, 894, 422], [0, 349, 325, 508]] [0.8080504536628723, 0.7611874341964722] [1, 1]\n"
     ]
    },
    {
     "name": "stderr",
     "output_type": "stream",
     "text": [
      "\n"
     ]
    },
    {
     "name": "stdout",
     "output_type": "stream",
     "text": [
      "Output values:  [[        829         383         894         422          65           1     0.80805]\n",
      " [        194         359         345         461          71           1     0.73643]]\n"
     ]
    },
    {
     "name": "stderr",
     "output_type": "stream",
     "text": [
      "0: 480x640 1 vehicle, 146.9ms\n",
      "Speed: 10.1ms preprocess, 146.9ms inference, 1.0ms postprocess per image at shape (1, 3, 480, 640)\n",
      "\n"
     ]
    },
    {
     "name": "stdout",
     "output_type": "stream",
     "text": [
      "Results:  [[830, 384, 894, 422]] [0.8082780838012695] [1]\n",
      "Output values:  [[        829         383         894         422          65           1     0.80828]]\n"
     ]
    },
    {
     "name": "stderr",
     "output_type": "stream",
     "text": [
      "0: 480x640 1 vehicle, 142.4ms\n",
      "Speed: 8.4ms preprocess, 142.4ms inference, 1.0ms postprocess per image at shape (1, 3, 480, 640)\n",
      "\n"
     ]
    },
    {
     "name": "stdout",
     "output_type": "stream",
     "text": [
      "Results:  [[830, 384, 894, 422]] [0.8081603050231934] [1]\n",
      "Output values:  [[        829         383         894         422          65           1     0.80816]]\n"
     ]
    },
    {
     "name": "stderr",
     "output_type": "stream",
     "text": [
      "0: 480x640 1 vehicle, 150.5ms\n",
      "Speed: 8.0ms preprocess, 150.5ms inference, 2.0ms postprocess per image at shape (1, 3, 480, 640)\n",
      "\n"
     ]
    },
    {
     "name": "stdout",
     "output_type": "stream",
     "text": [
      "Results:  [[830, 384, 894, 422]] [0.8088374733924866] [1]\n",
      "Output values:  [[        829         383         894         422          65           1     0.80884]]\n"
     ]
    },
    {
     "name": "stderr",
     "output_type": "stream",
     "text": [
      "0: 480x640 1 vehicle, 167.4ms\n",
      "Speed: 11.0ms preprocess, 167.4ms inference, 1.0ms postprocess per image at shape (1, 3, 480, 640)\n",
      "\n"
     ]
    },
    {
     "name": "stdout",
     "output_type": "stream",
     "text": [
      "Results:  [[830, 383, 894, 422]] [0.8079594373703003] [1]\n",
      "Output values:  [[        830         383         893         421          65           1     0.80796]]\n"
     ]
    },
    {
     "name": "stderr",
     "output_type": "stream",
     "text": [
      "0: 480x640 1 vehicle, 197.8ms\n",
      "Speed: 8.5ms preprocess, 197.8ms inference, 1.3ms postprocess per image at shape (1, 3, 480, 640)\n"
     ]
    },
    {
     "name": "stdout",
     "output_type": "stream",
     "text": [
      "Results:  [[830, 384, 893, 422]] [0.8067224025726318] [1]\n",
      "Output values:  [[        829         383         893         422          65           1     0.80672]]\n"
     ]
    },
    {
     "name": "stderr",
     "output_type": "stream",
     "text": [
      "\n",
      "0: 480x640 1 vehicle, 187.1ms\n",
      "Speed: 8.5ms preprocess, 187.1ms inference, 2.0ms postprocess per image at shape (1, 3, 480, 640)\n",
      "\n"
     ]
    },
    {
     "name": "stdout",
     "output_type": "stream",
     "text": [
      "Results:  [[830, 384, 894, 422]] [0.8077262043952942] [1]\n",
      "Output values:  [[        829         383         894         422          65           1     0.80773]]\n"
     ]
    },
    {
     "name": "stderr",
     "output_type": "stream",
     "text": [
      "0: 480x640 1 vehicle, 165.3ms\n",
      "Speed: 10.5ms preprocess, 165.3ms inference, 2.5ms postprocess per image at shape (1, 3, 480, 640)\n",
      "\n"
     ]
    },
    {
     "name": "stdout",
     "output_type": "stream",
     "text": [
      "Results:  [[830, 384, 894, 422]] [0.8084813952445984] [1]\n",
      "Output values:  [[        829         383         894         422          65           1     0.80848]]\n"
     ]
    },
    {
     "name": "stderr",
     "output_type": "stream",
     "text": [
      "0: 480x640 1 vehicle, 152.1ms\n",
      "Speed: 8.5ms preprocess, 152.1ms inference, 1.0ms postprocess per image at shape (1, 3, 480, 640)\n",
      "\n"
     ]
    },
    {
     "name": "stdout",
     "output_type": "stream",
     "text": [
      "Results:  [[830, 384, 894, 422]] [0.8079020977020264] [1]\n",
      "Output values:  [[        829         383         894         422          65           1      0.8079]]\n"
     ]
    },
    {
     "name": "stderr",
     "output_type": "stream",
     "text": [
      "0: 480x640 1 vehicle, 142.8ms\n",
      "Speed: 8.5ms preprocess, 142.8ms inference, 2.0ms postprocess per image at shape (1, 3, 480, 640)\n",
      "\n"
     ]
    },
    {
     "name": "stdout",
     "output_type": "stream",
     "text": [
      "Results:  [[830, 383, 894, 422]] [0.8075041770935059] [1]\n",
      "Output values:  [[        830         383         893         421          65           1      0.8075]]\n"
     ]
    },
    {
     "name": "stderr",
     "output_type": "stream",
     "text": [
      "0: 480x640 1 vehicle, 148.1ms\n",
      "Speed: 9.5ms preprocess, 148.1ms inference, 1.0ms postprocess per image at shape (1, 3, 480, 640)\n"
     ]
    },
    {
     "name": "stdout",
     "output_type": "stream",
     "text": [
      "Results:  [[830, 384, 894, 422]] [0.8086339831352234] [1]\n",
      "Output values:  [[        829         383         894         422          65           1     0.80863]]\n"
     ]
    }
   ],
   "source": [
    "from carla_tracker import main\n",
    "tracker = main()\n",
    "tracker()"
   ]
  },
  {
   "cell_type": "code",
   "execution_count": null,
   "metadata": {},
   "outputs": [],
   "source": []
  }
 ],
 "metadata": {
  "kernelspec": {
   "display_name": "Python 3 (ipykernel)",
   "language": "python",
   "name": "python3"
  },
  "language_info": {
   "codemirror_mode": {
    "name": "ipython",
    "version": 3
   },
   "file_extension": ".py",
   "mimetype": "text/x-python",
   "name": "python",
   "nbconvert_exporter": "python",
   "pygments_lexer": "ipython3",
   "version": "3.8.17"
  }
 },
 "nbformat": 4,
 "nbformat_minor": 4
}

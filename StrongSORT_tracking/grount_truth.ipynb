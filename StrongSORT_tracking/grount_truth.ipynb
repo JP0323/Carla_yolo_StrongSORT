{
 "cells": [
  {
   "cell_type": "code",
   "execution_count": 5,
   "metadata": {},
   "outputs": [
    {
     "name": "stdout",
     "output_type": "stream",
     "text": [
      "Model: osnet_x0_25\n",
      "- params: 203,568\n",
      "- flops: 82,316,000\n",
      "Successfully loaded pretrained weights from \"weights/osnet_x0_25_market1501.pth\"\n",
      "** The following layers are discarded due to unmatched keys or layer size: ['classifier.weight', 'classifier.bias']\n",
      "1\n"
     ]
    },
    {
     "name": "stderr",
     "output_type": "stream",
     "text": [
      "\n",
      "0: 480x640 4 cars, 2 buss, 1 bench, 2198.6ms\n",
      "Speed: 4.5ms preprocess, 2198.6ms inference, 3.6ms postprocess per image at shape (1, 3, 480, 640)\n"
     ]
    },
    {
     "name": "stdout",
     "output_type": "stream",
     "text": [
      "2\n"
     ]
    },
    {
     "name": "stderr",
     "output_type": "stream",
     "text": [
      "\n",
      "0: 480x640 4 cars, 1 bus, 2016.1ms\n",
      "Speed: 4.6ms preprocess, 2016.1ms inference, 2.0ms postprocess per image at shape (1, 3, 480, 640)\n"
     ]
    },
    {
     "name": "stdout",
     "output_type": "stream",
     "text": [
      "3\n"
     ]
    },
    {
     "name": "stderr",
     "output_type": "stream",
     "text": [
      "\n",
      "0: 480x640 4 cars, 1 bus, 1 bench, 1018.5ms\n",
      "Speed: 2.0ms preprocess, 1018.5ms inference, 1.0ms postprocess per image at shape (1, 3, 480, 640)\n"
     ]
    },
    {
     "name": "stdout",
     "output_type": "stream",
     "text": [
      "4\n"
     ]
    },
    {
     "name": "stderr",
     "output_type": "stream",
     "text": [
      "\n",
      "0: 480x640 5 cars, 1 bus, 1 bench, 2131.0ms\n",
      "Speed: 3.5ms preprocess, 2131.0ms inference, 4.0ms postprocess per image at shape (1, 3, 480, 640)\n"
     ]
    },
    {
     "name": "stdout",
     "output_type": "stream",
     "text": [
      "5\n"
     ]
    },
    {
     "name": "stderr",
     "output_type": "stream",
     "text": [
      "\n",
      "0: 480x640 4 cars, 1 bus, 1 bench, 2110.8ms\n",
      "Speed: 3.4ms preprocess, 2110.8ms inference, 4.1ms postprocess per image at shape (1, 3, 480, 640)\n"
     ]
    },
    {
     "name": "stdout",
     "output_type": "stream",
     "text": [
      "6\n"
     ]
    },
    {
     "name": "stderr",
     "output_type": "stream",
     "text": [
      "\n",
      "0: 480x640 4 cars, 1 bus, 1 bench, 2113.0ms\n",
      "Speed: 4.4ms preprocess, 2113.0ms inference, 4.5ms postprocess per image at shape (1, 3, 480, 640)\n"
     ]
    },
    {
     "name": "stdout",
     "output_type": "stream",
     "text": [
      "7\n"
     ]
    },
    {
     "name": "stderr",
     "output_type": "stream",
     "text": [
      "\n",
      "0: 480x640 4 cars, 1 bus, 2124.8ms\n",
      "Speed: 4.8ms preprocess, 2124.8ms inference, 4.0ms postprocess per image at shape (1, 3, 480, 640)\n"
     ]
    },
    {
     "name": "stdout",
     "output_type": "stream",
     "text": [
      "8\n"
     ]
    },
    {
     "name": "stderr",
     "output_type": "stream",
     "text": [
      "\n",
      "0: 480x640 4 cars, 1 bus, 1 bench, 2155.3ms\n",
      "Speed: 4.5ms preprocess, 2155.3ms inference, 3.0ms postprocess per image at shape (1, 3, 480, 640)\n"
     ]
    },
    {
     "name": "stdout",
     "output_type": "stream",
     "text": [
      "9\n"
     ]
    },
    {
     "name": "stderr",
     "output_type": "stream",
     "text": [
      "\n",
      "0: 480x640 4 cars, 1 bus, 2220.0ms\n",
      "Speed: 4.0ms preprocess, 2220.0ms inference, 3.5ms postprocess per image at shape (1, 3, 480, 640)\n"
     ]
    },
    {
     "name": "stdout",
     "output_type": "stream",
     "text": [
      "10\n"
     ]
    },
    {
     "name": "stderr",
     "output_type": "stream",
     "text": [
      "\n",
      "0: 480x640 4 cars, 1 bus, 2271.0ms\n",
      "Speed: 3.5ms preprocess, 2271.0ms inference, 4.2ms postprocess per image at shape (1, 3, 480, 640)\n"
     ]
    },
    {
     "name": "stdout",
     "output_type": "stream",
     "text": [
      "11\n"
     ]
    },
    {
     "name": "stderr",
     "output_type": "stream",
     "text": [
      "\n",
      "0: 480x640 4 cars, 1 bus, 2335.5ms\n",
      "Speed: 4.3ms preprocess, 2335.5ms inference, 4.0ms postprocess per image at shape (1, 3, 480, 640)\n"
     ]
    },
    {
     "name": "stdout",
     "output_type": "stream",
     "text": [
      "12\n"
     ]
    },
    {
     "name": "stderr",
     "output_type": "stream",
     "text": [
      "\n",
      "0: 480x640 5 cars, 1 bus, 2339.8ms\n",
      "Speed: 5.0ms preprocess, 2339.8ms inference, 4.5ms postprocess per image at shape (1, 3, 480, 640)\n"
     ]
    },
    {
     "name": "stdout",
     "output_type": "stream",
     "text": [
      "13\n"
     ]
    },
    {
     "name": "stderr",
     "output_type": "stream",
     "text": [
      "\n",
      "0: 480x640 5 cars, 1 bus, 2243.8ms\n",
      "Speed: 3.2ms preprocess, 2243.8ms inference, 2.5ms postprocess per image at shape (1, 3, 480, 640)\n"
     ]
    },
    {
     "name": "stdout",
     "output_type": "stream",
     "text": [
      "14\n"
     ]
    },
    {
     "name": "stderr",
     "output_type": "stream",
     "text": [
      "\n",
      "0: 480x640 5 cars, 1 bus, 2129.9ms\n",
      "Speed: 3.4ms preprocess, 2129.9ms inference, 3.0ms postprocess per image at shape (1, 3, 480, 640)\n"
     ]
    },
    {
     "name": "stdout",
     "output_type": "stream",
     "text": [
      "15\n"
     ]
    },
    {
     "name": "stderr",
     "output_type": "stream",
     "text": [
      "\n",
      "0: 480x640 5 cars, 1 bus, 2117.7ms\n",
      "Speed: 3.6ms preprocess, 2117.7ms inference, 4.3ms postprocess per image at shape (1, 3, 480, 640)\n"
     ]
    },
    {
     "name": "stdout",
     "output_type": "stream",
     "text": [
      "16\n"
     ]
    },
    {
     "name": "stderr",
     "output_type": "stream",
     "text": [
      "\n",
      "0: 480x640 5 cars, 1 bus, 2120.5ms\n",
      "Speed: 3.4ms preprocess, 2120.5ms inference, 4.1ms postprocess per image at shape (1, 3, 480, 640)\n"
     ]
    },
    {
     "name": "stdout",
     "output_type": "stream",
     "text": [
      "17\n"
     ]
    },
    {
     "name": "stderr",
     "output_type": "stream",
     "text": [
      "\n",
      "0: 480x640 4 cars, 1 bus, 2122.0ms\n",
      "Speed: 3.5ms preprocess, 2122.0ms inference, 3.0ms postprocess per image at shape (1, 3, 480, 640)\n"
     ]
    },
    {
     "name": "stdout",
     "output_type": "stream",
     "text": [
      "18\n"
     ]
    },
    {
     "name": "stderr",
     "output_type": "stream",
     "text": [
      "\n",
      "0: 480x640 4 cars, 1 bus, 1 bench, 2111.4ms\n",
      "Speed: 11.8ms preprocess, 2111.4ms inference, 4.0ms postprocess per image at shape (1, 3, 480, 640)\n"
     ]
    },
    {
     "name": "stdout",
     "output_type": "stream",
     "text": [
      "19\n"
     ]
    },
    {
     "name": "stderr",
     "output_type": "stream",
     "text": [
      "\n",
      "0: 480x640 4 cars, 1 bus, 2118.1ms\n",
      "Speed: 3.6ms preprocess, 2118.1ms inference, 3.0ms postprocess per image at shape (1, 3, 480, 640)\n"
     ]
    },
    {
     "name": "stdout",
     "output_type": "stream",
     "text": [
      "20\n"
     ]
    },
    {
     "name": "stderr",
     "output_type": "stream",
     "text": [
      "\n",
      "0: 480x640 4 cars, 1 bus, 2028.5ms\n",
      "Speed: 3.2ms preprocess, 2028.5ms inference, 2.0ms postprocess per image at shape (1, 3, 480, 640)\n"
     ]
    },
    {
     "name": "stdout",
     "output_type": "stream",
     "text": [
      "21\n"
     ]
    },
    {
     "name": "stderr",
     "output_type": "stream",
     "text": [
      "\n",
      "0: 480x640 4 cars, 1 bus, 1011.1ms\n",
      "Speed: 2.5ms preprocess, 1011.1ms inference, 2.0ms postprocess per image at shape (1, 3, 480, 640)\n"
     ]
    },
    {
     "name": "stdout",
     "output_type": "stream",
     "text": [
      "22\n"
     ]
    },
    {
     "name": "stderr",
     "output_type": "stream",
     "text": [
      "\n",
      "0: 480x640 6 cars, 1 bus, 2092.3ms\n",
      "Speed: 4.0ms preprocess, 2092.3ms inference, 3.5ms postprocess per image at shape (1, 3, 480, 640)\n"
     ]
    },
    {
     "name": "stdout",
     "output_type": "stream",
     "text": [
      "23\n"
     ]
    },
    {
     "name": "stderr",
     "output_type": "stream",
     "text": [
      "\n",
      "0: 480x640 5 cars, 1 airplane, 1 bus, 2198.0ms\n",
      "Speed: 3.8ms preprocess, 2198.0ms inference, 4.0ms postprocess per image at shape (1, 3, 480, 640)\n"
     ]
    },
    {
     "name": "stdout",
     "output_type": "stream",
     "text": [
      "24\n"
     ]
    },
    {
     "name": "stderr",
     "output_type": "stream",
     "text": [
      "\n",
      "0: 480x640 6 cars, 1 bus, 2118.8ms\n",
      "Speed: 3.0ms preprocess, 2118.8ms inference, 3.5ms postprocess per image at shape (1, 3, 480, 640)\n"
     ]
    },
    {
     "name": "stdout",
     "output_type": "stream",
     "text": [
      "25\n"
     ]
    },
    {
     "name": "stderr",
     "output_type": "stream",
     "text": [
      "\n",
      "0: 480x640 5 cars, 1 bus, 2102.5ms\n",
      "Speed: 3.0ms preprocess, 2102.5ms inference, 4.1ms postprocess per image at shape (1, 3, 480, 640)\n"
     ]
    },
    {
     "name": "stdout",
     "output_type": "stream",
     "text": [
      "26\n"
     ]
    },
    {
     "name": "stderr",
     "output_type": "stream",
     "text": [
      "\n",
      "0: 480x640 5 cars, 1 bus, 2109.5ms\n",
      "Speed: 3.0ms preprocess, 2109.5ms inference, 4.0ms postprocess per image at shape (1, 3, 480, 640)\n"
     ]
    },
    {
     "name": "stdout",
     "output_type": "stream",
     "text": [
      "27\n"
     ]
    },
    {
     "name": "stderr",
     "output_type": "stream",
     "text": [
      "\n",
      "0: 480x640 5 cars, 1 bus, 2099.9ms\n",
      "Speed: 3.9ms preprocess, 2099.9ms inference, 3.0ms postprocess per image at shape (1, 3, 480, 640)\n"
     ]
    },
    {
     "name": "stdout",
     "output_type": "stream",
     "text": [
      "28\n"
     ]
    },
    {
     "name": "stderr",
     "output_type": "stream",
     "text": [
      "\n",
      "0: 480x640 4 cars, 1 bus, 1 bench, 2101.7ms\n",
      "Speed: 3.7ms preprocess, 2101.7ms inference, 4.0ms postprocess per image at shape (1, 3, 480, 640)\n"
     ]
    },
    {
     "name": "stdout",
     "output_type": "stream",
     "text": [
      "29\n"
     ]
    },
    {
     "name": "stderr",
     "output_type": "stream",
     "text": [
      "\n",
      "0: 480x640 3 cars, 1 bus, 1 bench, 2109.0ms\n",
      "Speed: 3.0ms preprocess, 2109.0ms inference, 6.0ms postprocess per image at shape (1, 3, 480, 640)\n"
     ]
    },
    {
     "name": "stdout",
     "output_type": "stream",
     "text": [
      "30\n"
     ]
    },
    {
     "name": "stderr",
     "output_type": "stream",
     "text": [
      "\n",
      "0: 480x640 4 cars, 1 bus, 1 truck, 1 bench, 2112.9ms\n",
      "Speed: 3.6ms preprocess, 2112.9ms inference, 3.6ms postprocess per image at shape (1, 3, 480, 640)\n"
     ]
    },
    {
     "name": "stdout",
     "output_type": "stream",
     "text": [
      "31\n"
     ]
    },
    {
     "name": "stderr",
     "output_type": "stream",
     "text": [
      "\n",
      "0: 480x640 3 cars, 1 bus, 1 bench, 2162.9ms\n",
      "Speed: 3.0ms preprocess, 2162.9ms inference, 4.2ms postprocess per image at shape (1, 3, 480, 640)\n"
     ]
    },
    {
     "name": "stdout",
     "output_type": "stream",
     "text": [
      "32\n"
     ]
    },
    {
     "name": "stderr",
     "output_type": "stream",
     "text": [
      "\n",
      "0: 480x640 4 cars, 1 bus, 1 bench, 2105.1ms\n",
      "Speed: 4.1ms preprocess, 2105.1ms inference, 3.4ms postprocess per image at shape (1, 3, 480, 640)\n"
     ]
    },
    {
     "name": "stdout",
     "output_type": "stream",
     "text": [
      "33\n"
     ]
    },
    {
     "name": "stderr",
     "output_type": "stream",
     "text": [
      "\n",
      "0: 480x640 3 cars, 1 bus, 1 bench, 2190.9ms\n",
      "Speed: 3.1ms preprocess, 2190.9ms inference, 4.8ms postprocess per image at shape (1, 3, 480, 640)\n"
     ]
    },
    {
     "name": "stdout",
     "output_type": "stream",
     "text": [
      "34\n"
     ]
    },
    {
     "name": "stderr",
     "output_type": "stream",
     "text": [
      "\n",
      "0: 480x640 3 cars, 1 bus, 1 bench, 2377.3ms\n",
      "Speed: 5.5ms preprocess, 2377.3ms inference, 4.9ms postprocess per image at shape (1, 3, 480, 640)\n"
     ]
    },
    {
     "name": "stdout",
     "output_type": "stream",
     "text": [
      "35\n"
     ]
    },
    {
     "name": "stderr",
     "output_type": "stream",
     "text": [
      "\n",
      "0: 480x640 3 cars, 1 bus, 1 bench, 2172.2ms\n",
      "Speed: 3.0ms preprocess, 2172.2ms inference, 4.0ms postprocess per image at shape (1, 3, 480, 640)\n"
     ]
    },
    {
     "name": "stdout",
     "output_type": "stream",
     "text": [
      "36\n"
     ]
    },
    {
     "name": "stderr",
     "output_type": "stream",
     "text": [
      "\n",
      "0: 480x640 3 cars, 1 bus, 1 bench, 2118.9ms\n",
      "Speed: 3.1ms preprocess, 2118.9ms inference, 2.9ms postprocess per image at shape (1, 3, 480, 640)\n"
     ]
    },
    {
     "name": "stdout",
     "output_type": "stream",
     "text": [
      "37\n"
     ]
    },
    {
     "name": "stderr",
     "output_type": "stream",
     "text": [
      "\n",
      "0: 480x640 3 cars, 1 bus, 1 bench, 2105.8ms\n",
      "Speed: 3.0ms preprocess, 2105.8ms inference, 4.0ms postprocess per image at shape (1, 3, 480, 640)\n"
     ]
    },
    {
     "name": "stdout",
     "output_type": "stream",
     "text": [
      "38\n"
     ]
    },
    {
     "name": "stderr",
     "output_type": "stream",
     "text": [
      "\n",
      "0: 480x640 3 cars, 1 bus, 2 benchs, 2101.6ms\n",
      "Speed: 4.1ms preprocess, 2101.6ms inference, 3.0ms postprocess per image at shape (1, 3, 480, 640)\n"
     ]
    },
    {
     "name": "stdout",
     "output_type": "stream",
     "text": [
      "39\n"
     ]
    },
    {
     "name": "stderr",
     "output_type": "stream",
     "text": [
      "\n",
      "0: 480x640 3 cars, 1 bus, 1 bench, 2200.4ms\n",
      "Speed: 3.0ms preprocess, 2200.4ms inference, 3.2ms postprocess per image at shape (1, 3, 480, 640)\n"
     ]
    },
    {
     "name": "stdout",
     "output_type": "stream",
     "text": [
      "40\n"
     ]
    },
    {
     "name": "stderr",
     "output_type": "stream",
     "text": [
      "\n",
      "0: 480x640 3 cars, 1 bus, 1 bench, 2215.6ms\n",
      "Speed: 4.5ms preprocess, 2215.6ms inference, 3.0ms postprocess per image at shape (1, 3, 480, 640)\n"
     ]
    },
    {
     "name": "stdout",
     "output_type": "stream",
     "text": [
      "41\n"
     ]
    },
    {
     "name": "stderr",
     "output_type": "stream",
     "text": [
      "\n",
      "0: 480x640 3 cars, 1 bus, 1 bench, 2086.6ms\n",
      "Speed: 3.0ms preprocess, 2086.6ms inference, 3.0ms postprocess per image at shape (1, 3, 480, 640)\n"
     ]
    },
    {
     "name": "stdout",
     "output_type": "stream",
     "text": [
      "42\n"
     ]
    },
    {
     "name": "stderr",
     "output_type": "stream",
     "text": [
      "\n",
      "0: 480x640 4 cars, 1 bus, 2 benchs, 2092.7ms\n",
      "Speed: 3.4ms preprocess, 2092.7ms inference, 4.0ms postprocess per image at shape (1, 3, 480, 640)\n"
     ]
    },
    {
     "name": "stdout",
     "output_type": "stream",
     "text": [
      "43\n"
     ]
    },
    {
     "name": "stderr",
     "output_type": "stream",
     "text": [
      "\n",
      "0: 480x640 4 cars, 1 bus, 1 bench, 2107.4ms\n",
      "Speed: 3.1ms preprocess, 2107.4ms inference, 3.0ms postprocess per image at shape (1, 3, 480, 640)\n"
     ]
    },
    {
     "name": "stdout",
     "output_type": "stream",
     "text": [
      "44\n"
     ]
    },
    {
     "name": "stderr",
     "output_type": "stream",
     "text": [
      "\n",
      "0: 480x640 3 cars, 1 truck, 2 benchs, 2138.9ms\n",
      "Speed: 4.5ms preprocess, 2138.9ms inference, 4.0ms postprocess per image at shape (1, 3, 480, 640)\n"
     ]
    },
    {
     "name": "stdout",
     "output_type": "stream",
     "text": [
      "45\n"
     ]
    },
    {
     "name": "stderr",
     "output_type": "stream",
     "text": [
      "\n",
      "0: 480x640 4 cars, 1 bus, 1 truck, 2 benchs, 2187.9ms\n",
      "Speed: 4.4ms preprocess, 2187.9ms inference, 4.8ms postprocess per image at shape (1, 3, 480, 640)\n"
     ]
    },
    {
     "name": "stdout",
     "output_type": "stream",
     "text": [
      "46\n"
     ]
    },
    {
     "name": "stderr",
     "output_type": "stream",
     "text": [
      "\n",
      "0: 480x640 5 cars, 1 bus, 1 bench, 2106.0ms\n",
      "Speed: 3.2ms preprocess, 2106.0ms inference, 3.0ms postprocess per image at shape (1, 3, 480, 640)\n"
     ]
    },
    {
     "name": "stdout",
     "output_type": "stream",
     "text": [
      "47\n"
     ]
    },
    {
     "name": "stderr",
     "output_type": "stream",
     "text": [
      "\n",
      "0: 480x640 4 cars, 1 bus, 2109.7ms\n",
      "Speed: 4.2ms preprocess, 2109.7ms inference, 4.0ms postprocess per image at shape (1, 3, 480, 640)\n"
     ]
    },
    {
     "name": "stdout",
     "output_type": "stream",
     "text": [
      "48\n"
     ]
    },
    {
     "name": "stderr",
     "output_type": "stream",
     "text": [
      "\n",
      "0: 480x640 3 cars, 1 bus, 2114.8ms\n",
      "Speed: 3.0ms preprocess, 2114.8ms inference, 4.0ms postprocess per image at shape (1, 3, 480, 640)\n"
     ]
    },
    {
     "name": "stdout",
     "output_type": "stream",
     "text": [
      "49\n"
     ]
    },
    {
     "name": "stderr",
     "output_type": "stream",
     "text": [
      "\n",
      "0: 480x640 4 cars, 1 bus, 2124.8ms\n",
      "Speed: 2.5ms preprocess, 2124.8ms inference, 4.5ms postprocess per image at shape (1, 3, 480, 640)\n"
     ]
    },
    {
     "name": "stdout",
     "output_type": "stream",
     "text": [
      "50\n"
     ]
    },
    {
     "name": "stderr",
     "output_type": "stream",
     "text": [
      "\n",
      "0: 480x640 4 cars, 1 bus, 2101.2ms\n",
      "Speed: 3.0ms preprocess, 2101.2ms inference, 3.0ms postprocess per image at shape (1, 3, 480, 640)\n"
     ]
    },
    {
     "name": "stdout",
     "output_type": "stream",
     "text": [
      "51\n"
     ]
    },
    {
     "name": "stderr",
     "output_type": "stream",
     "text": [
      "\n",
      "0: 480x640 3 cars, 1 bus, 1 bench, 2132.1ms\n",
      "Speed: 3.0ms preprocess, 2132.1ms inference, 3.6ms postprocess per image at shape (1, 3, 480, 640)\n"
     ]
    }
   ],
   "source": [
    "# Source link https://carla.readthedocs.io/en/latest/tuto_G_bounding_boxes/#bounding-boxes\n",
    "\n",
    "import json\n",
    "from pascal_voc_writer import Writer\n",
    "from typing import Any\n",
    "import torch\n",
    "import numpy as np\n",
    "import cv2\n",
    "from ultralytics import YOLO\n",
    "import carla\n",
    "import queue\n",
    "import random\n",
    "from strong_sort import StrongSORT\n",
    "from sort.parser import get_config\n",
    "\n",
    "# Part 1\n",
    "image_w = 256*4\n",
    "image_h = 256*3\n",
    "\n",
    "# for yolo pretrained\n",
    "class_id = [2, 5, 7]\n",
    "YOLO_PATH = 'yolov8x.pt'\n",
    "#class_name = {1: 'bicycle' , 2: 'car', 3: 'motorcycle', 5: 'bus' ,7: 'truck'}\n",
    "\n",
    "# for trained model\n",
    "#class_id = [1]\n",
    "#YOLO_PATH = 'weights/best.pt'\n",
    "output_path = \"output.mp4\"\n",
    "\n",
    "#strongSORT weights\n",
    "cfg = get_config()\n",
    "cfg.merge_from_file('configs/strong_sort.yaml')\n",
    "strongsort_weights = \"weights/osnet_x0_25_market1501.pth\"\n",
    "\n",
    "device = 'cuda' if torch.cuda.is_available() else 'cpu'\n",
    "\n",
    "#initialising strongSORT\n",
    "strongsort = StrongSORT(\n",
    "    strongsort_weights,\n",
    "    device,\n",
    "    max_dist=0.2,\n",
    "    max_iou_distance=0.7,\n",
    "    max_age=70, n_init=3,\n",
    "    nn_budget=100,\n",
    "    mc_lambda=0.995,\n",
    "    ema_alpha=0.9)\n",
    "\n",
    "#connecting CARLA Simulator\n",
    "client = carla.Client('localhost', 2000)\n",
    "world = client.get_world()\n",
    "\n",
    "# Set up the simulator in synchronous mode\n",
    "settings = world.get_settings()\n",
    "settings.synchronous_mode = True  # Enables synchronous mode\n",
    "settings.fixed_delta_seconds = 0.05\n",
    "world.apply_settings(settings)\n",
    "\n",
    "# Get the world spectator\n",
    "spectator = world.get_spectator()\n",
    "\n",
    "# Get the map spawn points\n",
    "spawn_points = world.get_map().get_spawn_points()\n",
    "\n",
    "# spawn vehicle\n",
    "bp_lib = world.get_blueprint_library()\n",
    "vehicle_bp = bp_lib.find('vehicle.lincoln.mkz_2020')\n",
    "vehicle = world.try_spawn_actor(vehicle_bp, random.choice(spawn_points))\n",
    "\n",
    "camera_bp = bp_lib.find('sensor.camera.rgb')\n",
    "\n",
    "camera_bp.set_attribute('image_size_x', f'{image_w}')\n",
    "camera_bp.set_attribute('image_size_y', f'{image_h}')\n",
    "camera_bp.set_attribute('fov', '110')\n",
    "fov = 110\n",
    "\n",
    "# spawn camera\n",
    "camera_init_trans = carla.Transform(carla.Location(x = 1.5, z = 1.8))\n",
    "camera = world.spawn_actor(camera_bp, camera_init_trans, attach_to=vehicle)\n",
    "'''\n",
    "def camera_callback(image, data_dict):\n",
    "            image_data = np.array(image.raw_data)\n",
    "            image_rgb = image_data.reshape((image.height, image.width, 4))[:, :, :3]\n",
    "            data_dict['image'] = image_rgb\n",
    "'''\n",
    "image_w = camera_bp.get_attribute('image_size_x').as_int()\n",
    "image_h = camera_bp.get_attribute('image_size_y').as_int()\n",
    "\n",
    "# camera_data = {'image': np.zeros((image_h, image_w, 4))}\n",
    "# camera.listen(lambda image: camera_callback(image, camera_data))\n",
    "\n",
    "vehicle.set_autopilot(True)\n",
    "\n",
    "# Create a queue to store and retrieve the sensor data\n",
    "image_queue = queue.Queue()\n",
    "camera.listen(image_queue.put)\n",
    "\n",
    "def build_projection_matrix(w, h, fov, is_behind_camera=False):\n",
    "    focal = w / (2.0 * np.tan(fov * np.pi / 360.0))\n",
    "    K = np.identity(3)\n",
    "\n",
    "    if is_behind_camera:\n",
    "        K[0, 0] = K[1, 1] = -focal\n",
    "    else:\n",
    "        K[0, 0] = K[1, 1] = focal\n",
    "\n",
    "    K[0, 2] = w / 2.0\n",
    "    K[1, 2] = h / 2.0\n",
    "    return K\n",
    "\n",
    "def get_image_point(loc, K, w2c):\n",
    "    # Calculate 2D projection of 3D coordinate\n",
    "\n",
    "    # Format the input coordinate (loc is a carla.Position object)\n",
    "    point = np.array([loc.x, loc.y, loc.z, 1])\n",
    "    # transform to camera coordinates\n",
    "    point_camera = np.dot(w2c, point)\n",
    "\n",
    "    point_camera = np.array(\n",
    "        [point_camera[1], -point_camera[2], point_camera[0]]).T\n",
    "\n",
    "    point_img = np.dot(K, point_camera)\n",
    "    point_img[0] /= point_img[2]\n",
    "    point_img[1] /= point_img[2]\n",
    "\n",
    "    return point_img\n",
    "\n",
    "\n",
    "# Remember the edge pairs\n",
    "edges = [[0, 1], [1, 3], [3, 2], [2, 0], [0, 4], [4, 5],\n",
    "         [5, 1], [5, 7], [7, 6], [6, 4], [6, 2], [7, 3]]\n",
    "\n",
    "# Get the world to camera matrix\n",
    "world_2_camera = np.array(camera.get_transform().get_inverse_matrix())\n",
    "\n",
    "# Calculate the camera projection matrix to project from 3D -> 2D\n",
    "K = build_projection_matrix(image_w, image_h, fov)\n",
    "K_b = build_projection_matrix(image_w, image_h, fov, is_behind_camera=True)\n",
    "\n",
    "for i in range(50):\n",
    "    vehicle_bp = bp_lib.filter('vehicle')\n",
    "\n",
    "    # Exclude bicycle\n",
    "    car_bp = [bp for bp in vehicle_bp if int(\n",
    "        bp.get_attribute('number_of_wheels')) == 4]\n",
    "    npc = world.try_spawn_actor(random.choice(\n",
    "        car_bp), random.choice(spawn_points))\n",
    "\n",
    "    if npc:\n",
    "        npc.set_autopilot(True)\n",
    "\n",
    "# Retrieve all the objects of the level\n",
    "car_objects = world.get_environment_objects(carla.CityObjectLabel.Car)\n",
    "truck_objects = world.get_environment_objects(carla.CityObjectLabel.Truck)\n",
    "bus_objects = world.get_environment_objects(carla.CityObjectLabel.Bus)\n",
    "\n",
    "env_object_ids = []\n",
    "\n",
    "for obj in (car_objects + truck_objects + bus_objects):\n",
    "    env_object_ids.append(obj.id)\n",
    "\n",
    "# Disable all static vehicles\n",
    "world.enable_environment_objects(env_object_ids, False)\n",
    "\n",
    "edges = [[0, 1], [1, 3], [3, 2], [2, 0], [0, 4], [4, 5],\n",
    "         [5, 1], [5, 7], [7, 6], [6, 4], [6, 2], [7, 3]]\n",
    "\n",
    "def point_in_canvas(pos, img_h, img_w):\n",
    "    \"\"\"Return true if point is in canvas\"\"\"\n",
    "    if (pos[0] >= 0) and (pos[0] < img_w) and (pos[1] >= 0) and (pos[1] < img_h):\n",
    "        return True\n",
    "    return False\n",
    "\n",
    "def get_vanishing_point(p1, p2, p3, p4):\n",
    "\n",
    "    k1 = (p4[1] - p3[1]) / (p4[0] - p3[0])\n",
    "    k2 = (p2[1] - p1[1]) / (p2[0] - p1[0])\n",
    "\n",
    "    vp_x = (k1 * p3[0] - k2 * p1[0] + p1[1] - p3[1]) / (k1 - k2)\n",
    "    vp_y = k1 * (vp_x - p3[0]) + p3[1]\n",
    "\n",
    "    return [vp_x, vp_y]\n",
    "\n",
    "def clear():\n",
    "    settings = world.get_settings()\n",
    "    settings.synchronous_mode = False  # Disables synchronous mode\n",
    "    settings.fixed_delta_seconds = None\n",
    "    world.apply_settings(settings)\n",
    "\n",
    "    camera.stop()\n",
    "\n",
    "    for npc in world.get_actors().filter('*vehicle*'):\n",
    "        if npc:\n",
    "            npc.destroy()\n",
    "\n",
    "    print(\"Vehicles Destroyed.\")\n",
    "\n",
    "# Main Loop\n",
    "vehicle.set_autopilot(True)\n",
    "\n",
    "edges = [[0, 1], [1, 3], [3, 2], [2, 0], [0, 4], [4, 5],\n",
    "         [5, 1], [5, 7], [7, 6], [6, 4], [6, 2], [7, 3]]\n",
    "\n",
    "carla_annotations = []\n",
    "yolo_annotations = []\n",
    "\n",
    "frame_counter = 0\n",
    "\n",
    "while frame_counter <= 50:\n",
    "    try:\n",
    "        world.tick()\n",
    "\n",
    "        # Move the spectator to the top of the vehicle\n",
    "        transform = carla.Transform(vehicle.get_transform().transform(\n",
    "            carla.Location(x=-4, z=50)), carla.Rotation(yaw=-180, pitch=-90))\n",
    "        spectator.set_transform(transform)\n",
    "\n",
    "        # Retrieve and reshape the image\n",
    "        image = image_queue.get()\n",
    "        # img = np.reshape(np.copy(image.raw_data), (image.height, image.width, 4))\n",
    "        img = np.reshape(np.copy(image.raw_data),\n",
    "                            (image.height, image.width, 4))[:, :, :3]\n",
    "\n",
    "        timestamp_sec = image.timestamp\n",
    "\n",
    "        # Get the camera matrix\n",
    "        world_2_camera = np.array(camera.get_transform().get_inverse_matrix())\n",
    "\n",
    "        # Get the image frame from the image queue\n",
    "        frame = np.copy(img)  # Use the image from the queue\n",
    "        frame_counter += 1\n",
    "        print(frame_counter)\n",
    "        carla_gt_annotations = []\n",
    "        yolo_gt_annotations = []\n",
    "\n",
    "        # Perform YOLO object detection\n",
    "        model = YOLO(YOLO_PATH)\n",
    "        preds = model(frame)\n",
    "\n",
    "        bbox_xyxy = []\n",
    "        conf_score = []\n",
    "        cls_id = []\n",
    "        outputs = []\n",
    "\n",
    "        # Iterate through the detected objects and their bounding boxes\n",
    "        for box in preds:\n",
    "            for r in box.boxes.data.tolist():\n",
    "                x_min, y_min, x_max, y_max, conf, det_id = r\n",
    "                det_id = int(det_id)\n",
    "                if det_id != 0 and det_id in class_id:\n",
    "                    bbox_xyxy.append(\n",
    "                        [int(x_min), int(y_min), int(x_max), int(y_max)])\n",
    "                    conf_score.append(conf)\n",
    "                    cls_id.append(det_id)\n",
    "                else:\n",
    "                    continue\n",
    "            outputs = strongsort.update(\n",
    "                bbox_xyxy, conf_score, cls_id, frame)\n",
    "            for x1, y1, x2, y2, track_id, c_id, conf in outputs:\n",
    "            #for output, conf, id in zip(outputs, conf_score, cls_id):\n",
    "                yolo_dict = {\n",
    "\n",
    "                    \"height\": y2- y1, # output[3] - output[1],\n",
    "                    \"width\": x2-x1, #output[2] - output[0],\n",
    "                    \"id\": \"vehicle\",  # Replace with actual class name\n",
    "                    \"y\": y1, #output[1],\n",
    "                    \"x\": x1 #output[0]\n",
    "                }\n",
    "                for item in yolo_gt_annotations:\n",
    "                    if all(item[key] == yolo_dict[key] for key in yolo_dict):\n",
    "                        continue\n",
    "                else:\n",
    "                    yolo_gt_annotations.append(yolo_dict)\n",
    "\n",
    "        yolo_annotations.append({\n",
    "            \"timestamp\": timestamp_sec,\n",
    "            \"num\": image.frame,\n",
    "            \"class\": \"frame\",\n",
    "            \"hypotheses\": yolo_gt_annotations\n",
    "        })\n",
    "\n",
    "        yolo_output = [{\n",
    "            \"frames\": yolo_annotations,\n",
    "            \"class\": \"video\",\n",
    "            \"filename\": \"yolo_gt.json\"\n",
    "        }]\n",
    "\n",
    "        for npc in world.get_actors().filter('*vehicle*'):\n",
    "\n",
    "            # Filter out the ego vehicle\n",
    "            if npc.id != vehicle.id:\n",
    "\n",
    "                bb = npc.bounding_box\n",
    "                dist = npc.get_transform().location.distance(vehicle.get_transform().location)\n",
    "\n",
    "                # Filter for the vehicles within 50m\n",
    "                if dist < 50:\n",
    "\n",
    "                    forward_vec = vehicle.get_transform().get_forward_vector()\n",
    "                    ray = npc.get_transform().location - vehicle.get_transform().location\n",
    "\n",
    "                    if forward_vec.dot(ray) > 0:\n",
    "\n",
    "                        verts = [v for v in bb.get_world_vertices(\n",
    "                            npc.get_transform())]\n",
    "\n",
    "                        points_image = []\n",
    "\n",
    "                        for vert in verts:\n",
    "                            ray0 = vert - camera.get_transform().location\n",
    "                            cam_forward_vec = camera.get_transform().get_forward_vector()\n",
    "\n",
    "                            if (cam_forward_vec.dot(ray0) > 0):\n",
    "                                p = get_image_point(vert, K, world_2_camera)\n",
    "                            else:\n",
    "                                p = get_image_point(vert, K_b, world_2_camera)\n",
    "\n",
    "                            points_image.append(p)\n",
    "\n",
    "                        x_min, x_max = 10000, -10000\n",
    "                        y_min, y_max = 10000, -10000\n",
    "\n",
    "                        for edge in edges:\n",
    "                            p1 = points_image[edge[0]]\n",
    "                            p2 = points_image[edge[1]]\n",
    "\n",
    "                            p1_in_canvas = point_in_canvas(\n",
    "                                p1, image_h, image_w)\n",
    "                            p2_in_canvas = point_in_canvas(\n",
    "                                p2, image_h, image_w)\n",
    "\n",
    "                            # Both points are out of the canvas\n",
    "                            if not p1_in_canvas and not p2_in_canvas:\n",
    "                                continue\n",
    "\n",
    "                            # Draw 2D Bounding Boxes\n",
    "                            p1_temp, p2_temp = (p1.copy(), p2.copy())\n",
    "\n",
    "                            # One of the point is out of the canvas\n",
    "                            if not (p1_in_canvas and p2_in_canvas):\n",
    "                                p = [0, 0]\n",
    "\n",
    "                                # Find the intersection of the edge with the window border\n",
    "                                p_in_canvas, p_not_in_canvas = (\n",
    "                                    p1, p2) if p1_in_canvas else (p2, p1)\n",
    "                                k = (\n",
    "                                    p_not_in_canvas[1] - p_in_canvas[1]) / (p_not_in_canvas[0] - p_in_canvas[0])\n",
    "\n",
    "                                x = np.clip(p_not_in_canvas[0], 0, image.width)\n",
    "                                y = k * (x - p_in_canvas[0]) + p_in_canvas[1]\n",
    "\n",
    "                                if y >= image.height:\n",
    "                                    p[0] = (image.height - p_in_canvas[1]\n",
    "                                            ) / k + p_in_canvas[0]\n",
    "                                    p[1] = image.height - 1\n",
    "                                elif y <= 0:\n",
    "                                    p[0] = (0 - p_in_canvas[1]) / \\\n",
    "                                        k + p_in_canvas[0]\n",
    "                                    p[1] = 0\n",
    "                                else:\n",
    "                                    p[0] = image.width - \\\n",
    "                                        1 if x == image.width else 0\n",
    "                                    p[1] = y\n",
    "\n",
    "                                p1_temp, p2_temp = (p, p_in_canvas)\n",
    "\n",
    "                            # Find the rightmost vertex\n",
    "                            x_max = p1_temp[0] if p1_temp[0] > x_max else x_max\n",
    "                            x_max = p2_temp[0] if p2_temp[0] > x_max else x_max\n",
    "\n",
    "                            # Find the leftmost vertex\n",
    "                            x_min = p1_temp[0] if p1_temp[0] < x_min else x_min\n",
    "                            x_min = p2_temp[0] if p2_temp[0] < x_min else x_min\n",
    "\n",
    "                            # Find the highest vertex\n",
    "                            y_max = p1_temp[1] if p1_temp[1] > y_max else y_max\n",
    "                            y_max = p2_temp[1] if p2_temp[1] > y_max else y_max\n",
    "\n",
    "                            # Find the lowest vertex\n",
    "                            y_min = p1_temp[1] if p1_temp[1] < y_min else y_min\n",
    "                            y_min = p2_temp[1] if p2_temp[1] < y_min else y_min\n",
    "\n",
    "                        # Exclude very small bounding boxes\n",
    "                        if (y_max - y_min) * (x_max - x_min) > 100 and (x_max - x_min) > 20:\n",
    "                            if point_in_canvas((x_min, y_min), image_h, image_w) and point_in_canvas((x_max, y_max), image_h, image_w):\n",
    "                                img = np.array(img, dtype=np.uint8)\n",
    "                                cv2.line(img, (int(x_min), int(y_min)), (int(\n",
    "                                    x_max), int(y_min)), (0, 0, 255, 255), 1)\n",
    "                                cv2.line(img, (int(x_min), int(y_max)), (int(\n",
    "                                    x_max), int(y_max)), (0, 0, 255, 255), 1)\n",
    "                                cv2.line(img, (int(x_min), int(y_min)), (int(\n",
    "                                    x_min), int(y_max)), (0, 0, 255, 255), 1)\n",
    "                                cv2.line(img, (int(x_max), int(y_min)), (int(\n",
    "                                    x_max), int(y_max)), (0, 0, 255, 255), 1)\n",
    "\n",
    "                                # timestamp_sec = image.timestamp.elapsed_seconds\n",
    "\n",
    "                            carla_gt_annotations.append({\n",
    "                                \"dco\": True,\n",
    "                                \"height\": y_max - y_min,\n",
    "                                \"width\": x_max - x_min,\n",
    "                                \"id\": \"vehicle\",\n",
    "                                \"y\": y_min,\n",
    "                                \"x\": x_min\n",
    "                            })\n",
    "        carla_annotations.append({\n",
    "            \"timestamp\": timestamp_sec,\n",
    "            \"num\": image.frame,\n",
    "            \"class\": \"frame\",\n",
    "            \"annotations\": carla_gt_annotations\n",
    "        })\n",
    "\n",
    "        gt_output = [{\n",
    "            \"frames\": carla_annotations,\n",
    "            \"class\": \"video\",\n",
    "            \"filename\": \"carla_gt.json\"\n",
    "        }]\n",
    "\n",
    "        with open('carla_gt.json', 'w') as json_file:\n",
    "            json.dump(gt_output, json_file)\n",
    "\n",
    "        with open('yolo_gt.json', 'w') as json_file:\n",
    "            json.dump(yolo_output, json_file)\n",
    "\n",
    "        cv2.imshow('Ground Truth', img)\n",
    "\n",
    "        if cv2.waitKey(1) == ord('q'):\n",
    "            clear()\n",
    "            break\n",
    "\n",
    "    except KeyboardInterrupt as e:\n",
    "        clear()\n",
    "        break\n",
    "\n",
    "camera.stop()\n",
    "camera.destroy()\n",
    "vehicle.destroy()\n",
    "\n",
    "cv2.destroyAllWindows()"
   ]
  },
  {
   "cell_type": "code",
   "execution_count": null,
   "metadata": {},
   "outputs": [],
   "source": []
  }
 ],
 "metadata": {
  "kernelspec": {
   "display_name": "Python 3 (ipykernel)",
   "language": "python",
   "name": "python3"
  },
  "language_info": {
   "codemirror_mode": {
    "name": "ipython",
    "version": 3
   },
   "file_extension": ".py",
   "mimetype": "text/x-python",
   "name": "python",
   "nbconvert_exporter": "python",
   "pygments_lexer": "ipython3",
   "version": "3.8.17"
  }
 },
 "nbformat": 4,
 "nbformat_minor": 4
}

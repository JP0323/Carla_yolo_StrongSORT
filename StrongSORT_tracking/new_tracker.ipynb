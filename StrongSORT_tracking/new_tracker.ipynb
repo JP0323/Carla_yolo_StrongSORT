{
 "cells": [
  {
   "cell_type": "code",
   "execution_count": 1,
   "id": "4cd234ce-3363-45e8-9752-c359c01410f8",
   "metadata": {},
   "outputs": [
    {
     "name": "stderr",
     "output_type": "stream",
     "text": [
      "C:\\Users\\Jagadeesh Prasad\\anaconda3\\envs\\new-sim\\lib\\site-packages\\torchreid\\reid\\metrics\\rank.py:11: UserWarning: Cython evaluation (very fast so highly recommended) is unavailable, now use python evaluation.\n",
      "  warnings.warn(\n"
     ]
    },
    {
     "name": "stdout",
     "output_type": "stream",
     "text": [
      "The Tracker is using detection model trained on data1\n",
      "Model: osnet_x0_25\n",
      "- params: 203,568\n",
      "- flops: 82,316,000\n",
      "Successfully loaded pretrained weights from \"deep/checkpoint/osnet_x0_25_market1501.pth\"\n",
      "** The following layers are discarded due to unmatched keys or layer size: ['classifier.weight', 'classifier.bias']\n"
     ]
    },
    {
     "ename": "RuntimeError",
     "evalue": "time-out of 20000ms while waiting for the simulator, make sure the simulator is ready and connected to localhost:2000",
     "output_type": "error",
     "traceback": [
      "\u001b[1;31m---------------------------------------------------------------------------\u001b[0m",
      "\u001b[1;31mRuntimeError\u001b[0m                              Traceback (most recent call last)",
      "Cell \u001b[1;32mIn[1], line 3\u001b[0m\n\u001b[0;32m      1\u001b[0m \u001b[38;5;28;01mfrom\u001b[39;00m \u001b[38;5;21;01mcustom_data_tracker\u001b[39;00m \u001b[38;5;28;01mimport\u001b[39;00m main\n\u001b[0;32m      2\u001b[0m track \u001b[38;5;241m=\u001b[39m main()\n\u001b[1;32m----> 3\u001b[0m \u001b[43mtrack\u001b[49m\u001b[43m(\u001b[49m\u001b[43m)\u001b[49m\n",
      "File \u001b[1;32m~\\desktop\\Github\\Carla_yolo_StrongSORT\\StrongSORT_tracking\\custom_data_tracker.py:86\u001b[0m, in \u001b[0;36mmain.__call__\u001b[1;34m(self)\u001b[0m\n\u001b[0;32m     84\u001b[0m client \u001b[38;5;241m=\u001b[39m carla\u001b[38;5;241m.\u001b[39mClient(\u001b[38;5;124m'\u001b[39m\u001b[38;5;124mlocalhost\u001b[39m\u001b[38;5;124m'\u001b[39m, \u001b[38;5;241m2000\u001b[39m)\n\u001b[0;32m     85\u001b[0m client\u001b[38;5;241m.\u001b[39mset_timeout(\u001b[38;5;241m20.0\u001b[39m)\n\u001b[1;32m---> 86\u001b[0m world \u001b[38;5;241m=\u001b[39m \u001b[43mclient\u001b[49m\u001b[38;5;241;43m.\u001b[39;49m\u001b[43mget_world\u001b[49m\u001b[43m(\u001b[49m\u001b[43m)\u001b[49m \n\u001b[0;32m     88\u001b[0m \u001b[38;5;66;03m# blueprint will access to all blueprints to create objects (vehicles, people, etc.)\u001b[39;00m\n\u001b[0;32m     89\u001b[0m bp_lib \u001b[38;5;241m=\u001b[39m world\u001b[38;5;241m.\u001b[39mget_blueprint_library()\n",
      "\u001b[1;31mRuntimeError\u001b[0m: time-out of 20000ms while waiting for the simulator, make sure the simulator is ready and connected to localhost:2000"
     ]
    }
   ],
   "source": [
    "from custom_data_tracker import main\n",
    "track = main()\n",
    "track()"
   ]
  },
  {
   "cell_type": "code",
   "execution_count": null,
   "id": "d98b4a2f-40c1-425e-a289-624b4f02d6bc",
   "metadata": {},
   "outputs": [],
   "source": []
  }
 ],
 "metadata": {
  "kernelspec": {
   "display_name": "Python 3 (ipykernel)",
   "language": "python",
   "name": "python3"
  },
  "language_info": {
   "codemirror_mode": {
    "name": "ipython",
    "version": 3
   },
   "file_extension": ".py",
   "mimetype": "text/x-python",
   "name": "python",
   "nbconvert_exporter": "python",
   "pygments_lexer": "ipython3",
   "version": "3.8.17"
  }
 },
 "nbformat": 4,
 "nbformat_minor": 5
}

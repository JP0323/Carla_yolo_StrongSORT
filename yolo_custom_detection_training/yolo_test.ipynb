{
 "cells": [
  {
   "cell_type": "code",
   "execution_count": 1,
   "id": "af6133dc",
   "metadata": {},
   "outputs": [
    {
     "name": "stdout",
     "output_type": "stream",
     "text": [
      "Requirement already satisfied: ultralytics in c:\\users\\jagadeesh prasad\\anaconda3\\lib\\site-packages (8.0.113)\n",
      "Collecting ultralytics\n",
      "  Downloading ultralytics-8.0.114-py3-none-any.whl (595 kB)\n",
      "Requirement already satisfied: requests>=2.23.0 in c:\\users\\jagadeesh prasad\\anaconda3\\lib\\site-packages (from ultralytics) (2.27.1)\n",
      "Requirement already satisfied: matplotlib>=3.2.2 in c:\\users\\jagadeesh prasad\\anaconda3\\lib\\site-packages (from ultralytics) (3.5.1)\n",
      "Requirement already satisfied: torchvision>=0.8.1 in c:\\users\\jagadeesh prasad\\anaconda3\\lib\\site-packages (from ultralytics) (0.14.1)\n",
      "Requirement already satisfied: scipy>=1.4.1 in c:\\users\\jagadeesh prasad\\anaconda3\\lib\\site-packages (from ultralytics) (1.9.1)\n",
      "Requirement already satisfied: psutil in c:\\users\\jagadeesh prasad\\anaconda3\\lib\\site-packages (from ultralytics) (5.8.0)\n",
      "Requirement already satisfied: torch>=1.7.0 in c:\\users\\jagadeesh prasad\\anaconda3\\lib\\site-packages (from ultralytics) (1.13.1)\n",
      "Requirement already satisfied: PyYAML>=5.3.1 in c:\\users\\jagadeesh prasad\\anaconda3\\lib\\site-packages (from ultralytics) (6.0)\n",
      "Requirement already satisfied: tqdm>=4.64.0 in c:\\users\\jagadeesh prasad\\anaconda3\\lib\\site-packages (from ultralytics) (4.64.0)\n",
      "Requirement already satisfied: opencv-python>=4.6.0 in c:\\users\\jagadeesh prasad\\anaconda3\\lib\\site-packages (from ultralytics) (4.7.0.72)\n",
      "Requirement already satisfied: pandas>=1.1.4 in c:\\users\\jagadeesh prasad\\anaconda3\\lib\\site-packages (from ultralytics) (1.4.2)\n",
      "Requirement already satisfied: seaborn>=0.11.0 in c:\\users\\jagadeesh prasad\\anaconda3\\lib\\site-packages (from ultralytics) (0.11.2)\n",
      "Requirement already satisfied: Pillow>=7.1.2 in c:\\users\\jagadeesh prasad\\anaconda3\\lib\\site-packages (from ultralytics) (9.0.1)\n",
      "Requirement already satisfied: packaging>=20.0 in c:\\users\\jagadeesh prasad\\anaconda3\\lib\\site-packages (from matplotlib>=3.2.2->ultralytics) (21.3)\n",
      "Requirement already satisfied: numpy>=1.17 in c:\\users\\jagadeesh prasad\\anaconda3\\lib\\site-packages (from matplotlib>=3.2.2->ultralytics) (1.21.5)\n",
      "Requirement already satisfied: fonttools>=4.22.0 in c:\\users\\jagadeesh prasad\\anaconda3\\lib\\site-packages (from matplotlib>=3.2.2->ultralytics) (4.25.0)\n",
      "Requirement already satisfied: python-dateutil>=2.7 in c:\\users\\jagadeesh prasad\\anaconda3\\lib\\site-packages (from matplotlib>=3.2.2->ultralytics) (2.8.2)\n",
      "Requirement already satisfied: kiwisolver>=1.0.1 in c:\\users\\jagadeesh prasad\\anaconda3\\lib\\site-packages (from matplotlib>=3.2.2->ultralytics) (1.3.2)\n",
      "Requirement already satisfied: cycler>=0.10 in c:\\users\\jagadeesh prasad\\anaconda3\\lib\\site-packages (from matplotlib>=3.2.2->ultralytics) (0.11.0)\n",
      "Requirement already satisfied: pyparsing>=2.2.1 in c:\\users\\jagadeesh prasad\\anaconda3\\lib\\site-packages (from matplotlib>=3.2.2->ultralytics) (3.0.4)\n",
      "Requirement already satisfied: pytz>=2020.1 in c:\\users\\jagadeesh prasad\\anaconda3\\lib\\site-packages (from pandas>=1.1.4->ultralytics) (2021.3)\n",
      "Requirement already satisfied: six>=1.5 in c:\\users\\jagadeesh prasad\\anaconda3\\lib\\site-packages (from python-dateutil>=2.7->matplotlib>=3.2.2->ultralytics) (1.16.0)\n",
      "Requirement already satisfied: idna<4,>=2.5 in c:\\users\\jagadeesh prasad\\anaconda3\\lib\\site-packages (from requests>=2.23.0->ultralytics) (3.3)\n",
      "Requirement already satisfied: charset-normalizer~=2.0.0 in c:\\users\\jagadeesh prasad\\anaconda3\\lib\\site-packages (from requests>=2.23.0->ultralytics) (2.0.4)\n",
      "Requirement already satisfied: certifi>=2017.4.17 in c:\\users\\jagadeesh prasad\\anaconda3\\lib\\site-packages (from requests>=2.23.0->ultralytics) (2023.5.7)\n",
      "Requirement already satisfied: urllib3<1.27,>=1.21.1 in c:\\users\\jagadeesh prasad\\anaconda3\\lib\\site-packages (from requests>=2.23.0->ultralytics) (1.26.16)\n",
      "Requirement already satisfied: typing_extensions in c:\\users\\jagadeesh prasad\\anaconda3\\lib\\site-packages (from torch>=1.7.0->ultralytics) (4.1.1)\n",
      "Requirement already satisfied: colorama in c:\\users\\jagadeesh prasad\\anaconda3\\lib\\site-packages (from tqdm>=4.64.0->ultralytics) (0.4.4)\n",
      "Installing collected packages: ultralytics\n",
      "  Attempting uninstall: ultralytics\n",
      "    Found existing installation: ultralytics 8.0.113\n",
      "    Uninstalling ultralytics-8.0.113:\n",
      "      Successfully uninstalled ultralytics-8.0.113\n",
      "Successfully installed ultralytics-8.0.114\n"
     ]
    }
   ],
   "source": [
    "!pip install -U ultralytics"
   ]
  },
  {
   "cell_type": "code",
   "execution_count": null,
   "id": "41cb6868",
   "metadata": {},
   "outputs": [],
   "source": [
    "from ultralytics import YOLO\n",
    "import cv2\n",
    "\n",
    "\n",
    "model = YOLO(\"yolov8n.pt\")\n",
    "results = model('yolo_images/valid/103_jpg.rf.f3b0bc74d3bdd7b844d404aa5ba65e08.jpg', show = True)\n",
    "cv2.waitKey(0)"
   ]
  },
  {
   "cell_type": "code",
   "execution_count": null,
   "id": "13a188b1",
   "metadata": {},
   "outputs": [],
   "source": []
  }
 ],
 "metadata": {
  "kernelspec": {
   "display_name": "Python 3 (ipykernel)",
   "language": "python",
   "name": "python3"
  },
  "language_info": {
   "codemirror_mode": {
    "name": "ipython",
    "version": 3
   },
   "file_extension": ".py",
   "mimetype": "text/x-python",
   "name": "python",
   "nbconvert_exporter": "python",
   "pygments_lexer": "ipython3",
   "version": "3.9.12"
  }
 },
 "nbformat": 4,
 "nbformat_minor": 5
}

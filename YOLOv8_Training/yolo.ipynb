{
 "cells": [
  {
   "cell_type": "markdown",
   "id": "07d71a52",
   "metadata": {},
   "source": [
    "### Dependencies\n",
    "!pip install -U ultralytics\n",
    "!pip install numba"
   ]
  },
  {
   "cell_type": "markdown",
   "id": "21699dfd",
   "metadata": {},
   "source": [
    "# Run the below code to train the model.\n",
    "\n",
    "#### Note: make sure that the data.yaml file has correct data and data cleaning is done."
   ]
  },
  {
   "cell_type": "code",
   "execution_count": null,
   "id": "18f2ae36",
   "metadata": {
    "scrolled": false
   },
   "outputs": [],
   "source": [
    "from ultralytics import YOLO\n",
    "import torch\n",
    "\n",
    "# Load a model\n",
    "model = YOLO(\"yolov8s.yaml\") \n",
    "\n",
    "# Use the model\n",
    "def run():\n",
    "    model.train(data=\"data.yaml\", epochs=1000)  # train the model\n",
    "\n",
    "# Ensure CUDA is available\n",
    "if torch.cuda.is_available():\n",
    "    run()\n",
    "else:\n",
    "    print(\"CUDA is not available on this device.\")"
   ]
  },
  {
   "cell_type": "code",
   "execution_count": null,
   "id": "73d591a6",
   "metadata": {},
   "outputs": [],
   "source": []
  }
 ],
 "metadata": {
  "kernelspec": {
   "display_name": "Python 3 (ipykernel)",
   "language": "python",
   "name": "python3"
  },
  "language_info": {
   "codemirror_mode": {
    "name": "ipython",
    "version": 3
   },
   "file_extension": ".py",
   "mimetype": "text/x-python",
   "name": "python",
   "nbconvert_exporter": "python",
   "pygments_lexer": "ipython3",
   "version": "3.9.12"
  }
 },
 "nbformat": 4,
 "nbformat_minor": 5
}

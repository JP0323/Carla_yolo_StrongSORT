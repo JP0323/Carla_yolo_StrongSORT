{
 "cells": [
  {
   "cell_type": "markdown",
   "id": "a9daf1cc",
   "metadata": {},
   "source": [
    "## Download data set from \n",
    "https://www.kaggle.com/datasets/alechantson/carladataset?resource=download\n",
    "###  The downloaded Images are kept in the same folder with names train and valid \n",
    "### Rearranging the images and yaml file to train a custom detection model using yolov8n"
   ]
  },
  {
   "cell_type": "code",
   "execution_count": 1,
   "id": "6b27186a",
   "metadata": {},
   "outputs": [],
   "source": [
    "import os\n",
    "from glob import glob\n",
    "import pandas as pd\n",
    "from functools import reduce\n",
    "import cv2"
   ]
  },
  {
   "cell_type": "code",
   "execution_count": 2,
   "id": "ef9c5705",
   "metadata": {},
   "outputs": [],
   "source": [
    "#Load all txt files and store in a list\n",
    "train_txt_list = glob('train/labels/*.txt')\n",
    "valid_txt_list = glob('valid/labels/*.txt')\n",
    "\n",
    "#replace \\\\ with /\n",
    "train_txt_list = list(map(lambda x: x.replace('\\\\','/'), train_txt_list))\n",
    "valid_txt_list = list(map(lambda x: x.replace('\\\\','/'), valid_txt_list))"
   ]
  },
  {
   "cell_type": "code",
   "execution_count": 3,
   "id": "bae09b66",
   "metadata": {},
   "outputs": [
    {
     "name": "stdout",
     "output_type": "stream",
     "text": [
      "1600 264\n"
     ]
    }
   ],
   "source": [
    "print(len(train_txt_list),len(valid_txt_list))"
   ]
  },
  {
   "cell_type": "markdown",
   "id": "2f6d4cc5",
   "metadata": {},
   "source": [
    "#### The given data has 10 classes names: \n",
    "#### bike, motobike, person, traffic_light_green, traffic_light_orange, traffic_light_red, traffic_sign_30, traffic_sign_60, traffic_sign_90, vehicle\n",
    "#### Filtering the images and restrciting to only 2 classes to train the model : Bike and Vehicle. by merging both bike and motorbike."
   ]
  },
  {
   "cell_type": "code",
   "execution_count": 4,
   "id": "3d449821",
   "metadata": {},
   "outputs": [
    {
     "name": "stdout",
     "output_type": "stream",
     "text": [
      "1322 187\n"
     ]
    }
   ],
   "source": [
    "def txt_to_list(txt_list):\n",
    "    \n",
    "    yolo_labels_list = []\n",
    "    for txt_file in txt_list:\n",
    "\n",
    "        with open(txt_file, 'r') as f:\n",
    "            lines = f.readlines()\n",
    "        \n",
    "        for line in lines:\n",
    "            line = line.strip().split(' ')\n",
    "            label = line[0]\n",
    "            \n",
    "            label_list = [0,1,9]\n",
    "            \n",
    "            x_center, y_center, width, height = line[1:]\n",
    "        \n",
    "\n",
    "            txt_name = txt_file.split('/')[2]\n",
    "            img_name = txt_name.split('.txt') \n",
    "            name = img_name[0] +'.jpg'\n",
    "            \n",
    "            if int(label) in label_list:\n",
    "                \n",
    "                if int(label) == 9:\n",
    "                    label = '1'\n",
    "                elif int(label) == 1:\n",
    "                    label = '0'\n",
    "                \n",
    "                yolo_label = [name, label, x_center, y_center, width, height]\n",
    "                yolo_labels_list.append(yolo_label)\n",
    "    \n",
    "    return yolo_labels_list\n",
    "\n",
    "yolo_train_list = txt_to_list(train_txt_list)\n",
    "yolo_valid_list = txt_to_list(valid_txt_list)\n",
    "\n",
    "print(len(yolo_train_list),len(yolo_valid_list))"
   ]
  },
  {
   "cell_type": "markdown",
   "id": "74e38e1f",
   "metadata": {},
   "source": [
    "## Splitting the data into testing data and Training data"
   ]
  },
  {
   "cell_type": "code",
   "execution_count": 5,
   "id": "c7daba6a",
   "metadata": {},
   "outputs": [],
   "source": [
    "train_df = pd.DataFrame(yolo_train_list, columns= ['filename','id','x_center', 'y_center', 'width', 'height'])\n",
    "valid_df = pd.DataFrame(yolo_valid_list, columns= ['filename','id','x_center', 'y_center', 'width', 'height'])"
   ]
  },
  {
   "cell_type": "code",
   "execution_count": 6,
   "id": "f6bd1cf7",
   "metadata": {},
   "outputs": [
    {
     "data": {
      "text/html": [
       "<div>\n",
       "<style scoped>\n",
       "    .dataframe tbody tr th:only-of-type {\n",
       "        vertical-align: middle;\n",
       "    }\n",
       "\n",
       "    .dataframe tbody tr th {\n",
       "        vertical-align: top;\n",
       "    }\n",
       "\n",
       "    .dataframe thead th {\n",
       "        text-align: right;\n",
       "    }\n",
       "</style>\n",
       "<table border=\"1\" class=\"dataframe\">\n",
       "  <thead>\n",
       "    <tr style=\"text-align: right;\">\n",
       "      <th></th>\n",
       "      <th>filename</th>\n",
       "      <th>id</th>\n",
       "      <th>x_center</th>\n",
       "      <th>y_center</th>\n",
       "      <th>width</th>\n",
       "      <th>height</th>\n",
       "    </tr>\n",
       "  </thead>\n",
       "  <tbody>\n",
       "    <tr>\n",
       "      <th>0</th>\n",
       "      <td>1002_jpg.rf.4b4af412c0bc7e14b6c9e4dcc6b34f6c.jpg</td>\n",
       "      <td>1</td>\n",
       "      <td>0.57421875</td>\n",
       "      <td>0.7039473684210527</td>\n",
       "      <td>0.2796875</td>\n",
       "      <td>0.35526315789473684</td>\n",
       "    </tr>\n",
       "    <tr>\n",
       "      <th>1</th>\n",
       "      <td>1002_jpg.rf.4b4af412c0bc7e14b6c9e4dcc6b34f6c.jpg</td>\n",
       "      <td>1</td>\n",
       "      <td>0.27421875</td>\n",
       "      <td>0.5328947368421053</td>\n",
       "      <td>0.1078125</td>\n",
       "      <td>0.05</td>\n",
       "    </tr>\n",
       "    <tr>\n",
       "      <th>2</th>\n",
       "      <td>1002_jpg.rf.4b4af412c0bc7e14b6c9e4dcc6b34f6c.jpg</td>\n",
       "      <td>1</td>\n",
       "      <td>0.86796875</td>\n",
       "      <td>0.5236842105263158</td>\n",
       "      <td>0.1046875</td>\n",
       "      <td>0.05263157894736842</td>\n",
       "    </tr>\n",
       "    <tr>\n",
       "      <th>3</th>\n",
       "      <td>1002_jpg.rf.4b4af412c0bc7e14b6c9e4dcc6b34f6c.jpg</td>\n",
       "      <td>1</td>\n",
       "      <td>0.5796875</td>\n",
       "      <td>0.5</td>\n",
       "      <td>0.0375</td>\n",
       "      <td>0.031578947368421054</td>\n",
       "    </tr>\n",
       "    <tr>\n",
       "      <th>4</th>\n",
       "      <td>1002_jpg.rf.4b4af412c0bc7e14b6c9e4dcc6b34f6c.jpg</td>\n",
       "      <td>0</td>\n",
       "      <td>0.6046875</td>\n",
       "      <td>0.5039473684210526</td>\n",
       "      <td>0.01875</td>\n",
       "      <td>0.05</td>\n",
       "    </tr>\n",
       "    <tr>\n",
       "      <th>...</th>\n",
       "      <td>...</td>\n",
       "      <td>...</td>\n",
       "      <td>...</td>\n",
       "      <td>...</td>\n",
       "      <td>...</td>\n",
       "      <td>...</td>\n",
       "    </tr>\n",
       "    <tr>\n",
       "      <th>1317</th>\n",
       "      <td>998_jpg.rf.8eeb8ce8d07dd2a1c366a1041b79794c.jpg</td>\n",
       "      <td>1</td>\n",
       "      <td>0.33515625</td>\n",
       "      <td>0.55625</td>\n",
       "      <td>0.1234375</td>\n",
       "      <td>0.07916666666666666</td>\n",
       "    </tr>\n",
       "    <tr>\n",
       "      <th>1318</th>\n",
       "      <td>9_jpg.rf.8973556a5e0ee8ad95b1ccdc8cb0dad9.jpg</td>\n",
       "      <td>1</td>\n",
       "      <td>0.14453125</td>\n",
       "      <td>0.471875</td>\n",
       "      <td>0.2828125</td>\n",
       "      <td>0.8604166666666667</td>\n",
       "    </tr>\n",
       "    <tr>\n",
       "      <th>1319</th>\n",
       "      <td>9_jpg.rf.8973556a5e0ee8ad95b1ccdc8cb0dad9.jpg</td>\n",
       "      <td>1</td>\n",
       "      <td>0.92265625</td>\n",
       "      <td>0.528125</td>\n",
       "      <td>0.1515625</td>\n",
       "      <td>0.09375</td>\n",
       "    </tr>\n",
       "    <tr>\n",
       "      <th>1320</th>\n",
       "      <td>9_jpg.rf.8973556a5e0ee8ad95b1ccdc8cb0dad9.jpg</td>\n",
       "      <td>1</td>\n",
       "      <td>0.5</td>\n",
       "      <td>0.5322916666666667</td>\n",
       "      <td>0.053125</td>\n",
       "      <td>0.05625</td>\n",
       "    </tr>\n",
       "    <tr>\n",
       "      <th>1321</th>\n",
       "      <td>9_jpg.rf.8973556a5e0ee8ad95b1ccdc8cb0dad9.jpg</td>\n",
       "      <td>1</td>\n",
       "      <td>0.321875</td>\n",
       "      <td>0.55</td>\n",
       "      <td>0.1</td>\n",
       "      <td>0.1375</td>\n",
       "    </tr>\n",
       "  </tbody>\n",
       "</table>\n",
       "<p>1322 rows × 6 columns</p>\n",
       "</div>"
      ],
      "text/plain": [
       "                                              filename id    x_center  \\\n",
       "0     1002_jpg.rf.4b4af412c0bc7e14b6c9e4dcc6b34f6c.jpg  1  0.57421875   \n",
       "1     1002_jpg.rf.4b4af412c0bc7e14b6c9e4dcc6b34f6c.jpg  1  0.27421875   \n",
       "2     1002_jpg.rf.4b4af412c0bc7e14b6c9e4dcc6b34f6c.jpg  1  0.86796875   \n",
       "3     1002_jpg.rf.4b4af412c0bc7e14b6c9e4dcc6b34f6c.jpg  1   0.5796875   \n",
       "4     1002_jpg.rf.4b4af412c0bc7e14b6c9e4dcc6b34f6c.jpg  0   0.6046875   \n",
       "...                                                ... ..         ...   \n",
       "1317   998_jpg.rf.8eeb8ce8d07dd2a1c366a1041b79794c.jpg  1  0.33515625   \n",
       "1318     9_jpg.rf.8973556a5e0ee8ad95b1ccdc8cb0dad9.jpg  1  0.14453125   \n",
       "1319     9_jpg.rf.8973556a5e0ee8ad95b1ccdc8cb0dad9.jpg  1  0.92265625   \n",
       "1320     9_jpg.rf.8973556a5e0ee8ad95b1ccdc8cb0dad9.jpg  1         0.5   \n",
       "1321     9_jpg.rf.8973556a5e0ee8ad95b1ccdc8cb0dad9.jpg  1    0.321875   \n",
       "\n",
       "                y_center      width                height  \n",
       "0     0.7039473684210527  0.2796875   0.35526315789473684  \n",
       "1     0.5328947368421053  0.1078125                  0.05  \n",
       "2     0.5236842105263158  0.1046875   0.05263157894736842  \n",
       "3                    0.5     0.0375  0.031578947368421054  \n",
       "4     0.5039473684210526    0.01875                  0.05  \n",
       "...                  ...        ...                   ...  \n",
       "1317             0.55625  0.1234375   0.07916666666666666  \n",
       "1318            0.471875  0.2828125    0.8604166666666667  \n",
       "1319            0.528125  0.1515625               0.09375  \n",
       "1320  0.5322916666666667   0.053125               0.05625  \n",
       "1321                0.55        0.1                0.1375  \n",
       "\n",
       "[1322 rows x 6 columns]"
      ]
     },
     "execution_count": 6,
     "metadata": {},
     "output_type": "execute_result"
    }
   ],
   "source": [
    "train_df"
   ]
  },
  {
   "cell_type": "code",
   "execution_count": 7,
   "id": "ca5e7783",
   "metadata": {},
   "outputs": [
    {
     "data": {
      "text/html": [
       "<div>\n",
       "<style scoped>\n",
       "    .dataframe tbody tr th:only-of-type {\n",
       "        vertical-align: middle;\n",
       "    }\n",
       "\n",
       "    .dataframe tbody tr th {\n",
       "        vertical-align: top;\n",
       "    }\n",
       "\n",
       "    .dataframe thead th {\n",
       "        text-align: right;\n",
       "    }\n",
       "</style>\n",
       "<table border=\"1\" class=\"dataframe\">\n",
       "  <thead>\n",
       "    <tr style=\"text-align: right;\">\n",
       "      <th></th>\n",
       "      <th>filename</th>\n",
       "      <th>id</th>\n",
       "      <th>x_center</th>\n",
       "      <th>y_center</th>\n",
       "      <th>width</th>\n",
       "      <th>height</th>\n",
       "    </tr>\n",
       "  </thead>\n",
       "  <tbody>\n",
       "    <tr>\n",
       "      <th>0</th>\n",
       "      <td>103_jpg.rf.f3b0bc74d3bdd7b844d404aa5ba65e08.jpg</td>\n",
       "      <td>1</td>\n",
       "      <td>0.51171875</td>\n",
       "      <td>0.5364583333333334</td>\n",
       "      <td>0.0609375</td>\n",
       "      <td>0.06041666666666667</td>\n",
       "    </tr>\n",
       "    <tr>\n",
       "      <th>1</th>\n",
       "      <td>103_jpg.rf.f3b0bc74d3bdd7b844d404aa5ba65e08.jpg</td>\n",
       "      <td>1</td>\n",
       "      <td>0.38984375</td>\n",
       "      <td>0.540625</td>\n",
       "      <td>0.0515625</td>\n",
       "      <td>0.06875</td>\n",
       "    </tr>\n",
       "    <tr>\n",
       "      <th>2</th>\n",
       "      <td>103_jpg.rf.f3b0bc74d3bdd7b844d404aa5ba65e08.jpg</td>\n",
       "      <td>1</td>\n",
       "      <td>0.325</td>\n",
       "      <td>0.5697916666666667</td>\n",
       "      <td>0.125</td>\n",
       "      <td>0.11458333333333333</td>\n",
       "    </tr>\n",
       "    <tr>\n",
       "      <th>3</th>\n",
       "      <td>103_jpg.rf.f3b0bc74d3bdd7b844d404aa5ba65e08.jpg</td>\n",
       "      <td>1</td>\n",
       "      <td>0.14453125</td>\n",
       "      <td>0.6895833333333333</td>\n",
       "      <td>0.2890625</td>\n",
       "      <td>0.37083333333333335</td>\n",
       "    </tr>\n",
       "    <tr>\n",
       "      <th>4</th>\n",
       "      <td>105_jpg.rf.30798cd774fb9e7f5dd2ec49fbfaceee.jpg</td>\n",
       "      <td>1</td>\n",
       "      <td>0.44375</td>\n",
       "      <td>0.5210526315789473</td>\n",
       "      <td>0.028125</td>\n",
       "      <td>0.03684210526315789</td>\n",
       "    </tr>\n",
       "    <tr>\n",
       "      <th>...</th>\n",
       "      <td>...</td>\n",
       "      <td>...</td>\n",
       "      <td>...</td>\n",
       "      <td>...</td>\n",
       "      <td>...</td>\n",
       "      <td>...</td>\n",
       "    </tr>\n",
       "    <tr>\n",
       "      <th>182</th>\n",
       "      <td>94_jpg.rf.fffa7f9eff1ccc1b918f482fdf3b5f18.jpg</td>\n",
       "      <td>1</td>\n",
       "      <td>0.3984375</td>\n",
       "      <td>0.5236842105263158</td>\n",
       "      <td>0.0375</td>\n",
       "      <td>0.03684210526315789</td>\n",
       "    </tr>\n",
       "    <tr>\n",
       "      <th>183</th>\n",
       "      <td>95_jpg.rf.76416cde0656b250a676f4d0dc983707.jpg</td>\n",
       "      <td>1</td>\n",
       "      <td>0.4984375</td>\n",
       "      <td>0.7631578947368421</td>\n",
       "      <td>0.38125</td>\n",
       "      <td>0.4631578947368421</td>\n",
       "    </tr>\n",
       "    <tr>\n",
       "      <th>184</th>\n",
       "      <td>96_jpg.rf.021fb42c41c3b9d41e352e7db8458bd4.jpg</td>\n",
       "      <td>1</td>\n",
       "      <td>0.9375</td>\n",
       "      <td>0.55</td>\n",
       "      <td>0.121875</td>\n",
       "      <td>0.06842105263157895</td>\n",
       "    </tr>\n",
       "    <tr>\n",
       "      <th>185</th>\n",
       "      <td>98_jpg.rf.fb37528f11f2233af05905d0bb44b34d.jpg</td>\n",
       "      <td>1</td>\n",
       "      <td>0.58671875</td>\n",
       "      <td>0.506578947368421</td>\n",
       "      <td>0.0328125</td>\n",
       "      <td>0.02894736842105263</td>\n",
       "    </tr>\n",
       "    <tr>\n",
       "      <th>186</th>\n",
       "      <td>9_jpg.rf.798851f4317f5185bf8d91c513c9a182.jpg</td>\n",
       "      <td>0</td>\n",
       "      <td>0.5</td>\n",
       "      <td>0.578125</td>\n",
       "      <td>0.05625</td>\n",
       "      <td>0.14375</td>\n",
       "    </tr>\n",
       "  </tbody>\n",
       "</table>\n",
       "<p>187 rows × 6 columns</p>\n",
       "</div>"
      ],
      "text/plain": [
       "                                            filename id    x_center  \\\n",
       "0    103_jpg.rf.f3b0bc74d3bdd7b844d404aa5ba65e08.jpg  1  0.51171875   \n",
       "1    103_jpg.rf.f3b0bc74d3bdd7b844d404aa5ba65e08.jpg  1  0.38984375   \n",
       "2    103_jpg.rf.f3b0bc74d3bdd7b844d404aa5ba65e08.jpg  1       0.325   \n",
       "3    103_jpg.rf.f3b0bc74d3bdd7b844d404aa5ba65e08.jpg  1  0.14453125   \n",
       "4    105_jpg.rf.30798cd774fb9e7f5dd2ec49fbfaceee.jpg  1     0.44375   \n",
       "..                                               ... ..         ...   \n",
       "182   94_jpg.rf.fffa7f9eff1ccc1b918f482fdf3b5f18.jpg  1   0.3984375   \n",
       "183   95_jpg.rf.76416cde0656b250a676f4d0dc983707.jpg  1   0.4984375   \n",
       "184   96_jpg.rf.021fb42c41c3b9d41e352e7db8458bd4.jpg  1      0.9375   \n",
       "185   98_jpg.rf.fb37528f11f2233af05905d0bb44b34d.jpg  1  0.58671875   \n",
       "186    9_jpg.rf.798851f4317f5185bf8d91c513c9a182.jpg  0         0.5   \n",
       "\n",
       "               y_center      width               height  \n",
       "0    0.5364583333333334  0.0609375  0.06041666666666667  \n",
       "1              0.540625  0.0515625              0.06875  \n",
       "2    0.5697916666666667      0.125  0.11458333333333333  \n",
       "3    0.6895833333333333  0.2890625  0.37083333333333335  \n",
       "4    0.5210526315789473   0.028125  0.03684210526315789  \n",
       "..                  ...        ...                  ...  \n",
       "182  0.5236842105263158     0.0375  0.03684210526315789  \n",
       "183  0.7631578947368421    0.38125   0.4631578947368421  \n",
       "184                0.55   0.121875  0.06842105263157895  \n",
       "185   0.506578947368421  0.0328125  0.02894736842105263  \n",
       "186            0.578125    0.05625              0.14375  \n",
       "\n",
       "[187 rows x 6 columns]"
      ]
     },
     "execution_count": 7,
     "metadata": {},
     "output_type": "execute_result"
    }
   ],
   "source": [
    "valid_df"
   ]
  },
  {
   "cell_type": "code",
   "execution_count": 8,
   "id": "fc97de0b",
   "metadata": {},
   "outputs": [
    {
     "name": "stdout",
     "output_type": "stream",
     "text": [
      "772 106\n"
     ]
    }
   ],
   "source": [
    "train_images = train_df['filename'].unique()\n",
    "valid_images = valid_df['filename'].unique()\n",
    "print(len(train_images),len(valid_images))"
   ]
  },
  {
   "cell_type": "code",
   "execution_count": 9,
   "id": "4a9b6750",
   "metadata": {},
   "outputs": [],
   "source": [
    "import os\n",
    "from shutil import copy"
   ]
  },
  {
   "cell_type": "markdown",
   "id": "1049c580",
   "metadata": {},
   "source": [
    "## Create folders as mentioned in the working directory"
   ]
  },
  {
   "cell_type": "code",
   "execution_count": 10,
   "id": "634a6795",
   "metadata": {},
   "outputs": [],
   "source": [
    "train_folder = 'train_images/train'\n",
    "valid_folder = 'train_images/valid'"
   ]
  },
  {
   "cell_type": "code",
   "execution_count": 11,
   "id": "d1806057",
   "metadata": {},
   "outputs": [],
   "source": [
    "groupby_obj_train = train_df.groupby('filename')\n",
    "groupby_obj_valid = valid_df.groupby('filename')"
   ]
  },
  {
   "cell_type": "code",
   "execution_count": 12,
   "id": "6cf29df7",
   "metadata": {},
   "outputs": [],
   "source": [
    "def save_data(filename, src_path, folder_path, group_obj):\n",
    "    # move image\n",
    "    src = os.path.join(src_path,filename)\n",
    "    dst = os.path.join(folder_path,filename)\n",
    "    copy(src,dst) # move image to the destination folder\n",
    "    \n",
    "    # save the labels\n",
    "    text_filename = os.path.join(folder_path,\n",
    "                                 os.path.splitext(filename)[0]+'.txt')\n",
    "    group_obj.get_group(filename).set_index('filename').to_csv(text_filename,sep=' ',index=False,header=False)"
   ]
  },
  {
   "cell_type": "markdown",
   "id": "67d144a9",
   "metadata": {},
   "source": [
    "# Mention the source images and labels"
   ]
  },
  {
   "cell_type": "code",
   "execution_count": 13,
   "id": "0e4c7dd9",
   "metadata": {},
   "outputs": [],
   "source": [
    "train_src_path = 'train/images'\n",
    "valid_src_path = 'valid/images'\n",
    "\n",
    "filename_series_train = pd.Series(groupby_obj_train.groups.keys())\n",
    "filename_series_valid = pd.Series(groupby_obj_valid.groups.keys())"
   ]
  },
  {
   "cell_type": "code",
   "execution_count": 14,
   "id": "299e766c",
   "metadata": {},
   "outputs": [
    {
     "data": {
      "text/plain": [
       "0      None\n",
       "1      None\n",
       "2      None\n",
       "3      None\n",
       "4      None\n",
       "       ... \n",
       "767    None\n",
       "768    None\n",
       "769    None\n",
       "770    None\n",
       "771    None\n",
       "Length: 772, dtype: object"
      ]
     },
     "execution_count": 14,
     "metadata": {},
     "output_type": "execute_result"
    }
   ],
   "source": [
    "filename_series_train.apply(save_data,args=(train_src_path, train_folder,groupby_obj_train))"
   ]
  },
  {
   "cell_type": "code",
   "execution_count": 15,
   "id": "58db5355",
   "metadata": {},
   "outputs": [
    {
     "data": {
      "text/plain": [
       "0      None\n",
       "1      None\n",
       "2      None\n",
       "3      None\n",
       "4      None\n",
       "       ... \n",
       "101    None\n",
       "102    None\n",
       "103    None\n",
       "104    None\n",
       "105    None\n",
       "Length: 106, dtype: object"
      ]
     },
     "execution_count": 15,
     "metadata": {},
     "output_type": "execute_result"
    }
   ],
   "source": [
    "filename_series_valid.apply(save_data,args=(valid_src_path, valid_folder,groupby_obj_valid))"
   ]
  }
 ],
 "metadata": {
  "kernelspec": {
   "display_name": "Python 3 (ipykernel)",
   "language": "python",
   "name": "python3"
  },
  "language_info": {
   "codemirror_mode": {
    "name": "ipython",
    "version": 3
   },
   "file_extension": ".py",
   "mimetype": "text/x-python",
   "name": "python",
   "nbconvert_exporter": "python",
   "pygments_lexer": "ipython3",
   "version": "3.9.12"
  }
 },
 "nbformat": 4,
 "nbformat_minor": 5
}
